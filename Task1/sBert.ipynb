{
  "metadata": {
    "kernelspec": {
      "name": "python3",
      "display_name": "Python 3"
    },
    "language_info": {
      "name": "python",
      "version": "3.10.12",
      "mimetype": "text/x-python",
      "codemirror_mode": {
        "name": "ipython",
        "version": 3
      },
      "pygments_lexer": "ipython3",
      "nbconvert_exporter": "python",
      "file_extension": ".py"
    },
    "colab": {
      "provenance": [],
      "gpuType": "T4"
    },
    "kaggle": {
      "accelerator": "none",
      "dataSources": [
        {
          "sourceId": 11274493,
          "sourceType": "datasetVersion",
          "datasetId": 7048256
        }
      ],
      "dockerImageVersionId": 30918,
      "isInternetEnabled": false,
      "language": "python",
      "sourceType": "notebook",
      "isGpuEnabled": false
    },
    "accelerator": "GPU"
  },
  "nbformat_minor": 0,
  "nbformat": 4,
  "cells": [
    {
      "source": [
        "# IMPORTANT: SOME KAGGLE DATA SOURCES ARE PRIVATE\n",
        "# RUN THIS CELL IN ORDER TO IMPORT YOUR KAGGLE DATA SOURCES.\n",
        "import kagglehub\n",
        "kagglehub.login()\n"
      ],
      "metadata": {
        "id": "s8WEk_9IpKZS",
        "colab": {
          "base_uri": "https://localhost:8080/",
          "referenced_widgets": [
            "58af764a567f421eb01d9a2f8c47ed3c"
          ]
        },
        "outputId": "ea00e6ad-85ce-4565-effe-2991ac70e496"
      },
      "cell_type": "code",
      "outputs": [
        {
          "output_type": "display_data",
          "data": {
            "text/plain": [
              "VBox(children=(HTML(value='<center> <img\\nsrc=https://www.kaggle.com/static/images/site-logo.png\\nalt=\\'Kaggle…"
            ],
            "application/vnd.jupyter.widget-view+json": {
              "version_major": 2,
              "version_minor": 0,
              "model_id": "58af764a567f421eb01d9a2f8c47ed3c"
            }
          },
          "metadata": {}
        }
      ],
      "execution_count": null
    },
    {
      "source": [
        "# IMPORTANT: RUN THIS CELL IN ORDER TO IMPORT YOUR KAGGLE DATA SOURCES,\n",
        "# THEN FEEL FREE TO DELETE THIS CELL.\n",
        "# NOTE: THIS NOTEBOOK ENVIRONMENT DIFFERS FROM KAGGLE'S PYTHON\n",
        "# ENVIRONMENT SO THERE MAY BE MISSING LIBRARIES USED BY YOUR\n",
        "# NOTEBOOK.\n",
        "\n",
        "elizavetasirotina_ir_challenge_path = kagglehub.dataset_download('elizavetasirotina/ir-challenge')\n",
        "\n",
        "print('Data source import complete.')\n"
      ],
      "metadata": {
        "id": "McfQWg_6pKZT",
        "colab": {
          "base_uri": "https://localhost:8080/"
        },
        "outputId": "e4ff6470-b267-45cb-8c21-c55aad62add3"
      },
      "cell_type": "code",
      "outputs": [
        {
          "output_type": "stream",
          "name": "stdout",
          "text": [
            "Downloading from https://www.kaggle.com/api/v1/datasets/download/elizavetasirotina/ir-challenge?dataset_version_number=1...\n"
          ]
        },
        {
          "output_type": "stream",
          "name": "stderr",
          "text": [
            "100%|██████████| 303M/303M [00:05<00:00, 61.9MB/s]"
          ]
        },
        {
          "output_type": "stream",
          "name": "stdout",
          "text": [
            "Extracting files...\n"
          ]
        },
        {
          "output_type": "stream",
          "name": "stderr",
          "text": [
            "\n"
          ]
        },
        {
          "output_type": "stream",
          "name": "stdout",
          "text": [
            "Data source import complete.\n"
          ]
        }
      ],
      "execution_count": null
    },
    {
      "cell_type": "code",
      "source": [
        "from sentence_transformers import SentenceTransformer\n",
        "import pandas as pd\n",
        "import json\n",
        "\n",
        "from sklearn.metrics.pairwise import linear_kernel\n",
        "import nltk\n",
        "from nltk.corpus import stopwords\n",
        "\n",
        "import matplotlib.pyplot as plt\n",
        "\n",
        "import numpy as np\n",
        "from tqdm.auto import tqdm\n",
        "import itertools"
      ],
      "metadata": {
        "id": "73FJpdYCRwYM",
        "trusted": true,
        "execution": {
          "iopub.status.busy": "2025-04-09T15:34:01.772491Z",
          "iopub.execute_input": "2025-04-09T15:34:01.772902Z",
          "iopub.status.idle": "2025-04-09T15:34:36.414735Z",
          "shell.execute_reply.started": "2025-04-09T15:34:01.772872Z",
          "shell.execute_reply": "2025-04-09T15:34:36.41386Z"
        }
      },
      "outputs": [],
      "execution_count": null
    },
    {
      "cell_type": "markdown",
      "source": [
        "# 0.1 Helper functions"
      ],
      "metadata": {
        "id": "EBSWy9uZVPL_"
      }
    },
    {
      "cell_type": "markdown",
      "source": [
        "## load_json_data"
      ],
      "metadata": {
        "id": "0uor_dQCVyIv"
      }
    },
    {
      "cell_type": "code",
      "source": [
        "def load_json_data(file_path):\n",
        "    with open(file_path, \"r\") as file:\n",
        "        contents = json.load(file)\n",
        "    return contents"
      ],
      "metadata": {
        "id": "skaRiuO2VTlx",
        "trusted": true,
        "execution": {
          "iopub.status.busy": "2025-04-08T23:21:29.989077Z",
          "iopub.execute_input": "2025-04-08T23:21:29.989412Z",
          "iopub.status.idle": "2025-04-08T23:21:30.005177Z",
          "shell.execute_reply.started": "2025-04-08T23:21:29.98939Z",
          "shell.execute_reply": "2025-04-08T23:21:30.004092Z"
        }
      },
      "outputs": [],
      "execution_count": null
    },
    {
      "cell_type": "markdown",
      "source": [
        "## get_mapping_dict"
      ],
      "metadata": {
        "id": "jry5vsA_V5t4"
      }
    },
    {
      "cell_type": "code",
      "source": [
        "def get_mapping_dict(mapping_df):\n",
        "    \"\"\"\n",
        "    Creates dictionary of citing ids to non-citing id based on given dataframe (which is based on providedjson)\n",
        "\n",
        "    Parameters:\n",
        "    mapping_df (DataFrame): DataFrame containing mapping between citing and cited patents\n",
        "    Returns:\n",
        "    dict: dictionary of unique citing patent ids to list of cited patent ids\n",
        "    \"\"\"\n",
        "    mapping_dict = {}\n",
        "\n",
        "    for _, row in mapping_df.iterrows():\n",
        "        key = row[0]  # Value from column 0\n",
        "        value = row[2]  # Value from column 2\n",
        "        if key in mapping_dict:\n",
        "            mapping_dict[key].append(value)\n",
        "        else:\n",
        "            mapping_dict[key] = [value]\n",
        "\n",
        "    return mapping_dict"
      ],
      "metadata": {
        "id": "x7PXWY11V4vh",
        "trusted": true,
        "execution": {
          "iopub.status.busy": "2025-04-08T23:21:30.006548Z",
          "iopub.execute_input": "2025-04-08T23:21:30.00682Z",
          "iopub.status.idle": "2025-04-08T23:21:30.024325Z",
          "shell.execute_reply.started": "2025-04-08T23:21:30.006792Z",
          "shell.execute_reply": "2025-04-08T23:21:30.023271Z"
        }
      },
      "outputs": [],
      "execution_count": null
    },
    {
      "cell_type": "markdown",
      "source": [
        "## create_corpus"
      ],
      "metadata": {
        "id": "c_nOehVSVpg_"
      }
    },
    {
      "cell_type": "code",
      "source": [
        "def create_corpus(corpus, text_type):\n",
        "    \"\"\"\n",
        "    Extracts text data from a corpus based on the specified text type.\n",
        "\n",
        "    Parameters:\n",
        "    corpus (list): List of dictionaries representing patent documents.\n",
        "    text_type (str): Type of text to extract ('title', 'abstract', 'claim1', 'claims', 'description', 'fulltext').\n",
        "\n",
        "    Returns:\n",
        "    list: List of dictionaries with 'id' and 'text' keys representing each document in the corpus.\n",
        "    \"\"\"\n",
        "\n",
        "    app_ids = [doc['Application_Number'] + doc['Application_Category'] for doc in corpus]\n",
        "\n",
        "    cnt = 0 # count the number of documents without text\n",
        "    texts = []  # list of texts\n",
        "    ids_to_remove = []  # list of ids of documents without text, to remove them from the corpus\n",
        "\n",
        "    if text_type == 'title':\n",
        "        for doc in corpus:\n",
        "            try:\n",
        "                texts.append(doc['Content']['title'])\n",
        "            except: # if the document does not have a title\n",
        "                ids_to_remove.append(doc['Application_Number']+doc['Application_Category'])\n",
        "                cnt += 1\n",
        "        print(f\"Number of documents without title: {cnt}\")\n",
        "\n",
        "    elif text_type == 'abstract':\n",
        "        for doc in corpus:\n",
        "            try:\n",
        "                texts.append(doc['Content']['pa01'])\n",
        "            except: # if the document does not have an abstract\n",
        "                ids_to_remove.append(doc['Application_Number']+doc['Application_Category'])\n",
        "                cnt += 1\n",
        "        print(f\"Number of documents without abstract: {cnt}\")\n",
        "\n",
        "    elif text_type == 'claim1':\n",
        "        for doc in corpus:\n",
        "            try:\n",
        "                texts.append(doc['Content']['c-en-0001'])\n",
        "            except: # if the document does not have claim 1\n",
        "                ids_to_remove.append(doc['Application_Number']+doc['Application_Category'])\n",
        "                cnt += 1\n",
        "        print(f\"Number of documents without claim 1: {cnt}\")\n",
        "\n",
        "    elif text_type == 'claims':\n",
        "        # all the values with the key starting with 'c-en-', each element in the final list is a list of claims\n",
        "        for doc in corpus:\n",
        "            doc_claims = []\n",
        "            for key in doc['Content'].keys():\n",
        "                if key.startswith('c-en-'):\n",
        "                    doc_claims.append(doc['Content'][key])\n",
        "            if len(doc_claims) == 0:    # if the document does not have any claims\n",
        "                ids_to_remove.append(doc['Application_Number']+doc['Application_Category'])\n",
        "                cnt += 1\n",
        "            else:\n",
        "                doc_text_string = ' '.join(doc_text)\n",
        "                texts.append(doc_text_string)\n",
        "        print(f\"Number of documents without claims: {cnt}\")\n",
        "\n",
        "    elif text_type == 'description':\n",
        "        # all the values with the key starting with 'p'\n",
        "        for doc in corpus:\n",
        "            doc_text = []\n",
        "            for key in doc['Content'].keys():\n",
        "                if key.startswith('p'):\n",
        "                    doc_text.append(doc['Content'][key])\n",
        "            if len(doc_text) == 0:  # if the document does not have any description\n",
        "                ids_to_remove.append(doc['Application_Number']+doc['Application_Category'])\n",
        "                cnt += 1\n",
        "            else:\n",
        "                doc_text_string = ' '.join(doc_text)\n",
        "                texts.append(doc_text_string)\n",
        "        print(f\"Number of documents without description: {cnt}\")\n",
        "\n",
        "    elif text_type == 'fulltext':\n",
        "        for doc in corpus:\n",
        "            doc_text = list(doc['Content'].values())\n",
        "            doc_text_string = ' '.join(doc_text)\n",
        "            texts.append(doc_text_string)\n",
        "        if cnt > 0:\n",
        "            print(f\"Number of documents without any text: {cnt}\")\n",
        "\n",
        "    else:\n",
        "        raise ValueError(\"Invalid text type\")\n",
        "\n",
        "    if len(ids_to_remove) > 0:\n",
        "        print(f\"Removing {len(ids_to_remove)} documents without required text\")\n",
        "        for id_ in ids_to_remove[::-1]:\n",
        "            idx = app_ids.index(id_)\n",
        "            del app_ids[idx]\n",
        "\n",
        "    # Create a list of dictionaries with app_ids and texts\n",
        "    corpus_data = [{'id': app_id, 'text': text} for app_id, text in zip(app_ids, texts)]\n",
        "\n",
        "    return corpus_data\n"
      ],
      "metadata": {
        "id": "4d3IGN_xVU--",
        "trusted": true,
        "execution": {
          "iopub.status.busy": "2025-04-08T23:21:30.025901Z",
          "iopub.execute_input": "2025-04-08T23:21:30.026284Z",
          "iopub.status.idle": "2025-04-08T23:21:30.051467Z",
          "shell.execute_reply.started": "2025-04-08T23:21:30.026253Z",
          "shell.execute_reply": "2025-04-08T23:21:30.050348Z"
        }
      },
      "outputs": [],
      "execution_count": null
    },
    {
      "cell_type": "markdown",
      "source": [
        "## get_true_and_predicted"
      ],
      "metadata": {
        "id": "4IcD-yp-Wb2e"
      }
    },
    {
      "cell_type": "code",
      "source": [
        "def get_true_and_predicted(citing_to_cited_dict, recommendations_dict):\n",
        "    \"\"\"\n",
        "    Get the true and predicted labels for the metrics calculation.\n",
        "\n",
        "    Parameters:\n",
        "    citing_to_cited_dict : dict of str : list of str\n",
        "        Mapping between citing patents and the list of their cited patents\n",
        "    recommendations_dict : dict of str : list of str\n",
        "        Mapping between citing patents and the sorted list of recommended patents\n",
        "\n",
        "    Returns:\n",
        "    list of list\n",
        "        True relevant items for each recommendation list.\n",
        "    list of list\n",
        "        Predicted recommended items for each recommendation list.\n",
        "    int\n",
        "        Number of patents not in the citation mapping\n",
        "    \"\"\"\n",
        "    # Initialize lists to store true labels and predicted labels\n",
        "    true_labels = []\n",
        "    predicted_labels = []\n",
        "    not_in_citation_mapping = 0\n",
        "\n",
        "    # Iterate over the items in both dictionaries\n",
        "    for citing_id in recommendations_dict.keys():\n",
        "        # Check if the citing_id is present in both dictionaries\n",
        "        if citing_id in citing_to_cited_dict:\n",
        "            # If yes, append the recommended items from both dictionaries to the respective lists\n",
        "            true_labels.append(citing_to_cited_dict[citing_id])\n",
        "            predicted_labels.append(recommendations_dict[citing_id])\n",
        "        else:\n",
        "            not_in_citation_mapping += 1\n",
        "\n",
        "    return true_labels, predicted_labels, not_in_citation_mapping\n"
      ],
      "metadata": {
        "id": "Qf6GVmCLWamK",
        "trusted": true,
        "execution": {
          "iopub.status.busy": "2025-04-08T23:21:30.052308Z",
          "iopub.execute_input": "2025-04-08T23:21:30.052567Z",
          "iopub.status.idle": "2025-04-08T23:21:30.07668Z",
          "shell.execute_reply.started": "2025-04-08T23:21:30.052539Z",
          "shell.execute_reply": "2025-04-08T23:21:30.075844Z"
        }
      },
      "outputs": [],
      "execution_count": null
    },
    {
      "cell_type": "markdown",
      "source": [
        "## mean_recall_at_k"
      ],
      "metadata": {
        "id": "pBv5lbwQWhFs"
      }
    },
    {
      "cell_type": "code",
      "source": [
        "def mean_recall_at_k(true_labels, predicted_labels, k=10):\n",
        "    \"\"\"\n",
        "    Calculate the mean Recall@k for a list of recommendations.\n",
        "\n",
        "    Parameters:\n",
        "    true_labels : list of list\n",
        "        True relevant items for each recommendation list.\n",
        "    predicted_labels : list of list\n",
        "        Predicted recommended items for each recommendation list.\n",
        "    k : int\n",
        "        Number of recommendations to consider.\n",
        "\n",
        "    Returns:\n",
        "    float\n",
        "        Mean Recall@k value.\n",
        "    \"\"\"\n",
        "    recalls_at_k = []\n",
        "\n",
        "    for true, pred in zip(true_labels, predicted_labels):\n",
        "        # Calculate Recall@k for each recommendation list\n",
        "        true_set = set(true)\n",
        "        k = min(k, len(pred))\n",
        "        relevant_count = sum(1 for item in pred[:k] if item in true_set)\n",
        "        recalls_at_k.append(relevant_count / len(true_set))\n",
        "\n",
        "    # Calculate the mean Recall@k\n",
        "    mean_recall = sum(recalls_at_k) / len(recalls_at_k)\n",
        "\n",
        "    return mean_recall"
      ],
      "metadata": {
        "id": "q7mKJaxrWgEA",
        "trusted": true,
        "execution": {
          "iopub.status.busy": "2025-04-08T23:21:30.078038Z",
          "iopub.execute_input": "2025-04-08T23:21:30.078315Z",
          "iopub.status.idle": "2025-04-08T23:21:30.101975Z",
          "shell.execute_reply.started": "2025-04-08T23:21:30.07829Z",
          "shell.execute_reply": "2025-04-08T23:21:30.100903Z"
        }
      },
      "outputs": [],
      "execution_count": null
    },
    {
      "cell_type": "markdown",
      "source": [
        "## mean_inv_ranking"
      ],
      "metadata": {
        "id": "3JelqkKhWmg3"
      }
    },
    {
      "cell_type": "code",
      "source": [
        "def mean_inv_ranking(true_labels, predicted_labels):\n",
        "    \"\"\"\n",
        "    Calculate the mean of lists of the mean inverse rank of true relevant items\n",
        "    in the lists of sorted recommended items.\n",
        "\n",
        "    Parameters:\n",
        "    true_labels : list of list\n",
        "        True relevant items for each recommendation list.\n",
        "    predicted_labels : list of list\n",
        "        Predicted recommended items for each recommendation list.\n",
        "\n",
        "    Returns:\n",
        "    float\n",
        "        Mean of lists of the mean inverse rank of true relevant items.\n",
        "    \"\"\"\n",
        "    mean_ranks = []\n",
        "\n",
        "    for true, pred in zip(true_labels, predicted_labels):\n",
        "        # Calculate the inverse rank of true relevant items\n",
        "        # in the recommendation list\n",
        "        ranks = []\n",
        "        for item in true:\n",
        "            try:\n",
        "                rank = 1 / (pred.index(item) + 1)\n",
        "            except ValueError:\n",
        "                rank = 0  # If item not found, assign 0\n",
        "            ranks.append(rank)\n",
        "\n",
        "        # Calculate the mean inverse rank of true relevant items\n",
        "        # in the recommendation list\n",
        "        mean_rank = sum(ranks) / len(ranks)\n",
        "        mean_ranks.append(mean_rank)\n",
        "\n",
        "    # Calculate the mean of the mean inverse ranks across all recommendation lists\n",
        "    mean_of_mean_ranks = sum(mean_ranks) / len(mean_ranks)\n",
        "\n",
        "    return mean_of_mean_ranks"
      ],
      "metadata": {
        "id": "hNNBunsPWlcK",
        "trusted": true,
        "execution": {
          "iopub.status.busy": "2025-04-08T23:21:30.103242Z",
          "iopub.execute_input": "2025-04-08T23:21:30.103537Z",
          "iopub.status.idle": "2025-04-08T23:21:30.126241Z",
          "shell.execute_reply.started": "2025-04-08T23:21:30.103506Z",
          "shell.execute_reply": "2025-04-08T23:21:30.124652Z"
        }
      },
      "outputs": [],
      "execution_count": null
    },
    {
      "cell_type": "markdown",
      "source": [
        "## mean_ranking"
      ],
      "metadata": {
        "id": "cYhh5XNYWrlG"
      }
    },
    {
      "cell_type": "code",
      "source": [
        "def mean_ranking(true_labels, predicted_labels):\n",
        "    \"\"\"\n",
        "    Calculate the mean of lists of the mean rank of true relevant items\n",
        "    in the lists of sorted recommended items.\n",
        "\n",
        "    Parameters:\n",
        "    true_labels : list of list\n",
        "        True relevant items for each recommendation list.\n",
        "    predicted_labels : list of list\n",
        "        Predicted recommended items for each recommendation list.\n",
        "\n",
        "    Returns:\n",
        "    float\n",
        "        Mean of lists of the mean rank of true relevant items.\n",
        "    \"\"\"\n",
        "    mean_ranks = []\n",
        "\n",
        "    for true, pred in zip(true_labels, predicted_labels):\n",
        "        # Calculate the rank of true relevant items\n",
        "        # in the recommendation list\n",
        "        ranks = []\n",
        "        for item in true:\n",
        "            try:\n",
        "                rank = pred.index(item) + 1\n",
        "            except ValueError:\n",
        "                rank = len(pred)  # If item not found, assign the length of the list\n",
        "            ranks.append(rank)\n",
        "\n",
        "        # Calculate the mean rank of true relevant items\n",
        "        # in the recommendation list\n",
        "        mean_rank = sum(ranks) / len(ranks)\n",
        "        mean_ranks.append(mean_rank)\n",
        "\n",
        "    # Calculate the mean of the mean ranks across all recommendation lists\n",
        "    mean_of_mean_ranks = sum(mean_ranks) / len(mean_ranks)\n",
        "\n",
        "    return mean_of_mean_ranks"
      ],
      "metadata": {
        "id": "4xIG4gS0WrAC",
        "trusted": true,
        "execution": {
          "iopub.status.busy": "2025-04-08T23:28:56.270061Z",
          "iopub.execute_input": "2025-04-08T23:28:56.270431Z",
          "iopub.status.idle": "2025-04-08T23:28:56.276923Z",
          "shell.execute_reply.started": "2025-04-08T23:28:56.270404Z",
          "shell.execute_reply": "2025-04-08T23:28:56.275579Z"
        }
      },
      "outputs": [],
      "execution_count": null
    },
    {
      "cell_type": "markdown",
      "source": [
        "## mean_average_precision"
      ],
      "metadata": {
        "id": "9fUG2e40WvyT"
      }
    },
    {
      "cell_type": "code",
      "source": [
        "\n",
        "def mean_average_precision(true_labels, predicted_labels, k=10):\n",
        "    \"\"\"\n",
        "    Calculate the mean Average Precision for a list of recommendations.\n",
        "\n",
        "    Parameters:\n",
        "    true_labels : list of list\n",
        "        True relevant items for each recommendation list.\n",
        "    predicted_labels : list of list\n",
        "        Predicted recommended items for each recommendation list.\n",
        "    k : int\n",
        "        Number of recommendations to consider.\n",
        "\n",
        "    Returns:\n",
        "    float\n",
        "        Mean Average Precision value.\n",
        "    \"\"\"\n",
        "    average_precisions = []\n",
        "\n",
        "    for true, pred in zip(true_labels, predicted_labels):\n",
        "        # Calculate Average Precision for each recommendation list\n",
        "        true_set = set(true)\n",
        "        precision_at_k = []\n",
        "        relevant_count = 0\n",
        "        for i, item in enumerate(pred[:k]):\n",
        "            if item in true_set:\n",
        "                relevant_count += 1\n",
        "                precision_at_k.append(relevant_count / (i + 1))\n",
        "        average_precision = sum(precision_at_k) / len(true_set)\n",
        "        average_precisions.append(average_precision)\n",
        "\n",
        "    # Calculate the mean Average Precision\n",
        "    mean_average_precision = sum(average_precisions) / len(average_precisions)\n",
        "\n",
        "    return mean_average_precision\n"
      ],
      "metadata": {
        "id": "vSTIEYHDWwLC",
        "trusted": true,
        "execution": {
          "iopub.status.busy": "2025-04-08T23:28:58.292038Z",
          "iopub.execute_input": "2025-04-08T23:28:58.292367Z",
          "iopub.status.idle": "2025-04-08T23:28:58.297328Z",
          "shell.execute_reply.started": "2025-04-08T23:28:58.292345Z",
          "shell.execute_reply": "2025-04-08T23:28:58.29631Z"
        }
      },
      "outputs": [],
      "execution_count": null
    },
    {
      "cell_type": "markdown",
      "source": [
        "## top_k_ranks"
      ],
      "metadata": {
        "id": "DcPP1QyDW0vi"
      }
    },
    {
      "cell_type": "code",
      "source": [
        "def top_k_ranks(citing, cited, cosine_similarities, k=10):\n",
        "    # Create a dictionary to store the top k ranks for each citing patent\n",
        "    top_k_ranks = {}\n",
        "    for i, content_id in enumerate(citing):\n",
        "        top_k_ranks[content_id['id']] = [cited[j]['id'] for j in np.argsort(cosine_similarities[i])[::-1][:k]]\n",
        "    return top_k_ranks"
      ],
      "metadata": {
        "id": "POaZu44JWzct",
        "trusted": true,
        "execution": {
          "iopub.status.busy": "2025-04-08T23:29:00.82632Z",
          "iopub.execute_input": "2025-04-08T23:29:00.826652Z",
          "iopub.status.idle": "2025-04-08T23:29:00.831819Z",
          "shell.execute_reply.started": "2025-04-08T23:29:00.826623Z",
          "shell.execute_reply": "2025-04-08T23:29:00.830638Z"
        }
      },
      "outputs": [],
      "execution_count": null
    },
    {
      "cell_type": "markdown",
      "source": [
        "# 1.0 Load Datasets"
      ],
      "metadata": {
        "id": "8_a8MJUDzyNr"
      }
    },
    {
      "cell_type": "code",
      "source": [
        "json_citing_train = load_json_data(elizavetasirotina_ir_challenge_path+\"/Content_JSONs/Citing_2020_Cleaned_Content_12k/Citing_Train_Test/citing_TRAIN.json\")\n",
        "json_citing_test = load_json_data(elizavetasirotina_ir_challenge_path+\"/Content_JSONs/Citing_2020_Cleaned_Content_12k/Citing_Train_Test/citing_TEST.json\")\n",
        "\n",
        "json_nonciting = load_json_data(elizavetasirotina_ir_challenge_path+\"/Content_JSONs/Cited_2020_Uncited_2010-2019_Cleaned_Content_22k/CLEANED_CONTENT_DATASET_cited_patents_by_2020_uncited_2010-2019.json\")\n",
        "json_citing_to_cited = load_json_data(elizavetasirotina_ir_challenge_path+\"/Citation_JSONs/Citation_Train.json\") # Citing ids are unique"
      ],
      "metadata": {
        "id": "0FddbPS7zyNs",
        "trusted": true,
        "execution": {
          "iopub.status.busy": "2025-04-08T23:29:14.942627Z",
          "iopub.execute_input": "2025-04-08T23:29:14.942986Z",
          "iopub.status.idle": "2025-04-08T23:29:21.406121Z",
          "shell.execute_reply.started": "2025-04-08T23:29:14.942959Z",
          "shell.execute_reply": "2025-04-08T23:29:21.405394Z"
        }
      },
      "outputs": [],
      "execution_count": null
    },
    {
      "cell_type": "code",
      "source": [
        "citing_dataset_df = pd.DataFrame(json_citing_train)\n",
        "\n",
        "nonciting_dataset_df = pd.DataFrame(json_nonciting)\n",
        "mapping_dataset_df = pd.DataFrame(json_citing_to_cited)"
      ],
      "metadata": {
        "id": "Urbuut75zyNs",
        "trusted": true,
        "execution": {
          "iopub.status.busy": "2025-04-08T23:29:21.407242Z",
          "iopub.execute_input": "2025-04-08T23:29:21.407444Z",
          "iopub.status.idle": "2025-04-08T23:29:21.437444Z",
          "shell.execute_reply.started": "2025-04-08T23:29:21.407423Z",
          "shell.execute_reply": "2025-04-08T23:29:21.4365Z"
        }
      },
      "outputs": [],
      "execution_count": null
    },
    {
      "cell_type": "code",
      "source": [
        "citing_dataset_df.head()"
      ],
      "metadata": {
        "id": "tGiJRpDNzyNt",
        "outputId": "3942000f-705e-4ebe-9c0b-1f86e56e2c56",
        "trusted": true,
        "execution": {
          "iopub.status.busy": "2025-04-08T23:29:21.438842Z",
          "iopub.execute_input": "2025-04-08T23:29:21.439238Z",
          "iopub.status.idle": "2025-04-08T23:29:21.470123Z",
          "shell.execute_reply.started": "2025-04-08T23:29:21.439207Z",
          "shell.execute_reply": "2025-04-08T23:29:21.468984Z"
        },
        "colab": {
          "base_uri": "https://localhost:8080/",
          "height": 206
        }
      },
      "outputs": [
        {
          "output_type": "execute_result",
          "data": {
            "text/plain": [
              "  Application_Number Application_Date Application_Category  \\\n",
              "0            3650293       2020-05-13                   A1   \n",
              "1            3694265       2020-08-12                   A1   \n",
              "2            3623522       2020-03-18                   A1   \n",
              "3            3611147       2020-02-19                   A1   \n",
              "4            3640454       2020-04-22                   A1   \n",
              "\n",
              "                                             Content  \n",
              "0  {'title': 'DEVICE FOR CONTROLLING THE BRAKING ...  \n",
              "1  {'title': 'TIME DIVISION MULTIPLEXING OF SYNCH...  \n",
              "2  {'title': 'LAUNDRY MACHINE AND CONTROL METHOD ...  \n",
              "3  {'title': 'CHEMICAL AND TOPOLOGICAL SURFACE MO...  \n",
              "4  {'title': 'FUEL METERING SYSTEM', 'pa01': 'The...  "
            ],
            "text/html": [
              "\n",
              "  <div id=\"df-adad2ac1-216e-4601-8688-78bc1566eb5d\" class=\"colab-df-container\">\n",
              "    <div>\n",
              "<style scoped>\n",
              "    .dataframe tbody tr th:only-of-type {\n",
              "        vertical-align: middle;\n",
              "    }\n",
              "\n",
              "    .dataframe tbody tr th {\n",
              "        vertical-align: top;\n",
              "    }\n",
              "\n",
              "    .dataframe thead th {\n",
              "        text-align: right;\n",
              "    }\n",
              "</style>\n",
              "<table border=\"1\" class=\"dataframe\">\n",
              "  <thead>\n",
              "    <tr style=\"text-align: right;\">\n",
              "      <th></th>\n",
              "      <th>Application_Number</th>\n",
              "      <th>Application_Date</th>\n",
              "      <th>Application_Category</th>\n",
              "      <th>Content</th>\n",
              "    </tr>\n",
              "  </thead>\n",
              "  <tbody>\n",
              "    <tr>\n",
              "      <th>0</th>\n",
              "      <td>3650293</td>\n",
              "      <td>2020-05-13</td>\n",
              "      <td>A1</td>\n",
              "      <td>{'title': 'DEVICE FOR CONTROLLING THE BRAKING ...</td>\n",
              "    </tr>\n",
              "    <tr>\n",
              "      <th>1</th>\n",
              "      <td>3694265</td>\n",
              "      <td>2020-08-12</td>\n",
              "      <td>A1</td>\n",
              "      <td>{'title': 'TIME DIVISION MULTIPLEXING OF SYNCH...</td>\n",
              "    </tr>\n",
              "    <tr>\n",
              "      <th>2</th>\n",
              "      <td>3623522</td>\n",
              "      <td>2020-03-18</td>\n",
              "      <td>A1</td>\n",
              "      <td>{'title': 'LAUNDRY MACHINE AND CONTROL METHOD ...</td>\n",
              "    </tr>\n",
              "    <tr>\n",
              "      <th>3</th>\n",
              "      <td>3611147</td>\n",
              "      <td>2020-02-19</td>\n",
              "      <td>A1</td>\n",
              "      <td>{'title': 'CHEMICAL AND TOPOLOGICAL SURFACE MO...</td>\n",
              "    </tr>\n",
              "    <tr>\n",
              "      <th>4</th>\n",
              "      <td>3640454</td>\n",
              "      <td>2020-04-22</td>\n",
              "      <td>A1</td>\n",
              "      <td>{'title': 'FUEL METERING SYSTEM', 'pa01': 'The...</td>\n",
              "    </tr>\n",
              "  </tbody>\n",
              "</table>\n",
              "</div>\n",
              "    <div class=\"colab-df-buttons\">\n",
              "\n",
              "  <div class=\"colab-df-container\">\n",
              "    <button class=\"colab-df-convert\" onclick=\"convertToInteractive('df-adad2ac1-216e-4601-8688-78bc1566eb5d')\"\n",
              "            title=\"Convert this dataframe to an interactive table.\"\n",
              "            style=\"display:none;\">\n",
              "\n",
              "  <svg xmlns=\"http://www.w3.org/2000/svg\" height=\"24px\" viewBox=\"0 -960 960 960\">\n",
              "    <path d=\"M120-120v-720h720v720H120Zm60-500h600v-160H180v160Zm220 220h160v-160H400v160Zm0 220h160v-160H400v160ZM180-400h160v-160H180v160Zm440 0h160v-160H620v160ZM180-180h160v-160H180v160Zm440 0h160v-160H620v160Z\"/>\n",
              "  </svg>\n",
              "    </button>\n",
              "\n",
              "  <style>\n",
              "    .colab-df-container {\n",
              "      display:flex;\n",
              "      gap: 12px;\n",
              "    }\n",
              "\n",
              "    .colab-df-convert {\n",
              "      background-color: #E8F0FE;\n",
              "      border: none;\n",
              "      border-radius: 50%;\n",
              "      cursor: pointer;\n",
              "      display: none;\n",
              "      fill: #1967D2;\n",
              "      height: 32px;\n",
              "      padding: 0 0 0 0;\n",
              "      width: 32px;\n",
              "    }\n",
              "\n",
              "    .colab-df-convert:hover {\n",
              "      background-color: #E2EBFA;\n",
              "      box-shadow: 0px 1px 2px rgba(60, 64, 67, 0.3), 0px 1px 3px 1px rgba(60, 64, 67, 0.15);\n",
              "      fill: #174EA6;\n",
              "    }\n",
              "\n",
              "    .colab-df-buttons div {\n",
              "      margin-bottom: 4px;\n",
              "    }\n",
              "\n",
              "    [theme=dark] .colab-df-convert {\n",
              "      background-color: #3B4455;\n",
              "      fill: #D2E3FC;\n",
              "    }\n",
              "\n",
              "    [theme=dark] .colab-df-convert:hover {\n",
              "      background-color: #434B5C;\n",
              "      box-shadow: 0px 1px 3px 1px rgba(0, 0, 0, 0.15);\n",
              "      filter: drop-shadow(0px 1px 2px rgba(0, 0, 0, 0.3));\n",
              "      fill: #FFFFFF;\n",
              "    }\n",
              "  </style>\n",
              "\n",
              "    <script>\n",
              "      const buttonEl =\n",
              "        document.querySelector('#df-adad2ac1-216e-4601-8688-78bc1566eb5d button.colab-df-convert');\n",
              "      buttonEl.style.display =\n",
              "        google.colab.kernel.accessAllowed ? 'block' : 'none';\n",
              "\n",
              "      async function convertToInteractive(key) {\n",
              "        const element = document.querySelector('#df-adad2ac1-216e-4601-8688-78bc1566eb5d');\n",
              "        const dataTable =\n",
              "          await google.colab.kernel.invokeFunction('convertToInteractive',\n",
              "                                                    [key], {});\n",
              "        if (!dataTable) return;\n",
              "\n",
              "        const docLinkHtml = 'Like what you see? Visit the ' +\n",
              "          '<a target=\"_blank\" href=https://colab.research.google.com/notebooks/data_table.ipynb>data table notebook</a>'\n",
              "          + ' to learn more about interactive tables.';\n",
              "        element.innerHTML = '';\n",
              "        dataTable['output_type'] = 'display_data';\n",
              "        await google.colab.output.renderOutput(dataTable, element);\n",
              "        const docLink = document.createElement('div');\n",
              "        docLink.innerHTML = docLinkHtml;\n",
              "        element.appendChild(docLink);\n",
              "      }\n",
              "    </script>\n",
              "  </div>\n",
              "\n",
              "\n",
              "<div id=\"df-5e79b6b9-00fa-4625-9b48-32645f54b02a\">\n",
              "  <button class=\"colab-df-quickchart\" onclick=\"quickchart('df-5e79b6b9-00fa-4625-9b48-32645f54b02a')\"\n",
              "            title=\"Suggest charts\"\n",
              "            style=\"display:none;\">\n",
              "\n",
              "<svg xmlns=\"http://www.w3.org/2000/svg\" height=\"24px\"viewBox=\"0 0 24 24\"\n",
              "     width=\"24px\">\n",
              "    <g>\n",
              "        <path d=\"M19 3H5c-1.1 0-2 .9-2 2v14c0 1.1.9 2 2 2h14c1.1 0 2-.9 2-2V5c0-1.1-.9-2-2-2zM9 17H7v-7h2v7zm4 0h-2V7h2v10zm4 0h-2v-4h2v4z\"/>\n",
              "    </g>\n",
              "</svg>\n",
              "  </button>\n",
              "\n",
              "<style>\n",
              "  .colab-df-quickchart {\n",
              "      --bg-color: #E8F0FE;\n",
              "      --fill-color: #1967D2;\n",
              "      --hover-bg-color: #E2EBFA;\n",
              "      --hover-fill-color: #174EA6;\n",
              "      --disabled-fill-color: #AAA;\n",
              "      --disabled-bg-color: #DDD;\n",
              "  }\n",
              "\n",
              "  [theme=dark] .colab-df-quickchart {\n",
              "      --bg-color: #3B4455;\n",
              "      --fill-color: #D2E3FC;\n",
              "      --hover-bg-color: #434B5C;\n",
              "      --hover-fill-color: #FFFFFF;\n",
              "      --disabled-bg-color: #3B4455;\n",
              "      --disabled-fill-color: #666;\n",
              "  }\n",
              "\n",
              "  .colab-df-quickchart {\n",
              "    background-color: var(--bg-color);\n",
              "    border: none;\n",
              "    border-radius: 50%;\n",
              "    cursor: pointer;\n",
              "    display: none;\n",
              "    fill: var(--fill-color);\n",
              "    height: 32px;\n",
              "    padding: 0;\n",
              "    width: 32px;\n",
              "  }\n",
              "\n",
              "  .colab-df-quickchart:hover {\n",
              "    background-color: var(--hover-bg-color);\n",
              "    box-shadow: 0 1px 2px rgba(60, 64, 67, 0.3), 0 1px 3px 1px rgba(60, 64, 67, 0.15);\n",
              "    fill: var(--button-hover-fill-color);\n",
              "  }\n",
              "\n",
              "  .colab-df-quickchart-complete:disabled,\n",
              "  .colab-df-quickchart-complete:disabled:hover {\n",
              "    background-color: var(--disabled-bg-color);\n",
              "    fill: var(--disabled-fill-color);\n",
              "    box-shadow: none;\n",
              "  }\n",
              "\n",
              "  .colab-df-spinner {\n",
              "    border: 2px solid var(--fill-color);\n",
              "    border-color: transparent;\n",
              "    border-bottom-color: var(--fill-color);\n",
              "    animation:\n",
              "      spin 1s steps(1) infinite;\n",
              "  }\n",
              "\n",
              "  @keyframes spin {\n",
              "    0% {\n",
              "      border-color: transparent;\n",
              "      border-bottom-color: var(--fill-color);\n",
              "      border-left-color: var(--fill-color);\n",
              "    }\n",
              "    20% {\n",
              "      border-color: transparent;\n",
              "      border-left-color: var(--fill-color);\n",
              "      border-top-color: var(--fill-color);\n",
              "    }\n",
              "    30% {\n",
              "      border-color: transparent;\n",
              "      border-left-color: var(--fill-color);\n",
              "      border-top-color: var(--fill-color);\n",
              "      border-right-color: var(--fill-color);\n",
              "    }\n",
              "    40% {\n",
              "      border-color: transparent;\n",
              "      border-right-color: var(--fill-color);\n",
              "      border-top-color: var(--fill-color);\n",
              "    }\n",
              "    60% {\n",
              "      border-color: transparent;\n",
              "      border-right-color: var(--fill-color);\n",
              "    }\n",
              "    80% {\n",
              "      border-color: transparent;\n",
              "      border-right-color: var(--fill-color);\n",
              "      border-bottom-color: var(--fill-color);\n",
              "    }\n",
              "    90% {\n",
              "      border-color: transparent;\n",
              "      border-bottom-color: var(--fill-color);\n",
              "    }\n",
              "  }\n",
              "</style>\n",
              "\n",
              "  <script>\n",
              "    async function quickchart(key) {\n",
              "      const quickchartButtonEl =\n",
              "        document.querySelector('#' + key + ' button');\n",
              "      quickchartButtonEl.disabled = true;  // To prevent multiple clicks.\n",
              "      quickchartButtonEl.classList.add('colab-df-spinner');\n",
              "      try {\n",
              "        const charts = await google.colab.kernel.invokeFunction(\n",
              "            'suggestCharts', [key], {});\n",
              "      } catch (error) {\n",
              "        console.error('Error during call to suggestCharts:', error);\n",
              "      }\n",
              "      quickchartButtonEl.classList.remove('colab-df-spinner');\n",
              "      quickchartButtonEl.classList.add('colab-df-quickchart-complete');\n",
              "    }\n",
              "    (() => {\n",
              "      let quickchartButtonEl =\n",
              "        document.querySelector('#df-5e79b6b9-00fa-4625-9b48-32645f54b02a button');\n",
              "      quickchartButtonEl.style.display =\n",
              "        google.colab.kernel.accessAllowed ? 'block' : 'none';\n",
              "    })();\n",
              "  </script>\n",
              "</div>\n",
              "\n",
              "    </div>\n",
              "  </div>\n"
            ],
            "application/vnd.google.colaboratory.intrinsic+json": {
              "type": "dataframe",
              "variable_name": "citing_dataset_df",
              "summary": "{\n  \"name\": \"citing_dataset_df\",\n  \"rows\": 6831,\n  \"fields\": [\n    {\n      \"column\": \"Application_Number\",\n      \"properties\": {\n        \"dtype\": \"string\",\n        \"num_unique_values\": 6829,\n        \"samples\": [\n          \"3605853\",\n          \"3734251\",\n          \"3586768\"\n        ],\n        \"semantic_type\": \"\",\n        \"description\": \"\"\n      }\n    },\n    {\n      \"column\": \"Application_Date\",\n      \"properties\": {\n        \"dtype\": \"object\",\n        \"num_unique_values\": 53,\n        \"samples\": [\n          \"2020-11-11\",\n          \"2020-01-15\",\n          \"2020-05-20\"\n        ],\n        \"semantic_type\": \"\",\n        \"description\": \"\"\n      }\n    },\n    {\n      \"column\": \"Application_Category\",\n      \"properties\": {\n        \"dtype\": \"category\",\n        \"num_unique_values\": 2,\n        \"samples\": [\n          \"A9\",\n          \"A1\"\n        ],\n        \"semantic_type\": \"\",\n        \"description\": \"\"\n      }\n    },\n    {\n      \"column\": \"Content\",\n      \"properties\": {\n        \"dtype\": \"object\",\n        \"semantic_type\": \"\",\n        \"description\": \"\"\n      }\n    }\n  ]\n}"
            }
          },
          "metadata": {},
          "execution_count": 19
        }
      ],
      "execution_count": null
    },
    {
      "cell_type": "code",
      "source": [
        "nonciting_dataset_df.head()"
      ],
      "metadata": {
        "id": "wVYs3idgzyNt",
        "outputId": "2405da4e-4b2e-48e3-e144-7c6b0f91bded",
        "trusted": true,
        "execution": {
          "iopub.status.busy": "2025-04-08T23:29:21.470925Z",
          "iopub.execute_input": "2025-04-08T23:29:21.471181Z",
          "iopub.status.idle": "2025-04-08T23:29:21.484366Z",
          "shell.execute_reply.started": "2025-04-08T23:29:21.47113Z",
          "shell.execute_reply": "2025-04-08T23:29:21.483244Z"
        },
        "colab": {
          "base_uri": "https://localhost:8080/",
          "height": 206
        }
      },
      "outputs": [
        {
          "output_type": "execute_result",
          "data": {
            "text/plain": [
              "  Application_Number Application_Date Application_Category  \\\n",
              "0            2019772       2013-08-28                   B1   \n",
              "1            2136094       2013-05-22                   B1   \n",
              "2            2340701       2011-07-06                   A2   \n",
              "3            2338661       2011-06-29                   A1   \n",
              "4            2339144       2011-06-29                   A2   \n",
              "\n",
              "                                             Content  \n",
              "0  {'title': 'VEHICLE WITH LOCKABLE TILT SYSTEM',...  \n",
              "1  {'title': 'UNIVERSAL JOINT', 'c-en-0001': 'A u...  \n",
              "2  {'title': 'Apparatus, method and computer prog...  \n",
              "3  {'title': 'Method and apparatus for forming a ...  \n",
              "4  {'title': 'Heat exchanger mounting assembly in...  "
            ],
            "text/html": [
              "\n",
              "  <div id=\"df-05fe37c0-0f95-4004-9911-6430ff616303\" class=\"colab-df-container\">\n",
              "    <div>\n",
              "<style scoped>\n",
              "    .dataframe tbody tr th:only-of-type {\n",
              "        vertical-align: middle;\n",
              "    }\n",
              "\n",
              "    .dataframe tbody tr th {\n",
              "        vertical-align: top;\n",
              "    }\n",
              "\n",
              "    .dataframe thead th {\n",
              "        text-align: right;\n",
              "    }\n",
              "</style>\n",
              "<table border=\"1\" class=\"dataframe\">\n",
              "  <thead>\n",
              "    <tr style=\"text-align: right;\">\n",
              "      <th></th>\n",
              "      <th>Application_Number</th>\n",
              "      <th>Application_Date</th>\n",
              "      <th>Application_Category</th>\n",
              "      <th>Content</th>\n",
              "    </tr>\n",
              "  </thead>\n",
              "  <tbody>\n",
              "    <tr>\n",
              "      <th>0</th>\n",
              "      <td>2019772</td>\n",
              "      <td>2013-08-28</td>\n",
              "      <td>B1</td>\n",
              "      <td>{'title': 'VEHICLE WITH LOCKABLE TILT SYSTEM',...</td>\n",
              "    </tr>\n",
              "    <tr>\n",
              "      <th>1</th>\n",
              "      <td>2136094</td>\n",
              "      <td>2013-05-22</td>\n",
              "      <td>B1</td>\n",
              "      <td>{'title': 'UNIVERSAL JOINT', 'c-en-0001': 'A u...</td>\n",
              "    </tr>\n",
              "    <tr>\n",
              "      <th>2</th>\n",
              "      <td>2340701</td>\n",
              "      <td>2011-07-06</td>\n",
              "      <td>A2</td>\n",
              "      <td>{'title': 'Apparatus, method and computer prog...</td>\n",
              "    </tr>\n",
              "    <tr>\n",
              "      <th>3</th>\n",
              "      <td>2338661</td>\n",
              "      <td>2011-06-29</td>\n",
              "      <td>A1</td>\n",
              "      <td>{'title': 'Method and apparatus for forming a ...</td>\n",
              "    </tr>\n",
              "    <tr>\n",
              "      <th>4</th>\n",
              "      <td>2339144</td>\n",
              "      <td>2011-06-29</td>\n",
              "      <td>A2</td>\n",
              "      <td>{'title': 'Heat exchanger mounting assembly in...</td>\n",
              "    </tr>\n",
              "  </tbody>\n",
              "</table>\n",
              "</div>\n",
              "    <div class=\"colab-df-buttons\">\n",
              "\n",
              "  <div class=\"colab-df-container\">\n",
              "    <button class=\"colab-df-convert\" onclick=\"convertToInteractive('df-05fe37c0-0f95-4004-9911-6430ff616303')\"\n",
              "            title=\"Convert this dataframe to an interactive table.\"\n",
              "            style=\"display:none;\">\n",
              "\n",
              "  <svg xmlns=\"http://www.w3.org/2000/svg\" height=\"24px\" viewBox=\"0 -960 960 960\">\n",
              "    <path d=\"M120-120v-720h720v720H120Zm60-500h600v-160H180v160Zm220 220h160v-160H400v160Zm0 220h160v-160H400v160ZM180-400h160v-160H180v160Zm440 0h160v-160H620v160ZM180-180h160v-160H180v160Zm440 0h160v-160H620v160Z\"/>\n",
              "  </svg>\n",
              "    </button>\n",
              "\n",
              "  <style>\n",
              "    .colab-df-container {\n",
              "      display:flex;\n",
              "      gap: 12px;\n",
              "    }\n",
              "\n",
              "    .colab-df-convert {\n",
              "      background-color: #E8F0FE;\n",
              "      border: none;\n",
              "      border-radius: 50%;\n",
              "      cursor: pointer;\n",
              "      display: none;\n",
              "      fill: #1967D2;\n",
              "      height: 32px;\n",
              "      padding: 0 0 0 0;\n",
              "      width: 32px;\n",
              "    }\n",
              "\n",
              "    .colab-df-convert:hover {\n",
              "      background-color: #E2EBFA;\n",
              "      box-shadow: 0px 1px 2px rgba(60, 64, 67, 0.3), 0px 1px 3px 1px rgba(60, 64, 67, 0.15);\n",
              "      fill: #174EA6;\n",
              "    }\n",
              "\n",
              "    .colab-df-buttons div {\n",
              "      margin-bottom: 4px;\n",
              "    }\n",
              "\n",
              "    [theme=dark] .colab-df-convert {\n",
              "      background-color: #3B4455;\n",
              "      fill: #D2E3FC;\n",
              "    }\n",
              "\n",
              "    [theme=dark] .colab-df-convert:hover {\n",
              "      background-color: #434B5C;\n",
              "      box-shadow: 0px 1px 3px 1px rgba(0, 0, 0, 0.15);\n",
              "      filter: drop-shadow(0px 1px 2px rgba(0, 0, 0, 0.3));\n",
              "      fill: #FFFFFF;\n",
              "    }\n",
              "  </style>\n",
              "\n",
              "    <script>\n",
              "      const buttonEl =\n",
              "        document.querySelector('#df-05fe37c0-0f95-4004-9911-6430ff616303 button.colab-df-convert');\n",
              "      buttonEl.style.display =\n",
              "        google.colab.kernel.accessAllowed ? 'block' : 'none';\n",
              "\n",
              "      async function convertToInteractive(key) {\n",
              "        const element = document.querySelector('#df-05fe37c0-0f95-4004-9911-6430ff616303');\n",
              "        const dataTable =\n",
              "          await google.colab.kernel.invokeFunction('convertToInteractive',\n",
              "                                                    [key], {});\n",
              "        if (!dataTable) return;\n",
              "\n",
              "        const docLinkHtml = 'Like what you see? Visit the ' +\n",
              "          '<a target=\"_blank\" href=https://colab.research.google.com/notebooks/data_table.ipynb>data table notebook</a>'\n",
              "          + ' to learn more about interactive tables.';\n",
              "        element.innerHTML = '';\n",
              "        dataTable['output_type'] = 'display_data';\n",
              "        await google.colab.output.renderOutput(dataTable, element);\n",
              "        const docLink = document.createElement('div');\n",
              "        docLink.innerHTML = docLinkHtml;\n",
              "        element.appendChild(docLink);\n",
              "      }\n",
              "    </script>\n",
              "  </div>\n",
              "\n",
              "\n",
              "<div id=\"df-46dd5b47-d6df-45af-b077-c90ea4282977\">\n",
              "  <button class=\"colab-df-quickchart\" onclick=\"quickchart('df-46dd5b47-d6df-45af-b077-c90ea4282977')\"\n",
              "            title=\"Suggest charts\"\n",
              "            style=\"display:none;\">\n",
              "\n",
              "<svg xmlns=\"http://www.w3.org/2000/svg\" height=\"24px\"viewBox=\"0 0 24 24\"\n",
              "     width=\"24px\">\n",
              "    <g>\n",
              "        <path d=\"M19 3H5c-1.1 0-2 .9-2 2v14c0 1.1.9 2 2 2h14c1.1 0 2-.9 2-2V5c0-1.1-.9-2-2-2zM9 17H7v-7h2v7zm4 0h-2V7h2v10zm4 0h-2v-4h2v4z\"/>\n",
              "    </g>\n",
              "</svg>\n",
              "  </button>\n",
              "\n",
              "<style>\n",
              "  .colab-df-quickchart {\n",
              "      --bg-color: #E8F0FE;\n",
              "      --fill-color: #1967D2;\n",
              "      --hover-bg-color: #E2EBFA;\n",
              "      --hover-fill-color: #174EA6;\n",
              "      --disabled-fill-color: #AAA;\n",
              "      --disabled-bg-color: #DDD;\n",
              "  }\n",
              "\n",
              "  [theme=dark] .colab-df-quickchart {\n",
              "      --bg-color: #3B4455;\n",
              "      --fill-color: #D2E3FC;\n",
              "      --hover-bg-color: #434B5C;\n",
              "      --hover-fill-color: #FFFFFF;\n",
              "      --disabled-bg-color: #3B4455;\n",
              "      --disabled-fill-color: #666;\n",
              "  }\n",
              "\n",
              "  .colab-df-quickchart {\n",
              "    background-color: var(--bg-color);\n",
              "    border: none;\n",
              "    border-radius: 50%;\n",
              "    cursor: pointer;\n",
              "    display: none;\n",
              "    fill: var(--fill-color);\n",
              "    height: 32px;\n",
              "    padding: 0;\n",
              "    width: 32px;\n",
              "  }\n",
              "\n",
              "  .colab-df-quickchart:hover {\n",
              "    background-color: var(--hover-bg-color);\n",
              "    box-shadow: 0 1px 2px rgba(60, 64, 67, 0.3), 0 1px 3px 1px rgba(60, 64, 67, 0.15);\n",
              "    fill: var(--button-hover-fill-color);\n",
              "  }\n",
              "\n",
              "  .colab-df-quickchart-complete:disabled,\n",
              "  .colab-df-quickchart-complete:disabled:hover {\n",
              "    background-color: var(--disabled-bg-color);\n",
              "    fill: var(--disabled-fill-color);\n",
              "    box-shadow: none;\n",
              "  }\n",
              "\n",
              "  .colab-df-spinner {\n",
              "    border: 2px solid var(--fill-color);\n",
              "    border-color: transparent;\n",
              "    border-bottom-color: var(--fill-color);\n",
              "    animation:\n",
              "      spin 1s steps(1) infinite;\n",
              "  }\n",
              "\n",
              "  @keyframes spin {\n",
              "    0% {\n",
              "      border-color: transparent;\n",
              "      border-bottom-color: var(--fill-color);\n",
              "      border-left-color: var(--fill-color);\n",
              "    }\n",
              "    20% {\n",
              "      border-color: transparent;\n",
              "      border-left-color: var(--fill-color);\n",
              "      border-top-color: var(--fill-color);\n",
              "    }\n",
              "    30% {\n",
              "      border-color: transparent;\n",
              "      border-left-color: var(--fill-color);\n",
              "      border-top-color: var(--fill-color);\n",
              "      border-right-color: var(--fill-color);\n",
              "    }\n",
              "    40% {\n",
              "      border-color: transparent;\n",
              "      border-right-color: var(--fill-color);\n",
              "      border-top-color: var(--fill-color);\n",
              "    }\n",
              "    60% {\n",
              "      border-color: transparent;\n",
              "      border-right-color: var(--fill-color);\n",
              "    }\n",
              "    80% {\n",
              "      border-color: transparent;\n",
              "      border-right-color: var(--fill-color);\n",
              "      border-bottom-color: var(--fill-color);\n",
              "    }\n",
              "    90% {\n",
              "      border-color: transparent;\n",
              "      border-bottom-color: var(--fill-color);\n",
              "    }\n",
              "  }\n",
              "</style>\n",
              "\n",
              "  <script>\n",
              "    async function quickchart(key) {\n",
              "      const quickchartButtonEl =\n",
              "        document.querySelector('#' + key + ' button');\n",
              "      quickchartButtonEl.disabled = true;  // To prevent multiple clicks.\n",
              "      quickchartButtonEl.classList.add('colab-df-spinner');\n",
              "      try {\n",
              "        const charts = await google.colab.kernel.invokeFunction(\n",
              "            'suggestCharts', [key], {});\n",
              "      } catch (error) {\n",
              "        console.error('Error during call to suggestCharts:', error);\n",
              "      }\n",
              "      quickchartButtonEl.classList.remove('colab-df-spinner');\n",
              "      quickchartButtonEl.classList.add('colab-df-quickchart-complete');\n",
              "    }\n",
              "    (() => {\n",
              "      let quickchartButtonEl =\n",
              "        document.querySelector('#df-46dd5b47-d6df-45af-b077-c90ea4282977 button');\n",
              "      quickchartButtonEl.style.display =\n",
              "        google.colab.kernel.accessAllowed ? 'block' : 'none';\n",
              "    })();\n",
              "  </script>\n",
              "</div>\n",
              "\n",
              "    </div>\n",
              "  </div>\n"
            ],
            "application/vnd.google.colaboratory.intrinsic+json": {
              "type": "dataframe",
              "variable_name": "nonciting_dataset_df",
              "summary": "{\n  \"name\": \"nonciting_dataset_df\",\n  \"rows\": 16837,\n  \"fields\": [\n    {\n      \"column\": \"Application_Number\",\n      \"properties\": {\n        \"dtype\": \"string\",\n        \"num_unique_values\": 16807,\n        \"samples\": [\n          \"2525597\",\n          \"3168137\",\n          \"3338596\"\n        ],\n        \"semantic_type\": \"\",\n        \"description\": \"\"\n      }\n    },\n    {\n      \"column\": \"Application_Date\",\n      \"properties\": {\n        \"dtype\": \"object\",\n        \"num_unique_values\": 539,\n        \"samples\": [\n          \"2014-12-31\",\n          \"2013-03-06\",\n          \"2017-11-15\"\n        ],\n        \"semantic_type\": \"\",\n        \"description\": \"\"\n      }\n    },\n    {\n      \"column\": \"Application_Category\",\n      \"properties\": {\n        \"dtype\": \"category\",\n        \"num_unique_values\": 6,\n        \"samples\": [\n          \"B1\",\n          \"A2\",\n          \"B3\"\n        ],\n        \"semantic_type\": \"\",\n        \"description\": \"\"\n      }\n    },\n    {\n      \"column\": \"Content\",\n      \"properties\": {\n        \"dtype\": \"object\",\n        \"semantic_type\": \"\",\n        \"description\": \"\"\n      }\n    }\n  ]\n}"
            }
          },
          "metadata": {},
          "execution_count": 20
        }
      ],
      "execution_count": null
    },
    {
      "cell_type": "code",
      "source": [
        "mapping_dataset_df.head()"
      ],
      "metadata": {
        "id": "z9cxP0eWzyNt",
        "trusted": true,
        "execution": {
          "execution_failed": "2025-04-09T01:00:36.698Z"
        },
        "colab": {
          "base_uri": "https://localhost:8080/",
          "height": 206
        },
        "outputId": "084a1ff3-3947-428f-9c15-cda5473670dc"
      },
      "outputs": [
        {
          "output_type": "execute_result",
          "data": {
            "text/plain": [
              "           0                                                  1          2  \\\n",
              "0  3712070A1                                        [c-en-0004]  3354576A1   \n",
              "1  3675165A1  [c-en-0001, c-en-0002, c-en-0003, c-en-0004, c...  3336831A2   \n",
              "2  3599626A1  [c-en-0002, c-en-0003, c-en-0004, c-en-0005, c...  2453448A1   \n",
              "3  3705201A1  [c-en-0001, c-en-0002, c-en-0004, c-en-0006, c...  2468433A2   \n",
              "4  3628210A1  [c-en-0001, c-en-0002, c-en-0003, c-en-0004, c...  3369366A1   \n",
              "\n",
              "                                                   3  4  \n",
              "0               [p0024, p0027, c-en-0012, c-en-0013]  A  \n",
              "1  [p0045, p0046, p0047, p0048, p0049, p0050, p00...  A  \n",
              "2                                     [p0029, p0030]  A  \n",
              "3  [p0011, p0012, p0013, p0014, p0015, p0016, p00...  X  \n",
              "4                                             [pa01]  A  "
            ],
            "text/html": [
              "\n",
              "  <div id=\"df-c05f322b-9aa7-4012-a316-02e59f21cb6d\" class=\"colab-df-container\">\n",
              "    <div>\n",
              "<style scoped>\n",
              "    .dataframe tbody tr th:only-of-type {\n",
              "        vertical-align: middle;\n",
              "    }\n",
              "\n",
              "    .dataframe tbody tr th {\n",
              "        vertical-align: top;\n",
              "    }\n",
              "\n",
              "    .dataframe thead th {\n",
              "        text-align: right;\n",
              "    }\n",
              "</style>\n",
              "<table border=\"1\" class=\"dataframe\">\n",
              "  <thead>\n",
              "    <tr style=\"text-align: right;\">\n",
              "      <th></th>\n",
              "      <th>0</th>\n",
              "      <th>1</th>\n",
              "      <th>2</th>\n",
              "      <th>3</th>\n",
              "      <th>4</th>\n",
              "    </tr>\n",
              "  </thead>\n",
              "  <tbody>\n",
              "    <tr>\n",
              "      <th>0</th>\n",
              "      <td>3712070A1</td>\n",
              "      <td>[c-en-0004]</td>\n",
              "      <td>3354576A1</td>\n",
              "      <td>[p0024, p0027, c-en-0012, c-en-0013]</td>\n",
              "      <td>A</td>\n",
              "    </tr>\n",
              "    <tr>\n",
              "      <th>1</th>\n",
              "      <td>3675165A1</td>\n",
              "      <td>[c-en-0001, c-en-0002, c-en-0003, c-en-0004, c...</td>\n",
              "      <td>3336831A2</td>\n",
              "      <td>[p0045, p0046, p0047, p0048, p0049, p0050, p00...</td>\n",
              "      <td>A</td>\n",
              "    </tr>\n",
              "    <tr>\n",
              "      <th>2</th>\n",
              "      <td>3599626A1</td>\n",
              "      <td>[c-en-0002, c-en-0003, c-en-0004, c-en-0005, c...</td>\n",
              "      <td>2453448A1</td>\n",
              "      <td>[p0029, p0030]</td>\n",
              "      <td>A</td>\n",
              "    </tr>\n",
              "    <tr>\n",
              "      <th>3</th>\n",
              "      <td>3705201A1</td>\n",
              "      <td>[c-en-0001, c-en-0002, c-en-0004, c-en-0006, c...</td>\n",
              "      <td>2468433A2</td>\n",
              "      <td>[p0011, p0012, p0013, p0014, p0015, p0016, p00...</td>\n",
              "      <td>X</td>\n",
              "    </tr>\n",
              "    <tr>\n",
              "      <th>4</th>\n",
              "      <td>3628210A1</td>\n",
              "      <td>[c-en-0001, c-en-0002, c-en-0003, c-en-0004, c...</td>\n",
              "      <td>3369366A1</td>\n",
              "      <td>[pa01]</td>\n",
              "      <td>A</td>\n",
              "    </tr>\n",
              "  </tbody>\n",
              "</table>\n",
              "</div>\n",
              "    <div class=\"colab-df-buttons\">\n",
              "\n",
              "  <div class=\"colab-df-container\">\n",
              "    <button class=\"colab-df-convert\" onclick=\"convertToInteractive('df-c05f322b-9aa7-4012-a316-02e59f21cb6d')\"\n",
              "            title=\"Convert this dataframe to an interactive table.\"\n",
              "            style=\"display:none;\">\n",
              "\n",
              "  <svg xmlns=\"http://www.w3.org/2000/svg\" height=\"24px\" viewBox=\"0 -960 960 960\">\n",
              "    <path d=\"M120-120v-720h720v720H120Zm60-500h600v-160H180v160Zm220 220h160v-160H400v160Zm0 220h160v-160H400v160ZM180-400h160v-160H180v160Zm440 0h160v-160H620v160ZM180-180h160v-160H180v160Zm440 0h160v-160H620v160Z\"/>\n",
              "  </svg>\n",
              "    </button>\n",
              "\n",
              "  <style>\n",
              "    .colab-df-container {\n",
              "      display:flex;\n",
              "      gap: 12px;\n",
              "    }\n",
              "\n",
              "    .colab-df-convert {\n",
              "      background-color: #E8F0FE;\n",
              "      border: none;\n",
              "      border-radius: 50%;\n",
              "      cursor: pointer;\n",
              "      display: none;\n",
              "      fill: #1967D2;\n",
              "      height: 32px;\n",
              "      padding: 0 0 0 0;\n",
              "      width: 32px;\n",
              "    }\n",
              "\n",
              "    .colab-df-convert:hover {\n",
              "      background-color: #E2EBFA;\n",
              "      box-shadow: 0px 1px 2px rgba(60, 64, 67, 0.3), 0px 1px 3px 1px rgba(60, 64, 67, 0.15);\n",
              "      fill: #174EA6;\n",
              "    }\n",
              "\n",
              "    .colab-df-buttons div {\n",
              "      margin-bottom: 4px;\n",
              "    }\n",
              "\n",
              "    [theme=dark] .colab-df-convert {\n",
              "      background-color: #3B4455;\n",
              "      fill: #D2E3FC;\n",
              "    }\n",
              "\n",
              "    [theme=dark] .colab-df-convert:hover {\n",
              "      background-color: #434B5C;\n",
              "      box-shadow: 0px 1px 3px 1px rgba(0, 0, 0, 0.15);\n",
              "      filter: drop-shadow(0px 1px 2px rgba(0, 0, 0, 0.3));\n",
              "      fill: #FFFFFF;\n",
              "    }\n",
              "  </style>\n",
              "\n",
              "    <script>\n",
              "      const buttonEl =\n",
              "        document.querySelector('#df-c05f322b-9aa7-4012-a316-02e59f21cb6d button.colab-df-convert');\n",
              "      buttonEl.style.display =\n",
              "        google.colab.kernel.accessAllowed ? 'block' : 'none';\n",
              "\n",
              "      async function convertToInteractive(key) {\n",
              "        const element = document.querySelector('#df-c05f322b-9aa7-4012-a316-02e59f21cb6d');\n",
              "        const dataTable =\n",
              "          await google.colab.kernel.invokeFunction('convertToInteractive',\n",
              "                                                    [key], {});\n",
              "        if (!dataTable) return;\n",
              "\n",
              "        const docLinkHtml = 'Like what you see? Visit the ' +\n",
              "          '<a target=\"_blank\" href=https://colab.research.google.com/notebooks/data_table.ipynb>data table notebook</a>'\n",
              "          + ' to learn more about interactive tables.';\n",
              "        element.innerHTML = '';\n",
              "        dataTable['output_type'] = 'display_data';\n",
              "        await google.colab.output.renderOutput(dataTable, element);\n",
              "        const docLink = document.createElement('div');\n",
              "        docLink.innerHTML = docLinkHtml;\n",
              "        element.appendChild(docLink);\n",
              "      }\n",
              "    </script>\n",
              "  </div>\n",
              "\n",
              "\n",
              "<div id=\"df-a9cb4f9c-aa01-4e41-9e03-60b170b31714\">\n",
              "  <button class=\"colab-df-quickchart\" onclick=\"quickchart('df-a9cb4f9c-aa01-4e41-9e03-60b170b31714')\"\n",
              "            title=\"Suggest charts\"\n",
              "            style=\"display:none;\">\n",
              "\n",
              "<svg xmlns=\"http://www.w3.org/2000/svg\" height=\"24px\"viewBox=\"0 0 24 24\"\n",
              "     width=\"24px\">\n",
              "    <g>\n",
              "        <path d=\"M19 3H5c-1.1 0-2 .9-2 2v14c0 1.1.9 2 2 2h14c1.1 0 2-.9 2-2V5c0-1.1-.9-2-2-2zM9 17H7v-7h2v7zm4 0h-2V7h2v10zm4 0h-2v-4h2v4z\"/>\n",
              "    </g>\n",
              "</svg>\n",
              "  </button>\n",
              "\n",
              "<style>\n",
              "  .colab-df-quickchart {\n",
              "      --bg-color: #E8F0FE;\n",
              "      --fill-color: #1967D2;\n",
              "      --hover-bg-color: #E2EBFA;\n",
              "      --hover-fill-color: #174EA6;\n",
              "      --disabled-fill-color: #AAA;\n",
              "      --disabled-bg-color: #DDD;\n",
              "  }\n",
              "\n",
              "  [theme=dark] .colab-df-quickchart {\n",
              "      --bg-color: #3B4455;\n",
              "      --fill-color: #D2E3FC;\n",
              "      --hover-bg-color: #434B5C;\n",
              "      --hover-fill-color: #FFFFFF;\n",
              "      --disabled-bg-color: #3B4455;\n",
              "      --disabled-fill-color: #666;\n",
              "  }\n",
              "\n",
              "  .colab-df-quickchart {\n",
              "    background-color: var(--bg-color);\n",
              "    border: none;\n",
              "    border-radius: 50%;\n",
              "    cursor: pointer;\n",
              "    display: none;\n",
              "    fill: var(--fill-color);\n",
              "    height: 32px;\n",
              "    padding: 0;\n",
              "    width: 32px;\n",
              "  }\n",
              "\n",
              "  .colab-df-quickchart:hover {\n",
              "    background-color: var(--hover-bg-color);\n",
              "    box-shadow: 0 1px 2px rgba(60, 64, 67, 0.3), 0 1px 3px 1px rgba(60, 64, 67, 0.15);\n",
              "    fill: var(--button-hover-fill-color);\n",
              "  }\n",
              "\n",
              "  .colab-df-quickchart-complete:disabled,\n",
              "  .colab-df-quickchart-complete:disabled:hover {\n",
              "    background-color: var(--disabled-bg-color);\n",
              "    fill: var(--disabled-fill-color);\n",
              "    box-shadow: none;\n",
              "  }\n",
              "\n",
              "  .colab-df-spinner {\n",
              "    border: 2px solid var(--fill-color);\n",
              "    border-color: transparent;\n",
              "    border-bottom-color: var(--fill-color);\n",
              "    animation:\n",
              "      spin 1s steps(1) infinite;\n",
              "  }\n",
              "\n",
              "  @keyframes spin {\n",
              "    0% {\n",
              "      border-color: transparent;\n",
              "      border-bottom-color: var(--fill-color);\n",
              "      border-left-color: var(--fill-color);\n",
              "    }\n",
              "    20% {\n",
              "      border-color: transparent;\n",
              "      border-left-color: var(--fill-color);\n",
              "      border-top-color: var(--fill-color);\n",
              "    }\n",
              "    30% {\n",
              "      border-color: transparent;\n",
              "      border-left-color: var(--fill-color);\n",
              "      border-top-color: var(--fill-color);\n",
              "      border-right-color: var(--fill-color);\n",
              "    }\n",
              "    40% {\n",
              "      border-color: transparent;\n",
              "      border-right-color: var(--fill-color);\n",
              "      border-top-color: var(--fill-color);\n",
              "    }\n",
              "    60% {\n",
              "      border-color: transparent;\n",
              "      border-right-color: var(--fill-color);\n",
              "    }\n",
              "    80% {\n",
              "      border-color: transparent;\n",
              "      border-right-color: var(--fill-color);\n",
              "      border-bottom-color: var(--fill-color);\n",
              "    }\n",
              "    90% {\n",
              "      border-color: transparent;\n",
              "      border-bottom-color: var(--fill-color);\n",
              "    }\n",
              "  }\n",
              "</style>\n",
              "\n",
              "  <script>\n",
              "    async function quickchart(key) {\n",
              "      const quickchartButtonEl =\n",
              "        document.querySelector('#' + key + ' button');\n",
              "      quickchartButtonEl.disabled = true;  // To prevent multiple clicks.\n",
              "      quickchartButtonEl.classList.add('colab-df-spinner');\n",
              "      try {\n",
              "        const charts = await google.colab.kernel.invokeFunction(\n",
              "            'suggestCharts', [key], {});\n",
              "      } catch (error) {\n",
              "        console.error('Error during call to suggestCharts:', error);\n",
              "      }\n",
              "      quickchartButtonEl.classList.remove('colab-df-spinner');\n",
              "      quickchartButtonEl.classList.add('colab-df-quickchart-complete');\n",
              "    }\n",
              "    (() => {\n",
              "      let quickchartButtonEl =\n",
              "        document.querySelector('#df-a9cb4f9c-aa01-4e41-9e03-60b170b31714 button');\n",
              "      quickchartButtonEl.style.display =\n",
              "        google.colab.kernel.accessAllowed ? 'block' : 'none';\n",
              "    })();\n",
              "  </script>\n",
              "</div>\n",
              "\n",
              "    </div>\n",
              "  </div>\n"
            ],
            "application/vnd.google.colaboratory.intrinsic+json": {
              "type": "dataframe",
              "variable_name": "mapping_dataset_df",
              "summary": "{\n  \"name\": \"mapping_dataset_df\",\n  \"rows\": 8594,\n  \"fields\": [\n    {\n      \"column\": 0,\n      \"properties\": {\n        \"dtype\": \"string\",\n        \"num_unique_values\": 6831,\n        \"samples\": [\n          \"3617550A1\",\n          \"3669713A1\",\n          \"3671039A1\"\n        ],\n        \"semantic_type\": \"\",\n        \"description\": \"\"\n      }\n    },\n    {\n      \"column\": 1,\n      \"properties\": {\n        \"dtype\": \"object\",\n        \"semantic_type\": \"\",\n        \"description\": \"\"\n      }\n    },\n    {\n      \"column\": 2,\n      \"properties\": {\n        \"dtype\": \"string\",\n        \"num_unique_values\": 7754,\n        \"samples\": [\n          \"2223836A1\",\n          \"2835589A2\",\n          \"3269535A1\"\n        ],\n        \"semantic_type\": \"\",\n        \"description\": \"\"\n      }\n    },\n    {\n      \"column\": 3,\n      \"properties\": {\n        \"dtype\": \"object\",\n        \"semantic_type\": \"\",\n        \"description\": \"\"\n      }\n    },\n    {\n      \"column\": 4,\n      \"properties\": {\n        \"dtype\": \"category\",\n        \"num_unique_values\": 2,\n        \"samples\": [\n          \"X\",\n          \"A\"\n        ],\n        \"semantic_type\": \"\",\n        \"description\": \"\"\n      }\n    }\n  ]\n}"
            }
          },
          "metadata": {},
          "execution_count": 21
        }
      ],
      "execution_count": null
    },
    {
      "cell_type": "code",
      "source": [
        "mapping_dict = get_mapping_dict(mapping_dataset_df)\n",
        "# mapping_dict"
      ],
      "metadata": {
        "id": "bVfJZ_1rzyNu",
        "trusted": true,
        "execution": {
          "iopub.status.busy": "2025-04-08T23:29:21.485251Z",
          "iopub.execute_input": "2025-04-08T23:29:21.485598Z",
          "iopub.status.idle": "2025-04-08T23:29:21.796036Z",
          "shell.execute_reply.started": "2025-04-08T23:29:21.485573Z",
          "shell.execute_reply": "2025-04-08T23:29:21.794608Z"
        }
      },
      "outputs": [],
      "execution_count": null
    },
    {
      "cell_type": "code",
      "source": [
        "# Saving mapping dict in the file\n",
        "with open('mapping_dict.json', 'w') as f:\n",
        "    json.dump(mapping_dict, f)\n"
      ],
      "metadata": {
        "id": "ctchZ4wFE_EO"
      },
      "execution_count": null,
      "outputs": []
    },
    {
      "cell_type": "code",
      "source": [
        "#import ast\n",
        "#nonciting_dataset_df['all_content'] = nonciting_dataset_df['Content'].apply(ast.literal_eval)"
      ],
      "metadata": {
        "id": "Mvm1hC6xzyNu",
        "trusted": true,
        "execution": {
          "execution_failed": "2025-04-09T01:00:36.699Z"
        }
      },
      "outputs": [],
      "execution_count": null
    },
    {
      "cell_type": "markdown",
      "source": [
        "## 1.1 Take a look at the content"
      ],
      "metadata": {
        "id": "65jWGvPrzyNv"
      }
    },
    {
      "cell_type": "markdown",
      "source": [
        "## 1.2 Create a column with the Title"
      ],
      "metadata": {
        "id": "mDAiPap5zyNv"
      }
    },
    {
      "cell_type": "markdown",
      "source": [
        "Note for lateR: Try all text content by uncommenting the below"
      ],
      "metadata": {
        "id": "NpEjnqaozyNv"
      }
    },
    {
      "cell_type": "code",
      "source": [
        "def extract_title(dictionary):\n",
        "    return dictionary.get('title', None)  # Return None if 'title' key is not present\n",
        "\n",
        "nonciting_dataset_df['Title'] = nonciting_dataset_df['Content'].apply(extract_title)\n",
        "citing_dataset_df['Title'] = citing_dataset_df['Content'].apply(extract_title)\n",
        "\n",
        "nonciting_dataset_df.head()"
      ],
      "metadata": {
        "id": "wWxYn71BzyNv",
        "outputId": "7d7bb53a-1949-43f3-d494-67813a9b8668",
        "trusted": true,
        "execution": {
          "iopub.status.busy": "2025-04-08T23:29:21.797075Z",
          "iopub.execute_input": "2025-04-08T23:29:21.797449Z",
          "iopub.status.idle": "2025-04-08T23:29:21.825701Z",
          "shell.execute_reply.started": "2025-04-08T23:29:21.797422Z",
          "shell.execute_reply": "2025-04-08T23:29:21.824838Z"
        },
        "colab": {
          "base_uri": "https://localhost:8080/",
          "height": 206
        }
      },
      "outputs": [
        {
          "output_type": "execute_result",
          "data": {
            "text/plain": [
              "  Application_Number Application_Date Application_Category  \\\n",
              "0            2019772       2013-08-28                   B1   \n",
              "1            2136094       2013-05-22                   B1   \n",
              "2            2340701       2011-07-06                   A2   \n",
              "3            2338661       2011-06-29                   A1   \n",
              "4            2339144       2011-06-29                   A2   \n",
              "\n",
              "                                             Content  \\\n",
              "0  {'title': 'VEHICLE WITH LOCKABLE TILT SYSTEM',...   \n",
              "1  {'title': 'UNIVERSAL JOINT', 'c-en-0001': 'A u...   \n",
              "2  {'title': 'Apparatus, method and computer prog...   \n",
              "3  {'title': 'Method and apparatus for forming a ...   \n",
              "4  {'title': 'Heat exchanger mounting assembly in...   \n",
              "\n",
              "                                               Title  \n",
              "0                  VEHICLE WITH LOCKABLE TILT SYSTEM  \n",
              "1                                    UNIVERSAL JOINT  \n",
              "2  Apparatus, method and computer program product...  \n",
              "3  Method and apparatus for forming a rubber article  \n",
              "4  Heat exchanger mounting assembly in a gas turbine  "
            ],
            "text/html": [
              "\n",
              "  <div id=\"df-d7be1164-c23d-4579-99e6-5ff950a8aef2\" class=\"colab-df-container\">\n",
              "    <div>\n",
              "<style scoped>\n",
              "    .dataframe tbody tr th:only-of-type {\n",
              "        vertical-align: middle;\n",
              "    }\n",
              "\n",
              "    .dataframe tbody tr th {\n",
              "        vertical-align: top;\n",
              "    }\n",
              "\n",
              "    .dataframe thead th {\n",
              "        text-align: right;\n",
              "    }\n",
              "</style>\n",
              "<table border=\"1\" class=\"dataframe\">\n",
              "  <thead>\n",
              "    <tr style=\"text-align: right;\">\n",
              "      <th></th>\n",
              "      <th>Application_Number</th>\n",
              "      <th>Application_Date</th>\n",
              "      <th>Application_Category</th>\n",
              "      <th>Content</th>\n",
              "      <th>Title</th>\n",
              "    </tr>\n",
              "  </thead>\n",
              "  <tbody>\n",
              "    <tr>\n",
              "      <th>0</th>\n",
              "      <td>2019772</td>\n",
              "      <td>2013-08-28</td>\n",
              "      <td>B1</td>\n",
              "      <td>{'title': 'VEHICLE WITH LOCKABLE TILT SYSTEM',...</td>\n",
              "      <td>VEHICLE WITH LOCKABLE TILT SYSTEM</td>\n",
              "    </tr>\n",
              "    <tr>\n",
              "      <th>1</th>\n",
              "      <td>2136094</td>\n",
              "      <td>2013-05-22</td>\n",
              "      <td>B1</td>\n",
              "      <td>{'title': 'UNIVERSAL JOINT', 'c-en-0001': 'A u...</td>\n",
              "      <td>UNIVERSAL JOINT</td>\n",
              "    </tr>\n",
              "    <tr>\n",
              "      <th>2</th>\n",
              "      <td>2340701</td>\n",
              "      <td>2011-07-06</td>\n",
              "      <td>A2</td>\n",
              "      <td>{'title': 'Apparatus, method and computer prog...</td>\n",
              "      <td>Apparatus, method and computer program product...</td>\n",
              "    </tr>\n",
              "    <tr>\n",
              "      <th>3</th>\n",
              "      <td>2338661</td>\n",
              "      <td>2011-06-29</td>\n",
              "      <td>A1</td>\n",
              "      <td>{'title': 'Method and apparatus for forming a ...</td>\n",
              "      <td>Method and apparatus for forming a rubber article</td>\n",
              "    </tr>\n",
              "    <tr>\n",
              "      <th>4</th>\n",
              "      <td>2339144</td>\n",
              "      <td>2011-06-29</td>\n",
              "      <td>A2</td>\n",
              "      <td>{'title': 'Heat exchanger mounting assembly in...</td>\n",
              "      <td>Heat exchanger mounting assembly in a gas turbine</td>\n",
              "    </tr>\n",
              "  </tbody>\n",
              "</table>\n",
              "</div>\n",
              "    <div class=\"colab-df-buttons\">\n",
              "\n",
              "  <div class=\"colab-df-container\">\n",
              "    <button class=\"colab-df-convert\" onclick=\"convertToInteractive('df-d7be1164-c23d-4579-99e6-5ff950a8aef2')\"\n",
              "            title=\"Convert this dataframe to an interactive table.\"\n",
              "            style=\"display:none;\">\n",
              "\n",
              "  <svg xmlns=\"http://www.w3.org/2000/svg\" height=\"24px\" viewBox=\"0 -960 960 960\">\n",
              "    <path d=\"M120-120v-720h720v720H120Zm60-500h600v-160H180v160Zm220 220h160v-160H400v160Zm0 220h160v-160H400v160ZM180-400h160v-160H180v160Zm440 0h160v-160H620v160ZM180-180h160v-160H180v160Zm440 0h160v-160H620v160Z\"/>\n",
              "  </svg>\n",
              "    </button>\n",
              "\n",
              "  <style>\n",
              "    .colab-df-container {\n",
              "      display:flex;\n",
              "      gap: 12px;\n",
              "    }\n",
              "\n",
              "    .colab-df-convert {\n",
              "      background-color: #E8F0FE;\n",
              "      border: none;\n",
              "      border-radius: 50%;\n",
              "      cursor: pointer;\n",
              "      display: none;\n",
              "      fill: #1967D2;\n",
              "      height: 32px;\n",
              "      padding: 0 0 0 0;\n",
              "      width: 32px;\n",
              "    }\n",
              "\n",
              "    .colab-df-convert:hover {\n",
              "      background-color: #E2EBFA;\n",
              "      box-shadow: 0px 1px 2px rgba(60, 64, 67, 0.3), 0px 1px 3px 1px rgba(60, 64, 67, 0.15);\n",
              "      fill: #174EA6;\n",
              "    }\n",
              "\n",
              "    .colab-df-buttons div {\n",
              "      margin-bottom: 4px;\n",
              "    }\n",
              "\n",
              "    [theme=dark] .colab-df-convert {\n",
              "      background-color: #3B4455;\n",
              "      fill: #D2E3FC;\n",
              "    }\n",
              "\n",
              "    [theme=dark] .colab-df-convert:hover {\n",
              "      background-color: #434B5C;\n",
              "      box-shadow: 0px 1px 3px 1px rgba(0, 0, 0, 0.15);\n",
              "      filter: drop-shadow(0px 1px 2px rgba(0, 0, 0, 0.3));\n",
              "      fill: #FFFFFF;\n",
              "    }\n",
              "  </style>\n",
              "\n",
              "    <script>\n",
              "      const buttonEl =\n",
              "        document.querySelector('#df-d7be1164-c23d-4579-99e6-5ff950a8aef2 button.colab-df-convert');\n",
              "      buttonEl.style.display =\n",
              "        google.colab.kernel.accessAllowed ? 'block' : 'none';\n",
              "\n",
              "      async function convertToInteractive(key) {\n",
              "        const element = document.querySelector('#df-d7be1164-c23d-4579-99e6-5ff950a8aef2');\n",
              "        const dataTable =\n",
              "          await google.colab.kernel.invokeFunction('convertToInteractive',\n",
              "                                                    [key], {});\n",
              "        if (!dataTable) return;\n",
              "\n",
              "        const docLinkHtml = 'Like what you see? Visit the ' +\n",
              "          '<a target=\"_blank\" href=https://colab.research.google.com/notebooks/data_table.ipynb>data table notebook</a>'\n",
              "          + ' to learn more about interactive tables.';\n",
              "        element.innerHTML = '';\n",
              "        dataTable['output_type'] = 'display_data';\n",
              "        await google.colab.output.renderOutput(dataTable, element);\n",
              "        const docLink = document.createElement('div');\n",
              "        docLink.innerHTML = docLinkHtml;\n",
              "        element.appendChild(docLink);\n",
              "      }\n",
              "    </script>\n",
              "  </div>\n",
              "\n",
              "\n",
              "<div id=\"df-e4ac9611-440b-4d6b-a2ff-c3c59ae98c5c\">\n",
              "  <button class=\"colab-df-quickchart\" onclick=\"quickchart('df-e4ac9611-440b-4d6b-a2ff-c3c59ae98c5c')\"\n",
              "            title=\"Suggest charts\"\n",
              "            style=\"display:none;\">\n",
              "\n",
              "<svg xmlns=\"http://www.w3.org/2000/svg\" height=\"24px\"viewBox=\"0 0 24 24\"\n",
              "     width=\"24px\">\n",
              "    <g>\n",
              "        <path d=\"M19 3H5c-1.1 0-2 .9-2 2v14c0 1.1.9 2 2 2h14c1.1 0 2-.9 2-2V5c0-1.1-.9-2-2-2zM9 17H7v-7h2v7zm4 0h-2V7h2v10zm4 0h-2v-4h2v4z\"/>\n",
              "    </g>\n",
              "</svg>\n",
              "  </button>\n",
              "\n",
              "<style>\n",
              "  .colab-df-quickchart {\n",
              "      --bg-color: #E8F0FE;\n",
              "      --fill-color: #1967D2;\n",
              "      --hover-bg-color: #E2EBFA;\n",
              "      --hover-fill-color: #174EA6;\n",
              "      --disabled-fill-color: #AAA;\n",
              "      --disabled-bg-color: #DDD;\n",
              "  }\n",
              "\n",
              "  [theme=dark] .colab-df-quickchart {\n",
              "      --bg-color: #3B4455;\n",
              "      --fill-color: #D2E3FC;\n",
              "      --hover-bg-color: #434B5C;\n",
              "      --hover-fill-color: #FFFFFF;\n",
              "      --disabled-bg-color: #3B4455;\n",
              "      --disabled-fill-color: #666;\n",
              "  }\n",
              "\n",
              "  .colab-df-quickchart {\n",
              "    background-color: var(--bg-color);\n",
              "    border: none;\n",
              "    border-radius: 50%;\n",
              "    cursor: pointer;\n",
              "    display: none;\n",
              "    fill: var(--fill-color);\n",
              "    height: 32px;\n",
              "    padding: 0;\n",
              "    width: 32px;\n",
              "  }\n",
              "\n",
              "  .colab-df-quickchart:hover {\n",
              "    background-color: var(--hover-bg-color);\n",
              "    box-shadow: 0 1px 2px rgba(60, 64, 67, 0.3), 0 1px 3px 1px rgba(60, 64, 67, 0.15);\n",
              "    fill: var(--button-hover-fill-color);\n",
              "  }\n",
              "\n",
              "  .colab-df-quickchart-complete:disabled,\n",
              "  .colab-df-quickchart-complete:disabled:hover {\n",
              "    background-color: var(--disabled-bg-color);\n",
              "    fill: var(--disabled-fill-color);\n",
              "    box-shadow: none;\n",
              "  }\n",
              "\n",
              "  .colab-df-spinner {\n",
              "    border: 2px solid var(--fill-color);\n",
              "    border-color: transparent;\n",
              "    border-bottom-color: var(--fill-color);\n",
              "    animation:\n",
              "      spin 1s steps(1) infinite;\n",
              "  }\n",
              "\n",
              "  @keyframes spin {\n",
              "    0% {\n",
              "      border-color: transparent;\n",
              "      border-bottom-color: var(--fill-color);\n",
              "      border-left-color: var(--fill-color);\n",
              "    }\n",
              "    20% {\n",
              "      border-color: transparent;\n",
              "      border-left-color: var(--fill-color);\n",
              "      border-top-color: var(--fill-color);\n",
              "    }\n",
              "    30% {\n",
              "      border-color: transparent;\n",
              "      border-left-color: var(--fill-color);\n",
              "      border-top-color: var(--fill-color);\n",
              "      border-right-color: var(--fill-color);\n",
              "    }\n",
              "    40% {\n",
              "      border-color: transparent;\n",
              "      border-right-color: var(--fill-color);\n",
              "      border-top-color: var(--fill-color);\n",
              "    }\n",
              "    60% {\n",
              "      border-color: transparent;\n",
              "      border-right-color: var(--fill-color);\n",
              "    }\n",
              "    80% {\n",
              "      border-color: transparent;\n",
              "      border-right-color: var(--fill-color);\n",
              "      border-bottom-color: var(--fill-color);\n",
              "    }\n",
              "    90% {\n",
              "      border-color: transparent;\n",
              "      border-bottom-color: var(--fill-color);\n",
              "    }\n",
              "  }\n",
              "</style>\n",
              "\n",
              "  <script>\n",
              "    async function quickchart(key) {\n",
              "      const quickchartButtonEl =\n",
              "        document.querySelector('#' + key + ' button');\n",
              "      quickchartButtonEl.disabled = true;  // To prevent multiple clicks.\n",
              "      quickchartButtonEl.classList.add('colab-df-spinner');\n",
              "      try {\n",
              "        const charts = await google.colab.kernel.invokeFunction(\n",
              "            'suggestCharts', [key], {});\n",
              "      } catch (error) {\n",
              "        console.error('Error during call to suggestCharts:', error);\n",
              "      }\n",
              "      quickchartButtonEl.classList.remove('colab-df-spinner');\n",
              "      quickchartButtonEl.classList.add('colab-df-quickchart-complete');\n",
              "    }\n",
              "    (() => {\n",
              "      let quickchartButtonEl =\n",
              "        document.querySelector('#df-e4ac9611-440b-4d6b-a2ff-c3c59ae98c5c button');\n",
              "      quickchartButtonEl.style.display =\n",
              "        google.colab.kernel.accessAllowed ? 'block' : 'none';\n",
              "    })();\n",
              "  </script>\n",
              "</div>\n",
              "\n",
              "    </div>\n",
              "  </div>\n"
            ],
            "application/vnd.google.colaboratory.intrinsic+json": {
              "type": "dataframe",
              "variable_name": "nonciting_dataset_df",
              "summary": "{\n  \"name\": \"nonciting_dataset_df\",\n  \"rows\": 16837,\n  \"fields\": [\n    {\n      \"column\": \"Application_Number\",\n      \"properties\": {\n        \"dtype\": \"string\",\n        \"num_unique_values\": 16807,\n        \"samples\": [\n          \"2525597\",\n          \"3168137\",\n          \"3338596\"\n        ],\n        \"semantic_type\": \"\",\n        \"description\": \"\"\n      }\n    },\n    {\n      \"column\": \"Application_Date\",\n      \"properties\": {\n        \"dtype\": \"object\",\n        \"num_unique_values\": 539,\n        \"samples\": [\n          \"2014-12-31\",\n          \"2013-03-06\",\n          \"2017-11-15\"\n        ],\n        \"semantic_type\": \"\",\n        \"description\": \"\"\n      }\n    },\n    {\n      \"column\": \"Application_Category\",\n      \"properties\": {\n        \"dtype\": \"category\",\n        \"num_unique_values\": 6,\n        \"samples\": [\n          \"B1\",\n          \"A2\",\n          \"B3\"\n        ],\n        \"semantic_type\": \"\",\n        \"description\": \"\"\n      }\n    },\n    {\n      \"column\": \"Content\",\n      \"properties\": {\n        \"dtype\": \"object\",\n        \"semantic_type\": \"\",\n        \"description\": \"\"\n      }\n    },\n    {\n      \"column\": \"Title\",\n      \"properties\": {\n        \"dtype\": \"string\",\n        \"num_unique_values\": 16168,\n        \"samples\": [\n          \"IMPACT RELIEVING DEVICE\",\n          \"THERMAL COOLING INTERFACE FOR ELECTRICAL JOINTS\",\n          \"ENVIRONMENT-FRIENDLY, CUSHIONING AND WELL-WRAPPING POPCORN BRIDGING SHOES AND PRODUCTION PROCESS THEREOF\"\n        ],\n        \"semantic_type\": \"\",\n        \"description\": \"\"\n      }\n    }\n  ]\n}"
            }
          },
          "metadata": {},
          "execution_count": 37
        }
      ],
      "execution_count": null
    },
    {
      "cell_type": "markdown",
      "source": [
        "\n",
        "# 2.0 sBert"
      ],
      "metadata": {
        "id": "MquWI6CoXRUg"
      }
    },
    {
      "cell_type": "code",
      "source": [
        "import torch\n",
        "\n",
        "# Check if CUDA is available\n",
        "if torch.cuda.is_available():\n",
        "    device = torch.device(\"cuda\")\n",
        "    print(\"Using CUDA device:\", torch.cuda.get_device_name(0))\n",
        "else:\n",
        "    device = torch.device(\"cpu\")\n",
        "    print(\"CUDA is not available, using CPU.\")"
      ],
      "metadata": {
        "colab": {
          "base_uri": "https://localhost:8080/"
        },
        "id": "310s3CT33SEb",
        "outputId": "5059a3fb-4eab-46a8-e905-de7775e417f7"
      },
      "execution_count": null,
      "outputs": [
        {
          "output_type": "stream",
          "name": "stdout",
          "text": [
            "Using CUDA device: Tesla T4\n"
          ]
        }
      ]
    },
    {
      "cell_type": "code",
      "source": [
        "model = SentenceTransformer('all-MiniLM-L6-v2').to(device)"
      ],
      "metadata": {
        "id": "UaCMaPFhnHES",
        "trusted": true,
        "execution": {
          "iopub.status.busy": "2025-04-09T15:35:02.446902Z",
          "iopub.execute_input": "2025-04-09T15:35:02.44739Z",
          "iopub.status.idle": "2025-04-09T15:36:38.889121Z",
          "shell.execute_reply.started": "2025-04-09T15:35:02.447321Z",
          "shell.execute_reply": "2025-04-09T15:36:38.887513Z"
        },
        "outputId": "88b6460b-3523-4954-b399-b923122739e8",
        "colab": {
          "base_uri": "https://localhost:8080/",
          "referenced_widgets": [
            "36a6f83b92d348dc9ef6f4722efd3cb1",
            "6aefea6aad4f42af8118a7d2396ed651",
            "8234b56c989a49e395e947bf322bff42",
            "2ef44c964e3b40b89f724cb691792741",
            "36c7d57f465f468ea662360580097fad",
            "50e62c6e904845448b5be0afc6c3f9e8",
            "e996a4590ac84b00a9039eb8980950bf",
            "404eceb097854fc4b3d54fa95acab76e",
            "0556bdc9ddb94cf29ffc59826071f422",
            "cb6eef488c56419aba7707ece6b14ab6",
            "2d49a8d10e1f4f559b4aa3aac0080406"
          ]
        }
      },
      "outputs": [
        {
          "output_type": "stream",
          "name": "stderr",
          "text": [
            "/usr/local/lib/python3.11/dist-packages/huggingface_hub/utils/_auth.py:94: UserWarning: \n",
            "The secret `HF_TOKEN` does not exist in your Colab secrets.\n",
            "To authenticate with the Hugging Face Hub, create a token in your settings tab (https://huggingface.co/settings/tokens), set it as secret in your Google Colab and restart your session.\n",
            "You will be able to reuse this secret in all of your notebooks.\n",
            "Please note that authentication is recommended but still optional to access public models or datasets.\n",
            "  warnings.warn(\n"
          ]
        },
        {
          "output_type": "display_data",
          "data": {
            "text/plain": [
              "modules.json:   0%|          | 0.00/349 [00:00<?, ?B/s]"
            ],
            "application/vnd.jupyter.widget-view+json": {
              "version_major": 2,
              "version_minor": 0,
              "model_id": "36a6f83b92d348dc9ef6f4722efd3cb1"
            }
          },
          "metadata": {}
        },
        {
          "output_type": "display_data",
          "data": {
            "text/plain": [
              "config_sentence_transformers.json:   0%|          | 0.00/116 [00:00<?, ?B/s]"
            ],
            "application/vnd.jupyter.widget-view+json": {
              "version_major": 2,
              "version_minor": 0,
              "model_id": "6aefea6aad4f42af8118a7d2396ed651"
            }
          },
          "metadata": {}
        },
        {
          "output_type": "display_data",
          "data": {
            "text/plain": [
              "README.md:   0%|          | 0.00/10.5k [00:00<?, ?B/s]"
            ],
            "application/vnd.jupyter.widget-view+json": {
              "version_major": 2,
              "version_minor": 0,
              "model_id": "8234b56c989a49e395e947bf322bff42"
            }
          },
          "metadata": {}
        },
        {
          "output_type": "display_data",
          "data": {
            "text/plain": [
              "sentence_bert_config.json:   0%|          | 0.00/53.0 [00:00<?, ?B/s]"
            ],
            "application/vnd.jupyter.widget-view+json": {
              "version_major": 2,
              "version_minor": 0,
              "model_id": "2ef44c964e3b40b89f724cb691792741"
            }
          },
          "metadata": {}
        },
        {
          "output_type": "display_data",
          "data": {
            "text/plain": [
              "config.json:   0%|          | 0.00/612 [00:00<?, ?B/s]"
            ],
            "application/vnd.jupyter.widget-view+json": {
              "version_major": 2,
              "version_minor": 0,
              "model_id": "36c7d57f465f468ea662360580097fad"
            }
          },
          "metadata": {}
        },
        {
          "output_type": "stream",
          "name": "stderr",
          "text": [
            "Xet Storage is enabled for this repo, but the 'hf_xet' package is not installed. Falling back to regular HTTP download. For better performance, install the package with: `pip install huggingface_hub[hf_xet]` or `pip install hf_xet`\n",
            "WARNING:huggingface_hub.file_download:Xet Storage is enabled for this repo, but the 'hf_xet' package is not installed. Falling back to regular HTTP download. For better performance, install the package with: `pip install huggingface_hub[hf_xet]` or `pip install hf_xet`\n"
          ]
        },
        {
          "output_type": "display_data",
          "data": {
            "text/plain": [
              "model.safetensors:   0%|          | 0.00/90.9M [00:00<?, ?B/s]"
            ],
            "application/vnd.jupyter.widget-view+json": {
              "version_major": 2,
              "version_minor": 0,
              "model_id": "50e62c6e904845448b5be0afc6c3f9e8"
            }
          },
          "metadata": {}
        },
        {
          "output_type": "display_data",
          "data": {
            "text/plain": [
              "tokenizer_config.json:   0%|          | 0.00/350 [00:00<?, ?B/s]"
            ],
            "application/vnd.jupyter.widget-view+json": {
              "version_major": 2,
              "version_minor": 0,
              "model_id": "e996a4590ac84b00a9039eb8980950bf"
            }
          },
          "metadata": {}
        },
        {
          "output_type": "display_data",
          "data": {
            "text/plain": [
              "vocab.txt:   0%|          | 0.00/232k [00:00<?, ?B/s]"
            ],
            "application/vnd.jupyter.widget-view+json": {
              "version_major": 2,
              "version_minor": 0,
              "model_id": "404eceb097854fc4b3d54fa95acab76e"
            }
          },
          "metadata": {}
        },
        {
          "output_type": "display_data",
          "data": {
            "text/plain": [
              "tokenizer.json:   0%|          | 0.00/466k [00:00<?, ?B/s]"
            ],
            "application/vnd.jupyter.widget-view+json": {
              "version_major": 2,
              "version_minor": 0,
              "model_id": "0556bdc9ddb94cf29ffc59826071f422"
            }
          },
          "metadata": {}
        },
        {
          "output_type": "display_data",
          "data": {
            "text/plain": [
              "special_tokens_map.json:   0%|          | 0.00/112 [00:00<?, ?B/s]"
            ],
            "application/vnd.jupyter.widget-view+json": {
              "version_major": 2,
              "version_minor": 0,
              "model_id": "cb6eef488c56419aba7707ece6b14ab6"
            }
          },
          "metadata": {}
        },
        {
          "output_type": "display_data",
          "data": {
            "text/plain": [
              "config.json:   0%|          | 0.00/190 [00:00<?, ?B/s]"
            ],
            "application/vnd.jupyter.widget-view+json": {
              "version_major": 2,
              "version_minor": 0,
              "model_id": "2d49a8d10e1f4f559b4aa3aac0080406"
            }
          },
          "metadata": {}
        }
      ],
      "execution_count": null
    },
    {
      "cell_type": "markdown",
      "source": [
        "## 2.1 'Title'"
      ],
      "metadata": {
        "id": "V8GJj3FEYr9m"
      }
    },
    {
      "cell_type": "code",
      "source": [
        "# # Load the title of the citing and cited patents, create_corpus creates a dictionary of 'id' : 'title' for each patent.\n",
        "title_citing_train = create_corpus(json_citing_train , 'title')\n",
        "title_citing_test = create_corpus(json_citing_test , 'title')\n",
        "\n",
        "title_nonciting = create_corpus(json_nonciting, 'title')\n",
        "title_citing_train[:5]"
      ],
      "metadata": {
        "id": "u6MIZPrWXWtn",
        "trusted": true,
        "execution": {
          "execution_failed": "2025-04-09T01:00:36.701Z"
        },
        "colab": {
          "base_uri": "https://localhost:8080/"
        },
        "outputId": "ea8cb8e3-3dec-4744-8d21-79e7d1699186"
      },
      "outputs": [
        {
          "output_type": "stream",
          "name": "stdout",
          "text": [
            "Number of documents without title: 0\n",
            "Number of documents without title: 0\n",
            "Number of documents without title: 0\n"
          ]
        },
        {
          "output_type": "execute_result",
          "data": {
            "text/plain": [
              "[{'id': '3650293A1',\n",
              "  'text': 'DEVICE FOR CONTROLLING THE BRAKING OF A TRAILER'},\n",
              " {'id': '3694265A1',\n",
              "  'text': 'TIME DIVISION MULTIPLEXING OF SYNCHRONIZATION CHANNELS'},\n",
              " {'id': '3623522A1', 'text': 'LAUNDRY MACHINE AND CONTROL METHOD OF THE SAME'},\n",
              " {'id': '3611147A1',\n",
              "  'text': 'CHEMICAL AND TOPOLOGICAL SURFACE MODIFICATION TO ENHANCE COATING ADHESION AND COMPATIBILITY'},\n",
              " {'id': '3640454A1', 'text': 'FUEL METERING SYSTEM'}]"
            ]
          },
          "metadata": {},
          "execution_count": 31
        }
      ],
      "execution_count": null
    },
    {
      "cell_type": "markdown",
      "source": [
        "### 2.1.1 Title - embeddings"
      ],
      "metadata": {
        "id": "dXavevHGXdq6"
      }
    },
    {
      "cell_type": "code",
      "source": [
        "title_citing_train_titles = [doc['text'] for doc in title_citing_train]\n",
        "citing_embeddings = model.encode(title_citing_train_titles, convert_to_tensor=True, device=device)"
      ],
      "metadata": {
        "id": "NDUluPB5qnN4"
      },
      "execution_count": null,
      "outputs": []
    },
    {
      "cell_type": "code",
      "source": [
        "title_nonciting_titles = [doc['text'] for doc in title_nonciting]\n",
        "nonciting_embeddings = model.encode(title_nonciting_titles, convert_to_tensor=True, device=device)"
      ],
      "metadata": {
        "id": "gueG5giCXtUr",
        "trusted": true,
        "execution": {
          "execution_failed": "2025-04-09T01:00:36.701Z"
        }
      },
      "outputs": [],
      "execution_count": null
    },
    {
      "cell_type": "markdown",
      "source": [
        "### 2.1.2 Get Cosine similarities"
      ],
      "metadata": {
        "id": "Gxit0g9hYf-2"
      }
    },
    {
      "cell_type": "code",
      "source": [
        "cosine_similarities = linear_kernel(citing_embeddings.cpu(), nonciting_embeddings.cpu())\n",
        "cosine_similarities"
      ],
      "metadata": {
        "id": "f-b-KqXqXv-q",
        "trusted": true,
        "execution": {
          "execution_failed": "2025-04-09T01:00:36.702Z"
        },
        "colab": {
          "base_uri": "https://localhost:8080/"
        },
        "outputId": "306d8c07-ba45-4a12-db02-73000e16be44"
      },
      "outputs": [
        {
          "output_type": "execute_result",
          "data": {
            "text/plain": [
              "array([[ 0.36911705,  0.13136497,  0.31678134, ...,  0.23598102,\n",
              "         0.10692442,  0.03131937],\n",
              "       [ 0.02560851,  0.05637474,  0.06779245, ..., -0.04658467,\n",
              "         0.1480076 , -0.0103356 ],\n",
              "       [ 0.12454381,  0.15283757,  0.35839814, ...,  0.1846452 ,\n",
              "         0.00318378,  0.2415548 ],\n",
              "       ...,\n",
              "       [ 0.21950434,  0.03933778,  0.21481168, ...,  0.15680458,\n",
              "         0.11638679,  0.21677847],\n",
              "       [ 0.11442984,  0.14409205,  0.26019055, ...,  0.05855274,\n",
              "         0.15397629,  0.12991686],\n",
              "       [ 0.02073644,  0.02390994,  0.3105056 , ...,  0.16654235,\n",
              "         0.12852314,  0.29862452]], dtype=float32)"
            ]
          },
          "metadata": {},
          "execution_count": 35
        }
      ],
      "execution_count": null
    },
    {
      "cell_type": "markdown",
      "source": [
        "### 2.1.3 Get Metrics"
      ],
      "metadata": {
        "id": "toGnXseoYv_B"
      }
    },
    {
      "cell_type": "code",
      "source": [
        "# Get the top k ranks for each citing patent\n",
        "k = 100\n",
        "top_k_rank = top_k_ranks(title_citing_train, title_nonciting, cosine_similarities, k=k)\n",
        "\n",
        "# Calculate the metrics\n",
        "true_labels, predicted_labels, not_in_citation_mapping = \\\n",
        "    get_true_and_predicted(mapping_dict, top_k_rank)\n",
        "mean_rank = mean_ranking(true_labels, predicted_labels)\n",
        "mean_average_precision_val = mean_average_precision(true_labels, predicted_labels)\n",
        "\n",
        "recall_at_10_titles_word2vec = mean_recall_at_k(true_labels, predicted_labels, k=10)\n",
        "recall_at_20_titles_word2vec = mean_recall_at_k(true_labels, predicted_labels, k=20)\n",
        "recall_at_50_titles_word2vec = mean_recall_at_k(true_labels, predicted_labels, k=50)\n",
        "recall_at_100_titles_word2vec= mean_recall_at_k(true_labels, predicted_labels, k=100)\n",
        "\n",
        "print(\"Recall at 10:\", round(recall_at_10_titles_word2vec, 4))\n",
        "print(\"Recall at 20:\", round(recall_at_20_titles_word2vec, 4))\n",
        "print(\"Recall at 50:\", round(recall_at_50_titles_word2vec, 4))\n",
        "print(\"Recall at 100:\", round(recall_at_100_titles_word2vec, 4))\n",
        "print(\"Mean ranking:\", round(mean_rank, 4))\n",
        "print(\"Mean average precision:\", round(mean_average_precision_val, 4))\n",
        "print(\"Number of patents measured:\", len(predicted_labels))\n",
        "print(\"Number of patents not in the citation:\", not_in_citation_mapping)"
      ],
      "metadata": {
        "id": "LnIQxLEDY8V2",
        "trusted": true,
        "execution": {
          "execution_failed": "2025-04-09T01:00:36.702Z"
        },
        "colab": {
          "base_uri": "https://localhost:8080/"
        },
        "outputId": "49e7df6e-3728-4728-817d-1b3fcba4a5ee"
      },
      "outputs": [
        {
          "output_type": "stream",
          "name": "stdout",
          "text": [
            "Recall at 10: 0.3326\n",
            "Recall at 20: 0.4067\n",
            "Recall at 50: 0.511\n",
            "Recall at 100: 0.5937\n",
            "Mean ranking: 52.2816\n",
            "Mean average precision: 0.198\n",
            "Number of patents measured: 6831\n",
            "Number of patents not in the citation: 0\n"
          ]
        }
      ],
      "execution_count": null
    },
    {
      "cell_type": "markdown",
      "source": [
        "## Full Text Word2Vec"
      ],
      "metadata": {
        "id": "l4Tc1FrKffKI"
      }
    },
    {
      "cell_type": "code",
      "source": [
        "# # prompt: how to run sbert on gpu?\n",
        "\n",
        "# import torch\n",
        "\n",
        "# # Check if CUDA is available\n",
        "# if torch.cuda.is_available():\n",
        "#     device = torch.device(\"cuda\")\n",
        "#     print(\"Using CUDA device:\", torch.cuda.get_device_name(0))\n",
        "# else:\n",
        "#     device = torch.device(\"cpu\")\n",
        "#     print(\"CUDA is not available, using CPU.\")\n",
        "\n",
        "# # Move the model to the GPU\n",
        "# model = SentenceTransformer('all-MiniLM-L6-v2').to(device)\n",
        "\n",
        "# # Example usage with GPU:\n",
        "# title_citing_train_titles = [doc['text'] for doc in title_citing_train]\n",
        "# citing_embeddings = model.encode(title_citing_train_titles, convert_to_tensor=True, device=device)\n",
        "\n",
        "# title_nonciting_titles = [doc['text'] for doc in title_nonciting]\n",
        "# nonciting_embeddings = model.encode(title_nonciting_titles, convert_to_tensor=True, device=device)\n",
        "\n",
        "# # ... rest of your code ...\n",
        "# cosine_similarities = linear_kernel(citing_embeddings.cpu(), nonciting_embeddings.cpu()) #compute on CPU\n"
      ],
      "metadata": {
        "id": "cPlggwbt3EVZ"
      },
      "execution_count": null,
      "outputs": []
    },
    {
      "cell_type": "markdown",
      "source": [
        "## Embeddings"
      ],
      "metadata": {
        "id": "d-OBDsy5zJVu"
      }
    },
    {
      "cell_type": "code",
      "source": [
        "full_text_citing_text = [doc['text'] for doc in full_text_citing]\n",
        "fulltext_citing_embeddings = model.encode(full_text_citing_text, convert_to_tensor=True, device=device)"
      ],
      "metadata": {
        "id": "0a-eYBpNrYfT"
      },
      "execution_count": null,
      "outputs": []
    },
    {
      "cell_type": "code",
      "source": [
        "np.save('fulltext_citing_embeddings.npy', fulltext_citing_embeddings.cpu().numpy())"
      ],
      "metadata": {
        "id": "48ikTkdaGaNM"
      },
      "execution_count": null,
      "outputs": []
    },
    {
      "cell_type": "code",
      "source": [
        "full_text_nonciting_text = [doc['text'] for doc in full_text_nonciting]\n",
        "fulltext_nonciting_embeddings = model.encode(full_text_nonciting_text, convert_to_tensor=True, device=device)"
      ],
      "metadata": {
        "id": "u1LkQ7krrhJ_"
      },
      "execution_count": null,
      "outputs": []
    },
    {
      "cell_type": "code",
      "source": [
        "np.save('fulltext_nonciting_embeddings.npy', fulltext_nonciting_embeddings.cpu().numpy())"
      ],
      "metadata": {
        "id": "HTEyZ7BSF3Wc"
      },
      "execution_count": null,
      "outputs": []
    },
    {
      "cell_type": "code",
      "source": [
        "cosine_similarities_fulltext = linear_kernel(fulltext_citing_embeddings.cpu(), fulltext_nonciting_embeddings.cpu()) # Remove cpu() if using data from the file"
      ],
      "metadata": {
        "colab": {
          "base_uri": "https://localhost:8080/",
          "height": 141
        },
        "id": "G-JEI4RQrwys",
        "outputId": "78a8b7b7-a169-489a-e241-ee6fcb20e0c5"
      },
      "execution_count": null,
      "outputs": [
        {
          "output_type": "error",
          "ename": "AttributeError",
          "evalue": "'numpy.ndarray' object has no attribute 'cpu'",
          "traceback": [
            "\u001b[0;31m---------------------------------------------------------------------------\u001b[0m",
            "\u001b[0;31mAttributeError\u001b[0m                            Traceback (most recent call last)",
            "\u001b[0;32m<ipython-input-22-3c6c66487052>\u001b[0m in \u001b[0;36m<cell line: 0>\u001b[0;34m()\u001b[0m\n\u001b[0;32m----> 1\u001b[0;31m \u001b[0mcosine_similarities_fulltext\u001b[0m \u001b[0;34m=\u001b[0m \u001b[0mlinear_kernel\u001b[0m\u001b[0;34m(\u001b[0m\u001b[0mfulltext_citing_embeddings\u001b[0m\u001b[0;34m.\u001b[0m\u001b[0mcpu\u001b[0m\u001b[0;34m(\u001b[0m\u001b[0;34m)\u001b[0m\u001b[0;34m,\u001b[0m \u001b[0mfulltext_nonciting_embeddings\u001b[0m\u001b[0;34m.\u001b[0m\u001b[0mcpu\u001b[0m\u001b[0;34m(\u001b[0m\u001b[0;34m)\u001b[0m\u001b[0;34m)\u001b[0m\u001b[0;34m\u001b[0m\u001b[0;34m\u001b[0m\u001b[0m\n\u001b[0m",
            "\u001b[0;31mAttributeError\u001b[0m: 'numpy.ndarray' object has no attribute 'cpu'"
          ]
        }
      ]
    },
    {
      "cell_type": "markdown",
      "source": [
        "## Evaluation"
      ],
      "metadata": {
        "id": "BrpWuvbrze13"
      }
    },
    {
      "cell_type": "code",
      "source": [
        "# Get top k ranks\n",
        "k = 100\n",
        "top_k_rank_fulltext = top_k_ranks(full_text_citing, full_text_nonciting, cosine_similarities_fulltext, k=k)\n",
        "\n",
        "# Calculate metrics\n",
        "true_labels, predicted_labels, not_in_citation_mapping = get_true_and_predicted(mapping_dict, top_k_rank_fulltext)\n",
        "\n",
        "mean_rank_fulltext = mean_ranking(true_labels, predicted_labels)\n",
        "mean_average_precision_fulltext = mean_average_precision(true_labels, predicted_labels)\n",
        "\n",
        "recall_at_10_fulltext = mean_recall_at_k(true_labels, predicted_labels, k=10)\n",
        "recall_at_20_fulltext = mean_recall_at_k(true_labels, predicted_labels, k=20)\n",
        "recall_at_50_fulltext = mean_recall_at_k(true_labels, predicted_labels, k=50)\n",
        "recall_at_100_fulltext = mean_recall_at_k(true_labels, predicted_labels, k=100)\n",
        "\n",
        "\n",
        "print(\"Recall at 10:\", round(recall_at_10_fulltext, 4))\n",
        "print(\"Recall at 20:\", round(recall_at_20_fulltext, 4))\n",
        "print(\"Recall at 50:\", round(recall_at_50_fulltext, 4))\n",
        "print(\"Recall at 100:\", round(recall_at_100_fulltext, 4))\n",
        "\n",
        "print(\"Mean ranking:\", round(mean_rank_fulltext, 4))\n",
        "print(\"Mean average precision:\", round(mean_average_precision_fulltext, 4))\n",
        "print(\"Number of patents measured:\", len(predicted_labels))\n",
        "print(\"Number of patents not in the citation:\", not_in_citation_mapping)\n"
      ],
      "metadata": {
        "id": "l_UtdIx_fiaY",
        "trusted": true,
        "execution": {
          "execution_failed": "2025-04-09T01:00:36.705Z"
        },
        "colab": {
          "base_uri": "https://localhost:8080/"
        },
        "outputId": "e9dcb5d5-d760-47da-bf59-20656600b2e0"
      },
      "outputs": [
        {
          "output_type": "stream",
          "name": "stdout",
          "text": [
            "Recall at 10: 0.5642\n",
            "Recall at 20: 0.6555\n",
            "Recall at 50: 0.7647\n",
            "Recall at 100: 0.8314\n",
            "Mean ranking: 28.2307\n",
            "Mean average precision: 0.3566\n",
            "Number of patents measured: 6831\n",
            "Number of patents not in the citation: 0\n"
          ]
        }
      ],
      "execution_count": null
    },
    {
      "cell_type": "markdown",
      "source": [
        "# Re-ranking"
      ],
      "metadata": {
        "id": "nrf9Cxv0AtkP"
      }
    },
    {
      "cell_type": "code",
      "source": [
        "cosine_similarities = linear_kernel(fulltext_citing_embeddings, fulltext_nonciting_embeddings)"
      ],
      "metadata": {
        "id": "0xWucrNYK2P2"
      },
      "execution_count": null,
      "outputs": []
    },
    {
      "cell_type": "code",
      "source": [
        "cosine_similarities.shape"
      ],
      "metadata": {
        "colab": {
          "base_uri": "https://localhost:8080/"
        },
        "id": "k1ejJgfJMHmS",
        "outputId": "0d83a533-b07e-4457-dba6-07c9712f8774"
      },
      "execution_count": null,
      "outputs": [
        {
          "output_type": "execute_result",
          "data": {
            "text/plain": [
              "(6831, 16837)"
            ]
          },
          "metadata": {},
          "execution_count": 26
        }
      ]
    },
    {
      "cell_type": "code",
      "source": [
        "fulltext_citing_embeddings.shape\n"
      ],
      "metadata": {
        "colab": {
          "base_uri": "https://localhost:8080/",
          "height": 176
        },
        "id": "vTgUhDid4so_",
        "outputId": "7d732da3-39ac-4c80-be4b-5b3b30982545"
      },
      "execution_count": 1,
      "outputs": [
        {
          "output_type": "error",
          "ename": "NameError",
          "evalue": "name 'fulltext_citing_embeddings' is not defined",
          "traceback": [
            "\u001b[0;31m---------------------------------------------------------------------------\u001b[0m",
            "\u001b[0;31mNameError\u001b[0m                                 Traceback (most recent call last)",
            "\u001b[0;32m<ipython-input-1-dd884a043ee0>\u001b[0m in \u001b[0;36m<cell line: 0>\u001b[0;34m()\u001b[0m\n\u001b[1;32m      1\u001b[0m \u001b[0;31m# prompt: how to check number of features\u001b[0m\u001b[0;34m\u001b[0m\u001b[0;34m\u001b[0m\u001b[0m\n\u001b[1;32m      2\u001b[0m \u001b[0;34m\u001b[0m\u001b[0m\n\u001b[0;32m----> 3\u001b[0;31m \u001b[0mfulltext_citing_embeddings\u001b[0m\u001b[0;34m.\u001b[0m\u001b[0mshape\u001b[0m\u001b[0;34m\u001b[0m\u001b[0;34m\u001b[0m\u001b[0m\n\u001b[0m",
            "\u001b[0;31mNameError\u001b[0m: name 'fulltext_citing_embeddings' is not defined"
          ]
        }
      ]
    },
    {
      "cell_type": "code",
      "source": [
        "fulltext_nonciting_embeddings.shape"
      ],
      "metadata": {
        "colab": {
          "base_uri": "https://localhost:8080/"
        },
        "id": "k6H6Cdfp4yPL",
        "outputId": "fb96db1b-6cac-43a7-a223-1e4c5929138d"
      },
      "execution_count": null,
      "outputs": [
        {
          "output_type": "execute_result",
          "data": {
            "text/plain": [
              "(16837, 384)"
            ]
          },
          "metadata": {},
          "execution_count": 25
        }
      ]
    },
    {
      "cell_type": "code",
      "source": [
        "fulltext_citing_embeddings = np.load('fulltext_citing_embeddings.npy')\n",
        "fulltext_nonciting_embeddings = np.load('fulltext_nonciting_embeddings.npy')\n",
        "\n",
        "cosine_similarities = linear_kernel(fulltext_citing_embeddings, fulltext_nonciting_embeddings)"
      ],
      "metadata": {
        "id": "uwxbD6msQLzD"
      },
      "execution_count": null,
      "outputs": []
    },
    {
      "cell_type": "code",
      "source": [
        "def prepare_training_data(citing_ids, sim_matrix, gold_mapping, top_k_candidates=100):\n",
        "    nonciting_ids = [doc['id'] for doc in full_text_nonciting]\n",
        "\n",
        "    X = []\n",
        "    y = []\n",
        "    for idx, pid in enumerate(citing_ids):\n",
        "        if pid not in gold_mapping:\n",
        "            continue\n",
        "        gold_ids = set(gold_mapping[pid])\n",
        "        candidate_indices = np.argsort(sim_matrix[idx])[::-1][:top_k_candidates]\n",
        "        for cand_idx in candidate_indices:\n",
        "            feature = [sim_matrix[idx, cand_idx]]\n",
        "            # Use nonciting_ids for comparison\n",
        "            label = 1 if nonciting_ids[cand_idx] in gold_ids else 0\n",
        "            X.append(feature)\n",
        "            y.append(label)\n",
        "    return np.array(X), np.array(y)"
      ],
      "metadata": {
        "id": "C4sZfd4MF4yH"
      },
      "execution_count": null,
      "outputs": []
    },
    {
      "cell_type": "code",
      "source": [
        "# full_text_citing = create_corpus(json_citing_train , 'fulltext')\n",
        "citing_ids = [doc['id'] for doc in full_text_citing]  # Get citing patent IDs\n",
        "\n",
        "X_train, y_train = prepare_training_data(\n",
        "    citing_ids, cosine_similarities,\n",
        "    mapping_dict,  # Your gold standard mapping\n",
        ")"
      ],
      "metadata": {
        "id": "EUls7SxbP_UO",
        "colab": {
          "base_uri": "https://localhost:8080/",
          "height": 211
        },
        "outputId": "ef349c7e-f5db-426a-9308-1a22ac0c2c00"
      },
      "execution_count": 2,
      "outputs": [
        {
          "output_type": "error",
          "ename": "NameError",
          "evalue": "name 'full_text_citing' is not defined",
          "traceback": [
            "\u001b[0;31m---------------------------------------------------------------------------\u001b[0m",
            "\u001b[0;31mNameError\u001b[0m                                 Traceback (most recent call last)",
            "\u001b[0;32m<ipython-input-2-7d8fc24c3bdc>\u001b[0m in \u001b[0;36m<cell line: 0>\u001b[0;34m()\u001b[0m\n\u001b[0;32m----> 1\u001b[0;31m \u001b[0mciting_ids\u001b[0m \u001b[0;34m=\u001b[0m \u001b[0;34m[\u001b[0m\u001b[0mdoc\u001b[0m\u001b[0;34m[\u001b[0m\u001b[0;34m'id'\u001b[0m\u001b[0;34m]\u001b[0m \u001b[0;32mfor\u001b[0m \u001b[0mdoc\u001b[0m \u001b[0;32min\u001b[0m \u001b[0mfull_text_citing\u001b[0m\u001b[0;34m]\u001b[0m  \u001b[0;31m# Get citing patent IDs\u001b[0m\u001b[0;34m\u001b[0m\u001b[0;34m\u001b[0m\u001b[0m\n\u001b[0m\u001b[1;32m      2\u001b[0m \u001b[0;31m# nonciting_ids = [doc['id'] for doc in full_text_nonciting]  # Get non-citing patent IDs\u001b[0m\u001b[0;34m\u001b[0m\u001b[0;34m\u001b[0m\u001b[0m\n\u001b[1;32m      3\u001b[0m \u001b[0;31m#\u001b[0m\u001b[0;34m\u001b[0m\u001b[0;34m\u001b[0m\u001b[0m\n\u001b[1;32m      4\u001b[0m \u001b[0;31m# X_train, y_train = prepare_training_data(\u001b[0m\u001b[0;34m\u001b[0m\u001b[0;34m\u001b[0m\u001b[0m\n\u001b[1;32m      5\u001b[0m \u001b[0;31m#     fulltext_citing_embeddings,  # Your citing patent embeddings\u001b[0m\u001b[0;34m\u001b[0m\u001b[0;34m\u001b[0m\u001b[0m\n",
            "\u001b[0;31mNameError\u001b[0m: name 'full_text_citing' is not defined"
          ]
        }
      ]
    },
    {
      "cell_type": "code",
      "source": [
        "X_train.shape, y_train.shape"
      ],
      "metadata": {
        "colab": {
          "base_uri": "https://localhost:8080/"
        },
        "id": "NBEv_oeA1VN6",
        "outputId": "9cd48750-75d3-45d6-ff61-624dac3cd821"
      },
      "execution_count": null,
      "outputs": [
        {
          "output_type": "execute_result",
          "data": {
            "text/plain": [
              "((683100, 1), (683100,))"
            ]
          },
          "metadata": {},
          "execution_count": 31
        }
      ]
    },
    {
      "cell_type": "code",
      "source": [
        "positive_rate = np.mean(y_train)\n",
        "positive_rate # 0.010481627872932222"
      ],
      "metadata": {
        "id": "7hGDWVOFDRL1"
      },
      "execution_count": null,
      "outputs": []
    },
    {
      "cell_type": "code",
      "source": [
        "np.save('X_train.npy', X_train)\n",
        "np.save('y_train.npy', y_train)\n"
      ],
      "metadata": {
        "id": "dxMlnl007Ibm"
      },
      "execution_count": null,
      "outputs": []
    },
    {
      "cell_type": "code",
      "source": [
        "X_train = np.load('X_train.npy')\n",
        "y_train = np.load('y_train.npy')"
      ],
      "metadata": {
        "id": "-hxQ5Eah8dfs"
      },
      "execution_count": null,
      "outputs": []
    },
    {
      "cell_type": "markdown",
      "source": [
        "# Training"
      ],
      "metadata": {
        "id": "aS_mDuh3DR97"
      }
    },
    {
      "cell_type": "code",
      "source": [
        "from sklearn.linear_model import LogisticRegression\n"
      ],
      "metadata": {
        "id": "uzeXG94kGBA0"
      },
      "execution_count": null,
      "outputs": []
    },
    {
      "cell_type": "code",
      "source": [
        "re_rank_model = LogisticRegression(class_weight='balanced')\n",
        "re_rank_model.fit(X_train, y_train)"
      ],
      "metadata": {
        "colab": {
          "base_uri": "https://localhost:8080/",
          "height": 81
        },
        "id": "Zsyu0wUqDUJa",
        "outputId": "807fca5a-eaf1-41f6-f50a-3e07b42c1e59"
      },
      "execution_count": null,
      "outputs": [
        {
          "output_type": "execute_result",
          "data": {
            "text/plain": [
              "LogisticRegression(class_weight='balanced')"
            ],
            "text/html": [
              "<style>#sk-container-id-1 {\n",
              "  /* Definition of color scheme common for light and dark mode */\n",
              "  --sklearn-color-text: #000;\n",
              "  --sklearn-color-text-muted: #666;\n",
              "  --sklearn-color-line: gray;\n",
              "  /* Definition of color scheme for unfitted estimators */\n",
              "  --sklearn-color-unfitted-level-0: #fff5e6;\n",
              "  --sklearn-color-unfitted-level-1: #f6e4d2;\n",
              "  --sklearn-color-unfitted-level-2: #ffe0b3;\n",
              "  --sklearn-color-unfitted-level-3: chocolate;\n",
              "  /* Definition of color scheme for fitted estimators */\n",
              "  --sklearn-color-fitted-level-0: #f0f8ff;\n",
              "  --sklearn-color-fitted-level-1: #d4ebff;\n",
              "  --sklearn-color-fitted-level-2: #b3dbfd;\n",
              "  --sklearn-color-fitted-level-3: cornflowerblue;\n",
              "\n",
              "  /* Specific color for light theme */\n",
              "  --sklearn-color-text-on-default-background: var(--sg-text-color, var(--theme-code-foreground, var(--jp-content-font-color1, black)));\n",
              "  --sklearn-color-background: var(--sg-background-color, var(--theme-background, var(--jp-layout-color0, white)));\n",
              "  --sklearn-color-border-box: var(--sg-text-color, var(--theme-code-foreground, var(--jp-content-font-color1, black)));\n",
              "  --sklearn-color-icon: #696969;\n",
              "\n",
              "  @media (prefers-color-scheme: dark) {\n",
              "    /* Redefinition of color scheme for dark theme */\n",
              "    --sklearn-color-text-on-default-background: var(--sg-text-color, var(--theme-code-foreground, var(--jp-content-font-color1, white)));\n",
              "    --sklearn-color-background: var(--sg-background-color, var(--theme-background, var(--jp-layout-color0, #111)));\n",
              "    --sklearn-color-border-box: var(--sg-text-color, var(--theme-code-foreground, var(--jp-content-font-color1, white)));\n",
              "    --sklearn-color-icon: #878787;\n",
              "  }\n",
              "}\n",
              "\n",
              "#sk-container-id-1 {\n",
              "  color: var(--sklearn-color-text);\n",
              "}\n",
              "\n",
              "#sk-container-id-1 pre {\n",
              "  padding: 0;\n",
              "}\n",
              "\n",
              "#sk-container-id-1 input.sk-hidden--visually {\n",
              "  border: 0;\n",
              "  clip: rect(1px 1px 1px 1px);\n",
              "  clip: rect(1px, 1px, 1px, 1px);\n",
              "  height: 1px;\n",
              "  margin: -1px;\n",
              "  overflow: hidden;\n",
              "  padding: 0;\n",
              "  position: absolute;\n",
              "  width: 1px;\n",
              "}\n",
              "\n",
              "#sk-container-id-1 div.sk-dashed-wrapped {\n",
              "  border: 1px dashed var(--sklearn-color-line);\n",
              "  margin: 0 0.4em 0.5em 0.4em;\n",
              "  box-sizing: border-box;\n",
              "  padding-bottom: 0.4em;\n",
              "  background-color: var(--sklearn-color-background);\n",
              "}\n",
              "\n",
              "#sk-container-id-1 div.sk-container {\n",
              "  /* jupyter's `normalize.less` sets `[hidden] { display: none; }`\n",
              "     but bootstrap.min.css set `[hidden] { display: none !important; }`\n",
              "     so we also need the `!important` here to be able to override the\n",
              "     default hidden behavior on the sphinx rendered scikit-learn.org.\n",
              "     See: https://github.com/scikit-learn/scikit-learn/issues/21755 */\n",
              "  display: inline-block !important;\n",
              "  position: relative;\n",
              "}\n",
              "\n",
              "#sk-container-id-1 div.sk-text-repr-fallback {\n",
              "  display: none;\n",
              "}\n",
              "\n",
              "div.sk-parallel-item,\n",
              "div.sk-serial,\n",
              "div.sk-item {\n",
              "  /* draw centered vertical line to link estimators */\n",
              "  background-image: linear-gradient(var(--sklearn-color-text-on-default-background), var(--sklearn-color-text-on-default-background));\n",
              "  background-size: 2px 100%;\n",
              "  background-repeat: no-repeat;\n",
              "  background-position: center center;\n",
              "}\n",
              "\n",
              "/* Parallel-specific style estimator block */\n",
              "\n",
              "#sk-container-id-1 div.sk-parallel-item::after {\n",
              "  content: \"\";\n",
              "  width: 100%;\n",
              "  border-bottom: 2px solid var(--sklearn-color-text-on-default-background);\n",
              "  flex-grow: 1;\n",
              "}\n",
              "\n",
              "#sk-container-id-1 div.sk-parallel {\n",
              "  display: flex;\n",
              "  align-items: stretch;\n",
              "  justify-content: center;\n",
              "  background-color: var(--sklearn-color-background);\n",
              "  position: relative;\n",
              "}\n",
              "\n",
              "#sk-container-id-1 div.sk-parallel-item {\n",
              "  display: flex;\n",
              "  flex-direction: column;\n",
              "}\n",
              "\n",
              "#sk-container-id-1 div.sk-parallel-item:first-child::after {\n",
              "  align-self: flex-end;\n",
              "  width: 50%;\n",
              "}\n",
              "\n",
              "#sk-container-id-1 div.sk-parallel-item:last-child::after {\n",
              "  align-self: flex-start;\n",
              "  width: 50%;\n",
              "}\n",
              "\n",
              "#sk-container-id-1 div.sk-parallel-item:only-child::after {\n",
              "  width: 0;\n",
              "}\n",
              "\n",
              "/* Serial-specific style estimator block */\n",
              "\n",
              "#sk-container-id-1 div.sk-serial {\n",
              "  display: flex;\n",
              "  flex-direction: column;\n",
              "  align-items: center;\n",
              "  background-color: var(--sklearn-color-background);\n",
              "  padding-right: 1em;\n",
              "  padding-left: 1em;\n",
              "}\n",
              "\n",
              "\n",
              "/* Toggleable style: style used for estimator/Pipeline/ColumnTransformer box that is\n",
              "clickable and can be expanded/collapsed.\n",
              "- Pipeline and ColumnTransformer use this feature and define the default style\n",
              "- Estimators will overwrite some part of the style using the `sk-estimator` class\n",
              "*/\n",
              "\n",
              "/* Pipeline and ColumnTransformer style (default) */\n",
              "\n",
              "#sk-container-id-1 div.sk-toggleable {\n",
              "  /* Default theme specific background. It is overwritten whether we have a\n",
              "  specific estimator or a Pipeline/ColumnTransformer */\n",
              "  background-color: var(--sklearn-color-background);\n",
              "}\n",
              "\n",
              "/* Toggleable label */\n",
              "#sk-container-id-1 label.sk-toggleable__label {\n",
              "  cursor: pointer;\n",
              "  display: flex;\n",
              "  width: 100%;\n",
              "  margin-bottom: 0;\n",
              "  padding: 0.5em;\n",
              "  box-sizing: border-box;\n",
              "  text-align: center;\n",
              "  align-items: start;\n",
              "  justify-content: space-between;\n",
              "  gap: 0.5em;\n",
              "}\n",
              "\n",
              "#sk-container-id-1 label.sk-toggleable__label .caption {\n",
              "  font-size: 0.6rem;\n",
              "  font-weight: lighter;\n",
              "  color: var(--sklearn-color-text-muted);\n",
              "}\n",
              "\n",
              "#sk-container-id-1 label.sk-toggleable__label-arrow:before {\n",
              "  /* Arrow on the left of the label */\n",
              "  content: \"▸\";\n",
              "  float: left;\n",
              "  margin-right: 0.25em;\n",
              "  color: var(--sklearn-color-icon);\n",
              "}\n",
              "\n",
              "#sk-container-id-1 label.sk-toggleable__label-arrow:hover:before {\n",
              "  color: var(--sklearn-color-text);\n",
              "}\n",
              "\n",
              "/* Toggleable content - dropdown */\n",
              "\n",
              "#sk-container-id-1 div.sk-toggleable__content {\n",
              "  max-height: 0;\n",
              "  max-width: 0;\n",
              "  overflow: hidden;\n",
              "  text-align: left;\n",
              "  /* unfitted */\n",
              "  background-color: var(--sklearn-color-unfitted-level-0);\n",
              "}\n",
              "\n",
              "#sk-container-id-1 div.sk-toggleable__content.fitted {\n",
              "  /* fitted */\n",
              "  background-color: var(--sklearn-color-fitted-level-0);\n",
              "}\n",
              "\n",
              "#sk-container-id-1 div.sk-toggleable__content pre {\n",
              "  margin: 0.2em;\n",
              "  border-radius: 0.25em;\n",
              "  color: var(--sklearn-color-text);\n",
              "  /* unfitted */\n",
              "  background-color: var(--sklearn-color-unfitted-level-0);\n",
              "}\n",
              "\n",
              "#sk-container-id-1 div.sk-toggleable__content.fitted pre {\n",
              "  /* unfitted */\n",
              "  background-color: var(--sklearn-color-fitted-level-0);\n",
              "}\n",
              "\n",
              "#sk-container-id-1 input.sk-toggleable__control:checked~div.sk-toggleable__content {\n",
              "  /* Expand drop-down */\n",
              "  max-height: 200px;\n",
              "  max-width: 100%;\n",
              "  overflow: auto;\n",
              "}\n",
              "\n",
              "#sk-container-id-1 input.sk-toggleable__control:checked~label.sk-toggleable__label-arrow:before {\n",
              "  content: \"▾\";\n",
              "}\n",
              "\n",
              "/* Pipeline/ColumnTransformer-specific style */\n",
              "\n",
              "#sk-container-id-1 div.sk-label input.sk-toggleable__control:checked~label.sk-toggleable__label {\n",
              "  color: var(--sklearn-color-text);\n",
              "  background-color: var(--sklearn-color-unfitted-level-2);\n",
              "}\n",
              "\n",
              "#sk-container-id-1 div.sk-label.fitted input.sk-toggleable__control:checked~label.sk-toggleable__label {\n",
              "  background-color: var(--sklearn-color-fitted-level-2);\n",
              "}\n",
              "\n",
              "/* Estimator-specific style */\n",
              "\n",
              "/* Colorize estimator box */\n",
              "#sk-container-id-1 div.sk-estimator input.sk-toggleable__control:checked~label.sk-toggleable__label {\n",
              "  /* unfitted */\n",
              "  background-color: var(--sklearn-color-unfitted-level-2);\n",
              "}\n",
              "\n",
              "#sk-container-id-1 div.sk-estimator.fitted input.sk-toggleable__control:checked~label.sk-toggleable__label {\n",
              "  /* fitted */\n",
              "  background-color: var(--sklearn-color-fitted-level-2);\n",
              "}\n",
              "\n",
              "#sk-container-id-1 div.sk-label label.sk-toggleable__label,\n",
              "#sk-container-id-1 div.sk-label label {\n",
              "  /* The background is the default theme color */\n",
              "  color: var(--sklearn-color-text-on-default-background);\n",
              "}\n",
              "\n",
              "/* On hover, darken the color of the background */\n",
              "#sk-container-id-1 div.sk-label:hover label.sk-toggleable__label {\n",
              "  color: var(--sklearn-color-text);\n",
              "  background-color: var(--sklearn-color-unfitted-level-2);\n",
              "}\n",
              "\n",
              "/* Label box, darken color on hover, fitted */\n",
              "#sk-container-id-1 div.sk-label.fitted:hover label.sk-toggleable__label.fitted {\n",
              "  color: var(--sklearn-color-text);\n",
              "  background-color: var(--sklearn-color-fitted-level-2);\n",
              "}\n",
              "\n",
              "/* Estimator label */\n",
              "\n",
              "#sk-container-id-1 div.sk-label label {\n",
              "  font-family: monospace;\n",
              "  font-weight: bold;\n",
              "  display: inline-block;\n",
              "  line-height: 1.2em;\n",
              "}\n",
              "\n",
              "#sk-container-id-1 div.sk-label-container {\n",
              "  text-align: center;\n",
              "}\n",
              "\n",
              "/* Estimator-specific */\n",
              "#sk-container-id-1 div.sk-estimator {\n",
              "  font-family: monospace;\n",
              "  border: 1px dotted var(--sklearn-color-border-box);\n",
              "  border-radius: 0.25em;\n",
              "  box-sizing: border-box;\n",
              "  margin-bottom: 0.5em;\n",
              "  /* unfitted */\n",
              "  background-color: var(--sklearn-color-unfitted-level-0);\n",
              "}\n",
              "\n",
              "#sk-container-id-1 div.sk-estimator.fitted {\n",
              "  /* fitted */\n",
              "  background-color: var(--sklearn-color-fitted-level-0);\n",
              "}\n",
              "\n",
              "/* on hover */\n",
              "#sk-container-id-1 div.sk-estimator:hover {\n",
              "  /* unfitted */\n",
              "  background-color: var(--sklearn-color-unfitted-level-2);\n",
              "}\n",
              "\n",
              "#sk-container-id-1 div.sk-estimator.fitted:hover {\n",
              "  /* fitted */\n",
              "  background-color: var(--sklearn-color-fitted-level-2);\n",
              "}\n",
              "\n",
              "/* Specification for estimator info (e.g. \"i\" and \"?\") */\n",
              "\n",
              "/* Common style for \"i\" and \"?\" */\n",
              "\n",
              ".sk-estimator-doc-link,\n",
              "a:link.sk-estimator-doc-link,\n",
              "a:visited.sk-estimator-doc-link {\n",
              "  float: right;\n",
              "  font-size: smaller;\n",
              "  line-height: 1em;\n",
              "  font-family: monospace;\n",
              "  background-color: var(--sklearn-color-background);\n",
              "  border-radius: 1em;\n",
              "  height: 1em;\n",
              "  width: 1em;\n",
              "  text-decoration: none !important;\n",
              "  margin-left: 0.5em;\n",
              "  text-align: center;\n",
              "  /* unfitted */\n",
              "  border: var(--sklearn-color-unfitted-level-1) 1pt solid;\n",
              "  color: var(--sklearn-color-unfitted-level-1);\n",
              "}\n",
              "\n",
              ".sk-estimator-doc-link.fitted,\n",
              "a:link.sk-estimator-doc-link.fitted,\n",
              "a:visited.sk-estimator-doc-link.fitted {\n",
              "  /* fitted */\n",
              "  border: var(--sklearn-color-fitted-level-1) 1pt solid;\n",
              "  color: var(--sklearn-color-fitted-level-1);\n",
              "}\n",
              "\n",
              "/* On hover */\n",
              "div.sk-estimator:hover .sk-estimator-doc-link:hover,\n",
              ".sk-estimator-doc-link:hover,\n",
              "div.sk-label-container:hover .sk-estimator-doc-link:hover,\n",
              ".sk-estimator-doc-link:hover {\n",
              "  /* unfitted */\n",
              "  background-color: var(--sklearn-color-unfitted-level-3);\n",
              "  color: var(--sklearn-color-background);\n",
              "  text-decoration: none;\n",
              "}\n",
              "\n",
              "div.sk-estimator.fitted:hover .sk-estimator-doc-link.fitted:hover,\n",
              ".sk-estimator-doc-link.fitted:hover,\n",
              "div.sk-label-container:hover .sk-estimator-doc-link.fitted:hover,\n",
              ".sk-estimator-doc-link.fitted:hover {\n",
              "  /* fitted */\n",
              "  background-color: var(--sklearn-color-fitted-level-3);\n",
              "  color: var(--sklearn-color-background);\n",
              "  text-decoration: none;\n",
              "}\n",
              "\n",
              "/* Span, style for the box shown on hovering the info icon */\n",
              ".sk-estimator-doc-link span {\n",
              "  display: none;\n",
              "  z-index: 9999;\n",
              "  position: relative;\n",
              "  font-weight: normal;\n",
              "  right: .2ex;\n",
              "  padding: .5ex;\n",
              "  margin: .5ex;\n",
              "  width: min-content;\n",
              "  min-width: 20ex;\n",
              "  max-width: 50ex;\n",
              "  color: var(--sklearn-color-text);\n",
              "  box-shadow: 2pt 2pt 4pt #999;\n",
              "  /* unfitted */\n",
              "  background: var(--sklearn-color-unfitted-level-0);\n",
              "  border: .5pt solid var(--sklearn-color-unfitted-level-3);\n",
              "}\n",
              "\n",
              ".sk-estimator-doc-link.fitted span {\n",
              "  /* fitted */\n",
              "  background: var(--sklearn-color-fitted-level-0);\n",
              "  border: var(--sklearn-color-fitted-level-3);\n",
              "}\n",
              "\n",
              ".sk-estimator-doc-link:hover span {\n",
              "  display: block;\n",
              "}\n",
              "\n",
              "/* \"?\"-specific style due to the `<a>` HTML tag */\n",
              "\n",
              "#sk-container-id-1 a.estimator_doc_link {\n",
              "  float: right;\n",
              "  font-size: 1rem;\n",
              "  line-height: 1em;\n",
              "  font-family: monospace;\n",
              "  background-color: var(--sklearn-color-background);\n",
              "  border-radius: 1rem;\n",
              "  height: 1rem;\n",
              "  width: 1rem;\n",
              "  text-decoration: none;\n",
              "  /* unfitted */\n",
              "  color: var(--sklearn-color-unfitted-level-1);\n",
              "  border: var(--sklearn-color-unfitted-level-1) 1pt solid;\n",
              "}\n",
              "\n",
              "#sk-container-id-1 a.estimator_doc_link.fitted {\n",
              "  /* fitted */\n",
              "  border: var(--sklearn-color-fitted-level-1) 1pt solid;\n",
              "  color: var(--sklearn-color-fitted-level-1);\n",
              "}\n",
              "\n",
              "/* On hover */\n",
              "#sk-container-id-1 a.estimator_doc_link:hover {\n",
              "  /* unfitted */\n",
              "  background-color: var(--sklearn-color-unfitted-level-3);\n",
              "  color: var(--sklearn-color-background);\n",
              "  text-decoration: none;\n",
              "}\n",
              "\n",
              "#sk-container-id-1 a.estimator_doc_link.fitted:hover {\n",
              "  /* fitted */\n",
              "  background-color: var(--sklearn-color-fitted-level-3);\n",
              "}\n",
              "</style><div id=\"sk-container-id-1\" class=\"sk-top-container\"><div class=\"sk-text-repr-fallback\"><pre>LogisticRegression(class_weight=&#x27;balanced&#x27;)</pre><b>In a Jupyter environment, please rerun this cell to show the HTML representation or trust the notebook. <br />On GitHub, the HTML representation is unable to render, please try loading this page with nbviewer.org.</b></div><div class=\"sk-container\" hidden><div class=\"sk-item\"><div class=\"sk-estimator fitted sk-toggleable\"><input class=\"sk-toggleable__control sk-hidden--visually\" id=\"sk-estimator-id-1\" type=\"checkbox\" checked><label for=\"sk-estimator-id-1\" class=\"sk-toggleable__label fitted sk-toggleable__label-arrow\"><div><div>LogisticRegression</div></div><div><a class=\"sk-estimator-doc-link fitted\" rel=\"noreferrer\" target=\"_blank\" href=\"https://scikit-learn.org/1.6/modules/generated/sklearn.linear_model.LogisticRegression.html\">?<span>Documentation for LogisticRegression</span></a><span class=\"sk-estimator-doc-link fitted\">i<span>Fitted</span></span></div></label><div class=\"sk-toggleable__content fitted\"><pre>LogisticRegression(class_weight=&#x27;balanced&#x27;)</pre></div> </div></div></div></div>"
            ]
          },
          "metadata": {},
          "execution_count": 34
        }
      ]
    },
    {
      "cell_type": "code",
      "source": [
        "def evaluate_recommendations(gold_mapping, recommendations, k=100):\n",
        "    true_labels = []\n",
        "    predicted_labels = []\n",
        "    for pid, gold in gold_mapping.items():\n",
        "        if pid in recommendations:\n",
        "            true_labels.append(gold)\n",
        "            predicted_labels.append(recommendations[pid])\n",
        "    recall = mean_recall_at_k(true_labels, predicted_labels, k=k)\n",
        "    mAP = mean_average_precision(true_labels, predicted_labels, k=k)\n",
        "    return recall, mAP\n",
        "\n",
        "def re_rank_candidates(ids, baseline_sim_matrix, re_rank_model, top_k_candidates=100):\n",
        "    nonciting_ids = [doc['id'] for doc in full_text_nonciting] # Get non-citing patent IDs\n",
        "\n",
        "    re_ranked = {}\n",
        "    for idx, pid in enumerate(ids):\n",
        "        candidate_indices = np.argsort(baseline_sim_matrix[idx])[::-1][:top_k_candidates]\n",
        "        features = np.array([[baseline_sim_matrix[idx, cand_idx]] for cand_idx in candidate_indices])\n",
        "        probas = re_rank_model.predict_proba(features)[:, 1]\n",
        "        sorted_order = np.argsort(probas)[::-1]\n",
        "        re_ranked_ids = [nonciting_ids[candidate_indices[i]] for i in sorted_order]\n",
        "        re_ranked[pid] = re_ranked_ids\n",
        "    return re_ranked"
      ],
      "metadata": {
        "id": "mJ2CQ70bEHNV"
      },
      "execution_count": null,
      "outputs": []
    },
    {
      "cell_type": "code",
      "source": [
        "re_ranked_recommendations = re_rank_candidates(citing_ids, cosine_similarities, re_rank_model)"
      ],
      "metadata": {
        "id": "wr3L320LDX8E"
      },
      "execution_count": null,
      "outputs": []
    },
    {
      "cell_type": "code",
      "source": [
        "recall_after, mAP_after = evaluate_recommendations(mapping_dict, re_ranked_recommendations, k=100)\n",
        "print(\"After re-ranking: Recall@100 =\", recall_after, \"mAP@100 =\", mAP_after) # Recall@100 = 0.8314253647586985 mAP@100 = 0.36926215097770604"
      ],
      "metadata": {
        "colab": {
          "base_uri": "https://localhost:8080/"
        },
        "id": "VSiJfOnuDZLK",
        "outputId": "065b31d1-15a0-4096-dbe1-1e7cc2add7b2"
      },
      "execution_count": null,
      "outputs": [
        {
          "output_type": "stream",
          "name": "stdout",
          "text": [
            "После re-ranking: Recall@100 = 0.8314253647586985 mAP@100 = 0.36926215097770604\n"
          ]
        }
      ]
    },
    {
      "cell_type": "markdown",
      "source": [
        "# Grid search models"
      ],
      "metadata": {
        "id": "BGUg5p5cEgI6"
      }
    },
    {
      "cell_type": "code",
      "source": [
        "from sklearn.linear_model import LogisticRegression\n",
        "from sklearn.ensemble import RandomForestClassifier\n",
        "import xgboost as xgb\n",
        "import itertools\n",
        "from sklearn.model_selection import StratifiedKFold, cross_val_score"
      ],
      "metadata": {
        "id": "xL3PgSm3Eioo"
      },
      "execution_count": null,
      "outputs": []
    },
    {
      "cell_type": "code",
      "source": [
        "lr_params = {\n",
        "    'C': [0.1, 1.0, 10.0]\n",
        "}\n",
        "rf_params = {\n",
        "    'n_estimators': [50, 100],\n",
        "    'max_depth': [5, 10]\n",
        "}\n",
        "xgb_params = {\n",
        "    'learning_rate': [0.01, 0.1],\n",
        "    'n_estimators': [50, 100],\n",
        "    'max_depth': [3, 5]\n",
        "}\n",
        "\n",
        "models = [\n",
        "    ('lr', LogisticRegression(class_weight='balanced', random_state=42), lr_params),\n",
        "    ('rf', RandomForestClassifier(class_weight='balanced', random_state=42), rf_params),\n",
        "    ('xgb', xgb.XGBClassifier(use_label_encoder=False, eval_metric='logloss', random_state=42), xgb_params)\n",
        "]"
      ],
      "metadata": {
        "id": "1pvzm_2iEjwU"
      },
      "execution_count": null,
      "outputs": []
    },
    {
      "cell_type": "code",
      "source": [
        "cv = StratifiedKFold(n_splits=5, shuffle=True, random_state=42)\n",
        "\n",
        "best_score = -np.inf\n",
        "best_model = None\n",
        "best_model_name = None\n",
        "best_params = None\n",
        "\n",
        "scoring = 'average_precision'"
      ],
      "metadata": {
        "id": "0tuv5VMzEjuD"
      },
      "execution_count": null,
      "outputs": []
    },
    {
      "cell_type": "code",
      "source": [
        "for model_name, model, param_grid in models:\n",
        "    keys, values = zip(*param_grid.items())\n",
        "    for combination in itertools.product(*values):\n",
        "        params = dict(zip(keys, combination))\n",
        "        model.set_params(**params)\n",
        "        scores = cross_val_score(model, X_train, y_train, cv=cv, scoring=scoring)\n",
        "        mean_score = np.mean(scores)\n",
        "        print(f\"Model {model_name} with params {params}: average precision = {mean_score:.4f}\")\n",
        "        if mean_score > best_score:\n",
        "            best_score = mean_score\n",
        "            best_model = model\n",
        "            best_model_name = model_name\n",
        "            best_params = params"
      ],
      "metadata": {
        "colab": {
          "base_uri": "https://localhost:8080/"
        },
        "collapsed": true,
        "id": "g69S9B8EEp3h",
        "outputId": "58cb6746-1665-4ca6-d430-7f065be6c3af"
      },
      "execution_count": null,
      "outputs": [
        {
          "output_type": "stream",
          "name": "stdout",
          "text": [
            "Model lr with params {'C': 0.1}: average precision = 0.1083\n",
            "Model lr with params {'C': 1.0}: average precision = 0.1083\n",
            "Model lr with params {'C': 10.0}: average precision = 0.1083\n",
            "Model rf with params {'n_estimators': 50, 'max_depth': 5}: average precision = 0.1051\n",
            "Model rf with params {'n_estimators': 50, 'max_depth': 10}: average precision = 0.0957\n",
            "Model rf with params {'n_estimators': 100, 'max_depth': 5}: average precision = 0.1062\n",
            "Model rf with params {'n_estimators': 100, 'max_depth': 10}: average precision = 0.0960\n"
          ]
        },
        {
          "output_type": "stream",
          "name": "stderr",
          "text": [
            "/usr/local/lib/python3.11/dist-packages/xgboost/core.py:158: UserWarning: [19:29:07] WARNING: /workspace/src/learner.cc:740: \n",
            "Parameters: { \"use_label_encoder\" } are not used.\n",
            "\n",
            "  warnings.warn(smsg, UserWarning)\n",
            "/usr/local/lib/python3.11/dist-packages/xgboost/core.py:158: UserWarning: [19:29:08] WARNING: /workspace/src/learner.cc:740: \n",
            "Parameters: { \"use_label_encoder\" } are not used.\n",
            "\n",
            "  warnings.warn(smsg, UserWarning)\n",
            "/usr/local/lib/python3.11/dist-packages/xgboost/core.py:158: UserWarning: [19:29:09] WARNING: /workspace/src/learner.cc:740: \n",
            "Parameters: { \"use_label_encoder\" } are not used.\n",
            "\n",
            "  warnings.warn(smsg, UserWarning)\n",
            "/usr/local/lib/python3.11/dist-packages/xgboost/core.py:158: UserWarning: [19:29:10] WARNING: /workspace/src/learner.cc:740: \n",
            "Parameters: { \"use_label_encoder\" } are not used.\n",
            "\n",
            "  warnings.warn(smsg, UserWarning)\n",
            "/usr/local/lib/python3.11/dist-packages/xgboost/core.py:158: UserWarning: [19:29:11] WARNING: /workspace/src/learner.cc:740: \n",
            "Parameters: { \"use_label_encoder\" } are not used.\n",
            "\n",
            "  warnings.warn(smsg, UserWarning)\n"
          ]
        },
        {
          "output_type": "stream",
          "name": "stdout",
          "text": [
            "Model xgb with params {'learning_rate': 0.01, 'n_estimators': 50, 'max_depth': 3}: average precision = 0.0935\n"
          ]
        },
        {
          "output_type": "stream",
          "name": "stderr",
          "text": [
            "/usr/local/lib/python3.11/dist-packages/xgboost/core.py:158: UserWarning: [19:29:12] WARNING: /workspace/src/learner.cc:740: \n",
            "Parameters: { \"use_label_encoder\" } are not used.\n",
            "\n",
            "  warnings.warn(smsg, UserWarning)\n",
            "/usr/local/lib/python3.11/dist-packages/xgboost/core.py:158: UserWarning: [19:29:13] WARNING: /workspace/src/learner.cc:740: \n",
            "Parameters: { \"use_label_encoder\" } are not used.\n",
            "\n",
            "  warnings.warn(smsg, UserWarning)\n",
            "/usr/local/lib/python3.11/dist-packages/xgboost/core.py:158: UserWarning: [19:29:14] WARNING: /workspace/src/learner.cc:740: \n",
            "Parameters: { \"use_label_encoder\" } are not used.\n",
            "\n",
            "  warnings.warn(smsg, UserWarning)\n",
            "/usr/local/lib/python3.11/dist-packages/xgboost/core.py:158: UserWarning: [19:29:15] WARNING: /workspace/src/learner.cc:740: \n",
            "Parameters: { \"use_label_encoder\" } are not used.\n",
            "\n",
            "  warnings.warn(smsg, UserWarning)\n",
            "/usr/local/lib/python3.11/dist-packages/xgboost/core.py:158: UserWarning: [19:29:16] WARNING: /workspace/src/learner.cc:740: \n",
            "Parameters: { \"use_label_encoder\" } are not used.\n",
            "\n",
            "  warnings.warn(smsg, UserWarning)\n"
          ]
        },
        {
          "output_type": "stream",
          "name": "stdout",
          "text": [
            "Model xgb with params {'learning_rate': 0.01, 'n_estimators': 50, 'max_depth': 5}: average precision = 0.0947\n"
          ]
        },
        {
          "output_type": "stream",
          "name": "stderr",
          "text": [
            "/usr/local/lib/python3.11/dist-packages/xgboost/core.py:158: UserWarning: [19:29:17] WARNING: /workspace/src/learner.cc:740: \n",
            "Parameters: { \"use_label_encoder\" } are not used.\n",
            "\n",
            "  warnings.warn(smsg, UserWarning)\n",
            "/usr/local/lib/python3.11/dist-packages/xgboost/core.py:158: UserWarning: [19:29:19] WARNING: /workspace/src/learner.cc:740: \n",
            "Parameters: { \"use_label_encoder\" } are not used.\n",
            "\n",
            "  warnings.warn(smsg, UserWarning)\n",
            "/usr/local/lib/python3.11/dist-packages/xgboost/core.py:158: UserWarning: [19:29:21] WARNING: /workspace/src/learner.cc:740: \n",
            "Parameters: { \"use_label_encoder\" } are not used.\n",
            "\n",
            "  warnings.warn(smsg, UserWarning)\n",
            "/usr/local/lib/python3.11/dist-packages/xgboost/core.py:158: UserWarning: [19:29:23] WARNING: /workspace/src/learner.cc:740: \n",
            "Parameters: { \"use_label_encoder\" } are not used.\n",
            "\n",
            "  warnings.warn(smsg, UserWarning)\n",
            "/usr/local/lib/python3.11/dist-packages/xgboost/core.py:158: UserWarning: [19:29:24] WARNING: /workspace/src/learner.cc:740: \n",
            "Parameters: { \"use_label_encoder\" } are not used.\n",
            "\n",
            "  warnings.warn(smsg, UserWarning)\n"
          ]
        },
        {
          "output_type": "stream",
          "name": "stdout",
          "text": [
            "Model xgb with params {'learning_rate': 0.01, 'n_estimators': 100, 'max_depth': 3}: average precision = 0.0944\n"
          ]
        },
        {
          "output_type": "stream",
          "name": "stderr",
          "text": [
            "/usr/local/lib/python3.11/dist-packages/xgboost/core.py:158: UserWarning: [19:29:26] WARNING: /workspace/src/learner.cc:740: \n",
            "Parameters: { \"use_label_encoder\" } are not used.\n",
            "\n",
            "  warnings.warn(smsg, UserWarning)\n",
            "/usr/local/lib/python3.11/dist-packages/xgboost/core.py:158: UserWarning: [19:29:28] WARNING: /workspace/src/learner.cc:740: \n",
            "Parameters: { \"use_label_encoder\" } are not used.\n",
            "\n",
            "  warnings.warn(smsg, UserWarning)\n",
            "/usr/local/lib/python3.11/dist-packages/xgboost/core.py:158: UserWarning: [19:29:30] WARNING: /workspace/src/learner.cc:740: \n",
            "Parameters: { \"use_label_encoder\" } are not used.\n",
            "\n",
            "  warnings.warn(smsg, UserWarning)\n",
            "/usr/local/lib/python3.11/dist-packages/xgboost/core.py:158: UserWarning: [19:29:32] WARNING: /workspace/src/learner.cc:740: \n",
            "Parameters: { \"use_label_encoder\" } are not used.\n",
            "\n",
            "  warnings.warn(smsg, UserWarning)\n",
            "/usr/local/lib/python3.11/dist-packages/xgboost/core.py:158: UserWarning: [19:29:35] WARNING: /workspace/src/learner.cc:740: \n",
            "Parameters: { \"use_label_encoder\" } are not used.\n",
            "\n",
            "  warnings.warn(smsg, UserWarning)\n"
          ]
        },
        {
          "output_type": "stream",
          "name": "stdout",
          "text": [
            "Model xgb with params {'learning_rate': 0.01, 'n_estimators': 100, 'max_depth': 5}: average precision = 0.0950\n"
          ]
        },
        {
          "output_type": "stream",
          "name": "stderr",
          "text": [
            "/usr/local/lib/python3.11/dist-packages/xgboost/core.py:158: UserWarning: [19:29:37] WARNING: /workspace/src/learner.cc:740: \n",
            "Parameters: { \"use_label_encoder\" } are not used.\n",
            "\n",
            "  warnings.warn(smsg, UserWarning)\n",
            "/usr/local/lib/python3.11/dist-packages/xgboost/core.py:158: UserWarning: [19:29:38] WARNING: /workspace/src/learner.cc:740: \n",
            "Parameters: { \"use_label_encoder\" } are not used.\n",
            "\n",
            "  warnings.warn(smsg, UserWarning)\n",
            "/usr/local/lib/python3.11/dist-packages/xgboost/core.py:158: UserWarning: [19:29:39] WARNING: /workspace/src/learner.cc:740: \n",
            "Parameters: { \"use_label_encoder\" } are not used.\n",
            "\n",
            "  warnings.warn(smsg, UserWarning)\n",
            "/usr/local/lib/python3.11/dist-packages/xgboost/core.py:158: UserWarning: [19:29:40] WARNING: /workspace/src/learner.cc:740: \n",
            "Parameters: { \"use_label_encoder\" } are not used.\n",
            "\n",
            "  warnings.warn(smsg, UserWarning)\n",
            "/usr/local/lib/python3.11/dist-packages/xgboost/core.py:158: UserWarning: [19:29:41] WARNING: /workspace/src/learner.cc:740: \n",
            "Parameters: { \"use_label_encoder\" } are not used.\n",
            "\n",
            "  warnings.warn(smsg, UserWarning)\n"
          ]
        },
        {
          "output_type": "stream",
          "name": "stdout",
          "text": [
            "Model xgb with params {'learning_rate': 0.1, 'n_estimators': 50, 'max_depth': 3}: average precision = 0.0956\n"
          ]
        },
        {
          "output_type": "stream",
          "name": "stderr",
          "text": [
            "/usr/local/lib/python3.11/dist-packages/xgboost/core.py:158: UserWarning: [19:29:41] WARNING: /workspace/src/learner.cc:740: \n",
            "Parameters: { \"use_label_encoder\" } are not used.\n",
            "\n",
            "  warnings.warn(smsg, UserWarning)\n",
            "/usr/local/lib/python3.11/dist-packages/xgboost/core.py:158: UserWarning: [19:29:43] WARNING: /workspace/src/learner.cc:740: \n",
            "Parameters: { \"use_label_encoder\" } are not used.\n",
            "\n",
            "  warnings.warn(smsg, UserWarning)\n",
            "/usr/local/lib/python3.11/dist-packages/xgboost/core.py:158: UserWarning: [19:29:44] WARNING: /workspace/src/learner.cc:740: \n",
            "Parameters: { \"use_label_encoder\" } are not used.\n",
            "\n",
            "  warnings.warn(smsg, UserWarning)\n",
            "/usr/local/lib/python3.11/dist-packages/xgboost/core.py:158: UserWarning: [19:29:46] WARNING: /workspace/src/learner.cc:740: \n",
            "Parameters: { \"use_label_encoder\" } are not used.\n",
            "\n",
            "  warnings.warn(smsg, UserWarning)\n",
            "/usr/local/lib/python3.11/dist-packages/xgboost/core.py:158: UserWarning: [19:29:47] WARNING: /workspace/src/learner.cc:740: \n",
            "Parameters: { \"use_label_encoder\" } are not used.\n",
            "\n",
            "  warnings.warn(smsg, UserWarning)\n"
          ]
        },
        {
          "output_type": "stream",
          "name": "stdout",
          "text": [
            "Model xgb with params {'learning_rate': 0.1, 'n_estimators': 50, 'max_depth': 5}: average precision = 0.0964\n"
          ]
        },
        {
          "output_type": "stream",
          "name": "stderr",
          "text": [
            "/usr/local/lib/python3.11/dist-packages/xgboost/core.py:158: UserWarning: [19:29:48] WARNING: /workspace/src/learner.cc:740: \n",
            "Parameters: { \"use_label_encoder\" } are not used.\n",
            "\n",
            "  warnings.warn(smsg, UserWarning)\n",
            "/usr/local/lib/python3.11/dist-packages/xgboost/core.py:158: UserWarning: [19:29:50] WARNING: /workspace/src/learner.cc:740: \n",
            "Parameters: { \"use_label_encoder\" } are not used.\n",
            "\n",
            "  warnings.warn(smsg, UserWarning)\n",
            "/usr/local/lib/python3.11/dist-packages/xgboost/core.py:158: UserWarning: [19:29:52] WARNING: /workspace/src/learner.cc:740: \n",
            "Parameters: { \"use_label_encoder\" } are not used.\n",
            "\n",
            "  warnings.warn(smsg, UserWarning)\n",
            "/usr/local/lib/python3.11/dist-packages/xgboost/core.py:158: UserWarning: [19:29:53] WARNING: /workspace/src/learner.cc:740: \n",
            "Parameters: { \"use_label_encoder\" } are not used.\n",
            "\n",
            "  warnings.warn(smsg, UserWarning)\n",
            "/usr/local/lib/python3.11/dist-packages/xgboost/core.py:158: UserWarning: [19:29:55] WARNING: /workspace/src/learner.cc:740: \n",
            "Parameters: { \"use_label_encoder\" } are not used.\n",
            "\n",
            "  warnings.warn(smsg, UserWarning)\n"
          ]
        },
        {
          "output_type": "stream",
          "name": "stdout",
          "text": [
            "Model xgb with params {'learning_rate': 0.1, 'n_estimators': 100, 'max_depth': 3}: average precision = 0.0961\n"
          ]
        },
        {
          "output_type": "stream",
          "name": "stderr",
          "text": [
            "/usr/local/lib/python3.11/dist-packages/xgboost/core.py:158: UserWarning: [19:29:57] WARNING: /workspace/src/learner.cc:740: \n",
            "Parameters: { \"use_label_encoder\" } are not used.\n",
            "\n",
            "  warnings.warn(smsg, UserWarning)\n",
            "/usr/local/lib/python3.11/dist-packages/xgboost/core.py:158: UserWarning: [19:29:59] WARNING: /workspace/src/learner.cc:740: \n",
            "Parameters: { \"use_label_encoder\" } are not used.\n",
            "\n",
            "  warnings.warn(smsg, UserWarning)\n",
            "/usr/local/lib/python3.11/dist-packages/xgboost/core.py:158: UserWarning: [19:30:02] WARNING: /workspace/src/learner.cc:740: \n",
            "Parameters: { \"use_label_encoder\" } are not used.\n",
            "\n",
            "  warnings.warn(smsg, UserWarning)\n",
            "/usr/local/lib/python3.11/dist-packages/xgboost/core.py:158: UserWarning: [19:30:04] WARNING: /workspace/src/learner.cc:740: \n",
            "Parameters: { \"use_label_encoder\" } are not used.\n",
            "\n",
            "  warnings.warn(smsg, UserWarning)\n",
            "/usr/local/lib/python3.11/dist-packages/xgboost/core.py:158: UserWarning: [19:30:06] WARNING: /workspace/src/learner.cc:740: \n",
            "Parameters: { \"use_label_encoder\" } are not used.\n",
            "\n",
            "  warnings.warn(smsg, UserWarning)\n"
          ]
        },
        {
          "output_type": "stream",
          "name": "stdout",
          "text": [
            "Model xgb with params {'learning_rate': 0.1, 'n_estimators': 100, 'max_depth': 5}: average precision = 0.0965\n"
          ]
        }
      ]
    },
    {
      "cell_type": "code",
      "source": [
        "print(best_model_name) # lr\n",
        "print(best_params) # {'C': 0.1}\n",
        "print( best_score) # 0.10834978155896706"
      ],
      "metadata": {
        "id": "Cf7ZNkkEEp0u"
      },
      "execution_count": null,
      "outputs": []
    },
    {
      "cell_type": "markdown",
      "source": [
        "## Getting Test Enbeddings and predicitions"
      ],
      "metadata": {
        "id": "w82hiKtG1GGn"
      }
    },
    {
      "cell_type": "code",
      "source": [
        "full_text_citing = create_corpus(json_citing_test , 'fulltext')\n",
        "full_text_nonciting = create_corpus(json_nonciting, 'fulltext')"
      ],
      "metadata": {
        "id": "e_OEgHGCjm1J"
      },
      "execution_count": null,
      "outputs": []
    },
    {
      "cell_type": "code",
      "source": [
        "full_text_citing_text = [doc['text'] for doc in full_text_citing]\n",
        "fulltext_citing_embeddings = model.encode(full_text_citing_text, convert_to_tensor=True, device=device)"
      ],
      "metadata": {
        "id": "c0wD3fmf1iV5"
      },
      "execution_count": null,
      "outputs": []
    },
    {
      "cell_type": "code",
      "source": [
        "full_text_nonciting_text = [doc['text'] for doc in full_text_nonciting]\n",
        "fulltext_nonciting_embeddings = model.encode(full_text_nonciting_text, convert_to_tensor=True, device=device)"
      ],
      "metadata": {
        "id": "PnB_H2x-1e7g"
      },
      "execution_count": null,
      "outputs": []
    },
    {
      "cell_type": "code",
      "source": [
        "cosine_similarities_fulltext = linear_kernel(fulltext_citing_embeddings.cpu(), fulltext_nonciting_embeddings.cpu())"
      ],
      "metadata": {
        "id": "qWISgbpC1EPg"
      },
      "execution_count": null,
      "outputs": []
    },
    {
      "cell_type": "code",
      "source": [
        "top_k_rank_fulltext = top_k_ranks(full_text_citing, full_text_nonciting, cosine_similarities_fulltext, k=100)"
      ],
      "metadata": {
        "id": "y-BND70JE9-e"
      },
      "execution_count": null,
      "outputs": []
    },
    {
      "cell_type": "code",
      "source": [
        "np.save('full_text_citing_text_embeddings.npy', fulltext_citing_embeddings.cpu().numpy())"
      ],
      "metadata": {
        "id": "lFb9-D8w8q41"
      },
      "execution_count": null,
      "outputs": []
    },
    {
      "cell_type": "code",
      "source": [
        "np.save('full_text_nonciting_text_embeddings.npy', fulltext_nonciting_embeddings.cpu().numpy())"
      ],
      "metadata": {
        "id": "riR4sQB88rw5"
      },
      "execution_count": null,
      "outputs": []
    },
    {
      "cell_type": "markdown",
      "source": [
        "# Save results"
      ],
      "metadata": {
        "id": "eenYqgsAFSMe"
      }
    },
    {
      "cell_type": "code",
      "source": [
        "with open('prediction1.json', 'w') as f:\n",
        "    json.dump(top_k_rank_fulltext, f)"
      ],
      "metadata": {
        "id": "OJa-IYrhsuJF"
      },
      "execution_count": null,
      "outputs": []
    }
  ]
}