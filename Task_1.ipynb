{
  "cells": [
    {
      "cell_type": "markdown",
      "id": "0345a5ef-9254-4e29-bd22-ef3e84c7f432",
      "metadata": {
        "id": "0345a5ef-9254-4e29-bd22-ef3e84c7f432"
      },
      "source": [
        "# Introduction and conclusions"
      ]
    },
    {
      "cell_type": "markdown",
      "id": "3e1c0f60-dd06-487f-89ac-acc65f967e7b",
      "metadata": {
        "id": "3e1c0f60-dd06-487f-89ac-acc65f967e7b"
      },
      "source": [
        "### So, our best result on the test (on the challenge website) is mAP = 0.531, Recall = 0.932"
      ]
    },
    {
      "cell_type": "markdown",
      "id": "7603d9cc-511c-4fec-9a46-340903640b1d",
      "metadata": {
        "id": "7603d9cc-511c-4fec-9a46-340903640b1d"
      },
      "source": [
        "The main results obtained on the train are highlighted in bold headings along the notebook. If you collapse all the headings, it will be easier to navigate, and you will see the intermediate results metrics.\n",
        "\n",
        "Our main task was to start with minimal basic tools, without complicating things. Therefore, we started with TF-IDF, then used ready-made dense embeddings, and only then tried to generate our own embeddings.\n",
        "\n",
        "1. We independently determined the best TF-IDF configuration, which independently gave the quality Recall=0.8963, mAP=0.4734. We checked which components and their weights are important, and which vectorizer parameters give a good result. We also checked the result when cleaning the text, but it was unsatisfactory.\n",
        "2. Then we began to find out which patent components are important in the ready-made embeddings that were provided to us. Based on the search results, we selected TA separately and the sum of TA and claims from the allMini model.\n",
        "3. After that, we began to combine the results of TF-IDF (vector of pairwise distance of vectors) and Dense Embeddings (similar to distance). First TA, then the sum of TA and claims. The latter turned out to be better.\n",
        "4. Our innovative idea was to use a classifier trained on golden citations. The idea is that the citation examples are NOT likely to be the top ones in our distance vectors, which is why the hit quality of the predictions is so low. How then? This will help to know the classifier that returns the probability that the document is truly cited. The ranking by these probabilities is our final prediction. We did not use the division into train and test! Because the share of positive (gold) citations was already very low (1.1%), to lose data for the test. We can say that the test was the test data on the platform. We also tried RRF, it increased Recall to the maximum, but it still shows worse mAP than reranking with classificator.\n",
        "6. Then we tried to generate dense embeddings using the Doc2Vec model. It worked bast for the fulltext component, achieving a Recall@100 of 0.6939 and a mAP of 0.2037. Although we tried fine-tuning the model, we could not significantly improve the results. Then, we decided to explore another approach using a different version of sBERT (all-MiniLM-L12-v2) to see if it could further improve recall and mAP, since our previous sBERT embeddings had already shown promising results. We tested different components: description only, title+description, and fulltext. The best performance was achieved using the title+description combination, with Recall@100=0.814 and mAP=0.3241. To further improve mAP, we did a grid search which enhanced mAP to 0.3374. However, the improvement was not significant.\n"
      ]
    },
    {
      "cell_type": "markdown",
      "id": "98fc9720-cd75-4f91-972d-f6b38c708227",
      "metadata": {
        "id": "98fc9720-cd75-4f91-972d-f6b38c708227"
      },
      "source": [
        "### Structure:\n",
        "1. Upload Data\n",
        "2. Data Analysis\n",
        "3. TF-IDF\n",
        "4. Re-Ranking of TD-IDF\n",
        "5. Dense Embeddings From Class\n",
        "6. TF-IDF & Embeddings from Class\n",
        "7. Doc2Vec\n",
        "8. sBert-L12 (all-MiniLM-L12-v2)"
      ]
    },
    {
      "cell_type": "markdown",
      "id": "68faec62-6ec4-43c3-86b8-f07314bdcf7e",
      "metadata": {
        "id": "68faec62-6ec4-43c3-86b8-f07314bdcf7e",
        "jp-MarkdownHeadingCollapsed": true
      },
      "source": [
        "# Import"
      ]
    },
    {
      "cell_type": "code",
      "execution_count": 1,
      "id": "c153a0ed-5244-4e77-8af5-87be29d57a02",
      "metadata": {
        "id": "c153a0ed-5244-4e77-8af5-87be29d57a02"
      },
      "outputs": [],
      "source": [
        "import os\n",
        "import random\n",
        "import itertools\n",
        "import json\n",
        "\n",
        "import matplotlib.pyplot as plt\n",
        "import pandas as pd\n",
        "import numpy as np\n",
        "from tqdm.auto import tqdm\n",
        "\n",
        "from sklearn.feature_extraction.text import TfidfVectorizer\n",
        "from sklearn.metrics.pairwise import linear_kernel\n",
        "\n",
        "from sklearn.model_selection import ParameterGrid\n",
        "from sklearn.linear_model import LogisticRegression\n",
        "from sklearn.ensemble import RandomForestClassifier\n",
        "from sklearn.model_selection import StratifiedKFold, cross_val_score\n",
        "import xgboost as xgb\n",
        "from gensim.models.doc2vec import Doc2Vec, TaggedDocument\n",
        "from sentence_transformers import SentenceTransformer\n",
        "\n",
        "import nltk\n",
        "from nltk.tokenize import word_tokenize\n",
        "from nltk.corpus import stopwords\n",
        "\n",
        "import task1_modules\n",
        "from task1_modules import (\n",
        "    load_json_data,\n",
        "    analyze_content,\n",
        "    create_weighted_corpus,\n",
        "    create_tfidf_matrix,\n",
        "    prepare_tfidf_data,\n",
        "    get_tfidf_recommendations,\n",
        "    grid_search_tfidf,\n",
        "    mean_recall_at_k,\n",
        "    mean_average_precision,\n",
        "    evaluate_recommendations,\n",
        "    prepare_training_data_tfidf,\n",
        "    get_mapping_dict,\n",
        "    clean_text,\n",
        "    re_rank_candidates_tfidf,\n",
        "    load_embeddings_and_ids,\n",
        "    get_dense_recommendations,\n",
        "    grid_search_embedd_comp,\n",
        "    combine_embed,\n",
        "    grid_search_embedd_combinations,\n",
        "    fuse_results_simple,\n",
        "    prepare_training_data_fused,\n",
        "    re_rank_candidates_fused,\n",
        "    align_embeddings,\n",
        "    fuse_results_rrf,\n",
        "    grid_search_rrf,\n",
        "    get_true_and_predicted,\n",
        "    create_corpus,\n",
        "    top_k_ranks,\n",
        "    mean_ranking,\n",
        "    train_doc2vec_model,\n",
        "    create_doc2vec_embeddings,\n",
        "    create_combined_corpus,\n",
        "    prepare_training_data_sbert_l12,\n",
        "    evaluate_recommendations_sbert_l12,\n",
        "    re_rank_candidates_sbert_l12\n",
        ")"
      ]
    },
    {
      "cell_type": "code",
      "execution_count": 3,
      "id": "c1c8d49c-8f56-4940-a466-1e79f3eda9d6",
      "metadata": {
        "colab": {
          "base_uri": "https://localhost:8080/"
        },
        "id": "c1c8d49c-8f56-4940-a466-1e79f3eda9d6",
        "outputId": "e4697a9e-5a7d-429a-e95d-b9fa108eb45c"
      },
      "outputs": [
        {
          "data": {
            "text/plain": [
              "<module 'task1_modules' from '/content/task1_modules.py'>"
            ]
          },
          "execution_count": 3,
          "metadata": {},
          "output_type": "execute_result"
        }
      ],
      "source": [
        "import importlib\n",
        "importlib.reload(task1_modules)"
      ]
    },
    {
      "cell_type": "markdown",
      "id": "37988b10-6236-4e43-a586-c546f262d585",
      "metadata": {
        "id": "37988b10-6236-4e43-a586-c546f262d585",
        "jp-MarkdownHeadingCollapsed": true
      },
      "source": [
        "# 1. Upload Data"
      ]
    },
    {
      "cell_type": "markdown",
      "id": "a7ccf59d-c9d0-4ed5-a2af-da4c41494072",
      "metadata": {
        "id": "a7ccf59d-c9d0-4ed5-a2af-da4c41494072"
      },
      "source": [
        "## Raw Texts"
      ]
    },
    {
      "cell_type": "code",
      "execution_count": null,
      "id": "25816fc8-68a6-4efd-93be-0589085396d9",
      "metadata": {
        "id": "25816fc8-68a6-4efd-93be-0589085396d9"
      },
      "outputs": [],
      "source": [
        "json_citing_train = load_json_data(\"./datasets/Content_JSONs/Citing_2020_Cleaned_Content_12k/Citing_Train_Test/citing_TRAIN.json\")\n",
        "json_citing_test = load_json_data(\"./datasets/Content_JSONs/Citing_2020_Cleaned_Content_12k/Citing_Train_Test/citing_TEST.json\")\n",
        "\n",
        "json_nonciting = load_json_data(\"./datasets/Content_JSONs/Cited_2020_Uncited_2010-2019_Cleaned_Content_22k/CLEANED_CONTENT_DATASET_cited_patents_by_2020_uncited_2010-2019.json\")\n",
        "json_citing_to_cited = load_json_data(\"./datasets/Citation_JSONs/Citation_Train.json\")"
      ]
    },
    {
      "cell_type": "code",
      "execution_count": null,
      "id": "dcc999f7-d8ee-45e3-9ea2-dbf2db6a2c7e",
      "metadata": {
        "id": "dcc999f7-d8ee-45e3-9ea2-dbf2db6a2c7e"
      },
      "outputs": [],
      "source": [
        "citing_dataset_df = pd.DataFrame(json_citing_train)\n",
        "citing_dataset_df_test = pd.DataFrame(json_citing_test)\n",
        "nonciting_dataset_df = pd.DataFrame(json_nonciting)\n",
        "mapping_dataset_df = pd.DataFrame(json_citing_to_cited)\n",
        "\n",
        "gold_mapping = get_mapping_dict(mapping_dataset_df)"
      ]
    },
    {
      "cell_type": "markdown",
      "id": "90208f09-0b0b-470b-ab23-f5c80ecd4ad1",
      "metadata": {
        "id": "90208f09-0b0b-470b-ab23-f5c80ecd4ad1",
        "jp-MarkdownHeadingCollapsed": true
      },
      "source": [
        "# 2. Data Analysis"
      ]
    },
    {
      "cell_type": "code",
      "execution_count": null,
      "id": "961a0b3f-8ec2-4acf-bca5-15285a212b41",
      "metadata": {
        "id": "961a0b3f-8ec2-4acf-bca5-15285a212b41",
        "outputId": "49f04760-79c4-4f35-acc1-b662bb338657"
      },
      "outputs": [
        {
          "data": {
            "text/html": [
              "<div>\n",
              "<style scoped>\n",
              "    .dataframe tbody tr th:only-of-type {\n",
              "        vertical-align: middle;\n",
              "    }\n",
              "\n",
              "    .dataframe tbody tr th {\n",
              "        vertical-align: top;\n",
              "    }\n",
              "\n",
              "    .dataframe thead th {\n",
              "        text-align: right;\n",
              "    }\n",
              "</style>\n",
              "<table border=\"1\" class=\"dataframe\">\n",
              "  <thead>\n",
              "    <tr style=\"text-align: right;\">\n",
              "      <th></th>\n",
              "      <th>Application_Number</th>\n",
              "      <th>Application_Date</th>\n",
              "      <th>Application_Category</th>\n",
              "      <th>Content</th>\n",
              "    </tr>\n",
              "  </thead>\n",
              "  <tbody>\n",
              "    <tr>\n",
              "      <th>0</th>\n",
              "      <td>3650293</td>\n",
              "      <td>2020-05-13</td>\n",
              "      <td>A1</td>\n",
              "      <td>{'title': 'DEVICE FOR CONTROLLING THE BRAKING ...</td>\n",
              "    </tr>\n",
              "    <tr>\n",
              "      <th>1</th>\n",
              "      <td>3694265</td>\n",
              "      <td>2020-08-12</td>\n",
              "      <td>A1</td>\n",
              "      <td>{'title': 'TIME DIVISION MULTIPLEXING OF SYNCH...</td>\n",
              "    </tr>\n",
              "    <tr>\n",
              "      <th>2</th>\n",
              "      <td>3623522</td>\n",
              "      <td>2020-03-18</td>\n",
              "      <td>A1</td>\n",
              "      <td>{'title': 'LAUNDRY MACHINE AND CONTROL METHOD ...</td>\n",
              "    </tr>\n",
              "  </tbody>\n",
              "</table>\n",
              "</div>"
            ],
            "text/plain": [
              "  Application_Number Application_Date Application_Category  \\\n",
              "0            3650293       2020-05-13                   A1   \n",
              "1            3694265       2020-08-12                   A1   \n",
              "2            3623522       2020-03-18                   A1   \n",
              "\n",
              "                                             Content  \n",
              "0  {'title': 'DEVICE FOR CONTROLLING THE BRAKING ...  \n",
              "1  {'title': 'TIME DIVISION MULTIPLEXING OF SYNCH...  \n",
              "2  {'title': 'LAUNDRY MACHINE AND CONTROL METHOD ...  "
            ]
          },
          "execution_count": 14,
          "metadata": {},
          "output_type": "execute_result"
        }
      ],
      "source": [
        "citing_dataset_df.head(3)"
      ]
    },
    {
      "cell_type": "code",
      "execution_count": null,
      "id": "ee98fb51-0f87-4373-9364-eaa8913316f4",
      "metadata": {
        "id": "ee98fb51-0f87-4373-9364-eaa8913316f4",
        "outputId": "e0d9776b-3a70-4d79-bb1a-d9e49b7e56c1"
      },
      "outputs": [
        {
          "data": {
            "text/html": [
              "<div>\n",
              "<style scoped>\n",
              "    .dataframe tbody tr th:only-of-type {\n",
              "        vertical-align: middle;\n",
              "    }\n",
              "\n",
              "    .dataframe tbody tr th {\n",
              "        vertical-align: top;\n",
              "    }\n",
              "\n",
              "    .dataframe thead th {\n",
              "        text-align: right;\n",
              "    }\n",
              "</style>\n",
              "<table border=\"1\" class=\"dataframe\">\n",
              "  <thead>\n",
              "    <tr style=\"text-align: right;\">\n",
              "      <th></th>\n",
              "      <th>Application_Number</th>\n",
              "      <th>Application_Date</th>\n",
              "      <th>Application_Category</th>\n",
              "      <th>Content</th>\n",
              "    </tr>\n",
              "  </thead>\n",
              "  <tbody>\n",
              "    <tr>\n",
              "      <th>0</th>\n",
              "      <td>2019772</td>\n",
              "      <td>2013-08-28</td>\n",
              "      <td>B1</td>\n",
              "      <td>{'title': 'VEHICLE WITH LOCKABLE TILT SYSTEM',...</td>\n",
              "    </tr>\n",
              "    <tr>\n",
              "      <th>1</th>\n",
              "      <td>2136094</td>\n",
              "      <td>2013-05-22</td>\n",
              "      <td>B1</td>\n",
              "      <td>{'title': 'UNIVERSAL JOINT', 'c-en-0001': 'A u...</td>\n",
              "    </tr>\n",
              "    <tr>\n",
              "      <th>2</th>\n",
              "      <td>2340701</td>\n",
              "      <td>2011-07-06</td>\n",
              "      <td>A2</td>\n",
              "      <td>{'title': 'Apparatus, method and computer prog...</td>\n",
              "    </tr>\n",
              "  </tbody>\n",
              "</table>\n",
              "</div>"
            ],
            "text/plain": [
              "  Application_Number Application_Date Application_Category  \\\n",
              "0            2019772       2013-08-28                   B1   \n",
              "1            2136094       2013-05-22                   B1   \n",
              "2            2340701       2011-07-06                   A2   \n",
              "\n",
              "                                             Content  \n",
              "0  {'title': 'VEHICLE WITH LOCKABLE TILT SYSTEM',...  \n",
              "1  {'title': 'UNIVERSAL JOINT', 'c-en-0001': 'A u...  \n",
              "2  {'title': 'Apparatus, method and computer prog...  "
            ]
          },
          "execution_count": 15,
          "metadata": {},
          "output_type": "execute_result"
        }
      ],
      "source": [
        "nonciting_dataset_df.head(3)"
      ]
    },
    {
      "cell_type": "code",
      "execution_count": null,
      "id": "7f29d074-ca05-47ae-b10d-47cfc1d8d756",
      "metadata": {
        "id": "7f29d074-ca05-47ae-b10d-47cfc1d8d756",
        "outputId": "44b969d7-2c3a-4f7c-90de-720029ae616d"
      },
      "outputs": [
        {
          "data": {
            "text/plain": [
              "Application_Number      0\n",
              "Application_Date        0\n",
              "Application_Category    0\n",
              "Content                 0\n",
              "dtype: int64"
            ]
          },
          "execution_count": 16,
          "metadata": {},
          "output_type": "execute_result"
        }
      ],
      "source": [
        "citing_dataset_df.isna().sum()"
      ]
    },
    {
      "cell_type": "code",
      "execution_count": null,
      "id": "9a06b5e0-2e07-4988-8cdc-c47be7a2f69f",
      "metadata": {
        "id": "9a06b5e0-2e07-4988-8cdc-c47be7a2f69f",
        "outputId": "24e62dc0-f409-4f94-dded-7465cbc47e54"
      },
      "outputs": [
        {
          "data": {
            "text/plain": [
              "Application_Number      0\n",
              "Application_Date        0\n",
              "Application_Category    0\n",
              "Content                 0\n",
              "dtype: int64"
            ]
          },
          "execution_count": 17,
          "metadata": {},
          "output_type": "execute_result"
        }
      ],
      "source": [
        "nonciting_dataset_df.isna().sum()"
      ]
    },
    {
      "cell_type": "code",
      "execution_count": null,
      "id": "118d44cf-eb83-44b9-8d4a-5170627ba287",
      "metadata": {
        "id": "118d44cf-eb83-44b9-8d4a-5170627ba287",
        "outputId": "00247a4e-9a68-4ac3-9850-a1a81ae0b1ba"
      },
      "outputs": [
        {
          "data": {
            "text/plain": [
              "(6829, 6831)"
            ]
          },
          "execution_count": 18,
          "metadata": {},
          "output_type": "execute_result"
        }
      ],
      "source": [
        "citing_dataset_df['Application_Number'].nunique(), len(citing_dataset_df)"
      ]
    },
    {
      "cell_type": "code",
      "execution_count": null,
      "id": "e7eb6987-7b9d-4179-a4ab-bbbb5415a5cf",
      "metadata": {
        "id": "e7eb6987-7b9d-4179-a4ab-bbbb5415a5cf",
        "outputId": "1f5a1728-5dc1-4a61-d5ef-4215db81ae04"
      },
      "outputs": [
        {
          "data": {
            "text/plain": [
              "(16807, 16837)"
            ]
          },
          "execution_count": 19,
          "metadata": {},
          "output_type": "execute_result"
        }
      ],
      "source": [
        "nonciting_dataset_df['Application_Number'].nunique(), len(nonciting_dataset_df)"
      ]
    },
    {
      "cell_type": "code",
      "execution_count": null,
      "id": "d9db4685-a09d-479a-90fd-f879247aa673",
      "metadata": {
        "id": "d9db4685-a09d-479a-90fd-f879247aa673",
        "outputId": "0703a601-ecf0-4016-ef7f-7b2b27762dd6"
      },
      "outputs": [
        {
          "data": {
            "text/plain": [
              "Application_Category\n",
              "A1    6829\n",
              "A9       2\n",
              "Name: count, dtype: int64"
            ]
          },
          "execution_count": 20,
          "metadata": {},
          "output_type": "execute_result"
        }
      ],
      "source": [
        "citing_dataset_df['Application_Category'].value_counts()"
      ]
    },
    {
      "cell_type": "code",
      "execution_count": null,
      "id": "1bd3d53a-e2e2-4840-ada7-034fd18f7a2c",
      "metadata": {
        "id": "1bd3d53a-e2e2-4840-ada7-034fd18f7a2c",
        "outputId": "288fb9c8-de0c-4126-93d0-8a0b880ef2a2"
      },
      "outputs": [
        {
          "data": {
            "text/plain": [
              "Application_Category\n",
              "A1    1000\n",
              "Name: count, dtype: int64"
            ]
          },
          "execution_count": 21,
          "metadata": {},
          "output_type": "execute_result"
        }
      ],
      "source": [
        "citing_dataset_df_test['Application_Category'].value_counts()"
      ]
    },
    {
      "cell_type": "code",
      "execution_count": null,
      "id": "580ad96e-153b-4cfa-bf1b-bb869c9bd332",
      "metadata": {
        "id": "580ad96e-153b-4cfa-bf1b-bb869c9bd332",
        "outputId": "1ecdb396-b95e-4c3a-fb2c-1410ef52714a"
      },
      "outputs": [
        {
          "data": {
            "text/plain": [
              "Application_Category\n",
              "B1    7932\n",
              "A1    7354\n",
              "A2    1396\n",
              "B2     112\n",
              "B9      40\n",
              "B3       3\n",
              "Name: count, dtype: int64"
            ]
          },
          "execution_count": 22,
          "metadata": {},
          "output_type": "execute_result"
        }
      ],
      "source": [
        "nonciting_dataset_df['Application_Category'].value_counts()"
      ]
    },
    {
      "cell_type": "code",
      "execution_count": null,
      "id": "aff1c0fc-952f-47d9-a8b0-7f8d9598d8d8",
      "metadata": {
        "id": "aff1c0fc-952f-47d9-a8b0-7f8d9598d8d8",
        "outputId": "bb0555ee-cf75-4510-ee68-6d9316644bda"
      },
      "outputs": [
        {
          "data": {
            "text/html": [
              "<div>\n",
              "<style scoped>\n",
              "    .dataframe tbody tr th:only-of-type {\n",
              "        vertical-align: middle;\n",
              "    }\n",
              "\n",
              "    .dataframe tbody tr th {\n",
              "        vertical-align: top;\n",
              "    }\n",
              "\n",
              "    .dataframe thead th {\n",
              "        text-align: right;\n",
              "    }\n",
              "</style>\n",
              "<table border=\"1\" class=\"dataframe\">\n",
              "  <thead>\n",
              "    <tr style=\"text-align: right;\">\n",
              "      <th></th>\n",
              "      <th>0</th>\n",
              "      <th>1</th>\n",
              "      <th>2</th>\n",
              "      <th>3</th>\n",
              "      <th>4</th>\n",
              "    </tr>\n",
              "  </thead>\n",
              "  <tbody>\n",
              "    <tr>\n",
              "      <th>0</th>\n",
              "      <td>3712070A1</td>\n",
              "      <td>[c-en-0004]</td>\n",
              "      <td>3354576A1</td>\n",
              "      <td>[p0024, p0027, c-en-0012, c-en-0013]</td>\n",
              "      <td>A</td>\n",
              "    </tr>\n",
              "    <tr>\n",
              "      <th>1</th>\n",
              "      <td>3675165A1</td>\n",
              "      <td>[c-en-0001, c-en-0002, c-en-0003, c-en-0004, c...</td>\n",
              "      <td>3336831A2</td>\n",
              "      <td>[p0045, p0046, p0047, p0048, p0049, p0050, p00...</td>\n",
              "      <td>A</td>\n",
              "    </tr>\n",
              "    <tr>\n",
              "      <th>2</th>\n",
              "      <td>3599626A1</td>\n",
              "      <td>[c-en-0002, c-en-0003, c-en-0004, c-en-0005, c...</td>\n",
              "      <td>2453448A1</td>\n",
              "      <td>[p0029, p0030]</td>\n",
              "      <td>A</td>\n",
              "    </tr>\n",
              "  </tbody>\n",
              "</table>\n",
              "</div>"
            ],
            "text/plain": [
              "           0                                                  1          2  \\\n",
              "0  3712070A1                                        [c-en-0004]  3354576A1   \n",
              "1  3675165A1  [c-en-0001, c-en-0002, c-en-0003, c-en-0004, c...  3336831A2   \n",
              "2  3599626A1  [c-en-0002, c-en-0003, c-en-0004, c-en-0005, c...  2453448A1   \n",
              "\n",
              "                                                   3  4  \n",
              "0               [p0024, p0027, c-en-0012, c-en-0013]  A  \n",
              "1  [p0045, p0046, p0047, p0048, p0049, p0050, p00...  A  \n",
              "2                                     [p0029, p0030]  A  "
            ]
          },
          "execution_count": 23,
          "metadata": {},
          "output_type": "execute_result"
        }
      ],
      "source": [
        "mapping_dataset_df.head(3)"
      ]
    },
    {
      "cell_type": "code",
      "execution_count": null,
      "id": "cc3032ab-8eee-4b1e-bbe6-5573235e7fa9",
      "metadata": {
        "id": "cc3032ab-8eee-4b1e-bbe6-5573235e7fa9",
        "outputId": "f5d9b5f0-cc23-4aa1-a037-98be6f999d30"
      },
      "outputs": [
        {
          "data": {
            "image/png": "[encoded data removed]",
            "text/plain": [
              "<Figure size 640x480 with 1 Axes>"
            ]
          },
          "metadata": {},
          "output_type": "display_data"
        }
      ],
      "source": [
        "citing_claims       = citing_dataset_df['Content'].apply(lambda c: analyze_content(c, flag='claims'))\n",
        "citing_claims_test  = citing_dataset_df_test['Content'].apply(lambda c: analyze_content(c, flag='claims'))\n",
        "nonciting_claims    = nonciting_dataset_df['Content'].apply(lambda c: analyze_content(c, flag='claims'))\n",
        "\n",
        "plt.boxplot([citing_claims, citing_claims_test, nonciting_claims])\n",
        "plt.xticks([1, 2, 3], ['Citing Train', 'Citing Test', 'Nonciting'])\n",
        "plt.ylabel('Number of Claims')\n",
        "plt.title('Claims (c-en-XXX)')\n",
        "plt.show()"
      ]
    },
    {
      "cell_type": "code",
      "execution_count": null,
      "id": "ae56b6cd-aea9-4101-8084-a62c09ba9b27",
      "metadata": {
        "id": "ae56b6cd-aea9-4101-8084-a62c09ba9b27",
        "outputId": "7be0a0eb-fc17-48fe-d1df-bf5597fbbd7a"
      },
      "outputs": [
        {
          "data": {
            "image/png": "[encoded data removed]",
            "text/plain": [
              "<Figure size 640x480 with 1 Axes>"
            ]
          },
          "metadata": {},
          "output_type": "display_data"
        }
      ],
      "source": [
        "citing_descr       = citing_dataset_df['Content'].apply(lambda c: analyze_content(c, flag='descr'))\n",
        "citing_descr_test  = citing_dataset_df_test['Content'].apply(lambda c: analyze_content(c, flag='descr'))\n",
        "nonciting_descr    = nonciting_dataset_df['Content'].apply(lambda c: analyze_content(c, flag='descr'))\n",
        "\n",
        "plt.boxplot([citing_descr, citing_descr_test, nonciting_descr])\n",
        "plt.xticks([1, 2, 3], ['Citing Train', 'Citing Test', 'Nonciting'])\n",
        "plt.ylabel('Number of Description Sections')\n",
        "plt.title('Descrs (pXXX)')\n",
        "plt.show()"
      ]
    },
    {
      "cell_type": "code",
      "execution_count": null,
      "id": "30bf2740-3e83-4050-b1ab-0e3a142e7ffe",
      "metadata": {
        "id": "30bf2740-3e83-4050-b1ab-0e3a142e7ffe",
        "outputId": "f5148b0f-44c6-495a-e665-b352ecb2d781"
      },
      "outputs": [
        {
          "data": {
            "image/png": "[encoded data removed]",
            "text/plain": [
              "<Figure size 640x480 with 1 Axes>"
            ]
          },
          "metadata": {},
          "output_type": "display_data"
        }
      ],
      "source": [
        "citing_lengths       = citing_dataset_df['Content'].apply(lambda c: analyze_content(c, flag='total'))\n",
        "citing_lengths_test  = citing_dataset_df_test['Content'].apply(lambda c: analyze_content(c, flag='total'))\n",
        "nonciting_lengths    = nonciting_dataset_df['Content'].apply(lambda c: analyze_content(c, flag='total'))\n",
        "\n",
        "plt.hist(citing_lengths,      alpha=0.5, bins=200, label='Citing Train')\n",
        "plt.hist(citing_lengths_test, alpha=0.5, bins=200, label='Citing Test')\n",
        "plt.hist(nonciting_lengths,   alpha=0.5, bins=200, label='Nonciting')\n",
        "plt.xlabel('Total Text Length (words)')\n",
        "plt.ylabel('Count')\n",
        "plt.title('Total Text Length')\n",
        "plt.legend()\n",
        "plt.show()"
      ]
    },
    {
      "cell_type": "code",
      "execution_count": null,
      "id": "46e3f3b4-ce21-4874-a6db-9595c0b8244c",
      "metadata": {
        "id": "46e3f3b4-ce21-4874-a6db-9595c0b8244c",
        "outputId": "20d81da1-5c20-4dc9-86e7-f988f0d0cf8f"
      },
      "outputs": [
        {
          "data": {
            "image/png": "[encoded data removed]",
            "text/plain": [
              "<Figure size 640x480 with 1 Axes>"
            ]
          },
          "metadata": {},
          "output_type": "display_data"
        }
      ],
      "source": [
        "plt.hist(citing_lengths, alpha=0.5, bins=200, label='Citing Train', density=True)\n",
        "plt.hist(citing_lengths_test, alpha=0.5, bins=200, label='Citing Test', density=True)\n",
        "plt.hist(nonciting_lengths, alpha=0.5, bins=200, label='Nonciting', density=True)\n",
        "plt.xlabel('Total Text Length (words)')\n",
        "plt.xlim(right=80000)\n",
        "#plt.ylim(top=0.0)\n",
        "plt.ylabel('Density')\n",
        "plt.title('Total text length')\n",
        "plt.legend()\n",
        "plt.show()"
      ]
    },
    {
      "cell_type": "markdown",
      "id": "9a97fc2d-2051-4a48-b0c3-ba4b7a51b690",
      "metadata": {
        "id": "9a97fc2d-2051-4a48-b0c3-ba4b7a51b690",
        "jp-MarkdownHeadingCollapsed": true
      },
      "source": [
        "# 3. TF-IDF"
      ]
    },
    {
      "cell_type": "markdown",
      "id": "df055961-15b8-410e-a525-b31bf73dd7d2",
      "metadata": {
        "id": "df055961-15b8-410e-a525-b31bf73dd7d2",
        "jp-MarkdownHeadingCollapsed": true
      },
      "source": [
        "## 3.1 Grid Search by Weights of Patent Elements"
      ]
    },
    {
      "cell_type": "markdown",
      "id": "098f9b82-f5a5-430a-8a26-ae77a161f1fc",
      "metadata": {
        "id": "098f9b82-f5a5-430a-8a26-ae77a161f1fc"
      },
      "source": [
        "The idea is that different components of patents can make different contributions to ranking. Therefore, we do a grid search by the contribution of different components. If the weight is greater than 1, then the text of this component is simply taken n times. To speed up grid searching, we start with 20% of the data, then refine the top parameters on the full dataset."
      ]
    },
    {
      "cell_type": "code",
      "execution_count": null,
      "id": "174f1863-4d53-40e2-b7ae-1c4ca3307241",
      "metadata": {
        "id": "174f1863-4d53-40e2-b7ae-1c4ca3307241"
      },
      "outputs": [],
      "source": [
        "#fraction 20%\n",
        "\n",
        "weights_grid = {\n",
        "    'title': [1, 2],\n",
        "    'abstract': [0, 1],\n",
        "    'claims': [0, 1, 2],\n",
        "    'description': [0, 1, 2]\n",
        "}\n",
        "\n",
        "vectorizer_params = {'stop_words': ['english'],\n",
        "                     'max_features': [10000]}"
      ]
    },
    {
      "cell_type": "code",
      "execution_count": null,
      "id": "545fcdd1-7b73-429a-a8b8-5eaa3facf26d",
      "metadata": {
        "colab": {
          "referenced_widgets": [
            "e3f281cfe07540a581d7cd8d44edf3b1",
            "590870e5ec57482d94fd6e8b023451ac",
            "1140a2f04c844501a96462e91df3a368",
            "402e16425868421487f4921283247a64",
            "52a2fea452994c80b5aa85c2c9ceb9ad",
            "74ed7d493212435eb51ffe1568e2210c",
            "6e5113a8f28f47aa8d12a1804ec729a8",
            "17c3811fdd4f49c6bba46b0a5e7072e3",
            "16f20729513b41e189012a3b3d873764",
            "d70d1c6136f9457b879429d8bdae4c7a",
            "4f00b9d82dbd423d97883637202ecd04",
            "bf568ad220674256a20095a0ce4b7a07",
            "799760a2a8e4440ca93c186dd80d84d0",
            "911c0dff916b4549aa7f8a42d4f73b37",
            "0b5c91fa8cda4ce9b9e9cfb827821fd9",
            "edd3e14e46dd4a589adb0aa49abe3a3d",
            "1657ecb8e9584c17a0e1d735e3fe9106",
            "8ff397ba45e546728f72ae5bcdb1ae0e",
            "c7bf91ad4e744d619c527b6479f70f22",
            "2736e986a61b498cb26db497c337b29f",
            "08c2752c13964c8db0111a2fc61a0fbd",
            "9a8d6a724e934f419493731ce213b026",
            "b79d630dee6d428a99ae85d375c32b02",
            "8cc29f052ee144f69aafb8b5ccc342b3",
            "62143aa1bf45454380baa137decf6c8e",
            "04d38c4de74c42a6825af2ad7562d025",
            "f56e8ba8acc44ed6844f5a91960d7aaa",
            "c3b4c6d76b8c4b018eae48e6a40482e0",
            "6c334104d3e24dcca9961d8918094d00",
            "8326002b6edc4547888fa17cbab447f3",
            "71102942e0f84718a8feac72b8044020",
            "db692085626c4ca3818cf134ae062946",
            "f12ad2096b6c40b4bcd751d647c85e63",
            "c7f5c75afe2b440b884b3aa65d2ea1c1",
            "866c84c4a130400e91e4f61375ac130a",
            "ddb4bc53c509475987bf5c10aed65b74"
          ]
        },
        "id": "545fcdd1-7b73-429a-a8b8-5eaa3facf26d",
        "outputId": "0a95ac7e-02b4-4fe4-c0ec-ad8a28b3bb00"
      },
      "outputs": [
        {
          "data": {
            "application/vnd.jupyter.widget-view+json": {
              "model_id": "e3f281cfe07540a581d7cd8d44edf3b1",
              "version_major": 2,
              "version_minor": 0
            },
            "text/plain": [
              "TF-IDF:   0%|          | 0/4733 [00:00<?, ?it/s]"
            ]
          },
          "metadata": {},
          "output_type": "display_data"
        },
        {
          "name": "stdout",
          "output_type": "stream",
          "text": [
            "Vocabulary size: 5340\n",
            "Grid params: weights={'title': 1, 'abstract': 0, 'claims': 0, 'description': 0}, vect_params={'stop_words': 'english', 'max_features': 10000}, Recall@100=0.1195, mAP@100=0.0516, composite=0.0856\n"
          ]
        },
        {
          "data": {
            "application/vnd.jupyter.widget-view+json": {
              "model_id": "590870e5ec57482d94fd6e8b023451ac",
              "version_major": 2,
              "version_minor": 0
            },
            "text/plain": [
              "TF-IDF:   0%|          | 0/4733 [00:00<?, ?it/s]"
            ]
          },
          "metadata": {},
          "output_type": "display_data"
        },
        {
          "name": "stdout",
          "output_type": "stream",
          "text": [
            "Vocabulary size: 10000\n",
            "Grid params: weights={'title': 1, 'abstract': 0, 'claims': 0, 'description': 1}, vect_params={'stop_words': 'english', 'max_features': 10000}, Recall@100=0.1796, mAP@100=0.0989, composite=0.1392\n"
          ]
        },
        {
          "data": {
            "application/vnd.jupyter.widget-view+json": {
              "model_id": "1140a2f04c844501a96462e91df3a368",
              "version_major": 2,
              "version_minor": 0
            },
            "text/plain": [
              "TF-IDF:   0%|          | 0/4733 [00:00<?, ?it/s]"
            ]
          },
          "metadata": {},
          "output_type": "display_data"
        },
        {
          "name": "stdout",
          "output_type": "stream",
          "text": [
            "Vocabulary size: 10000\n",
            "Grid params: weights={'title': 1, 'abstract': 0, 'claims': 0, 'description': 2}, vect_params={'stop_words': 'english', 'max_features': 10000}, Recall@100=0.1796, mAP@100=0.0988, composite=0.1392\n"
          ]
        },
        {
          "data": {
            "application/vnd.jupyter.widget-view+json": {
              "model_id": "402e16425868421487f4921283247a64",
              "version_major": 2,
              "version_minor": 0
            },
            "text/plain": [
              "TF-IDF:   0%|          | 0/4733 [00:00<?, ?it/s]"
            ]
          },
          "metadata": {},
          "output_type": "display_data"
        },
        {
          "name": "stdout",
          "output_type": "stream",
          "text": [
            "Vocabulary size: 10000\n",
            "Grid params: weights={'title': 1, 'abstract': 0, 'claims': 1, 'description': 0}, vect_params={'stop_words': 'english', 'max_features': 10000}, Recall@100=0.1724, mAP@100=0.0776, composite=0.1250\n"
          ]
        },
        {
          "data": {
            "application/vnd.jupyter.widget-view+json": {
              "model_id": "52a2fea452994c80b5aa85c2c9ceb9ad",
              "version_major": 2,
              "version_minor": 0
            },
            "text/plain": [
              "TF-IDF:   0%|          | 0/4733 [00:00<?, ?it/s]"
            ]
          },
          "metadata": {},
          "output_type": "display_data"
        },
        {
          "name": "stdout",
          "output_type": "stream",
          "text": [
            "Vocabulary size: 10000\n",
            "Grid params: weights={'title': 1, 'abstract': 0, 'claims': 1, 'description': 1}, vect_params={'stop_words': 'english', 'max_features': 10000}, Recall@100=0.1790, mAP@100=0.0996, composite=0.1393\n"
          ]
        },
        {
          "data": {
            "application/vnd.jupyter.widget-view+json": {
              "model_id": "74ed7d493212435eb51ffe1568e2210c",
              "version_major": 2,
              "version_minor": 0
            },
            "text/plain": [
              "TF-IDF:   0%|          | 0/4733 [00:00<?, ?it/s]"
            ]
          },
          "metadata": {},
          "output_type": "display_data"
        },
        {
          "name": "stdout",
          "output_type": "stream",
          "text": [
            "Vocabulary size: 10000\n",
            "Grid params: weights={'title': 1, 'abstract': 0, 'claims': 1, 'description': 2}, vect_params={'stop_words': 'english', 'max_features': 10000}, Recall@100=0.1796, mAP@100=0.0987, composite=0.1392\n"
          ]
        },
        {
          "data": {
            "application/vnd.jupyter.widget-view+json": {
              "model_id": "6e5113a8f28f47aa8d12a1804ec729a8",
              "version_major": 2,
              "version_minor": 0
            },
            "text/plain": [
              "TF-IDF:   0%|          | 0/4733 [00:00<?, ?it/s]"
            ]
          },
          "metadata": {},
          "output_type": "display_data"
        },
        {
          "name": "stdout",
          "output_type": "stream",
          "text": [
            "Vocabulary size: 10000\n",
            "Grid params: weights={'title': 1, 'abstract': 0, 'claims': 2, 'description': 0}, vect_params={'stop_words': 'english', 'max_features': 10000}, Recall@100=0.1724, mAP@100=0.0758, composite=0.1241\n"
          ]
        },
        {
          "data": {
            "application/vnd.jupyter.widget-view+json": {
              "model_id": "17c3811fdd4f49c6bba46b0a5e7072e3",
              "version_major": 2,
              "version_minor": 0
            },
            "text/plain": [
              "TF-IDF:   0%|          | 0/4733 [00:00<?, ?it/s]"
            ]
          },
          "metadata": {},
          "output_type": "display_data"
        },
        {
          "name": "stdout",
          "output_type": "stream",
          "text": [
            "Vocabulary size: 10000\n",
            "Grid params: weights={'title': 1, 'abstract': 0, 'claims': 2, 'description': 1}, vect_params={'stop_words': 'english', 'max_features': 10000}, Recall@100=0.1791, mAP@100=0.0977, composite=0.1384\n"
          ]
        },
        {
          "data": {
            "application/vnd.jupyter.widget-view+json": {
              "model_id": "16f20729513b41e189012a3b3d873764",
              "version_major": 2,
              "version_minor": 0
            },
            "text/plain": [
              "TF-IDF:   0%|          | 0/4733 [00:00<?, ?it/s]"
            ]
          },
          "metadata": {},
          "output_type": "display_data"
        },
        {
          "name": "stdout",
          "output_type": "stream",
          "text": [
            "Vocabulary size: 10000\n",
            "Grid params: weights={'title': 1, 'abstract': 0, 'claims': 2, 'description': 2}, vect_params={'stop_words': 'english', 'max_features': 10000}, Recall@100=0.1790, mAP@100=0.0997, composite=0.1393\n"
          ]
        },
        {
          "data": {
            "application/vnd.jupyter.widget-view+json": {
              "model_id": "d70d1c6136f9457b879429d8bdae4c7a",
              "version_major": 2,
              "version_minor": 0
            },
            "text/plain": [
              "TF-IDF:   0%|          | 0/4733 [00:00<?, ?it/s]"
            ]
          },
          "metadata": {},
          "output_type": "display_data"
        },
        {
          "name": "stdout",
          "output_type": "stream",
          "text": [
            "Vocabulary size: 10000\n",
            "Grid params: weights={'title': 1, 'abstract': 1, 'claims': 0, 'description': 0}, vect_params={'stop_words': 'english', 'max_features': 10000}, Recall@100=0.1631, mAP@100=0.0678, composite=0.1154\n"
          ]
        },
        {
          "data": {
            "application/vnd.jupyter.widget-view+json": {
              "model_id": "4f00b9d82dbd423d97883637202ecd04",
              "version_major": 2,
              "version_minor": 0
            },
            "text/plain": [
              "TF-IDF:   0%|          | 0/4733 [00:00<?, ?it/s]"
            ]
          },
          "metadata": {},
          "output_type": "display_data"
        },
        {
          "name": "stdout",
          "output_type": "stream",
          "text": [
            "Vocabulary size: 10000\n",
            "Grid params: weights={'title': 1, 'abstract': 1, 'claims': 0, 'description': 1}, vect_params={'stop_words': 'english', 'max_features': 10000}, Recall@100=0.1796, mAP@100=0.0983, composite=0.1390\n"
          ]
        },
        {
          "data": {
            "application/vnd.jupyter.widget-view+json": {
              "model_id": "bf568ad220674256a20095a0ce4b7a07",
              "version_major": 2,
              "version_minor": 0
            },
            "text/plain": [
              "TF-IDF:   0%|          | 0/4733 [00:00<?, ?it/s]"
            ]
          },
          "metadata": {},
          "output_type": "display_data"
        },
        {
          "name": "stdout",
          "output_type": "stream",
          "text": [
            "Vocabulary size: 10000\n",
            "Grid params: weights={'title': 1, 'abstract': 1, 'claims': 0, 'description': 2}, vect_params={'stop_words': 'english', 'max_features': 10000}, Recall@100=0.1796, mAP@100=0.0987, composite=0.1391\n"
          ]
        },
        {
          "data": {
            "application/vnd.jupyter.widget-view+json": {
              "model_id": "799760a2a8e4440ca93c186dd80d84d0",
              "version_major": 2,
              "version_minor": 0
            },
            "text/plain": [
              "TF-IDF:   0%|          | 0/4733 [00:00<?, ?it/s]"
            ]
          },
          "metadata": {},
          "output_type": "display_data"
        },
        {
          "name": "stdout",
          "output_type": "stream",
          "text": [
            "Vocabulary size: 10000\n",
            "Grid params: weights={'title': 1, 'abstract': 1, 'claims': 1, 'description': 0}, vect_params={'stop_words': 'english', 'max_features': 10000}, Recall@100=0.1737, mAP@100=0.0786, composite=0.1262\n"
          ]
        },
        {
          "data": {
            "application/vnd.jupyter.widget-view+json": {
              "model_id": "911c0dff916b4549aa7f8a42d4f73b37",
              "version_major": 2,
              "version_minor": 0
            },
            "text/plain": [
              "TF-IDF:   0%|          | 0/4733 [00:00<?, ?it/s]"
            ]
          },
          "metadata": {},
          "output_type": "display_data"
        },
        {
          "name": "stdout",
          "output_type": "stream",
          "text": [
            "Vocabulary size: 10000\n",
            "Grid params: weights={'title': 1, 'abstract': 1, 'claims': 1, 'description': 1}, vect_params={'stop_words': 'english', 'max_features': 10000}, Recall@100=0.1790, mAP@100=0.0991, composite=0.1390\n"
          ]
        },
        {
          "data": {
            "application/vnd.jupyter.widget-view+json": {
              "model_id": "0b5c91fa8cda4ce9b9e9cfb827821fd9",
              "version_major": 2,
              "version_minor": 0
            },
            "text/plain": [
              "TF-IDF:   0%|          | 0/4733 [00:00<?, ?it/s]"
            ]
          },
          "metadata": {},
          "output_type": "display_data"
        },
        {
          "name": "stdout",
          "output_type": "stream",
          "text": [
            "Vocabulary size: 10000\n",
            "Grid params: weights={'title': 1, 'abstract': 1, 'claims': 1, 'description': 2}, vect_params={'stop_words': 'english', 'max_features': 10000}, Recall@100=0.1796, mAP@100=0.0987, composite=0.1391\n"
          ]
        },
        {
          "data": {
            "application/vnd.jupyter.widget-view+json": {
              "model_id": "edd3e14e46dd4a589adb0aa49abe3a3d",
              "version_major": 2,
              "version_minor": 0
            },
            "text/plain": [
              "TF-IDF:   0%|          | 0/4733 [00:00<?, ?it/s]"
            ]
          },
          "metadata": {},
          "output_type": "display_data"
        },
        {
          "name": "stdout",
          "output_type": "stream",
          "text": [
            "Vocabulary size: 10000\n",
            "Grid params: weights={'title': 1, 'abstract': 1, 'claims': 2, 'description': 0}, vect_params={'stop_words': 'english', 'max_features': 10000}, Recall@100=0.1733, mAP@100=0.0785, composite=0.1259\n"
          ]
        },
        {
          "data": {
            "application/vnd.jupyter.widget-view+json": {
              "model_id": "1657ecb8e9584c17a0e1d735e3fe9106",
              "version_major": 2,
              "version_minor": 0
            },
            "text/plain": [
              "TF-IDF:   0%|          | 0/4733 [00:00<?, ?it/s]"
            ]
          },
          "metadata": {},
          "output_type": "display_data"
        },
        {
          "name": "stdout",
          "output_type": "stream",
          "text": [
            "Vocabulary size: 10000\n",
            "Grid params: weights={'title': 1, 'abstract': 1, 'claims': 2, 'description': 1}, vect_params={'stop_words': 'english', 'max_features': 10000}, Recall@100=0.1791, mAP@100=0.0964, composite=0.1378\n"
          ]
        },
        {
          "data": {
            "application/vnd.jupyter.widget-view+json": {
              "model_id": "8ff397ba45e546728f72ae5bcdb1ae0e",
              "version_major": 2,
              "version_minor": 0
            },
            "text/plain": [
              "TF-IDF:   0%|          | 0/4733 [00:00<?, ?it/s]"
            ]
          },
          "metadata": {},
          "output_type": "display_data"
        },
        {
          "name": "stdout",
          "output_type": "stream",
          "text": [
            "Vocabulary size: 10000\n",
            "Grid params: weights={'title': 1, 'abstract': 1, 'claims': 2, 'description': 2}, vect_params={'stop_words': 'english', 'max_features': 10000}, Recall@100=0.1793, mAP@100=0.0998, composite=0.1396\n"
          ]
        },
        {
          "data": {
            "application/vnd.jupyter.widget-view+json": {
              "model_id": "c7bf91ad4e744d619c527b6479f70f22",
              "version_major": 2,
              "version_minor": 0
            },
            "text/plain": [
              "TF-IDF:   0%|          | 0/4733 [00:00<?, ?it/s]"
            ]
          },
          "metadata": {},
          "output_type": "display_data"
        },
        {
          "name": "stdout",
          "output_type": "stream",
          "text": [
            "Vocabulary size: 5340\n",
            "Grid params: weights={'title': 2, 'abstract': 0, 'claims': 0, 'description': 0}, vect_params={'stop_words': 'english', 'max_features': 10000}, Recall@100=0.1195, mAP@100=0.0516, composite=0.0856\n"
          ]
        },
        {
          "data": {
            "application/vnd.jupyter.widget-view+json": {
              "model_id": "2736e986a61b498cb26db497c337b29f",
              "version_major": 2,
              "version_minor": 0
            },
            "text/plain": [
              "TF-IDF:   0%|          | 0/4733 [00:00<?, ?it/s]"
            ]
          },
          "metadata": {},
          "output_type": "display_data"
        },
        {
          "name": "stdout",
          "output_type": "stream",
          "text": [
            "Vocabulary size: 10000\n",
            "Grid params: weights={'title': 2, 'abstract': 0, 'claims': 0, 'description': 1}, vect_params={'stop_words': 'english', 'max_features': 10000}, Recall@100=0.1796, mAP@100=0.0988, composite=0.1392\n"
          ]
        },
        {
          "data": {
            "application/vnd.jupyter.widget-view+json": {
              "model_id": "08c2752c13964c8db0111a2fc61a0fbd",
              "version_major": 2,
              "version_minor": 0
            },
            "text/plain": [
              "TF-IDF:   0%|          | 0/4733 [00:00<?, ?it/s]"
            ]
          },
          "metadata": {},
          "output_type": "display_data"
        },
        {
          "name": "stdout",
          "output_type": "stream",
          "text": [
            "Vocabulary size: 10000\n",
            "Grid params: weights={'title': 2, 'abstract': 0, 'claims': 0, 'description': 2}, vect_params={'stop_words': 'english', 'max_features': 10000}, Recall@100=0.1796, mAP@100=0.0989, composite=0.1392\n"
          ]
        },
        {
          "data": {
            "application/vnd.jupyter.widget-view+json": {
              "model_id": "9a8d6a724e934f419493731ce213b026",
              "version_major": 2,
              "version_minor": 0
            },
            "text/plain": [
              "TF-IDF:   0%|          | 0/4733 [00:00<?, ?it/s]"
            ]
          },
          "metadata": {},
          "output_type": "display_data"
        },
        {
          "name": "stdout",
          "output_type": "stream",
          "text": [
            "Vocabulary size: 10000\n",
            "Grid params: weights={'title': 2, 'abstract': 0, 'claims': 1, 'description': 0}, vect_params={'stop_words': 'english', 'max_features': 10000}, Recall@100=0.1746, mAP@100=0.0783, composite=0.1264\n"
          ]
        },
        {
          "data": {
            "application/vnd.jupyter.widget-view+json": {
              "model_id": "b79d630dee6d428a99ae85d375c32b02",
              "version_major": 2,
              "version_minor": 0
            },
            "text/plain": [
              "TF-IDF:   0%|          | 0/4733 [00:00<?, ?it/s]"
            ]
          },
          "metadata": {},
          "output_type": "display_data"
        },
        {
          "name": "stdout",
          "output_type": "stream",
          "text": [
            "Vocabulary size: 10000\n",
            "Grid params: weights={'title': 2, 'abstract': 0, 'claims': 1, 'description': 1}, vect_params={'stop_words': 'english', 'max_features': 10000}, Recall@100=0.1790, mAP@100=0.0997, composite=0.1393\n"
          ]
        },
        {
          "data": {
            "application/vnd.jupyter.widget-view+json": {
              "model_id": "8cc29f052ee144f69aafb8b5ccc342b3",
              "version_major": 2,
              "version_minor": 0
            },
            "text/plain": [
              "TF-IDF:   0%|          | 0/4733 [00:00<?, ?it/s]"
            ]
          },
          "metadata": {},
          "output_type": "display_data"
        },
        {
          "name": "stdout",
          "output_type": "stream",
          "text": [
            "Vocabulary size: 10000\n",
            "Grid params: weights={'title': 2, 'abstract': 0, 'claims': 1, 'description': 2}, vect_params={'stop_words': 'english', 'max_features': 10000}, Recall@100=0.1796, mAP@100=0.0986, composite=0.1391\n"
          ]
        },
        {
          "data": {
            "application/vnd.jupyter.widget-view+json": {
              "model_id": "62143aa1bf45454380baa137decf6c8e",
              "version_major": 2,
              "version_minor": 0
            },
            "text/plain": [
              "TF-IDF:   0%|          | 0/4733 [00:00<?, ?it/s]"
            ]
          },
          "metadata": {},
          "output_type": "display_data"
        },
        {
          "name": "stdout",
          "output_type": "stream",
          "text": [
            "Vocabulary size: 10000\n",
            "Grid params: weights={'title': 2, 'abstract': 0, 'claims': 2, 'description': 0}, vect_params={'stop_words': 'english', 'max_features': 10000}, Recall@100=0.1724, mAP@100=0.0776, composite=0.1250\n"
          ]
        },
        {
          "data": {
            "application/vnd.jupyter.widget-view+json": {
              "model_id": "04d38c4de74c42a6825af2ad7562d025",
              "version_major": 2,
              "version_minor": 0
            },
            "text/plain": [
              "TF-IDF:   0%|          | 0/4733 [00:00<?, ?it/s]"
            ]
          },
          "metadata": {},
          "output_type": "display_data"
        },
        {
          "name": "stdout",
          "output_type": "stream",
          "text": [
            "Vocabulary size: 10000\n",
            "Grid params: weights={'title': 2, 'abstract': 0, 'claims': 2, 'description': 1}, vect_params={'stop_words': 'english', 'max_features': 10000}, Recall@100=0.1791, mAP@100=0.0981, composite=0.1386\n"
          ]
        },
        {
          "data": {
            "application/vnd.jupyter.widget-view+json": {
              "model_id": "f56e8ba8acc44ed6844f5a91960d7aaa",
              "version_major": 2,
              "version_minor": 0
            },
            "text/plain": [
              "TF-IDF:   0%|          | 0/4733 [00:00<?, ?it/s]"
            ]
          },
          "metadata": {},
          "output_type": "display_data"
        },
        {
          "name": "stdout",
          "output_type": "stream",
          "text": [
            "Vocabulary size: 10000\n",
            "Grid params: weights={'title': 2, 'abstract': 0, 'claims': 2, 'description': 2}, vect_params={'stop_words': 'english', 'max_features': 10000}, Recall@100=0.1790, mAP@100=0.0996, composite=0.1393\n"
          ]
        },
        {
          "data": {
            "application/vnd.jupyter.widget-view+json": {
              "model_id": "c3b4c6d76b8c4b018eae48e6a40482e0",
              "version_major": 2,
              "version_minor": 0
            },
            "text/plain": [
              "TF-IDF:   0%|          | 0/4733 [00:00<?, ?it/s]"
            ]
          },
          "metadata": {},
          "output_type": "display_data"
        },
        {
          "name": "stdout",
          "output_type": "stream",
          "text": [
            "Vocabulary size: 10000\n",
            "Grid params: weights={'title': 2, 'abstract': 1, 'claims': 0, 'description': 0}, vect_params={'stop_words': 'english', 'max_features': 10000}, Recall@100=0.1655, mAP@100=0.0717, composite=0.1186\n"
          ]
        },
        {
          "data": {
            "application/vnd.jupyter.widget-view+json": {
              "model_id": "6c334104d3e24dcca9961d8918094d00",
              "version_major": 2,
              "version_minor": 0
            },
            "text/plain": [
              "TF-IDF:   0%|          | 0/4733 [00:00<?, ?it/s]"
            ]
          },
          "metadata": {},
          "output_type": "display_data"
        },
        {
          "name": "stdout",
          "output_type": "stream",
          "text": [
            "Vocabulary size: 10000\n",
            "Grid params: weights={'title': 2, 'abstract': 1, 'claims': 0, 'description': 1}, vect_params={'stop_words': 'english', 'max_features': 10000}, Recall@100=0.1796, mAP@100=0.0980, composite=0.1388\n"
          ]
        },
        {
          "data": {
            "application/vnd.jupyter.widget-view+json": {
              "model_id": "8326002b6edc4547888fa17cbab447f3",
              "version_major": 2,
              "version_minor": 0
            },
            "text/plain": [
              "TF-IDF:   0%|          | 0/4733 [00:00<?, ?it/s]"
            ]
          },
          "metadata": {},
          "output_type": "display_data"
        },
        {
          "name": "stdout",
          "output_type": "stream",
          "text": [
            "Vocabulary size: 10000\n",
            "Grid params: weights={'title': 2, 'abstract': 1, 'claims': 0, 'description': 2}, vect_params={'stop_words': 'english', 'max_features': 10000}, Recall@100=0.1796, mAP@100=0.0987, composite=0.1391\n"
          ]
        },
        {
          "data": {
            "application/vnd.jupyter.widget-view+json": {
              "model_id": "71102942e0f84718a8feac72b8044020",
              "version_major": 2,
              "version_minor": 0
            },
            "text/plain": [
              "TF-IDF:   0%|          | 0/4733 [00:00<?, ?it/s]"
            ]
          },
          "metadata": {},
          "output_type": "display_data"
        },
        {
          "name": "stdout",
          "output_type": "stream",
          "text": [
            "Vocabulary size: 10000\n",
            "Grid params: weights={'title': 2, 'abstract': 1, 'claims': 1, 'description': 0}, vect_params={'stop_words': 'english', 'max_features': 10000}, Recall@100=0.1744, mAP@100=0.0796, composite=0.1270\n"
          ]
        },
        {
          "data": {
            "application/vnd.jupyter.widget-view+json": {
              "model_id": "db692085626c4ca3818cf134ae062946",
              "version_major": 2,
              "version_minor": 0
            },
            "text/plain": [
              "TF-IDF:   0%|          | 0/4733 [00:00<?, ?it/s]"
            ]
          },
          "metadata": {},
          "output_type": "display_data"
        },
        {
          "name": "stdout",
          "output_type": "stream",
          "text": [
            "Vocabulary size: 10000\n",
            "Grid params: weights={'title': 2, 'abstract': 1, 'claims': 1, 'description': 1}, vect_params={'stop_words': 'english', 'max_features': 10000}, Recall@100=0.1790, mAP@100=0.0992, composite=0.1391\n"
          ]
        },
        {
          "data": {
            "application/vnd.jupyter.widget-view+json": {
              "model_id": "f12ad2096b6c40b4bcd751d647c85e63",
              "version_major": 2,
              "version_minor": 0
            },
            "text/plain": [
              "TF-IDF:   0%|          | 0/4733 [00:00<?, ?it/s]"
            ]
          },
          "metadata": {},
          "output_type": "display_data"
        },
        {
          "name": "stdout",
          "output_type": "stream",
          "text": [
            "Vocabulary size: 10000\n",
            "Grid params: weights={'title': 2, 'abstract': 1, 'claims': 1, 'description': 2}, vect_params={'stop_words': 'english', 'max_features': 10000}, Recall@100=0.1796, mAP@100=0.0986, composite=0.1391\n"
          ]
        },
        {
          "data": {
            "application/vnd.jupyter.widget-view+json": {
              "model_id": "c7f5c75afe2b440b884b3aa65d2ea1c1",
              "version_major": 2,
              "version_minor": 0
            },
            "text/plain": [
              "TF-IDF:   0%|          | 0/4733 [00:00<?, ?it/s]"
            ]
          },
          "metadata": {},
          "output_type": "display_data"
        },
        {
          "name": "stdout",
          "output_type": "stream",
          "text": [
            "Vocabulary size: 10000\n",
            "Grid params: weights={'title': 2, 'abstract': 1, 'claims': 2, 'description': 0}, vect_params={'stop_words': 'english', 'max_features': 10000}, Recall@100=0.1733, mAP@100=0.0791, composite=0.1262\n"
          ]
        },
        {
          "data": {
            "application/vnd.jupyter.widget-view+json": {
              "model_id": "866c84c4a130400e91e4f61375ac130a",
              "version_major": 2,
              "version_minor": 0
            },
            "text/plain": [
              "TF-IDF:   0%|          | 0/4733 [00:00<?, ?it/s]"
            ]
          },
          "metadata": {},
          "output_type": "display_data"
        },
        {
          "name": "stdout",
          "output_type": "stream",
          "text": [
            "Vocabulary size: 10000\n",
            "Grid params: weights={'title': 2, 'abstract': 1, 'claims': 2, 'description': 1}, vect_params={'stop_words': 'english', 'max_features': 10000}, Recall@100=0.1783, mAP@100=0.0969, composite=0.1376\n"
          ]
        },
        {
          "data": {
            "application/vnd.jupyter.widget-view+json": {
              "model_id": "ddb4bc53c509475987bf5c10aed65b74",
              "version_major": 2,
              "version_minor": 0
            },
            "text/plain": [
              "TF-IDF:   0%|          | 0/4733 [00:00<?, ?it/s]"
            ]
          },
          "metadata": {},
          "output_type": "display_data"
        },
        {
          "name": "stdout",
          "output_type": "stream",
          "text": [
            "Vocabulary size: 10000\n",
            "Grid params: weights={'title': 2, 'abstract': 1, 'claims': 2, 'description': 2}, vect_params={'stop_words': 'english', 'max_features': 10000}, Recall@100=0.1790, mAP@100=0.0999, composite=0.1394\n"
          ]
        }
      ],
      "source": [
        "best_params, best_score = grid_search_tfidf(\n",
        "    citing_docs=json_citing_train,\n",
        "    nonciting_docs=json_nonciting,\n",
        "    gold_mapping=gold_mapping,\n",
        "    weights_grid=weights_grid,\n",
        "    vectorizer_params_grid=vectorizer_params,\n",
        "    k=100,\n",
        "    sample_fraction=0.2,\n",
        "    random_state=42\n",
        ")"
      ]
    },
    {
      "cell_type": "code",
      "execution_count": null,
      "id": "e89cd3b0-dfbb-443e-935e-cb1e94d3c9bb",
      "metadata": {
        "id": "e89cd3b0-dfbb-443e-935e-cb1e94d3c9bb",
        "outputId": "51a918e9-9279-4b8b-ab20-50127c8b4869"
      },
      "outputs": [
        {
          "name": "stdout",
          "output_type": "stream",
          "text": [
            "Best parameters: {'weights': {'title': 1, 'abstract': 1, 'claims': 2, 'description': 2}, 'vectorizer_params': {'stop_words': 'english', 'max_features': 10000}, 'recall': 0.17931918008784772, 'mAP': 0.09982739959808568, 'composite_score': 0.13957328984296669}\n",
            "Best composite score: 0.13957328984296669\n"
          ]
        }
      ],
      "source": [
        "print(\"Best parameters:\", best_params)\n",
        "print(\"Best composite score:\", best_score)"
      ]
    },
    {
      "cell_type": "markdown",
      "id": "5af5b92b-4225-4e3b-ad58-ad40f5735e37",
      "metadata": {
        "id": "5af5b92b-4225-4e3b-ad58-ad40f5735e37"
      },
      "source": [
        "#### The values of claims and descriptions 1,1 are not much worse in quality then 2,2, but significantly faster in speed. Abstracts for 1,1 do not improve the quality. Therefore, the following weights were chosen for further work:"
      ]
    },
    {
      "cell_type": "code",
      "execution_count": null,
      "id": "d3c66bed-e9b5-4e40-b6b4-c568cdc43c98",
      "metadata": {
        "id": "d3c66bed-e9b5-4e40-b6b4-c568cdc43c98"
      },
      "outputs": [],
      "source": [
        "##fraction 100%\n",
        "\n",
        "weights = {\n",
        "    'title': [1],\n",
        "    'abstract': [0],\n",
        "    'claims': [1],\n",
        "    'description': [1]\n",
        "}\n",
        "\n",
        "vectorizer_params = {'stop_words': ['english'],\n",
        "                     'max_features': [10000]}"
      ]
    },
    {
      "cell_type": "code",
      "execution_count": null,
      "id": "72b59df4-d5ee-42e6-bd33-4b702673aacb",
      "metadata": {
        "colab": {
          "referenced_widgets": [
            "e91bcb1f2b6b48a580ad8858370ca411"
          ]
        },
        "id": "72b59df4-d5ee-42e6-bd33-4b702673aacb",
        "outputId": "11613435-822b-4199-9b45-91554a543171"
      },
      "outputs": [
        {
          "data": {
            "application/vnd.jupyter.widget-view+json": {
              "model_id": "e91bcb1f2b6b48a580ad8858370ca411",
              "version_major": 2,
              "version_minor": 0
            },
            "text/plain": [
              "TF-IDF:   0%|          | 0/23668 [00:00<?, ?it/s]"
            ]
          },
          "metadata": {},
          "output_type": "display_data"
        },
        {
          "name": "stdout",
          "output_type": "stream",
          "text": [
            "Vocabulary size: 10000\n",
            "Grid params: weights={'title': 1, 'abstract': 0, 'claims': 1, 'description': 1}, vect_params={'stop_words': 'english', 'max_features': 10000}, Recall@100=0.8449, mAP@100=0.3489, composite=0.5969\n"
          ]
        }
      ],
      "source": [
        "best_params, best_score = grid_search_tfidf(\n",
        "    citing_docs=json_citing_train,\n",
        "    nonciting_docs=json_nonciting,\n",
        "    gold_mapping=gold_mapping,\n",
        "    weights_grid=weights,\n",
        "    vectorizer_params_grid=vectorizer_params,\n",
        "    k=100,\n",
        "    sample_fraction=1,\n",
        "    random_state=42\n",
        ")"
      ]
    },
    {
      "cell_type": "markdown",
      "id": "c01d292f-e7c6-45b0-b4b9-28c5d92c4f70",
      "metadata": {
        "id": "c01d292f-e7c6-45b0-b4b9-28c5d92c4f70"
      },
      "source": [
        "## Recall=0.8449, mAP=0.3489"
      ]
    },
    {
      "cell_type": "markdown",
      "id": "9d10eabe-9ae5-4486-a9f9-ebbdc2481011",
      "metadata": {
        "id": "9d10eabe-9ae5-4486-a9f9-ebbdc2481011",
        "jp-MarkdownHeadingCollapsed": true
      },
      "source": [
        "## 3.2 Grid Search by Vectorizer Parameter"
      ]
    },
    {
      "cell_type": "markdown",
      "id": "039bdedc-3d3c-49af-a3d7-cf354f374702",
      "metadata": {
        "id": "039bdedc-3d3c-49af-a3d7-cf354f374702"
      },
      "source": [
        "Now we want to check the contribution of different vectorizer parameters to the quality of prediction and ranking. Therefore, on 20% of the data we will do a grid search by hyperparameters of the function."
      ]
    },
    {
      "cell_type": "code",
      "execution_count": null,
      "id": "8b6ad67d-a87a-413d-8e18-0380016293e6",
      "metadata": {
        "id": "8b6ad67d-a87a-413d-8e18-0380016293e6"
      },
      "outputs": [],
      "source": [
        "# fraction 20%\n",
        "\n",
        "weights = {\n",
        "    'title': [1],\n",
        "    'abstract': [0],\n",
        "    'claims': [1],\n",
        "    'description': [1]\n",
        "}\n",
        "\n",
        "vectorizer_params = {'stop_words': [None, 'english'],\n",
        "                     'max_features': [10000, 30000],\n",
        "                     'sublinear_tf': [False, True],\n",
        "                     'strip_accents': ['ascii', None]}"
      ]
    },
    {
      "cell_type": "code",
      "execution_count": null,
      "id": "e3567a83-a7a2-49c2-8459-f8160ab39aeb",
      "metadata": {
        "colab": {
          "referenced_widgets": [
            "827d1bf8cca44037a7f91cf61395688f",
            "8ec25b17919a4b3d89123b574ab8d520",
            "4cafdfb4f3c34c999f13ced0d4b7b039",
            "4f06e6d9fb5149efbb44694c8d8114d7",
            "c7bad78a41e7414e811f160435cd3a47",
            "8cbedfd7ef8e41fba849a2908ee08fff",
            "cba3584c00be4d938137a37a5e531731",
            "7c28373c6959405780d19c28965fb669",
            "f7144acf76b14837bde3ba66822f9e28",
            "3429e6e0126b40b5b8a9374f543aed63",
            "80f8d24d748d4362b7cab647ebadb6d6",
            "fbc90dae7a5746a78d370270ddec5e4f",
            "e1f81f321fc345f6b64af630a2e3fa55",
            "74b564db11e84c968a13dd9234b6e750",
            "b837efa44c1b4a338b11f1ed5fb2d58b",
            "bdb6971004734cea974d5945f538c949"
          ]
        },
        "id": "e3567a83-a7a2-49c2-8459-f8160ab39aeb",
        "outputId": "3d0764e3-fce5-4777-b13e-8d8632b4383f"
      },
      "outputs": [
        {
          "data": {
            "application/vnd.jupyter.widget-view+json": {
              "model_id": "827d1bf8cca44037a7f91cf61395688f",
              "version_major": 2,
              "version_minor": 0
            },
            "text/plain": [
              "TF-IDF:   0%|          | 0/4733 [00:00<?, ?it/s]"
            ]
          },
          "metadata": {},
          "output_type": "display_data"
        },
        {
          "name": "stdout",
          "output_type": "stream",
          "text": [
            "Vocabulary size: 10000\n",
            "Grid params: weights={'title': 1, 'abstract': 0, 'claims': 1, 'description': 1}, vect_params={'stop_words': None, 'max_features': 10000, 'sublinear_tf': False, 'strip_accents': 'ascii'}, Recall@100=0.1571, mAP@100=0.0903, composite=0.1237\n"
          ]
        },
        {
          "data": {
            "application/vnd.jupyter.widget-view+json": {
              "model_id": "8ec25b17919a4b3d89123b574ab8d520",
              "version_major": 2,
              "version_minor": 0
            },
            "text/plain": [
              "TF-IDF:   0%|          | 0/4733 [00:00<?, ?it/s]"
            ]
          },
          "metadata": {},
          "output_type": "display_data"
        },
        {
          "name": "stdout",
          "output_type": "stream",
          "text": [
            "Vocabulary size: 10000\n",
            "Grid params: weights={'title': 1, 'abstract': 0, 'claims': 1, 'description': 1}, vect_params={'stop_words': None, 'max_features': 10000, 'sublinear_tf': False, 'strip_accents': None}, Recall@100=0.1571, mAP@100=0.0902, composite=0.1237\n"
          ]
        },
        {
          "data": {
            "application/vnd.jupyter.widget-view+json": {
              "model_id": "4cafdfb4f3c34c999f13ced0d4b7b039",
              "version_major": 2,
              "version_minor": 0
            },
            "text/plain": [
              "TF-IDF:   0%|          | 0/4733 [00:00<?, ?it/s]"
            ]
          },
          "metadata": {},
          "output_type": "display_data"
        },
        {
          "name": "stdout",
          "output_type": "stream",
          "text": [
            "Vocabulary size: 10000\n",
            "Grid params: weights={'title': 1, 'abstract': 0, 'claims': 1, 'description': 1}, vect_params={'stop_words': None, 'max_features': 10000, 'sublinear_tf': True, 'strip_accents': 'ascii'}, Recall@100=0.1833, mAP@100=0.1204, composite=0.1518\n"
          ]
        },
        {
          "data": {
            "application/vnd.jupyter.widget-view+json": {
              "model_id": "4f06e6d9fb5149efbb44694c8d8114d7",
              "version_major": 2,
              "version_minor": 0
            },
            "text/plain": [
              "TF-IDF:   0%|          | 0/4733 [00:00<?, ?it/s]"
            ]
          },
          "metadata": {},
          "output_type": "display_data"
        },
        {
          "name": "stdout",
          "output_type": "stream",
          "text": [
            "Vocabulary size: 10000\n",
            "Grid params: weights={'title': 1, 'abstract': 0, 'claims': 1, 'description': 1}, vect_params={'stop_words': None, 'max_features': 10000, 'sublinear_tf': True, 'strip_accents': None}, Recall@100=0.1833, mAP@100=0.1204, composite=0.1519\n"
          ]
        },
        {
          "data": {
            "application/vnd.jupyter.widget-view+json": {
              "model_id": "c7bad78a41e7414e811f160435cd3a47",
              "version_major": 2,
              "version_minor": 0
            },
            "text/plain": [
              "TF-IDF:   0%|          | 0/4733 [00:00<?, ?it/s]"
            ]
          },
          "metadata": {},
          "output_type": "display_data"
        },
        {
          "name": "stdout",
          "output_type": "stream",
          "text": [
            "Vocabulary size: 30000\n",
            "Grid params: weights={'title': 1, 'abstract': 0, 'claims': 1, 'description': 1}, vect_params={'stop_words': None, 'max_features': 30000, 'sublinear_tf': False, 'strip_accents': 'ascii'}, Recall@100=0.1549, mAP@100=0.0907, composite=0.1228\n"
          ]
        },
        {
          "data": {
            "application/vnd.jupyter.widget-view+json": {
              "model_id": "8cbedfd7ef8e41fba849a2908ee08fff",
              "version_major": 2,
              "version_minor": 0
            },
            "text/plain": [
              "TF-IDF:   0%|          | 0/4733 [00:00<?, ?it/s]"
            ]
          },
          "metadata": {},
          "output_type": "display_data"
        },
        {
          "name": "stdout",
          "output_type": "stream",
          "text": [
            "Vocabulary size: 30000\n",
            "Grid params: weights={'title': 1, 'abstract': 0, 'claims': 1, 'description': 1}, vect_params={'stop_words': None, 'max_features': 30000, 'sublinear_tf': False, 'strip_accents': None}, Recall@100=0.1549, mAP@100=0.0906, composite=0.1228\n"
          ]
        },
        {
          "data": {
            "application/vnd.jupyter.widget-view+json": {
              "model_id": "cba3584c00be4d938137a37a5e531731",
              "version_major": 2,
              "version_minor": 0
            },
            "text/plain": [
              "TF-IDF:   0%|          | 0/4733 [00:00<?, ?it/s]"
            ]
          },
          "metadata": {},
          "output_type": "display_data"
        },
        {
          "name": "stdout",
          "output_type": "stream",
          "text": [
            "Vocabulary size: 30000\n",
            "Grid params: weights={'title': 1, 'abstract': 0, 'claims': 1, 'description': 1}, vect_params={'stop_words': None, 'max_features': 30000, 'sublinear_tf': True, 'strip_accents': 'ascii'}, Recall@100=0.1815, mAP@100=0.1226, composite=0.1521\n"
          ]
        },
        {
          "data": {
            "application/vnd.jupyter.widget-view+json": {
              "model_id": "7c28373c6959405780d19c28965fb669",
              "version_major": 2,
              "version_minor": 0
            },
            "text/plain": [
              "TF-IDF:   0%|          | 0/4733 [00:00<?, ?it/s]"
            ]
          },
          "metadata": {},
          "output_type": "display_data"
        },
        {
          "name": "stdout",
          "output_type": "stream",
          "text": [
            "Vocabulary size: 30000\n",
            "Grid params: weights={'title': 1, 'abstract': 0, 'claims': 1, 'description': 1}, vect_params={'stop_words': None, 'max_features': 30000, 'sublinear_tf': True, 'strip_accents': None}, Recall@100=0.1815, mAP@100=0.1230, composite=0.1523\n"
          ]
        },
        {
          "data": {
            "application/vnd.jupyter.widget-view+json": {
              "model_id": "f7144acf76b14837bde3ba66822f9e28",
              "version_major": 2,
              "version_minor": 0
            },
            "text/plain": [
              "TF-IDF:   0%|          | 0/4733 [00:00<?, ?it/s]"
            ]
          },
          "metadata": {},
          "output_type": "display_data"
        },
        {
          "name": "stdout",
          "output_type": "stream",
          "text": [
            "Vocabulary size: 10000\n",
            "Grid params: weights={'title': 1, 'abstract': 0, 'claims': 1, 'description': 1}, vect_params={'stop_words': 'english', 'max_features': 10000, 'sublinear_tf': False, 'strip_accents': 'ascii'}, Recall@100=0.1790, mAP@100=0.0996, composite=0.1393\n"
          ]
        },
        {
          "data": {
            "application/vnd.jupyter.widget-view+json": {
              "model_id": "3429e6e0126b40b5b8a9374f543aed63",
              "version_major": 2,
              "version_minor": 0
            },
            "text/plain": [
              "TF-IDF:   0%|          | 0/4733 [00:00<?, ?it/s]"
            ]
          },
          "metadata": {},
          "output_type": "display_data"
        },
        {
          "name": "stdout",
          "output_type": "stream",
          "text": [
            "Vocabulary size: 10000\n",
            "Grid params: weights={'title': 1, 'abstract': 0, 'claims': 1, 'description': 1}, vect_params={'stop_words': 'english', 'max_features': 10000, 'sublinear_tf': False, 'strip_accents': None}, Recall@100=0.1790, mAP@100=0.0996, composite=0.1393\n"
          ]
        },
        {
          "data": {
            "application/vnd.jupyter.widget-view+json": {
              "model_id": "80f8d24d748d4362b7cab647ebadb6d6",
              "version_major": 2,
              "version_minor": 0
            },
            "text/plain": [
              "TF-IDF:   0%|          | 0/4733 [00:00<?, ?it/s]"
            ]
          },
          "metadata": {},
          "output_type": "display_data"
        },
        {
          "name": "stdout",
          "output_type": "stream",
          "text": [
            "Vocabulary size: 10000\n",
            "Grid params: weights={'title': 1, 'abstract': 0, 'claims': 1, 'description': 1}, vect_params={'stop_words': 'english', 'max_features': 10000, 'sublinear_tf': True, 'strip_accents': 'ascii'}, Recall@100=0.1829, mAP@100=0.1210, composite=0.1519\n"
          ]
        },
        {
          "data": {
            "application/vnd.jupyter.widget-view+json": {
              "model_id": "fbc90dae7a5746a78d370270ddec5e4f",
              "version_major": 2,
              "version_minor": 0
            },
            "text/plain": [
              "TF-IDF:   0%|          | 0/4733 [00:00<?, ?it/s]"
            ]
          },
          "metadata": {},
          "output_type": "display_data"
        },
        {
          "name": "stdout",
          "output_type": "stream",
          "text": [
            "Vocabulary size: 10000\n",
            "Grid params: weights={'title': 1, 'abstract': 0, 'claims': 1, 'description': 1}, vect_params={'stop_words': 'english', 'max_features': 10000, 'sublinear_tf': True, 'strip_accents': None}, Recall@100=0.1836, mAP@100=0.1219, composite=0.1528\n"
          ]
        },
        {
          "data": {
            "application/vnd.jupyter.widget-view+json": {
              "model_id": "e1f81f321fc345f6b64af630a2e3fa55",
              "version_major": 2,
              "version_minor": 0
            },
            "text/plain": [
              "TF-IDF:   0%|          | 0/4733 [00:00<?, ?it/s]"
            ]
          },
          "metadata": {},
          "output_type": "display_data"
        },
        {
          "name": "stdout",
          "output_type": "stream",
          "text": [
            "Vocabulary size: 30000\n",
            "Grid params: weights={'title': 1, 'abstract': 0, 'claims': 1, 'description': 1}, vect_params={'stop_words': 'english', 'max_features': 30000, 'sublinear_tf': False, 'strip_accents': 'ascii'}, Recall@100=0.1799, mAP@100=0.0995, composite=0.1397\n"
          ]
        },
        {
          "data": {
            "application/vnd.jupyter.widget-view+json": {
              "model_id": "74b564db11e84c968a13dd9234b6e750",
              "version_major": 2,
              "version_minor": 0
            },
            "text/plain": [
              "TF-IDF:   0%|          | 0/4733 [00:00<?, ?it/s]"
            ]
          },
          "metadata": {},
          "output_type": "display_data"
        },
        {
          "name": "stdout",
          "output_type": "stream",
          "text": [
            "Vocabulary size: 30000\n",
            "Grid params: weights={'title': 1, 'abstract': 0, 'claims': 1, 'description': 1}, vect_params={'stop_words': 'english', 'max_features': 30000, 'sublinear_tf': False, 'strip_accents': None}, Recall@100=0.1799, mAP@100=0.1000, composite=0.1400\n"
          ]
        },
        {
          "data": {
            "application/vnd.jupyter.widget-view+json": {
              "model_id": "b837efa44c1b4a338b11f1ed5fb2d58b",
              "version_major": 2,
              "version_minor": 0
            },
            "text/plain": [
              "TF-IDF:   0%|          | 0/4733 [00:00<?, ?it/s]"
            ]
          },
          "metadata": {},
          "output_type": "display_data"
        },
        {
          "name": "stdout",
          "output_type": "stream",
          "text": [
            "Vocabulary size: 30000\n",
            "Grid params: weights={'title': 1, 'abstract': 0, 'claims': 1, 'description': 1}, vect_params={'stop_words': 'english', 'max_features': 30000, 'sublinear_tf': True, 'strip_accents': 'ascii'}, Recall@100=0.1819, mAP@100=0.1239, composite=0.1529\n"
          ]
        },
        {
          "data": {
            "application/vnd.jupyter.widget-view+json": {
              "model_id": "bdb6971004734cea974d5945f538c949",
              "version_major": 2,
              "version_minor": 0
            },
            "text/plain": [
              "TF-IDF:   0%|          | 0/4733 [00:00<?, ?it/s]"
            ]
          },
          "metadata": {},
          "output_type": "display_data"
        },
        {
          "name": "stdout",
          "output_type": "stream",
          "text": [
            "Vocabulary size: 30000\n",
            "Grid params: weights={'title': 1, 'abstract': 0, 'claims': 1, 'description': 1}, vect_params={'stop_words': 'english', 'max_features': 30000, 'sublinear_tf': True, 'strip_accents': None}, Recall@100=0.1819, mAP@100=0.1242, composite=0.1530\n"
          ]
        }
      ],
      "source": [
        "best_params, best_score = grid_search_tfidf(\n",
        "    citing_docs=json_citing_train,\n",
        "    nonciting_docs=json_nonciting,\n",
        "    gold_mapping=gold_mapping,\n",
        "    weights_grid=weights,\n",
        "    vectorizer_params_grid=vectorizer_params,\n",
        "    k=100,\n",
        "    sample_fraction=0.2,\n",
        "    random_state=42\n",
        ")"
      ]
    },
    {
      "cell_type": "code",
      "execution_count": null,
      "id": "e2d8099a-ddcd-4b82-9bbc-9baa86e1ec09",
      "metadata": {
        "id": "e2d8099a-ddcd-4b82-9bbc-9baa86e1ec09",
        "outputId": "dde7553e-aaf4-4320-d1c6-1faa26b6e175"
      },
      "outputs": [
        {
          "name": "stdout",
          "output_type": "stream",
          "text": [
            "Best parameters: {'weights': {'title': 1, 'abstract': 0, 'claims': 1, 'description': 1}, 'vectorizer_params': {'stop_words': 'english', 'max_features': 30000, 'sublinear_tf': True, 'strip_accents': None}, 'recall': 0.1818814055636896, 'mAP': 0.12417208993011085, 'composite_score': 0.15302674774690023}\n",
            "Best composite score: 0.15302674774690023\n"
          ]
        }
      ],
      "source": [
        "print(\"Best parameters:\", best_params)\n",
        "print(\"Best composite score:\", best_score)"
      ]
    },
    {
      "cell_type": "code",
      "execution_count": null,
      "id": "68885688-3f16-418c-901b-701fd60d4522",
      "metadata": {
        "id": "68885688-3f16-418c-901b-701fd60d4522"
      },
      "outputs": [],
      "source": [
        "##fraction 100%\n",
        "\n",
        "weights = {\n",
        "    'title': [1],\n",
        "    'abstract': [0],\n",
        "    'claims': [1],\n",
        "    'description': [1]\n",
        "}\n",
        "\n",
        "vectorizer_params = {'stop_words': ['english'],\n",
        "                     'max_features': [30000],\n",
        "                     'sublinear_tf': [True]}"
      ]
    },
    {
      "cell_type": "code",
      "execution_count": null,
      "id": "5f5b10b8-ddb1-4cf6-847c-ce24d24a28a7",
      "metadata": {
        "colab": {
          "referenced_widgets": [
            "18278da4fcc341bfb2943a9f017e5eb9"
          ]
        },
        "id": "5f5b10b8-ddb1-4cf6-847c-ce24d24a28a7",
        "outputId": "b6ee8579-87f7-42fb-f7f1-c7cfbe9b20e5"
      },
      "outputs": [
        {
          "data": {
            "application/vnd.jupyter.widget-view+json": {
              "model_id": "18278da4fcc341bfb2943a9f017e5eb9",
              "version_major": 2,
              "version_minor": 0
            },
            "text/plain": [
              "TF-IDF:   0%|          | 0/23668 [00:00<?, ?it/s]"
            ]
          },
          "metadata": {},
          "output_type": "display_data"
        },
        {
          "name": "stdout",
          "output_type": "stream",
          "text": [
            "Vocabulary size: 30000\n",
            "Grid params: weights={'title': 1, 'abstract': 0, 'claims': 1, 'description': 1}, vect_params={'stop_words': 'english', 'max_features': 30000, 'sublinear_tf': True}, Recall@100=0.8963, mAP@100=0.4734, composite=0.6848\n"
          ]
        }
      ],
      "source": [
        "best_params, best_score = grid_search_tfidf(\n",
        "    citing_docs=json_citing_train,\n",
        "    nonciting_docs=json_nonciting,\n",
        "    gold_mapping=gold_mapping,\n",
        "    weights_grid=weights,\n",
        "    vectorizer_params_grid=vectorizer_params,\n",
        "    k=100,\n",
        "    sample_fraction=1,\n",
        "    random_state=42\n",
        ")"
      ]
    },
    {
      "cell_type": "markdown",
      "id": "0668e8c0-9bf3-46a9-be56-fa30f699cf9b",
      "metadata": {
        "id": "0668e8c0-9bf3-46a9-be56-fa30f699cf9b"
      },
      "source": [
        "## Recall=0.8963, mAP=0.4734"
      ]
    },
    {
      "cell_type": "markdown",
      "id": "33e4e00b-cf39-4eec-894b-ab60ff69533e",
      "metadata": {
        "id": "33e4e00b-cf39-4eec-894b-ab60ff69533e",
        "jp-MarkdownHeadingCollapsed": true
      },
      "source": [
        "## 3.3 Clean Text"
      ]
    },
    {
      "cell_type": "markdown",
      "id": "270e36a7-19f5-49c4-bac4-10291fca0bd4",
      "metadata": {
        "id": "270e36a7-19f5-49c4-bac4-10291fca0bd4"
      },
      "source": [
        "The idea is to test how pre-cleaning the text can affect predictions."
      ]
    },
    {
      "cell_type": "code",
      "execution_count": null,
      "id": "6656674c-b59f-4e1f-b94f-637df317d2bf",
      "metadata": {
        "id": "6656674c-b59f-4e1f-b94f-637df317d2bf",
        "outputId": "59cee43c-981f-4c40-f61f-cea88c186b63"
      },
      "outputs": [
        {
          "name": "stdout",
          "output_type": "stream",
          "text": [
            "Sample: <p>This is an example of HTML text! It includes numbers like 123 and punctuation.</p>\n",
            "Cleaned Text: example html text includes number like punctuation\n"
          ]
        }
      ],
      "source": [
        "sample_text = \"<p>This is an example of HTML text! It includes numbers like 123 and punctuation.</p>\"\n",
        "print(\"Sample:\", sample_text)\n",
        "cleaned = clean_text(sample_text)\n",
        "print(\"Cleaned Text:\", cleaned)"
      ]
    },
    {
      "cell_type": "code",
      "execution_count": null,
      "id": "6514dc73-5ca7-4fa2-b520-5e12a73bbd61",
      "metadata": {
        "colab": {
          "referenced_widgets": [
            "d02d2f777600471b99fcabc1a6d2ad6b"
          ]
        },
        "id": "6514dc73-5ca7-4fa2-b520-5e12a73bbd61",
        "outputId": "49e7ca5f-e2cb-4fe5-a17e-773fd15a7654"
      },
      "outputs": [
        {
          "data": {
            "application/vnd.jupyter.widget-view+json": {
              "model_id": "d02d2f777600471b99fcabc1a6d2ad6b",
              "version_major": 2,
              "version_minor": 0
            },
            "text/plain": [
              "TF-IDF:   0%|          | 0/23668 [00:00<?, ?it/s]"
            ]
          },
          "metadata": {},
          "output_type": "display_data"
        },
        {
          "name": "stdout",
          "output_type": "stream",
          "text": [
            "Vocabulary size: 30000\n"
          ]
        }
      ],
      "source": [
        "vectorizer = TfidfVectorizer(stop_words = 'english', max_features = 30000, sublinear_tf = True)\n",
        "tfidf_query, tfidf_docs, query_ids, doc_ids, fitted_vectorizer = prepare_tfidf_data(\n",
        "                                                                        citing_docs=json_citing_train,\n",
        "                                                                        cited_docs=json_nonciting,\n",
        "                                                                        weights=weights,\n",
        "                                                                        vectorizer=vectorizer,\n",
        "                                                                        apply_cleaning=True,\n",
        "                                                                        test=False)"
      ]
    },
    {
      "cell_type": "code",
      "execution_count": null,
      "id": "07ebd9b6-edea-4464-be5f-e27f76d6ee3d",
      "metadata": {
        "id": "07ebd9b6-edea-4464-be5f-e27f76d6ee3d"
      },
      "outputs": [],
      "source": [
        "tfidf_results_cleaned = get_tfidf_recommendations(query_ids,\n",
        "                                            doc_ids,\n",
        "                                            tfidf_query,\n",
        "                                            tfidf_docs,\n",
        "                                            k=100, return_scores=True)"
      ]
    },
    {
      "cell_type": "code",
      "execution_count": null,
      "id": "39825c35-1562-4578-8912-e87d80936eb7",
      "metadata": {
        "id": "39825c35-1562-4578-8912-e87d80936eb7",
        "outputId": "25b7634e-3173-49a0-c434-9a10ac02bc9c"
      },
      "outputs": [
        {
          "name": "stdout",
          "output_type": "stream",
          "text": [
            "After re-ranking: Recall@100 = 0.0 mAP@100 = 0.0\n"
          ]
        }
      ],
      "source": [
        "recall_after, mAP_after = evaluate_recommendations(gold_mapping, tfidf_results_cleaned, k=100)\n",
        "print(\"After re-ranking: Recall@100 =\", recall_after, \"mAP@100 =\", mAP_after)"
      ]
    },
    {
      "cell_type": "markdown",
      "id": "9ee4eec6-c85c-4c93-a584-12d290c5a00a",
      "metadata": {
        "id": "9ee4eec6-c85c-4c93-a584-12d290c5a00a",
        "jp-MarkdownHeadingCollapsed": true
      },
      "source": [
        "# 4. Re-Ranking of TF-IDF"
      ]
    },
    {
      "cell_type": "markdown",
      "id": "28f8e90d-f9fb-4a4d-b5d0-8fc10fbd2544",
      "metadata": {
        "id": "28f8e90d-f9fb-4a4d-b5d0-8fc10fbd2544"
      },
      "source": [
        "The idea is that real gold citation pairs are not necessarily top by cosine distance. Therefore, we propose to train a classifier model that will predict whether a pair is a real citation or not by cosine distance."
      ]
    },
    {
      "cell_type": "markdown",
      "id": "31b384a7-3e2d-454a-b405-5f2e29fdc5af",
      "metadata": {
        "id": "31b384a7-3e2d-454a-b405-5f2e29fdc5af"
      },
      "source": [
        "## 4.1 First attempt - LR"
      ]
    },
    {
      "cell_type": "code",
      "execution_count": null,
      "id": "4c0baaf1-bf8e-4fca-b220-59dfdd35033e",
      "metadata": {
        "id": "4c0baaf1-bf8e-4fca-b220-59dfdd35033e"
      },
      "outputs": [],
      "source": [
        "vectorizer = TfidfVectorizer(stop_words = 'english', max_features = 10000)\n",
        "weights = {'title': 1, 'abstract': 0, 'claims': 1, 'description': 1}"
      ]
    },
    {
      "cell_type": "code",
      "execution_count": null,
      "id": "796b85ac-3b74-4145-8900-8598f8c26b34",
      "metadata": {
        "colab": {
          "referenced_widgets": [
            "58c52e4880ee4a3dbaea1f095c7fb484"
          ]
        },
        "id": "796b85ac-3b74-4145-8900-8598f8c26b34",
        "outputId": "5096a04c-955d-46f5-a178-21379c93a79c"
      },
      "outputs": [
        {
          "data": {
            "application/vnd.jupyter.widget-view+json": {
              "model_id": "58c52e4880ee4a3dbaea1f095c7fb484",
              "version_major": 2,
              "version_minor": 0
            },
            "text/plain": [
              "TF-IDF:   0%|          | 0/23668 [00:00<?, ?it/s]"
            ]
          },
          "metadata": {},
          "output_type": "display_data"
        },
        {
          "name": "stdout",
          "output_type": "stream",
          "text": [
            "Vocabulary size: 10000\n"
          ]
        }
      ],
      "source": [
        "tfidf_query, tfidf_docs, query_ids, doc_ids, fitted_vectorizer = prepare_tfidf_data(\n",
        "                                                                        citing_docs=json_citing_train,\n",
        "                                                                        cited_docs=json_nonciting,\n",
        "                                                                        weights=weights,\n",
        "                                                                        vectorizer=vectorizer,\n",
        "                                                                        apply_cleaning=False,\n",
        "                                                                        test=False)"
      ]
    },
    {
      "cell_type": "code",
      "execution_count": null,
      "id": "ef5ae395-43d3-4ba6-91bd-bcc8c102e747",
      "metadata": {
        "id": "ef5ae395-43d3-4ba6-91bd-bcc8c102e747"
      },
      "outputs": [],
      "source": [
        "tfidf_results = get_tfidf_recommendations(query_ids,\n",
        "                                            doc_ids,\n",
        "                                            tfidf_query,\n",
        "                                            tfidf_docs,\n",
        "                                            k=100, return_scores=True)"
      ]
    },
    {
      "cell_type": "code",
      "execution_count": null,
      "id": "9741f144-0a52-451f-82ea-b9241531f87f",
      "metadata": {
        "id": "9741f144-0a52-451f-82ea-b9241531f87f",
        "outputId": "41b5de4e-e7d3-42c3-b8a7-f44edad3dc41"
      },
      "outputs": [
        {
          "name": "stdout",
          "output_type": "stream",
          "text": [
            "X_train: (683100, 1)\n",
            "y_train: (683100,)\n",
            "Fraction of positive samples: 0.010673400673400673\n"
          ]
        }
      ],
      "source": [
        "X_train, y_train = prepare_training_data_tfidf(tfidf_results, gold_mapping)\n",
        "print(\"X_train:\", X_train.shape)\n",
        "print(\"y_train:\", y_train.shape)\n",
        "\n",
        "positive_rate = np.mean(y_train)\n",
        "print(\"Fraction of positive samples:\", positive_rate)"
      ]
    },
    {
      "cell_type": "code",
      "execution_count": null,
      "id": "eec95f68-b90a-4fdd-a8cc-4b9f04a25842",
      "metadata": {
        "id": "eec95f68-b90a-4fdd-a8cc-4b9f04a25842",
        "outputId": "8cbd396e-430f-4984-e033-d791881d48d3"
      },
      "outputs": [
        {
          "data": {
            "text/html": [
              "<style>#sk-container-id-4 {\n",
              "  /* Definition of color scheme common for light and dark mode */\n",
              "  --sklearn-color-text: #000;\n",
              "  --sklearn-color-text-muted: #666;\n",
              "  --sklearn-color-line: gray;\n",
              "  /* Definition of color scheme for unfitted estimators */\n",
              "  --sklearn-color-unfitted-level-0: #fff5e6;\n",
              "  --sklearn-color-unfitted-level-1: #f6e4d2;\n",
              "  --sklearn-color-unfitted-level-2: #ffe0b3;\n",
              "  --sklearn-color-unfitted-level-3: chocolate;\n",
              "  /* Definition of color scheme for fitted estimators */\n",
              "  --sklearn-color-fitted-level-0: #f0f8ff;\n",
              "  --sklearn-color-fitted-level-1: #d4ebff;\n",
              "  --sklearn-color-fitted-level-2: #b3dbfd;\n",
              "  --sklearn-color-fitted-level-3: cornflowerblue;\n",
              "\n",
              "  /* Specific color for light theme */\n",
              "  --sklearn-color-text-on-default-background: var(--sg-text-color, var(--theme-code-foreground, var(--jp-content-font-color1, black)));\n",
              "  --sklearn-color-background: var(--sg-background-color, var(--theme-background, var(--jp-layout-color0, white)));\n",
              "  --sklearn-color-border-box: var(--sg-text-color, var(--theme-code-foreground, var(--jp-content-font-color1, black)));\n",
              "  --sklearn-color-icon: #696969;\n",
              "\n",
              "  @media (prefers-color-scheme: dark) {\n",
              "    /* Redefinition of color scheme for dark theme */\n",
              "    --sklearn-color-text-on-default-background: var(--sg-text-color, var(--theme-code-foreground, var(--jp-content-font-color1, white)));\n",
              "    --sklearn-color-background: var(--sg-background-color, var(--theme-background, var(--jp-layout-color0, #111)));\n",
              "    --sklearn-color-border-box: var(--sg-text-color, var(--theme-code-foreground, var(--jp-content-font-color1, white)));\n",
              "    --sklearn-color-icon: #878787;\n",
              "  }\n",
              "}\n",
              "\n",
              "#sk-container-id-4 {\n",
              "  color: var(--sklearn-color-text);\n",
              "}\n",
              "\n",
              "#sk-container-id-4 pre {\n",
              "  padding: 0;\n",
              "}\n",
              "\n",
              "#sk-container-id-4 input.sk-hidden--visually {\n",
              "  border: 0;\n",
              "  clip: rect(1px 1px 1px 1px);\n",
              "  clip: rect(1px, 1px, 1px, 1px);\n",
              "  height: 1px;\n",
              "  margin: -1px;\n",
              "  overflow: hidden;\n",
              "  padding: 0;\n",
              "  position: absolute;\n",
              "  width: 1px;\n",
              "}\n",
              "\n",
              "#sk-container-id-4 div.sk-dashed-wrapped {\n",
              "  border: 1px dashed var(--sklearn-color-line);\n",
              "  margin: 0 0.4em 0.5em 0.4em;\n",
              "  box-sizing: border-box;\n",
              "  padding-bottom: 0.4em;\n",
              "  background-color: var(--sklearn-color-background);\n",
              "}\n",
              "\n",
              "#sk-container-id-4 div.sk-container {\n",
              "  /* jupyter's `normalize.less` sets `[hidden] { display: none; }`\n",
              "     but bootstrap.min.css set `[hidden] { display: none !important; }`\n",
              "     so we also need the `!important` here to be able to override the\n",
              "     default hidden behavior on the sphinx rendered scikit-learn.org.\n",
              "     See: https://github.com/scikit-learn/scikit-learn/issues/21755 */\n",
              "  display: inline-block !important;\n",
              "  position: relative;\n",
              "}\n",
              "\n",
              "#sk-container-id-4 div.sk-text-repr-fallback {\n",
              "  display: none;\n",
              "}\n",
              "\n",
              "div.sk-parallel-item,\n",
              "div.sk-serial,\n",
              "div.sk-item {\n",
              "  /* draw centered vertical line to link estimators */\n",
              "  background-image: linear-gradient(var(--sklearn-color-text-on-default-background), var(--sklearn-color-text-on-default-background));\n",
              "  background-size: 2px 100%;\n",
              "  background-repeat: no-repeat;\n",
              "  background-position: center center;\n",
              "}\n",
              "\n",
              "/* Parallel-specific style estimator block */\n",
              "\n",
              "#sk-container-id-4 div.sk-parallel-item::after {\n",
              "  content: \"\";\n",
              "  width: 100%;\n",
              "  border-bottom: 2px solid var(--sklearn-color-text-on-default-background);\n",
              "  flex-grow: 1;\n",
              "}\n",
              "\n",
              "#sk-container-id-4 div.sk-parallel {\n",
              "  display: flex;\n",
              "  align-items: stretch;\n",
              "  justify-content: center;\n",
              "  background-color: var(--sklearn-color-background);\n",
              "  position: relative;\n",
              "}\n",
              "\n",
              "#sk-container-id-4 div.sk-parallel-item {\n",
              "  display: flex;\n",
              "  flex-direction: column;\n",
              "}\n",
              "\n",
              "#sk-container-id-4 div.sk-parallel-item:first-child::after {\n",
              "  align-self: flex-end;\n",
              "  width: 50%;\n",
              "}\n",
              "\n",
              "#sk-container-id-4 div.sk-parallel-item:last-child::after {\n",
              "  align-self: flex-start;\n",
              "  width: 50%;\n",
              "}\n",
              "\n",
              "#sk-container-id-4 div.sk-parallel-item:only-child::after {\n",
              "  width: 0;\n",
              "}\n",
              "\n",
              "/* Serial-specific style estimator block */\n",
              "\n",
              "#sk-container-id-4 div.sk-serial {\n",
              "  display: flex;\n",
              "  flex-direction: column;\n",
              "  align-items: center;\n",
              "  background-color: var(--sklearn-color-background);\n",
              "  padding-right: 1em;\n",
              "  padding-left: 1em;\n",
              "}\n",
              "\n",
              "\n",
              "/* Toggleable style: style used for estimator/Pipeline/ColumnTransformer box that is\n",
              "clickable and can be expanded/collapsed.\n",
              "- Pipeline and ColumnTransformer use this feature and define the default style\n",
              "- Estimators will overwrite some part of the style using the `sk-estimator` class\n",
              "*/\n",
              "\n",
              "/* Pipeline and ColumnTransformer style (default) */\n",
              "\n",
              "#sk-container-id-4 div.sk-toggleable {\n",
              "  /* Default theme specific background. It is overwritten whether we have a\n",
              "  specific estimator or a Pipeline/ColumnTransformer */\n",
              "  background-color: var(--sklearn-color-background);\n",
              "}\n",
              "\n",
              "/* Toggleable label */\n",
              "#sk-container-id-4 label.sk-toggleable__label {\n",
              "  cursor: pointer;\n",
              "  display: flex;\n",
              "  width: 100%;\n",
              "  margin-bottom: 0;\n",
              "  padding: 0.5em;\n",
              "  box-sizing: border-box;\n",
              "  text-align: center;\n",
              "  align-items: start;\n",
              "  justify-content: space-between;\n",
              "  gap: 0.5em;\n",
              "}\n",
              "\n",
              "#sk-container-id-4 label.sk-toggleable__label .caption {\n",
              "  font-size: 0.6rem;\n",
              "  font-weight: lighter;\n",
              "  color: var(--sklearn-color-text-muted);\n",
              "}\n",
              "\n",
              "#sk-container-id-4 label.sk-toggleable__label-arrow:before {\n",
              "  /* Arrow on the left of the label */\n",
              "  content: \"▸\";\n",
              "  float: left;\n",
              "  margin-right: 0.25em;\n",
              "  color: var(--sklearn-color-icon);\n",
              "}\n",
              "\n",
              "#sk-container-id-4 label.sk-toggleable__label-arrow:hover:before {\n",
              "  color: var(--sklearn-color-text);\n",
              "}\n",
              "\n",
              "/* Toggleable content - dropdown */\n",
              "\n",
              "#sk-container-id-4 div.sk-toggleable__content {\n",
              "  max-height: 0;\n",
              "  max-width: 0;\n",
              "  overflow: hidden;\n",
              "  text-align: left;\n",
              "  /* unfitted */\n",
              "  background-color: var(--sklearn-color-unfitted-level-0);\n",
              "}\n",
              "\n",
              "#sk-container-id-4 div.sk-toggleable__content.fitted {\n",
              "  /* fitted */\n",
              "  background-color: var(--sklearn-color-fitted-level-0);\n",
              "}\n",
              "\n",
              "#sk-container-id-4 div.sk-toggleable__content pre {\n",
              "  margin: 0.2em;\n",
              "  border-radius: 0.25em;\n",
              "  color: var(--sklearn-color-text);\n",
              "  /* unfitted */\n",
              "  background-color: var(--sklearn-color-unfitted-level-0);\n",
              "}\n",
              "\n",
              "#sk-container-id-4 div.sk-toggleable__content.fitted pre {\n",
              "  /* unfitted */\n",
              "  background-color: var(--sklearn-color-fitted-level-0);\n",
              "}\n",
              "\n",
              "#sk-container-id-4 input.sk-toggleable__control:checked~div.sk-toggleable__content {\n",
              "  /* Expand drop-down */\n",
              "  max-height: 200px;\n",
              "  max-width: 100%;\n",
              "  overflow: auto;\n",
              "}\n",
              "\n",
              "#sk-container-id-4 input.sk-toggleable__control:checked~label.sk-toggleable__label-arrow:before {\n",
              "  content: \"▾\";\n",
              "}\n",
              "\n",
              "/* Pipeline/ColumnTransformer-specific style */\n",
              "\n",
              "#sk-container-id-4 div.sk-label input.sk-toggleable__control:checked~label.sk-toggleable__label {\n",
              "  color: var(--sklearn-color-text);\n",
              "  background-color: var(--sklearn-color-unfitted-level-2);\n",
              "}\n",
              "\n",
              "#sk-container-id-4 div.sk-label.fitted input.sk-toggleable__control:checked~label.sk-toggleable__label {\n",
              "  background-color: var(--sklearn-color-fitted-level-2);\n",
              "}\n",
              "\n",
              "/* Estimator-specific style */\n",
              "\n",
              "/* Colorize estimator box */\n",
              "#sk-container-id-4 div.sk-estimator input.sk-toggleable__control:checked~label.sk-toggleable__label {\n",
              "  /* unfitted */\n",
              "  background-color: var(--sklearn-color-unfitted-level-2);\n",
              "}\n",
              "\n",
              "#sk-container-id-4 div.sk-estimator.fitted input.sk-toggleable__control:checked~label.sk-toggleable__label {\n",
              "  /* fitted */\n",
              "  background-color: var(--sklearn-color-fitted-level-2);\n",
              "}\n",
              "\n",
              "#sk-container-id-4 div.sk-label label.sk-toggleable__label,\n",
              "#sk-container-id-4 div.sk-label label {\n",
              "  /* The background is the default theme color */\n",
              "  color: var(--sklearn-color-text-on-default-background);\n",
              "}\n",
              "\n",
              "/* On hover, darken the color of the background */\n",
              "#sk-container-id-4 div.sk-label:hover label.sk-toggleable__label {\n",
              "  color: var(--sklearn-color-text);\n",
              "  background-color: var(--sklearn-color-unfitted-level-2);\n",
              "}\n",
              "\n",
              "/* Label box, darken color on hover, fitted */\n",
              "#sk-container-id-4 div.sk-label.fitted:hover label.sk-toggleable__label.fitted {\n",
              "  color: var(--sklearn-color-text);\n",
              "  background-color: var(--sklearn-color-fitted-level-2);\n",
              "}\n",
              "\n",
              "/* Estimator label */\n",
              "\n",
              "#sk-container-id-4 div.sk-label label {\n",
              "  font-family: monospace;\n",
              "  font-weight: bold;\n",
              "  display: inline-block;\n",
              "  line-height: 1.2em;\n",
              "}\n",
              "\n",
              "#sk-container-id-4 div.sk-label-container {\n",
              "  text-align: center;\n",
              "}\n",
              "\n",
              "/* Estimator-specific */\n",
              "#sk-container-id-4 div.sk-estimator {\n",
              "  font-family: monospace;\n",
              "  border: 1px dotted var(--sklearn-color-border-box);\n",
              "  border-radius: 0.25em;\n",
              "  box-sizing: border-box;\n",
              "  margin-bottom: 0.5em;\n",
              "  /* unfitted */\n",
              "  background-color: var(--sklearn-color-unfitted-level-0);\n",
              "}\n",
              "\n",
              "#sk-container-id-4 div.sk-estimator.fitted {\n",
              "  /* fitted */\n",
              "  background-color: var(--sklearn-color-fitted-level-0);\n",
              "}\n",
              "\n",
              "/* on hover */\n",
              "#sk-container-id-4 div.sk-estimator:hover {\n",
              "  /* unfitted */\n",
              "  background-color: var(--sklearn-color-unfitted-level-2);\n",
              "}\n",
              "\n",
              "#sk-container-id-4 div.sk-estimator.fitted:hover {\n",
              "  /* fitted */\n",
              "  background-color: var(--sklearn-color-fitted-level-2);\n",
              "}\n",
              "\n",
              "/* Specification for estimator info (e.g. \"i\" and \"?\") */\n",
              "\n",
              "/* Common style for \"i\" and \"?\" */\n",
              "\n",
              ".sk-estimator-doc-link,\n",
              "a:link.sk-estimator-doc-link,\n",
              "a:visited.sk-estimator-doc-link {\n",
              "  float: right;\n",
              "  font-size: smaller;\n",
              "  line-height: 1em;\n",
              "  font-family: monospace;\n",
              "  background-color: var(--sklearn-color-background);\n",
              "  border-radius: 1em;\n",
              "  height: 1em;\n",
              "  width: 1em;\n",
              "  text-decoration: none !important;\n",
              "  margin-left: 0.5em;\n",
              "  text-align: center;\n",
              "  /* unfitted */\n",
              "  border: var(--sklearn-color-unfitted-level-1) 1pt solid;\n",
              "  color: var(--sklearn-color-unfitted-level-1);\n",
              "}\n",
              "\n",
              ".sk-estimator-doc-link.fitted,\n",
              "a:link.sk-estimator-doc-link.fitted,\n",
              "a:visited.sk-estimator-doc-link.fitted {\n",
              "  /* fitted */\n",
              "  border: var(--sklearn-color-fitted-level-1) 1pt solid;\n",
              "  color: var(--sklearn-color-fitted-level-1);\n",
              "}\n",
              "\n",
              "/* On hover */\n",
              "div.sk-estimator:hover .sk-estimator-doc-link:hover,\n",
              ".sk-estimator-doc-link:hover,\n",
              "div.sk-label-container:hover .sk-estimator-doc-link:hover,\n",
              ".sk-estimator-doc-link:hover {\n",
              "  /* unfitted */\n",
              "  background-color: var(--sklearn-color-unfitted-level-3);\n",
              "  color: var(--sklearn-color-background);\n",
              "  text-decoration: none;\n",
              "}\n",
              "\n",
              "div.sk-estimator.fitted:hover .sk-estimator-doc-link.fitted:hover,\n",
              ".sk-estimator-doc-link.fitted:hover,\n",
              "div.sk-label-container:hover .sk-estimator-doc-link.fitted:hover,\n",
              ".sk-estimator-doc-link.fitted:hover {\n",
              "  /* fitted */\n",
              "  background-color: var(--sklearn-color-fitted-level-3);\n",
              "  color: var(--sklearn-color-background);\n",
              "  text-decoration: none;\n",
              "}\n",
              "\n",
              "/* Span, style for the box shown on hovering the info icon */\n",
              ".sk-estimator-doc-link span {\n",
              "  display: none;\n",
              "  z-index: 9999;\n",
              "  position: relative;\n",
              "  font-weight: normal;\n",
              "  right: .2ex;\n",
              "  padding: .5ex;\n",
              "  margin: .5ex;\n",
              "  width: min-content;\n",
              "  min-width: 20ex;\n",
              "  max-width: 50ex;\n",
              "  color: var(--sklearn-color-text);\n",
              "  box-shadow: 2pt 2pt 4pt #999;\n",
              "  /* unfitted */\n",
              "  background: var(--sklearn-color-unfitted-level-0);\n",
              "  border: .5pt solid var(--sklearn-color-unfitted-level-3);\n",
              "}\n",
              "\n",
              ".sk-estimator-doc-link.fitted span {\n",
              "  /* fitted */\n",
              "  background: var(--sklearn-color-fitted-level-0);\n",
              "  border: var(--sklearn-color-fitted-level-3);\n",
              "}\n",
              "\n",
              ".sk-estimator-doc-link:hover span {\n",
              "  display: block;\n",
              "}\n",
              "\n",
              "/* \"?\"-specific style due to the `<a>` HTML tag */\n",
              "\n",
              "#sk-container-id-4 a.estimator_doc_link {\n",
              "  float: right;\n",
              "  font-size: 1rem;\n",
              "  line-height: 1em;\n",
              "  font-family: monospace;\n",
              "  background-color: var(--sklearn-color-background);\n",
              "  border-radius: 1rem;\n",
              "  height: 1rem;\n",
              "  width: 1rem;\n",
              "  text-decoration: none;\n",
              "  /* unfitted */\n",
              "  color: var(--sklearn-color-unfitted-level-1);\n",
              "  border: var(--sklearn-color-unfitted-level-1) 1pt solid;\n",
              "}\n",
              "\n",
              "#sk-container-id-4 a.estimator_doc_link.fitted {\n",
              "  /* fitted */\n",
              "  border: var(--sklearn-color-fitted-level-1) 1pt solid;\n",
              "  color: var(--sklearn-color-fitted-level-1);\n",
              "}\n",
              "\n",
              "/* On hover */\n",
              "#sk-container-id-4 a.estimator_doc_link:hover {\n",
              "  /* unfitted */\n",
              "  background-color: var(--sklearn-color-unfitted-level-3);\n",
              "  color: var(--sklearn-color-background);\n",
              "  text-decoration: none;\n",
              "}\n",
              "\n",
              "#sk-container-id-4 a.estimator_doc_link.fitted:hover {\n",
              "  /* fitted */\n",
              "  background-color: var(--sklearn-color-fitted-level-3);\n",
              "}\n",
              "</style><div id=\"sk-container-id-4\" class=\"sk-top-container\"><div class=\"sk-text-repr-fallback\"><pre>LogisticRegression(class_weight=&#x27;balanced&#x27;)</pre><b>In a Jupyter environment, please rerun this cell to show the HTML representation or trust the notebook. <br />On GitHub, the HTML representation is unable to render, please try loading this page with nbviewer.org.</b></div><div class=\"sk-container\" hidden><div class=\"sk-item\"><div class=\"sk-estimator fitted sk-toggleable\"><input class=\"sk-toggleable__control sk-hidden--visually\" id=\"sk-estimator-id-4\" type=\"checkbox\" checked><label for=\"sk-estimator-id-4\" class=\"sk-toggleable__label fitted sk-toggleable__label-arrow\"><div><div>LogisticRegression</div></div><div><a class=\"sk-estimator-doc-link fitted\" rel=\"noreferrer\" target=\"_blank\" href=\"https://scikit-learn.org/1.6/modules/generated/sklearn.linear_model.LogisticRegression.html\">?<span>Documentation for LogisticRegression</span></a><span class=\"sk-estimator-doc-link fitted\">i<span>Fitted</span></span></div></label><div class=\"sk-toggleable__content fitted\"><pre>LogisticRegression(class_weight=&#x27;balanced&#x27;)</pre></div> </div></div></div></div>"
            ],
            "text/plain": [
              "LogisticRegression(class_weight='balanced')"
            ]
          },
          "execution_count": 99,
          "metadata": {},
          "output_type": "execute_result"
        }
      ],
      "source": [
        "re_rank_model = LogisticRegression(class_weight='balanced')\n",
        "re_rank_model.fit(X_train, y_train)"
      ]
    },
    {
      "cell_type": "code",
      "execution_count": null,
      "id": "7ba8b2c5-7ca1-4a73-898a-30afde22916c",
      "metadata": {
        "id": "7ba8b2c5-7ca1-4a73-898a-30afde22916c"
      },
      "outputs": [],
      "source": [
        "re_ranked_tfidf_results = re_rank_candidates_tfidf(tfidf_results, re_rank_model, top_k_candidates=100)"
      ]
    },
    {
      "cell_type": "code",
      "execution_count": null,
      "id": "de012a85-07c8-4e1d-b3ca-a0a378eb2f6a",
      "metadata": {
        "id": "de012a85-07c8-4e1d-b3ca-a0a378eb2f6a",
        "outputId": "db0d385f-9bc6-4ba1-a368-b1454bd7f65c"
      },
      "outputs": [
        {
          "name": "stdout",
          "output_type": "stream",
          "text": [
            "After re-ranking: Recall@100 = 0.8448860586541747 mAP@100 = 0.34885417923666456\n"
          ]
        }
      ],
      "source": [
        "recall_after, mAP_after = evaluate_recommendations(gold_mapping, re_ranked_tfidf_results, k=100)\n",
        "print(\"After re-ranking: Recall@100 =\", recall_after, \"mAP@100 =\", mAP_after)"
      ]
    },
    {
      "cell_type": "markdown",
      "id": "d94d202f-69ba-407e-bd1f-ad8cbb60736e",
      "metadata": {
        "id": "d94d202f-69ba-407e-bd1f-ad8cbb60736e",
        "jp-MarkdownHeadingCollapsed": true
      },
      "source": [
        "## 4.2 Grid Search by Model"
      ]
    },
    {
      "cell_type": "code",
      "execution_count": null,
      "id": "01d43960-886f-41e1-a216-fc0b1e68ee8c",
      "metadata": {
        "id": "01d43960-886f-41e1-a216-fc0b1e68ee8c"
      },
      "outputs": [],
      "source": [
        "lr_params = {\n",
        "    'C': [0.1, 1.0, 10.0]\n",
        "}\n",
        "rf_params = {\n",
        "    'n_estimators': [50, 100, 200],\n",
        "    'max_depth': [5, 10, 20]\n",
        "}\n",
        "xgb_params = {\n",
        "    'learning_rate': [0.01, 0.1],\n",
        "    'n_estimators': [50, 100],\n",
        "    'max_depth': [3, 5]\n",
        "}\n",
        "\n",
        "models = [\n",
        "    ('lr', LogisticRegression(class_weight='balanced', random_state=42), lr_params),\n",
        "    ('rf', RandomForestClassifier(class_weight='balanced', random_state=42), rf_params),\n",
        "    ('xgb', xgb.XGBClassifier(eval_metric='logloss', random_state=42), xgb_params)\n",
        "]"
      ]
    },
    {
      "cell_type": "code",
      "execution_count": null,
      "id": "084cbbde-9368-4eff-966f-a5432a57fafe",
      "metadata": {
        "id": "084cbbde-9368-4eff-966f-a5432a57fafe"
      },
      "outputs": [],
      "source": [
        "cv = StratifiedKFold(n_splits=3, shuffle=True, random_state=42)\n",
        "\n",
        "best_score = -np.inf\n",
        "best_model = None\n",
        "best_model_name = None\n",
        "best_params = None\n",
        "\n",
        "scoring = 'average_precision'"
      ]
    },
    {
      "cell_type": "code",
      "execution_count": null,
      "id": "4e49e56e-3337-4d02-a5d9-28d86ed4083c",
      "metadata": {
        "id": "4e49e56e-3337-4d02-a5d9-28d86ed4083c",
        "outputId": "76c2120d-d441-47b8-e05d-f0e0ca90ef03"
      },
      "outputs": [
        {
          "name": "stdout",
          "output_type": "stream",
          "text": [
            "Model lr with params {'C': 0.1}: average precision = 0.1004\n",
            "Model lr with params {'C': 1.0}: average precision = 0.1004\n",
            "Model lr with params {'C': 10.0}: average precision = 0.1004\n",
            "Model rf with params {'n_estimators': 50, 'max_depth': 5}: average precision = 0.0978\n",
            "Model rf with params {'n_estimators': 50, 'max_depth': 10}: average precision = 0.0935\n",
            "Model rf with params {'n_estimators': 50, 'max_depth': 20}: average precision = 0.0586\n",
            "Model rf with params {'n_estimators': 100, 'max_depth': 5}: average precision = 0.0988\n",
            "Model rf with params {'n_estimators': 100, 'max_depth': 10}: average precision = 0.0950\n",
            "Model rf with params {'n_estimators': 100, 'max_depth': 20}: average precision = 0.0607\n",
            "Model rf with params {'n_estimators': 200, 'max_depth': 5}: average precision = 0.0992\n",
            "Model rf with params {'n_estimators': 200, 'max_depth': 10}: average precision = 0.0955\n",
            "Model rf with params {'n_estimators': 200, 'max_depth': 20}: average precision = 0.0606\n",
            "Model xgb with params {'learning_rate': 0.01, 'n_estimators': 50, 'max_depth': 3}: average precision = 0.0918\n",
            "Model xgb with params {'learning_rate': 0.01, 'n_estimators': 50, 'max_depth': 5}: average precision = 0.0924\n",
            "Model xgb with params {'learning_rate': 0.01, 'n_estimators': 100, 'max_depth': 3}: average precision = 0.0924\n",
            "Model xgb with params {'learning_rate': 0.01, 'n_estimators': 100, 'max_depth': 5}: average precision = 0.0929\n",
            "Model xgb with params {'learning_rate': 0.1, 'n_estimators': 50, 'max_depth': 3}: average precision = 0.0924\n",
            "Model xgb with params {'learning_rate': 0.1, 'n_estimators': 50, 'max_depth': 5}: average precision = 0.0932\n",
            "Model xgb with params {'learning_rate': 0.1, 'n_estimators': 100, 'max_depth': 3}: average precision = 0.0929\n",
            "Model xgb with params {'learning_rate': 0.1, 'n_estimators': 100, 'max_depth': 5}: average precision = 0.0934\n"
          ]
        }
      ],
      "source": [
        "for model_name, model, param_grid in models:\n",
        "    keys, values = zip(*param_grid.items())\n",
        "    for combination in itertools.product(*values):\n",
        "        params = dict(zip(keys, combination))\n",
        "        model.set_params(**params)\n",
        "        scores = cross_val_score(model, X_train, y_train, cv=cv, scoring=scoring)\n",
        "        mean_score = np.mean(scores)\n",
        "        print(f\"Model {model_name} with params {params}: average precision = {mean_score:.4f}\")\n",
        "        if mean_score > best_score:\n",
        "            best_score = mean_score\n",
        "            best_model = model\n",
        "            best_model_name = model_name\n",
        "            best_params = params"
      ]
    },
    {
      "cell_type": "code",
      "execution_count": null,
      "id": "00158faa-3d12-471d-aa28-1d54348889da",
      "metadata": {
        "id": "00158faa-3d12-471d-aa28-1d54348889da",
        "outputId": "b253fcec-c4fe-44a5-80c8-47c013d4de3b"
      },
      "outputs": [
        {
          "name": "stdout",
          "output_type": "stream",
          "text": [
            "Model: lr\n",
            "Parameters: {'C': 0.1}\n",
            "Mean Average Precision: 0.10035872925809614\n"
          ]
        }
      ],
      "source": [
        "print(\"Model:\", best_model_name)\n",
        "print(\"Parameters:\", best_params)\n",
        "print(\"Mean Average Precision:\", best_score)"
      ]
    },
    {
      "cell_type": "markdown",
      "id": "9f8c714f-aa51-440b-ad09-3ae0de72ab0e",
      "metadata": {
        "id": "9f8c714f-aa51-440b-ad09-3ae0de72ab0e",
        "jp-MarkdownHeadingCollapsed": true
      },
      "source": [
        "## 4.3 Re-ranking"
      ]
    },
    {
      "cell_type": "code",
      "execution_count": null,
      "id": "c164a4ac-4f51-43fe-9ca1-a5008760472c",
      "metadata": {
        "id": "c164a4ac-4f51-43fe-9ca1-a5008760472c",
        "outputId": "d20ca1b9-e220-453c-fbc4-feb323c1f3d3"
      },
      "outputs": [
        {
          "data": {
            "text/html": [
              "<style>#sk-container-id-7 {\n",
              "  /* Definition of color scheme common for light and dark mode */\n",
              "  --sklearn-color-text: #000;\n",
              "  --sklearn-color-text-muted: #666;\n",
              "  --sklearn-color-line: gray;\n",
              "  /* Definition of color scheme for unfitted estimators */\n",
              "  --sklearn-color-unfitted-level-0: #fff5e6;\n",
              "  --sklearn-color-unfitted-level-1: #f6e4d2;\n",
              "  --sklearn-color-unfitted-level-2: #ffe0b3;\n",
              "  --sklearn-color-unfitted-level-3: chocolate;\n",
              "  /* Definition of color scheme for fitted estimators */\n",
              "  --sklearn-color-fitted-level-0: #f0f8ff;\n",
              "  --sklearn-color-fitted-level-1: #d4ebff;\n",
              "  --sklearn-color-fitted-level-2: #b3dbfd;\n",
              "  --sklearn-color-fitted-level-3: cornflowerblue;\n",
              "\n",
              "  /* Specific color for light theme */\n",
              "  --sklearn-color-text-on-default-background: var(--sg-text-color, var(--theme-code-foreground, var(--jp-content-font-color1, black)));\n",
              "  --sklearn-color-background: var(--sg-background-color, var(--theme-background, var(--jp-layout-color0, white)));\n",
              "  --sklearn-color-border-box: var(--sg-text-color, var(--theme-code-foreground, var(--jp-content-font-color1, black)));\n",
              "  --sklearn-color-icon: #696969;\n",
              "\n",
              "  @media (prefers-color-scheme: dark) {\n",
              "    /* Redefinition of color scheme for dark theme */\n",
              "    --sklearn-color-text-on-default-background: var(--sg-text-color, var(--theme-code-foreground, var(--jp-content-font-color1, white)));\n",
              "    --sklearn-color-background: var(--sg-background-color, var(--theme-background, var(--jp-layout-color0, #111)));\n",
              "    --sklearn-color-border-box: var(--sg-text-color, var(--theme-code-foreground, var(--jp-content-font-color1, white)));\n",
              "    --sklearn-color-icon: #878787;\n",
              "  }\n",
              "}\n",
              "\n",
              "#sk-container-id-7 {\n",
              "  color: var(--sklearn-color-text);\n",
              "}\n",
              "\n",
              "#sk-container-id-7 pre {\n",
              "  padding: 0;\n",
              "}\n",
              "\n",
              "#sk-container-id-7 input.sk-hidden--visually {\n",
              "  border: 0;\n",
              "  clip: rect(1px 1px 1px 1px);\n",
              "  clip: rect(1px, 1px, 1px, 1px);\n",
              "  height: 1px;\n",
              "  margin: -1px;\n",
              "  overflow: hidden;\n",
              "  padding: 0;\n",
              "  position: absolute;\n",
              "  width: 1px;\n",
              "}\n",
              "\n",
              "#sk-container-id-7 div.sk-dashed-wrapped {\n",
              "  border: 1px dashed var(--sklearn-color-line);\n",
              "  margin: 0 0.4em 0.5em 0.4em;\n",
              "  box-sizing: border-box;\n",
              "  padding-bottom: 0.4em;\n",
              "  background-color: var(--sklearn-color-background);\n",
              "}\n",
              "\n",
              "#sk-container-id-7 div.sk-container {\n",
              "  /* jupyter's `normalize.less` sets `[hidden] { display: none; }`\n",
              "     but bootstrap.min.css set `[hidden] { display: none !important; }`\n",
              "     so we also need the `!important` here to be able to override the\n",
              "     default hidden behavior on the sphinx rendered scikit-learn.org.\n",
              "     See: https://github.com/scikit-learn/scikit-learn/issues/21755 */\n",
              "  display: inline-block !important;\n",
              "  position: relative;\n",
              "}\n",
              "\n",
              "#sk-container-id-7 div.sk-text-repr-fallback {\n",
              "  display: none;\n",
              "}\n",
              "\n",
              "div.sk-parallel-item,\n",
              "div.sk-serial,\n",
              "div.sk-item {\n",
              "  /* draw centered vertical line to link estimators */\n",
              "  background-image: linear-gradient(var(--sklearn-color-text-on-default-background), var(--sklearn-color-text-on-default-background));\n",
              "  background-size: 2px 100%;\n",
              "  background-repeat: no-repeat;\n",
              "  background-position: center center;\n",
              "}\n",
              "\n",
              "/* Parallel-specific style estimator block */\n",
              "\n",
              "#sk-container-id-7 div.sk-parallel-item::after {\n",
              "  content: \"\";\n",
              "  width: 100%;\n",
              "  border-bottom: 2px solid var(--sklearn-color-text-on-default-background);\n",
              "  flex-grow: 1;\n",
              "}\n",
              "\n",
              "#sk-container-id-7 div.sk-parallel {\n",
              "  display: flex;\n",
              "  align-items: stretch;\n",
              "  justify-content: center;\n",
              "  background-color: var(--sklearn-color-background);\n",
              "  position: relative;\n",
              "}\n",
              "\n",
              "#sk-container-id-7 div.sk-parallel-item {\n",
              "  display: flex;\n",
              "  flex-direction: column;\n",
              "}\n",
              "\n",
              "#sk-container-id-7 div.sk-parallel-item:first-child::after {\n",
              "  align-self: flex-end;\n",
              "  width: 50%;\n",
              "}\n",
              "\n",
              "#sk-container-id-7 div.sk-parallel-item:last-child::after {\n",
              "  align-self: flex-start;\n",
              "  width: 50%;\n",
              "}\n",
              "\n",
              "#sk-container-id-7 div.sk-parallel-item:only-child::after {\n",
              "  width: 0;\n",
              "}\n",
              "\n",
              "/* Serial-specific style estimator block */\n",
              "\n",
              "#sk-container-id-7 div.sk-serial {\n",
              "  display: flex;\n",
              "  flex-direction: column;\n",
              "  align-items: center;\n",
              "  background-color: var(--sklearn-color-background);\n",
              "  padding-right: 1em;\n",
              "  padding-left: 1em;\n",
              "}\n",
              "\n",
              "\n",
              "/* Toggleable style: style used for estimator/Pipeline/ColumnTransformer box that is\n",
              "clickable and can be expanded/collapsed.\n",
              "- Pipeline and ColumnTransformer use this feature and define the default style\n",
              "- Estimators will overwrite some part of the style using the `sk-estimator` class\n",
              "*/\n",
              "\n",
              "/* Pipeline and ColumnTransformer style (default) */\n",
              "\n",
              "#sk-container-id-7 div.sk-toggleable {\n",
              "  /* Default theme specific background. It is overwritten whether we have a\n",
              "  specific estimator or a Pipeline/ColumnTransformer */\n",
              "  background-color: var(--sklearn-color-background);\n",
              "}\n",
              "\n",
              "/* Toggleable label */\n",
              "#sk-container-id-7 label.sk-toggleable__label {\n",
              "  cursor: pointer;\n",
              "  display: flex;\n",
              "  width: 100%;\n",
              "  margin-bottom: 0;\n",
              "  padding: 0.5em;\n",
              "  box-sizing: border-box;\n",
              "  text-align: center;\n",
              "  align-items: start;\n",
              "  justify-content: space-between;\n",
              "  gap: 0.5em;\n",
              "}\n",
              "\n",
              "#sk-container-id-7 label.sk-toggleable__label .caption {\n",
              "  font-size: 0.6rem;\n",
              "  font-weight: lighter;\n",
              "  color: var(--sklearn-color-text-muted);\n",
              "}\n",
              "\n",
              "#sk-container-id-7 label.sk-toggleable__label-arrow:before {\n",
              "  /* Arrow on the left of the label */\n",
              "  content: \"▸\";\n",
              "  float: left;\n",
              "  margin-right: 0.25em;\n",
              "  color: var(--sklearn-color-icon);\n",
              "}\n",
              "\n",
              "#sk-container-id-7 label.sk-toggleable__label-arrow:hover:before {\n",
              "  color: var(--sklearn-color-text);\n",
              "}\n",
              "\n",
              "/* Toggleable content - dropdown */\n",
              "\n",
              "#sk-container-id-7 div.sk-toggleable__content {\n",
              "  max-height: 0;\n",
              "  max-width: 0;\n",
              "  overflow: hidden;\n",
              "  text-align: left;\n",
              "  /* unfitted */\n",
              "  background-color: var(--sklearn-color-unfitted-level-0);\n",
              "}\n",
              "\n",
              "#sk-container-id-7 div.sk-toggleable__content.fitted {\n",
              "  /* fitted */\n",
              "  background-color: var(--sklearn-color-fitted-level-0);\n",
              "}\n",
              "\n",
              "#sk-container-id-7 div.sk-toggleable__content pre {\n",
              "  margin: 0.2em;\n",
              "  border-radius: 0.25em;\n",
              "  color: var(--sklearn-color-text);\n",
              "  /* unfitted */\n",
              "  background-color: var(--sklearn-color-unfitted-level-0);\n",
              "}\n",
              "\n",
              "#sk-container-id-7 div.sk-toggleable__content.fitted pre {\n",
              "  /* unfitted */\n",
              "  background-color: var(--sklearn-color-fitted-level-0);\n",
              "}\n",
              "\n",
              "#sk-container-id-7 input.sk-toggleable__control:checked~div.sk-toggleable__content {\n",
              "  /* Expand drop-down */\n",
              "  max-height: 200px;\n",
              "  max-width: 100%;\n",
              "  overflow: auto;\n",
              "}\n",
              "\n",
              "#sk-container-id-7 input.sk-toggleable__control:checked~label.sk-toggleable__label-arrow:before {\n",
              "  content: \"▾\";\n",
              "}\n",
              "\n",
              "/* Pipeline/ColumnTransformer-specific style */\n",
              "\n",
              "#sk-container-id-7 div.sk-label input.sk-toggleable__control:checked~label.sk-toggleable__label {\n",
              "  color: var(--sklearn-color-text);\n",
              "  background-color: var(--sklearn-color-unfitted-level-2);\n",
              "}\n",
              "\n",
              "#sk-container-id-7 div.sk-label.fitted input.sk-toggleable__control:checked~label.sk-toggleable__label {\n",
              "  background-color: var(--sklearn-color-fitted-level-2);\n",
              "}\n",
              "\n",
              "/* Estimator-specific style */\n",
              "\n",
              "/* Colorize estimator box */\n",
              "#sk-container-id-7 div.sk-estimator input.sk-toggleable__control:checked~label.sk-toggleable__label {\n",
              "  /* unfitted */\n",
              "  background-color: var(--sklearn-color-unfitted-level-2);\n",
              "}\n",
              "\n",
              "#sk-container-id-7 div.sk-estimator.fitted input.sk-toggleable__control:checked~label.sk-toggleable__label {\n",
              "  /* fitted */\n",
              "  background-color: var(--sklearn-color-fitted-level-2);\n",
              "}\n",
              "\n",
              "#sk-container-id-7 div.sk-label label.sk-toggleable__label,\n",
              "#sk-container-id-7 div.sk-label label {\n",
              "  /* The background is the default theme color */\n",
              "  color: var(--sklearn-color-text-on-default-background);\n",
              "}\n",
              "\n",
              "/* On hover, darken the color of the background */\n",
              "#sk-container-id-7 div.sk-label:hover label.sk-toggleable__label {\n",
              "  color: var(--sklearn-color-text);\n",
              "  background-color: var(--sklearn-color-unfitted-level-2);\n",
              "}\n",
              "\n",
              "/* Label box, darken color on hover, fitted */\n",
              "#sk-container-id-7 div.sk-label.fitted:hover label.sk-toggleable__label.fitted {\n",
              "  color: var(--sklearn-color-text);\n",
              "  background-color: var(--sklearn-color-fitted-level-2);\n",
              "}\n",
              "\n",
              "/* Estimator label */\n",
              "\n",
              "#sk-container-id-7 div.sk-label label {\n",
              "  font-family: monospace;\n",
              "  font-weight: bold;\n",
              "  display: inline-block;\n",
              "  line-height: 1.2em;\n",
              "}\n",
              "\n",
              "#sk-container-id-7 div.sk-label-container {\n",
              "  text-align: center;\n",
              "}\n",
              "\n",
              "/* Estimator-specific */\n",
              "#sk-container-id-7 div.sk-estimator {\n",
              "  font-family: monospace;\n",
              "  border: 1px dotted var(--sklearn-color-border-box);\n",
              "  border-radius: 0.25em;\n",
              "  box-sizing: border-box;\n",
              "  margin-bottom: 0.5em;\n",
              "  /* unfitted */\n",
              "  background-color: var(--sklearn-color-unfitted-level-0);\n",
              "}\n",
              "\n",
              "#sk-container-id-7 div.sk-estimator.fitted {\n",
              "  /* fitted */\n",
              "  background-color: var(--sklearn-color-fitted-level-0);\n",
              "}\n",
              "\n",
              "/* on hover */\n",
              "#sk-container-id-7 div.sk-estimator:hover {\n",
              "  /* unfitted */\n",
              "  background-color: var(--sklearn-color-unfitted-level-2);\n",
              "}\n",
              "\n",
              "#sk-container-id-7 div.sk-estimator.fitted:hover {\n",
              "  /* fitted */\n",
              "  background-color: var(--sklearn-color-fitted-level-2);\n",
              "}\n",
              "\n",
              "/* Specification for estimator info (e.g. \"i\" and \"?\") */\n",
              "\n",
              "/* Common style for \"i\" and \"?\" */\n",
              "\n",
              ".sk-estimator-doc-link,\n",
              "a:link.sk-estimator-doc-link,\n",
              "a:visited.sk-estimator-doc-link {\n",
              "  float: right;\n",
              "  font-size: smaller;\n",
              "  line-height: 1em;\n",
              "  font-family: monospace;\n",
              "  background-color: var(--sklearn-color-background);\n",
              "  border-radius: 1em;\n",
              "  height: 1em;\n",
              "  width: 1em;\n",
              "  text-decoration: none !important;\n",
              "  margin-left: 0.5em;\n",
              "  text-align: center;\n",
              "  /* unfitted */\n",
              "  border: var(--sklearn-color-unfitted-level-1) 1pt solid;\n",
              "  color: var(--sklearn-color-unfitted-level-1);\n",
              "}\n",
              "\n",
              ".sk-estimator-doc-link.fitted,\n",
              "a:link.sk-estimator-doc-link.fitted,\n",
              "a:visited.sk-estimator-doc-link.fitted {\n",
              "  /* fitted */\n",
              "  border: var(--sklearn-color-fitted-level-1) 1pt solid;\n",
              "  color: var(--sklearn-color-fitted-level-1);\n",
              "}\n",
              "\n",
              "/* On hover */\n",
              "div.sk-estimator:hover .sk-estimator-doc-link:hover,\n",
              ".sk-estimator-doc-link:hover,\n",
              "div.sk-label-container:hover .sk-estimator-doc-link:hover,\n",
              ".sk-estimator-doc-link:hover {\n",
              "  /* unfitted */\n",
              "  background-color: var(--sklearn-color-unfitted-level-3);\n",
              "  color: var(--sklearn-color-background);\n",
              "  text-decoration: none;\n",
              "}\n",
              "\n",
              "div.sk-estimator.fitted:hover .sk-estimator-doc-link.fitted:hover,\n",
              ".sk-estimator-doc-link.fitted:hover,\n",
              "div.sk-label-container:hover .sk-estimator-doc-link.fitted:hover,\n",
              ".sk-estimator-doc-link.fitted:hover {\n",
              "  /* fitted */\n",
              "  background-color: var(--sklearn-color-fitted-level-3);\n",
              "  color: var(--sklearn-color-background);\n",
              "  text-decoration: none;\n",
              "}\n",
              "\n",
              "/* Span, style for the box shown on hovering the info icon */\n",
              ".sk-estimator-doc-link span {\n",
              "  display: none;\n",
              "  z-index: 9999;\n",
              "  position: relative;\n",
              "  font-weight: normal;\n",
              "  right: .2ex;\n",
              "  padding: .5ex;\n",
              "  margin: .5ex;\n",
              "  width: min-content;\n",
              "  min-width: 20ex;\n",
              "  max-width: 50ex;\n",
              "  color: var(--sklearn-color-text);\n",
              "  box-shadow: 2pt 2pt 4pt #999;\n",
              "  /* unfitted */\n",
              "  background: var(--sklearn-color-unfitted-level-0);\n",
              "  border: .5pt solid var(--sklearn-color-unfitted-level-3);\n",
              "}\n",
              "\n",
              ".sk-estimator-doc-link.fitted span {\n",
              "  /* fitted */\n",
              "  background: var(--sklearn-color-fitted-level-0);\n",
              "  border: var(--sklearn-color-fitted-level-3);\n",
              "}\n",
              "\n",
              ".sk-estimator-doc-link:hover span {\n",
              "  display: block;\n",
              "}\n",
              "\n",
              "/* \"?\"-specific style due to the `<a>` HTML tag */\n",
              "\n",
              "#sk-container-id-7 a.estimator_doc_link {\n",
              "  float: right;\n",
              "  font-size: 1rem;\n",
              "  line-height: 1em;\n",
              "  font-family: monospace;\n",
              "  background-color: var(--sklearn-color-background);\n",
              "  border-radius: 1rem;\n",
              "  height: 1rem;\n",
              "  width: 1rem;\n",
              "  text-decoration: none;\n",
              "  /* unfitted */\n",
              "  color: var(--sklearn-color-unfitted-level-1);\n",
              "  border: var(--sklearn-color-unfitted-level-1) 1pt solid;\n",
              "}\n",
              "\n",
              "#sk-container-id-7 a.estimator_doc_link.fitted {\n",
              "  /* fitted */\n",
              "  border: var(--sklearn-color-fitted-level-1) 1pt solid;\n",
              "  color: var(--sklearn-color-fitted-level-1);\n",
              "}\n",
              "\n",
              "/* On hover */\n",
              "#sk-container-id-7 a.estimator_doc_link:hover {\n",
              "  /* unfitted */\n",
              "  background-color: var(--sklearn-color-unfitted-level-3);\n",
              "  color: var(--sklearn-color-background);\n",
              "  text-decoration: none;\n",
              "}\n",
              "\n",
              "#sk-container-id-7 a.estimator_doc_link.fitted:hover {\n",
              "  /* fitted */\n",
              "  background-color: var(--sklearn-color-fitted-level-3);\n",
              "}\n",
              "</style><div id=\"sk-container-id-7\" class=\"sk-top-container\"><div class=\"sk-text-repr-fallback\"><pre>RandomForestClassifier(class_weight=&#x27;balanced&#x27;, max_depth=5, n_estimators=200)</pre><b>In a Jupyter environment, please rerun this cell to show the HTML representation or trust the notebook. <br />On GitHub, the HTML representation is unable to render, please try loading this page with nbviewer.org.</b></div><div class=\"sk-container\" hidden><div class=\"sk-item\"><div class=\"sk-estimator fitted sk-toggleable\"><input class=\"sk-toggleable__control sk-hidden--visually\" id=\"sk-estimator-id-7\" type=\"checkbox\" checked><label for=\"sk-estimator-id-7\" class=\"sk-toggleable__label fitted sk-toggleable__label-arrow\"><div><div>RandomForestClassifier</div></div><div><a class=\"sk-estimator-doc-link fitted\" rel=\"noreferrer\" target=\"_blank\" href=\"https://scikit-learn.org/1.6/modules/generated/sklearn.ensemble.RandomForestClassifier.html\">?<span>Documentation for RandomForestClassifier</span></a><span class=\"sk-estimator-doc-link fitted\">i<span>Fitted</span></span></div></label><div class=\"sk-toggleable__content fitted\"><pre>RandomForestClassifier(class_weight=&#x27;balanced&#x27;, max_depth=5, n_estimators=200)</pre></div> </div></div></div></div>"
            ],
            "text/plain": [
              "RandomForestClassifier(class_weight='balanced', max_depth=5, n_estimators=200)"
            ]
          },
          "execution_count": 226,
          "metadata": {},
          "output_type": "execute_result"
        }
      ],
      "source": [
        "re_rank_model = RandomForestClassifier(class_weight='balanced', n_estimators = 200, max_depth = 5)\n",
        "re_rank_model.fit(X_train, y_train)"
      ]
    },
    {
      "cell_type": "code",
      "execution_count": null,
      "id": "4759f6c5-4eee-4f1f-afc5-758f3270f656",
      "metadata": {
        "id": "4759f6c5-4eee-4f1f-afc5-758f3270f656",
        "outputId": "3911f95c-cab7-418e-ee8d-59bf18c474b0"
      },
      "outputs": [
        {
          "name": "stdout",
          "output_type": "stream",
          "text": [
            "After re-ranking: Recall@100 = 0.8448860586541747 mAP@100 = 0.3568840968842712\n"
          ]
        }
      ],
      "source": [
        "re_ranked_tfidf_results = re_rank_candidates_tfidf(tfidf_results, re_rank_model, top_k_candidates=100)\n",
        "recall_after, mAP_after = evaluate_recommendations(gold_mapping, re_ranked_tfidf_results, k=100)\n",
        "print(\"After re-ranking: Recall@100 =\", recall_after, \"mAP@100 =\", mAP_after)"
      ]
    },
    {
      "cell_type": "markdown",
      "id": "638a9934-ca5c-4662-ac48-3b2274295eac",
      "metadata": {
        "id": "638a9934-ca5c-4662-ac48-3b2274295eac",
        "jp-MarkdownHeadingCollapsed": true
      },
      "source": [
        "## Save predictions 1"
      ]
    },
    {
      "cell_type": "code",
      "execution_count": null,
      "id": "ec03c6fd-9008-4003-aef0-60b93b13d41a",
      "metadata": {
        "id": "ec03c6fd-9008-4003-aef0-60b93b13d41a"
      },
      "outputs": [],
      "source": [
        "tfidf_query_test, tfidf_docs_test, query_ids_test, doc_ids_test, _ = prepare_tfidf_data(\n",
        "                                                                        citing_docs=json_citing_test,\n",
        "                                                                        cited_docs=json_nonciting,\n",
        "                                                                        weights=weights,\n",
        "                                                                        vectorizer=fitted_vectorizer,\n",
        "                                                                        apply_cleaning=False,\n",
        "                                                                        test=True)"
      ]
    },
    {
      "cell_type": "code",
      "execution_count": null,
      "id": "9d8230d5-f700-4a6f-af4c-56c52fb5de99",
      "metadata": {
        "id": "9d8230d5-f700-4a6f-af4c-56c52fb5de99"
      },
      "outputs": [],
      "source": [
        "tfidf_results_test = get_tfidf_recommendations(query_ids_test,\n",
        "                                            doc_ids_test,\n",
        "                                            tfidf_query_test,\n",
        "                                            tfidf_docs_test,\n",
        "                                            k=100, return_scores=True)"
      ]
    },
    {
      "cell_type": "code",
      "execution_count": null,
      "id": "b1c7b691-9ea7-4c2b-8fbc-7a679ed1ce1a",
      "metadata": {
        "id": "b1c7b691-9ea7-4c2b-8fbc-7a679ed1ce1a"
      },
      "outputs": [],
      "source": [
        "re_ranked_tfidf_results = re_rank_candidates_tfidf(tfidf_results_test, re_rank_model, top_k_candidates=100)"
      ]
    },
    {
      "cell_type": "code",
      "execution_count": null,
      "id": "9c077d8d-4204-4160-bf13-fb3a5e65309a",
      "metadata": {
        "id": "9c077d8d-4204-4160-bf13-fb3a5e65309a"
      },
      "outputs": [],
      "source": [
        "with open(\"predictions_1_1.json\", \"w\") as f:\n",
        "    json.dump(tfidf_results_test, f, indent=2)"
      ]
    },
    {
      "cell_type": "markdown",
      "id": "10847da6-b82c-48fa-b186-a54790ac86c9",
      "metadata": {
        "id": "10847da6-b82c-48fa-b186-a54790ac86c9",
        "jp-MarkdownHeadingCollapsed": true
      },
      "source": [
        "## 4.4 BETTER TF-IDF First attempt - LR"
      ]
    },
    {
      "cell_type": "code",
      "execution_count": null,
      "id": "a76f91c5-e245-4b0e-b353-a2d3bc3fd5ce",
      "metadata": {
        "id": "a76f91c5-e245-4b0e-b353-a2d3bc3fd5ce"
      },
      "outputs": [],
      "source": [
        "vectorizer = TfidfVectorizer(stop_words = 'english', max_features = 30000, sublinear_tf = True)\n",
        "weights = {'title': 1, 'abstract': 0, 'claims': 1, 'description': 1}"
      ]
    },
    {
      "cell_type": "code",
      "execution_count": null,
      "id": "8186c121-0035-4851-90bc-13e6d3d32722",
      "metadata": {
        "id": "8186c121-0035-4851-90bc-13e6d3d32722"
      },
      "outputs": [],
      "source": [
        "tfidf_query, tfidf_docs, query_ids, doc_ids, fitted_vectorizer = prepare_tfidf_data(\n",
        "                                                                        citing_docs=json_citing_train,\n",
        "                                                                        cited_docs=json_nonciting,\n",
        "                                                                        weights=weights,\n",
        "                                                                        vectorizer=vectorizer,\n",
        "                                                                        apply_cleaning=False,\n",
        "                                                                        test=False)"
      ]
    },
    {
      "cell_type": "code",
      "execution_count": null,
      "id": "33f2fe28-6c06-4d34-a600-4fb93484edd6",
      "metadata": {
        "id": "33f2fe28-6c06-4d34-a600-4fb93484edd6"
      },
      "outputs": [],
      "source": [
        "tfidf_results = get_tfidf_recommendations(query_ids,\n",
        "                                            doc_ids,\n",
        "                                            tfidf_query,\n",
        "                                            tfidf_docs,\n",
        "                                            k=100, return_scores=True)"
      ]
    },
    {
      "cell_type": "code",
      "execution_count": null,
      "id": "78ccf957-d9de-4b8d-a745-ae6d48b5b722",
      "metadata": {
        "id": "78ccf957-d9de-4b8d-a745-ae6d48b5b722",
        "outputId": "4bd84628-cc24-4686-910b-761bd691bcb6"
      },
      "outputs": [
        {
          "name": "stdout",
          "output_type": "stream",
          "text": [
            "X_train: (683100, 1)\n",
            "y_train: (683100,)\n",
            "Fraction of positive samples: 0.011323378714683063\n"
          ]
        }
      ],
      "source": [
        "X_train, y_train = prepare_training_data_tfidf(tfidf_results, gold_mapping)\n",
        "print(\"X_train:\", X_train.shape)\n",
        "print(\"y_train:\", y_train.shape)\n",
        "\n",
        "positive_rate = np.mean(y_train)\n",
        "print(\"Fraction of positive samples:\", positive_rate)"
      ]
    },
    {
      "cell_type": "code",
      "execution_count": null,
      "id": "20da26ad-21e3-4517-a9e2-827caf5db481",
      "metadata": {
        "id": "20da26ad-21e3-4517-a9e2-827caf5db481",
        "outputId": "1b89747a-95d0-4e8d-c6be-548aaab2ba86"
      },
      "outputs": [
        {
          "data": {
            "text/html": [
              "<style>#sk-container-id-1 {\n",
              "  /* Definition of color scheme common for light and dark mode */\n",
              "  --sklearn-color-text: #000;\n",
              "  --sklearn-color-text-muted: #666;\n",
              "  --sklearn-color-line: gray;\n",
              "  /* Definition of color scheme for unfitted estimators */\n",
              "  --sklearn-color-unfitted-level-0: #fff5e6;\n",
              "  --sklearn-color-unfitted-level-1: #f6e4d2;\n",
              "  --sklearn-color-unfitted-level-2: #ffe0b3;\n",
              "  --sklearn-color-unfitted-level-3: chocolate;\n",
              "  /* Definition of color scheme for fitted estimators */\n",
              "  --sklearn-color-fitted-level-0: #f0f8ff;\n",
              "  --sklearn-color-fitted-level-1: #d4ebff;\n",
              "  --sklearn-color-fitted-level-2: #b3dbfd;\n",
              "  --sklearn-color-fitted-level-3: cornflowerblue;\n",
              "\n",
              "  /* Specific color for light theme */\n",
              "  --sklearn-color-text-on-default-background: var(--sg-text-color, var(--theme-code-foreground, var(--jp-content-font-color1, black)));\n",
              "  --sklearn-color-background: var(--sg-background-color, var(--theme-background, var(--jp-layout-color0, white)));\n",
              "  --sklearn-color-border-box: var(--sg-text-color, var(--theme-code-foreground, var(--jp-content-font-color1, black)));\n",
              "  --sklearn-color-icon: #696969;\n",
              "\n",
              "  @media (prefers-color-scheme: dark) {\n",
              "    /* Redefinition of color scheme for dark theme */\n",
              "    --sklearn-color-text-on-default-background: var(--sg-text-color, var(--theme-code-foreground, var(--jp-content-font-color1, white)));\n",
              "    --sklearn-color-background: var(--sg-background-color, var(--theme-background, var(--jp-layout-color0, #111)));\n",
              "    --sklearn-color-border-box: var(--sg-text-color, var(--theme-code-foreground, var(--jp-content-font-color1, white)));\n",
              "    --sklearn-color-icon: #878787;\n",
              "  }\n",
              "}\n",
              "\n",
              "#sk-container-id-1 {\n",
              "  color: var(--sklearn-color-text);\n",
              "}\n",
              "\n",
              "#sk-container-id-1 pre {\n",
              "  padding: 0;\n",
              "}\n",
              "\n",
              "#sk-container-id-1 input.sk-hidden--visually {\n",
              "  border: 0;\n",
              "  clip: rect(1px 1px 1px 1px);\n",
              "  clip: rect(1px, 1px, 1px, 1px);\n",
              "  height: 1px;\n",
              "  margin: -1px;\n",
              "  overflow: hidden;\n",
              "  padding: 0;\n",
              "  position: absolute;\n",
              "  width: 1px;\n",
              "}\n",
              "\n",
              "#sk-container-id-1 div.sk-dashed-wrapped {\n",
              "  border: 1px dashed var(--sklearn-color-line);\n",
              "  margin: 0 0.4em 0.5em 0.4em;\n",
              "  box-sizing: border-box;\n",
              "  padding-bottom: 0.4em;\n",
              "  background-color: var(--sklearn-color-background);\n",
              "}\n",
              "\n",
              "#sk-container-id-1 div.sk-container {\n",
              "  /* jupyter's `normalize.less` sets `[hidden] { display: none; }`\n",
              "     but bootstrap.min.css set `[hidden] { display: none !important; }`\n",
              "     so we also need the `!important` here to be able to override the\n",
              "     default hidden behavior on the sphinx rendered scikit-learn.org.\n",
              "     See: https://github.com/scikit-learn/scikit-learn/issues/21755 */\n",
              "  display: inline-block !important;\n",
              "  position: relative;\n",
              "}\n",
              "\n",
              "#sk-container-id-1 div.sk-text-repr-fallback {\n",
              "  display: none;\n",
              "}\n",
              "\n",
              "div.sk-parallel-item,\n",
              "div.sk-serial,\n",
              "div.sk-item {\n",
              "  /* draw centered vertical line to link estimators */\n",
              "  background-image: linear-gradient(var(--sklearn-color-text-on-default-background), var(--sklearn-color-text-on-default-background));\n",
              "  background-size: 2px 100%;\n",
              "  background-repeat: no-repeat;\n",
              "  background-position: center center;\n",
              "}\n",
              "\n",
              "/* Parallel-specific style estimator block */\n",
              "\n",
              "#sk-container-id-1 div.sk-parallel-item::after {\n",
              "  content: \"\";\n",
              "  width: 100%;\n",
              "  border-bottom: 2px solid var(--sklearn-color-text-on-default-background);\n",
              "  flex-grow: 1;\n",
              "}\n",
              "\n",
              "#sk-container-id-1 div.sk-parallel {\n",
              "  display: flex;\n",
              "  align-items: stretch;\n",
              "  justify-content: center;\n",
              "  background-color: var(--sklearn-color-background);\n",
              "  position: relative;\n",
              "}\n",
              "\n",
              "#sk-container-id-1 div.sk-parallel-item {\n",
              "  display: flex;\n",
              "  flex-direction: column;\n",
              "}\n",
              "\n",
              "#sk-container-id-1 div.sk-parallel-item:first-child::after {\n",
              "  align-self: flex-end;\n",
              "  width: 50%;\n",
              "}\n",
              "\n",
              "#sk-container-id-1 div.sk-parallel-item:last-child::after {\n",
              "  align-self: flex-start;\n",
              "  width: 50%;\n",
              "}\n",
              "\n",
              "#sk-container-id-1 div.sk-parallel-item:only-child::after {\n",
              "  width: 0;\n",
              "}\n",
              "\n",
              "/* Serial-specific style estimator block */\n",
              "\n",
              "#sk-container-id-1 div.sk-serial {\n",
              "  display: flex;\n",
              "  flex-direction: column;\n",
              "  align-items: center;\n",
              "  background-color: var(--sklearn-color-background);\n",
              "  padding-right: 1em;\n",
              "  padding-left: 1em;\n",
              "}\n",
              "\n",
              "\n",
              "/* Toggleable style: style used for estimator/Pipeline/ColumnTransformer box that is\n",
              "clickable and can be expanded/collapsed.\n",
              "- Pipeline and ColumnTransformer use this feature and define the default style\n",
              "- Estimators will overwrite some part of the style using the `sk-estimator` class\n",
              "*/\n",
              "\n",
              "/* Pipeline and ColumnTransformer style (default) */\n",
              "\n",
              "#sk-container-id-1 div.sk-toggleable {\n",
              "  /* Default theme specific background. It is overwritten whether we have a\n",
              "  specific estimator or a Pipeline/ColumnTransformer */\n",
              "  background-color: var(--sklearn-color-background);\n",
              "}\n",
              "\n",
              "/* Toggleable label */\n",
              "#sk-container-id-1 label.sk-toggleable__label {\n",
              "  cursor: pointer;\n",
              "  display: flex;\n",
              "  width: 100%;\n",
              "  margin-bottom: 0;\n",
              "  padding: 0.5em;\n",
              "  box-sizing: border-box;\n",
              "  text-align: center;\n",
              "  align-items: start;\n",
              "  justify-content: space-between;\n",
              "  gap: 0.5em;\n",
              "}\n",
              "\n",
              "#sk-container-id-1 label.sk-toggleable__label .caption {\n",
              "  font-size: 0.6rem;\n",
              "  font-weight: lighter;\n",
              "  color: var(--sklearn-color-text-muted);\n",
              "}\n",
              "\n",
              "#sk-container-id-1 label.sk-toggleable__label-arrow:before {\n",
              "  /* Arrow on the left of the label */\n",
              "  content: \"▸\";\n",
              "  float: left;\n",
              "  margin-right: 0.25em;\n",
              "  color: var(--sklearn-color-icon);\n",
              "}\n",
              "\n",
              "#sk-container-id-1 label.sk-toggleable__label-arrow:hover:before {\n",
              "  color: var(--sklearn-color-text);\n",
              "}\n",
              "\n",
              "/* Toggleable content - dropdown */\n",
              "\n",
              "#sk-container-id-1 div.sk-toggleable__content {\n",
              "  max-height: 0;\n",
              "  max-width: 0;\n",
              "  overflow: hidden;\n",
              "  text-align: left;\n",
              "  /* unfitted */\n",
              "  background-color: var(--sklearn-color-unfitted-level-0);\n",
              "}\n",
              "\n",
              "#sk-container-id-1 div.sk-toggleable__content.fitted {\n",
              "  /* fitted */\n",
              "  background-color: var(--sklearn-color-fitted-level-0);\n",
              "}\n",
              "\n",
              "#sk-container-id-1 div.sk-toggleable__content pre {\n",
              "  margin: 0.2em;\n",
              "  border-radius: 0.25em;\n",
              "  color: var(--sklearn-color-text);\n",
              "  /* unfitted */\n",
              "  background-color: var(--sklearn-color-unfitted-level-0);\n",
              "}\n",
              "\n",
              "#sk-container-id-1 div.sk-toggleable__content.fitted pre {\n",
              "  /* unfitted */\n",
              "  background-color: var(--sklearn-color-fitted-level-0);\n",
              "}\n",
              "\n",
              "#sk-container-id-1 input.sk-toggleable__control:checked~div.sk-toggleable__content {\n",
              "  /* Expand drop-down */\n",
              "  max-height: 200px;\n",
              "  max-width: 100%;\n",
              "  overflow: auto;\n",
              "}\n",
              "\n",
              "#sk-container-id-1 input.sk-toggleable__control:checked~label.sk-toggleable__label-arrow:before {\n",
              "  content: \"▾\";\n",
              "}\n",
              "\n",
              "/* Pipeline/ColumnTransformer-specific style */\n",
              "\n",
              "#sk-container-id-1 div.sk-label input.sk-toggleable__control:checked~label.sk-toggleable__label {\n",
              "  color: var(--sklearn-color-text);\n",
              "  background-color: var(--sklearn-color-unfitted-level-2);\n",
              "}\n",
              "\n",
              "#sk-container-id-1 div.sk-label.fitted input.sk-toggleable__control:checked~label.sk-toggleable__label {\n",
              "  background-color: var(--sklearn-color-fitted-level-2);\n",
              "}\n",
              "\n",
              "/* Estimator-specific style */\n",
              "\n",
              "/* Colorize estimator box */\n",
              "#sk-container-id-1 div.sk-estimator input.sk-toggleable__control:checked~label.sk-toggleable__label {\n",
              "  /* unfitted */\n",
              "  background-color: var(--sklearn-color-unfitted-level-2);\n",
              "}\n",
              "\n",
              "#sk-container-id-1 div.sk-estimator.fitted input.sk-toggleable__control:checked~label.sk-toggleable__label {\n",
              "  /* fitted */\n",
              "  background-color: var(--sklearn-color-fitted-level-2);\n",
              "}\n",
              "\n",
              "#sk-container-id-1 div.sk-label label.sk-toggleable__label,\n",
              "#sk-container-id-1 div.sk-label label {\n",
              "  /* The background is the default theme color */\n",
              "  color: var(--sklearn-color-text-on-default-background);\n",
              "}\n",
              "\n",
              "/* On hover, darken the color of the background */\n",
              "#sk-container-id-1 div.sk-label:hover label.sk-toggleable__label {\n",
              "  color: var(--sklearn-color-text);\n",
              "  background-color: var(--sklearn-color-unfitted-level-2);\n",
              "}\n",
              "\n",
              "/* Label box, darken color on hover, fitted */\n",
              "#sk-container-id-1 div.sk-label.fitted:hover label.sk-toggleable__label.fitted {\n",
              "  color: var(--sklearn-color-text);\n",
              "  background-color: var(--sklearn-color-fitted-level-2);\n",
              "}\n",
              "\n",
              "/* Estimator label */\n",
              "\n",
              "#sk-container-id-1 div.sk-label label {\n",
              "  font-family: monospace;\n",
              "  font-weight: bold;\n",
              "  display: inline-block;\n",
              "  line-height: 1.2em;\n",
              "}\n",
              "\n",
              "#sk-container-id-1 div.sk-label-container {\n",
              "  text-align: center;\n",
              "}\n",
              "\n",
              "/* Estimator-specific */\n",
              "#sk-container-id-1 div.sk-estimator {\n",
              "  font-family: monospace;\n",
              "  border: 1px dotted var(--sklearn-color-border-box);\n",
              "  border-radius: 0.25em;\n",
              "  box-sizing: border-box;\n",
              "  margin-bottom: 0.5em;\n",
              "  /* unfitted */\n",
              "  background-color: var(--sklearn-color-unfitted-level-0);\n",
              "}\n",
              "\n",
              "#sk-container-id-1 div.sk-estimator.fitted {\n",
              "  /* fitted */\n",
              "  background-color: var(--sklearn-color-fitted-level-0);\n",
              "}\n",
              "\n",
              "/* on hover */\n",
              "#sk-container-id-1 div.sk-estimator:hover {\n",
              "  /* unfitted */\n",
              "  background-color: var(--sklearn-color-unfitted-level-2);\n",
              "}\n",
              "\n",
              "#sk-container-id-1 div.sk-estimator.fitted:hover {\n",
              "  /* fitted */\n",
              "  background-color: var(--sklearn-color-fitted-level-2);\n",
              "}\n",
              "\n",
              "/* Specification for estimator info (e.g. \"i\" and \"?\") */\n",
              "\n",
              "/* Common style for \"i\" and \"?\" */\n",
              "\n",
              ".sk-estimator-doc-link,\n",
              "a:link.sk-estimator-doc-link,\n",
              "a:visited.sk-estimator-doc-link {\n",
              "  float: right;\n",
              "  font-size: smaller;\n",
              "  line-height: 1em;\n",
              "  font-family: monospace;\n",
              "  background-color: var(--sklearn-color-background);\n",
              "  border-radius: 1em;\n",
              "  height: 1em;\n",
              "  width: 1em;\n",
              "  text-decoration: none !important;\n",
              "  margin-left: 0.5em;\n",
              "  text-align: center;\n",
              "  /* unfitted */\n",
              "  border: var(--sklearn-color-unfitted-level-1) 1pt solid;\n",
              "  color: var(--sklearn-color-unfitted-level-1);\n",
              "}\n",
              "\n",
              ".sk-estimator-doc-link.fitted,\n",
              "a:link.sk-estimator-doc-link.fitted,\n",
              "a:visited.sk-estimator-doc-link.fitted {\n",
              "  /* fitted */\n",
              "  border: var(--sklearn-color-fitted-level-1) 1pt solid;\n",
              "  color: var(--sklearn-color-fitted-level-1);\n",
              "}\n",
              "\n",
              "/* On hover */\n",
              "div.sk-estimator:hover .sk-estimator-doc-link:hover,\n",
              ".sk-estimator-doc-link:hover,\n",
              "div.sk-label-container:hover .sk-estimator-doc-link:hover,\n",
              ".sk-estimator-doc-link:hover {\n",
              "  /* unfitted */\n",
              "  background-color: var(--sklearn-color-unfitted-level-3);\n",
              "  color: var(--sklearn-color-background);\n",
              "  text-decoration: none;\n",
              "}\n",
              "\n",
              "div.sk-estimator.fitted:hover .sk-estimator-doc-link.fitted:hover,\n",
              ".sk-estimator-doc-link.fitted:hover,\n",
              "div.sk-label-container:hover .sk-estimator-doc-link.fitted:hover,\n",
              ".sk-estimator-doc-link.fitted:hover {\n",
              "  /* fitted */\n",
              "  background-color: var(--sklearn-color-fitted-level-3);\n",
              "  color: var(--sklearn-color-background);\n",
              "  text-decoration: none;\n",
              "}\n",
              "\n",
              "/* Span, style for the box shown on hovering the info icon */\n",
              ".sk-estimator-doc-link span {\n",
              "  display: none;\n",
              "  z-index: 9999;\n",
              "  position: relative;\n",
              "  font-weight: normal;\n",
              "  right: .2ex;\n",
              "  padding: .5ex;\n",
              "  margin: .5ex;\n",
              "  width: min-content;\n",
              "  min-width: 20ex;\n",
              "  max-width: 50ex;\n",
              "  color: var(--sklearn-color-text);\n",
              "  box-shadow: 2pt 2pt 4pt #999;\n",
              "  /* unfitted */\n",
              "  background: var(--sklearn-color-unfitted-level-0);\n",
              "  border: .5pt solid var(--sklearn-color-unfitted-level-3);\n",
              "}\n",
              "\n",
              ".sk-estimator-doc-link.fitted span {\n",
              "  /* fitted */\n",
              "  background: var(--sklearn-color-fitted-level-0);\n",
              "  border: var(--sklearn-color-fitted-level-3);\n",
              "}\n",
              "\n",
              ".sk-estimator-doc-link:hover span {\n",
              "  display: block;\n",
              "}\n",
              "\n",
              "/* \"?\"-specific style due to the `<a>` HTML tag */\n",
              "\n",
              "#sk-container-id-1 a.estimator_doc_link {\n",
              "  float: right;\n",
              "  font-size: 1rem;\n",
              "  line-height: 1em;\n",
              "  font-family: monospace;\n",
              "  background-color: var(--sklearn-color-background);\n",
              "  border-radius: 1rem;\n",
              "  height: 1rem;\n",
              "  width: 1rem;\n",
              "  text-decoration: none;\n",
              "  /* unfitted */\n",
              "  color: var(--sklearn-color-unfitted-level-1);\n",
              "  border: var(--sklearn-color-unfitted-level-1) 1pt solid;\n",
              "}\n",
              "\n",
              "#sk-container-id-1 a.estimator_doc_link.fitted {\n",
              "  /* fitted */\n",
              "  border: var(--sklearn-color-fitted-level-1) 1pt solid;\n",
              "  color: var(--sklearn-color-fitted-level-1);\n",
              "}\n",
              "\n",
              "/* On hover */\n",
              "#sk-container-id-1 a.estimator_doc_link:hover {\n",
              "  /* unfitted */\n",
              "  background-color: var(--sklearn-color-unfitted-level-3);\n",
              "  color: var(--sklearn-color-background);\n",
              "  text-decoration: none;\n",
              "}\n",
              "\n",
              "#sk-container-id-1 a.estimator_doc_link.fitted:hover {\n",
              "  /* fitted */\n",
              "  background-color: var(--sklearn-color-fitted-level-3);\n",
              "}\n",
              "</style><div id=\"sk-container-id-1\" class=\"sk-top-container\"><div class=\"sk-text-repr-fallback\"><pre>LogisticRegression(class_weight=&#x27;balanced&#x27;)</pre><b>In a Jupyter environment, please rerun this cell to show the HTML representation or trust the notebook. <br />On GitHub, the HTML representation is unable to render, please try loading this page with nbviewer.org.</b></div><div class=\"sk-container\" hidden><div class=\"sk-item\"><div class=\"sk-estimator fitted sk-toggleable\"><input class=\"sk-toggleable__control sk-hidden--visually\" id=\"sk-estimator-id-1\" type=\"checkbox\" checked><label for=\"sk-estimator-id-1\" class=\"sk-toggleable__label fitted sk-toggleable__label-arrow\"><div><div>LogisticRegression</div></div><div><a class=\"sk-estimator-doc-link fitted\" rel=\"noreferrer\" target=\"_blank\" href=\"https://scikit-learn.org/1.6/modules/generated/sklearn.linear_model.LogisticRegression.html\">?<span>Documentation for LogisticRegression</span></a><span class=\"sk-estimator-doc-link fitted\">i<span>Fitted</span></span></div></label><div class=\"sk-toggleable__content fitted\"><pre>LogisticRegression(class_weight=&#x27;balanced&#x27;)</pre></div> </div></div></div></div>"
            ],
            "text/plain": [
              "LogisticRegression(class_weight='balanced')"
            ]
          },
          "execution_count": 79,
          "metadata": {},
          "output_type": "execute_result"
        }
      ],
      "source": [
        "re_rank_model = LogisticRegression(class_weight='balanced')\n",
        "re_rank_model.fit(X_train, y_train)"
      ]
    },
    {
      "cell_type": "code",
      "execution_count": null,
      "id": "72e70510-1cf8-45e4-ab4b-494d66af0a83",
      "metadata": {
        "id": "72e70510-1cf8-45e4-ab4b-494d66af0a83"
      },
      "outputs": [],
      "source": [
        "re_ranked_tfidf_results = re_rank_candidates_tfidf(tfidf_results, re_rank_model, top_k_candidates=100)"
      ]
    },
    {
      "cell_type": "code",
      "execution_count": null,
      "id": "d119315a-f93a-4cb7-b7d6-7f2b47395d2d",
      "metadata": {
        "id": "d119315a-f93a-4cb7-b7d6-7f2b47395d2d",
        "outputId": "2a7357a0-6433-4296-8568-dcb4c741fb70"
      },
      "outputs": [
        {
          "name": "stdout",
          "output_type": "stream",
          "text": [
            "После re-ranking: Recall@100 = 0.8962572585760991 mAP@100 = 0.4733631397386637\n"
          ]
        }
      ],
      "source": [
        "recall_after, mAP_after = evaluate_recommendations(gold_mapping, re_ranked_tfidf_results, k=100)\n",
        "print(\"After re-ranking: Recall@100 =\", recall_after, \"mAP@100 =\", mAP_after)"
      ]
    },
    {
      "cell_type": "markdown",
      "id": "489f0f2e-3aba-4c23-8342-8d0b3a361c18",
      "metadata": {
        "id": "489f0f2e-3aba-4c23-8342-8d0b3a361c18",
        "jp-MarkdownHeadingCollapsed": true
      },
      "source": [
        "## 4.5 BETTER TF-IDF Grid Search by Model"
      ]
    },
    {
      "cell_type": "code",
      "execution_count": null,
      "id": "991464e1-ca14-4bfe-9614-87ea38705708",
      "metadata": {
        "id": "991464e1-ca14-4bfe-9614-87ea38705708"
      },
      "outputs": [],
      "source": [
        "lr_params = {\n",
        "    'C': [0.1, 1.0, 10.0]\n",
        "}\n",
        "rf_params = {\n",
        "    'n_estimators': [50, 100, 200],\n",
        "    'max_depth': [5, 10, 20]\n",
        "}\n",
        "xgb_params = {\n",
        "    'learning_rate': [0.01, 0.1],\n",
        "    'n_estimators': [50, 100],\n",
        "    'max_depth': [3, 5]\n",
        "}\n",
        "\n",
        "models = [\n",
        "    ('lr', LogisticRegression(class_weight='balanced', random_state=42), lr_params),\n",
        "    ('rf', RandomForestClassifier(class_weight='balanced', random_state=42), rf_params),\n",
        "    ('xgb', xgb.XGBClassifier(eval_metric='logloss', random_state=42), xgb_params)\n",
        "]"
      ]
    },
    {
      "cell_type": "code",
      "execution_count": null,
      "id": "2936e5fe-dfeb-4f3d-aaec-fc50da07ca1c",
      "metadata": {
        "id": "2936e5fe-dfeb-4f3d-aaec-fc50da07ca1c"
      },
      "outputs": [],
      "source": [
        "cv = StratifiedKFold(n_splits=3, shuffle=True, random_state=42)\n",
        "\n",
        "best_score = -np.inf\n",
        "best_model = None\n",
        "best_model_name = None\n",
        "best_params = None\n",
        "\n",
        "scoring = 'average_precision'"
      ]
    },
    {
      "cell_type": "code",
      "execution_count": null,
      "id": "a5f4e266-81e1-46ff-b2ac-94e401c08be0",
      "metadata": {
        "id": "a5f4e266-81e1-46ff-b2ac-94e401c08be0",
        "outputId": "34efb2b0-5932-439e-d06f-4002f6a94845"
      },
      "outputs": [
        {
          "name": "stdout",
          "output_type": "stream",
          "text": [
            "Model lr with params {'C': 0.1}: average precision = 0.1067\n",
            "Model lr with params {'C': 1.0}: average precision = 0.1067\n",
            "Model lr with params {'C': 10.0}: average precision = 0.1067\n",
            "Model rf with params {'n_estimators': 50, 'max_depth': 5}: average precision = 0.1046\n",
            "Model rf with params {'n_estimators': 50, 'max_depth': 10}: average precision = 0.0978\n",
            "Model rf with params {'n_estimators': 50, 'max_depth': 20}: average precision = 0.0577\n",
            "Model rf with params {'n_estimators': 100, 'max_depth': 5}: average precision = 0.1062\n",
            "Model rf with params {'n_estimators': 100, 'max_depth': 10}: average precision = 0.0969\n",
            "Model rf with params {'n_estimators': 100, 'max_depth': 20}: average precision = 0.0581\n",
            "Model rf with params {'n_estimators': 200, 'max_depth': 5}: average precision = 0.1066\n",
            "Model rf with params {'n_estimators': 200, 'max_depth': 10}: average precision = 0.0976\n",
            "Model rf with params {'n_estimators': 200, 'max_depth': 20}: average precision = 0.0578\n",
            "Model xgb with params {'learning_rate': 0.01, 'n_estimators': 50, 'max_depth': 3}: average precision = 0.0935\n",
            "Model xgb with params {'learning_rate': 0.01, 'n_estimators': 50, 'max_depth': 5}: average precision = 0.0942\n",
            "Model xgb with params {'learning_rate': 0.01, 'n_estimators': 100, 'max_depth': 3}: average precision = 0.0939\n",
            "Model xgb with params {'learning_rate': 0.01, 'n_estimators': 100, 'max_depth': 5}: average precision = 0.0945\n",
            "Model xgb with params {'learning_rate': 0.1, 'n_estimators': 50, 'max_depth': 3}: average precision = 0.0944\n",
            "Model xgb with params {'learning_rate': 0.1, 'n_estimators': 50, 'max_depth': 5}: average precision = 0.0952\n",
            "Model xgb with params {'learning_rate': 0.1, 'n_estimators': 100, 'max_depth': 3}: average precision = 0.0948\n",
            "Model xgb with params {'learning_rate': 0.1, 'n_estimators': 100, 'max_depth': 5}: average precision = 0.0953\n"
          ]
        }
      ],
      "source": [
        "for model_name, model, param_grid in models:\n",
        "    keys, values = zip(*param_grid.items())\n",
        "    for combination in itertools.product(*values):\n",
        "        params = dict(zip(keys, combination))\n",
        "        model.set_params(**params)\n",
        "        scores = cross_val_score(model, X_train, y_train, cv=cv, scoring=scoring)\n",
        "        mean_score = np.mean(scores)\n",
        "        print(f\"Model {model_name} with params {params}: average precision = {mean_score:.4f}\")\n",
        "        if mean_score > best_score:\n",
        "            best_score = mean_score\n",
        "            best_model = model\n",
        "            best_model_name = model_name\n",
        "            best_params = params"
      ]
    },
    {
      "cell_type": "code",
      "execution_count": null,
      "id": "56759ced-0ee2-4137-af8b-5139461ac23e",
      "metadata": {
        "id": "56759ced-0ee2-4137-af8b-5139461ac23e",
        "outputId": "1004ff1a-f63c-41ef-cfeb-bf99c1319672"
      },
      "outputs": [
        {
          "name": "stdout",
          "output_type": "stream",
          "text": [
            "Model: lr\n",
            "Parameters: {'C': 0.1}\n",
            "Mean Average Precision: 0.10665474064508647\n"
          ]
        }
      ],
      "source": [
        "print(\"Model:\", best_model_name)\n",
        "print(\"Parameters:\", best_params)\n",
        "print(\"Mean Average Precision:\", best_score)"
      ]
    },
    {
      "cell_type": "markdown",
      "id": "7a19482e-1301-41ae-8caa-4b9a47ec6871",
      "metadata": {
        "id": "7a19482e-1301-41ae-8caa-4b9a47ec6871",
        "jp-MarkdownHeadingCollapsed": true
      },
      "source": [
        "## 4.6 Re-ranking"
      ]
    },
    {
      "cell_type": "code",
      "execution_count": null,
      "id": "c31dcfcd-04ec-4d2b-9ad5-280e001bcc01",
      "metadata": {
        "id": "c31dcfcd-04ec-4d2b-9ad5-280e001bcc01",
        "outputId": "6376d031-e5ed-4376-fc24-3c89dc350a95"
      },
      "outputs": [
        {
          "data": {
            "text/html": [
              "<style>#sk-container-id-3 {\n",
              "  /* Definition of color scheme common for light and dark mode */\n",
              "  --sklearn-color-text: #000;\n",
              "  --sklearn-color-text-muted: #666;\n",
              "  --sklearn-color-line: gray;\n",
              "  /* Definition of color scheme for unfitted estimators */\n",
              "  --sklearn-color-unfitted-level-0: #fff5e6;\n",
              "  --sklearn-color-unfitted-level-1: #f6e4d2;\n",
              "  --sklearn-color-unfitted-level-2: #ffe0b3;\n",
              "  --sklearn-color-unfitted-level-3: chocolate;\n",
              "  /* Definition of color scheme for fitted estimators */\n",
              "  --sklearn-color-fitted-level-0: #f0f8ff;\n",
              "  --sklearn-color-fitted-level-1: #d4ebff;\n",
              "  --sklearn-color-fitted-level-2: #b3dbfd;\n",
              "  --sklearn-color-fitted-level-3: cornflowerblue;\n",
              "\n",
              "  /* Specific color for light theme */\n",
              "  --sklearn-color-text-on-default-background: var(--sg-text-color, var(--theme-code-foreground, var(--jp-content-font-color1, black)));\n",
              "  --sklearn-color-background: var(--sg-background-color, var(--theme-background, var(--jp-layout-color0, white)));\n",
              "  --sklearn-color-border-box: var(--sg-text-color, var(--theme-code-foreground, var(--jp-content-font-color1, black)));\n",
              "  --sklearn-color-icon: #696969;\n",
              "\n",
              "  @media (prefers-color-scheme: dark) {\n",
              "    /* Redefinition of color scheme for dark theme */\n",
              "    --sklearn-color-text-on-default-background: var(--sg-text-color, var(--theme-code-foreground, var(--jp-content-font-color1, white)));\n",
              "    --sklearn-color-background: var(--sg-background-color, var(--theme-background, var(--jp-layout-color0, #111)));\n",
              "    --sklearn-color-border-box: var(--sg-text-color, var(--theme-code-foreground, var(--jp-content-font-color1, white)));\n",
              "    --sklearn-color-icon: #878787;\n",
              "  }\n",
              "}\n",
              "\n",
              "#sk-container-id-3 {\n",
              "  color: var(--sklearn-color-text);\n",
              "}\n",
              "\n",
              "#sk-container-id-3 pre {\n",
              "  padding: 0;\n",
              "}\n",
              "\n",
              "#sk-container-id-3 input.sk-hidden--visually {\n",
              "  border: 0;\n",
              "  clip: rect(1px 1px 1px 1px);\n",
              "  clip: rect(1px, 1px, 1px, 1px);\n",
              "  height: 1px;\n",
              "  margin: -1px;\n",
              "  overflow: hidden;\n",
              "  padding: 0;\n",
              "  position: absolute;\n",
              "  width: 1px;\n",
              "}\n",
              "\n",
              "#sk-container-id-3 div.sk-dashed-wrapped {\n",
              "  border: 1px dashed var(--sklearn-color-line);\n",
              "  margin: 0 0.4em 0.5em 0.4em;\n",
              "  box-sizing: border-box;\n",
              "  padding-bottom: 0.4em;\n",
              "  background-color: var(--sklearn-color-background);\n",
              "}\n",
              "\n",
              "#sk-container-id-3 div.sk-container {\n",
              "  /* jupyter's `normalize.less` sets `[hidden] { display: none; }`\n",
              "     but bootstrap.min.css set `[hidden] { display: none !important; }`\n",
              "     so we also need the `!important` here to be able to override the\n",
              "     default hidden behavior on the sphinx rendered scikit-learn.org.\n",
              "     See: https://github.com/scikit-learn/scikit-learn/issues/21755 */\n",
              "  display: inline-block !important;\n",
              "  position: relative;\n",
              "}\n",
              "\n",
              "#sk-container-id-3 div.sk-text-repr-fallback {\n",
              "  display: none;\n",
              "}\n",
              "\n",
              "div.sk-parallel-item,\n",
              "div.sk-serial,\n",
              "div.sk-item {\n",
              "  /* draw centered vertical line to link estimators */\n",
              "  background-image: linear-gradient(var(--sklearn-color-text-on-default-background), var(--sklearn-color-text-on-default-background));\n",
              "  background-size: 2px 100%;\n",
              "  background-repeat: no-repeat;\n",
              "  background-position: center center;\n",
              "}\n",
              "\n",
              "/* Parallel-specific style estimator block */\n",
              "\n",
              "#sk-container-id-3 div.sk-parallel-item::after {\n",
              "  content: \"\";\n",
              "  width: 100%;\n",
              "  border-bottom: 2px solid var(--sklearn-color-text-on-default-background);\n",
              "  flex-grow: 1;\n",
              "}\n",
              "\n",
              "#sk-container-id-3 div.sk-parallel {\n",
              "  display: flex;\n",
              "  align-items: stretch;\n",
              "  justify-content: center;\n",
              "  background-color: var(--sklearn-color-background);\n",
              "  position: relative;\n",
              "}\n",
              "\n",
              "#sk-container-id-3 div.sk-parallel-item {\n",
              "  display: flex;\n",
              "  flex-direction: column;\n",
              "}\n",
              "\n",
              "#sk-container-id-3 div.sk-parallel-item:first-child::after {\n",
              "  align-self: flex-end;\n",
              "  width: 50%;\n",
              "}\n",
              "\n",
              "#sk-container-id-3 div.sk-parallel-item:last-child::after {\n",
              "  align-self: flex-start;\n",
              "  width: 50%;\n",
              "}\n",
              "\n",
              "#sk-container-id-3 div.sk-parallel-item:only-child::after {\n",
              "  width: 0;\n",
              "}\n",
              "\n",
              "/* Serial-specific style estimator block */\n",
              "\n",
              "#sk-container-id-3 div.sk-serial {\n",
              "  display: flex;\n",
              "  flex-direction: column;\n",
              "  align-items: center;\n",
              "  background-color: var(--sklearn-color-background);\n",
              "  padding-right: 1em;\n",
              "  padding-left: 1em;\n",
              "}\n",
              "\n",
              "\n",
              "/* Toggleable style: style used for estimator/Pipeline/ColumnTransformer box that is\n",
              "clickable and can be expanded/collapsed.\n",
              "- Pipeline and ColumnTransformer use this feature and define the default style\n",
              "- Estimators will overwrite some part of the style using the `sk-estimator` class\n",
              "*/\n",
              "\n",
              "/* Pipeline and ColumnTransformer style (default) */\n",
              "\n",
              "#sk-container-id-3 div.sk-toggleable {\n",
              "  /* Default theme specific background. It is overwritten whether we have a\n",
              "  specific estimator or a Pipeline/ColumnTransformer */\n",
              "  background-color: var(--sklearn-color-background);\n",
              "}\n",
              "\n",
              "/* Toggleable label */\n",
              "#sk-container-id-3 label.sk-toggleable__label {\n",
              "  cursor: pointer;\n",
              "  display: flex;\n",
              "  width: 100%;\n",
              "  margin-bottom: 0;\n",
              "  padding: 0.5em;\n",
              "  box-sizing: border-box;\n",
              "  text-align: center;\n",
              "  align-items: start;\n",
              "  justify-content: space-between;\n",
              "  gap: 0.5em;\n",
              "}\n",
              "\n",
              "#sk-container-id-3 label.sk-toggleable__label .caption {\n",
              "  font-size: 0.6rem;\n",
              "  font-weight: lighter;\n",
              "  color: var(--sklearn-color-text-muted);\n",
              "}\n",
              "\n",
              "#sk-container-id-3 label.sk-toggleable__label-arrow:before {\n",
              "  /* Arrow on the left of the label */\n",
              "  content: \"▸\";\n",
              "  float: left;\n",
              "  margin-right: 0.25em;\n",
              "  color: var(--sklearn-color-icon);\n",
              "}\n",
              "\n",
              "#sk-container-id-3 label.sk-toggleable__label-arrow:hover:before {\n",
              "  color: var(--sklearn-color-text);\n",
              "}\n",
              "\n",
              "/* Toggleable content - dropdown */\n",
              "\n",
              "#sk-container-id-3 div.sk-toggleable__content {\n",
              "  max-height: 0;\n",
              "  max-width: 0;\n",
              "  overflow: hidden;\n",
              "  text-align: left;\n",
              "  /* unfitted */\n",
              "  background-color: var(--sklearn-color-unfitted-level-0);\n",
              "}\n",
              "\n",
              "#sk-container-id-3 div.sk-toggleable__content.fitted {\n",
              "  /* fitted */\n",
              "  background-color: var(--sklearn-color-fitted-level-0);\n",
              "}\n",
              "\n",
              "#sk-container-id-3 div.sk-toggleable__content pre {\n",
              "  margin: 0.2em;\n",
              "  border-radius: 0.25em;\n",
              "  color: var(--sklearn-color-text);\n",
              "  /* unfitted */\n",
              "  background-color: var(--sklearn-color-unfitted-level-0);\n",
              "}\n",
              "\n",
              "#sk-container-id-3 div.sk-toggleable__content.fitted pre {\n",
              "  /* unfitted */\n",
              "  background-color: var(--sklearn-color-fitted-level-0);\n",
              "}\n",
              "\n",
              "#sk-container-id-3 input.sk-toggleable__control:checked~div.sk-toggleable__content {\n",
              "  /* Expand drop-down */\n",
              "  max-height: 200px;\n",
              "  max-width: 100%;\n",
              "  overflow: auto;\n",
              "}\n",
              "\n",
              "#sk-container-id-3 input.sk-toggleable__control:checked~label.sk-toggleable__label-arrow:before {\n",
              "  content: \"▾\";\n",
              "}\n",
              "\n",
              "/* Pipeline/ColumnTransformer-specific style */\n",
              "\n",
              "#sk-container-id-3 div.sk-label input.sk-toggleable__control:checked~label.sk-toggleable__label {\n",
              "  color: var(--sklearn-color-text);\n",
              "  background-color: var(--sklearn-color-unfitted-level-2);\n",
              "}\n",
              "\n",
              "#sk-container-id-3 div.sk-label.fitted input.sk-toggleable__control:checked~label.sk-toggleable__label {\n",
              "  background-color: var(--sklearn-color-fitted-level-2);\n",
              "}\n",
              "\n",
              "/* Estimator-specific style */\n",
              "\n",
              "/* Colorize estimator box */\n",
              "#sk-container-id-3 div.sk-estimator input.sk-toggleable__control:checked~label.sk-toggleable__label {\n",
              "  /* unfitted */\n",
              "  background-color: var(--sklearn-color-unfitted-level-2);\n",
              "}\n",
              "\n",
              "#sk-container-id-3 div.sk-estimator.fitted input.sk-toggleable__control:checked~label.sk-toggleable__label {\n",
              "  /* fitted */\n",
              "  background-color: var(--sklearn-color-fitted-level-2);\n",
              "}\n",
              "\n",
              "#sk-container-id-3 div.sk-label label.sk-toggleable__label,\n",
              "#sk-container-id-3 div.sk-label label {\n",
              "  /* The background is the default theme color */\n",
              "  color: var(--sklearn-color-text-on-default-background);\n",
              "}\n",
              "\n",
              "/* On hover, darken the color of the background */\n",
              "#sk-container-id-3 div.sk-label:hover label.sk-toggleable__label {\n",
              "  color: var(--sklearn-color-text);\n",
              "  background-color: var(--sklearn-color-unfitted-level-2);\n",
              "}\n",
              "\n",
              "/* Label box, darken color on hover, fitted */\n",
              "#sk-container-id-3 div.sk-label.fitted:hover label.sk-toggleable__label.fitted {\n",
              "  color: var(--sklearn-color-text);\n",
              "  background-color: var(--sklearn-color-fitted-level-2);\n",
              "}\n",
              "\n",
              "/* Estimator label */\n",
              "\n",
              "#sk-container-id-3 div.sk-label label {\n",
              "  font-family: monospace;\n",
              "  font-weight: bold;\n",
              "  display: inline-block;\n",
              "  line-height: 1.2em;\n",
              "}\n",
              "\n",
              "#sk-container-id-3 div.sk-label-container {\n",
              "  text-align: center;\n",
              "}\n",
              "\n",
              "/* Estimator-specific */\n",
              "#sk-container-id-3 div.sk-estimator {\n",
              "  font-family: monospace;\n",
              "  border: 1px dotted var(--sklearn-color-border-box);\n",
              "  border-radius: 0.25em;\n",
              "  box-sizing: border-box;\n",
              "  margin-bottom: 0.5em;\n",
              "  /* unfitted */\n",
              "  background-color: var(--sklearn-color-unfitted-level-0);\n",
              "}\n",
              "\n",
              "#sk-container-id-3 div.sk-estimator.fitted {\n",
              "  /* fitted */\n",
              "  background-color: var(--sklearn-color-fitted-level-0);\n",
              "}\n",
              "\n",
              "/* on hover */\n",
              "#sk-container-id-3 div.sk-estimator:hover {\n",
              "  /* unfitted */\n",
              "  background-color: var(--sklearn-color-unfitted-level-2);\n",
              "}\n",
              "\n",
              "#sk-container-id-3 div.sk-estimator.fitted:hover {\n",
              "  /* fitted */\n",
              "  background-color: var(--sklearn-color-fitted-level-2);\n",
              "}\n",
              "\n",
              "/* Specification for estimator info (e.g. \"i\" and \"?\") */\n",
              "\n",
              "/* Common style for \"i\" and \"?\" */\n",
              "\n",
              ".sk-estimator-doc-link,\n",
              "a:link.sk-estimator-doc-link,\n",
              "a:visited.sk-estimator-doc-link {\n",
              "  float: right;\n",
              "  font-size: smaller;\n",
              "  line-height: 1em;\n",
              "  font-family: monospace;\n",
              "  background-color: var(--sklearn-color-background);\n",
              "  border-radius: 1em;\n",
              "  height: 1em;\n",
              "  width: 1em;\n",
              "  text-decoration: none !important;\n",
              "  margin-left: 0.5em;\n",
              "  text-align: center;\n",
              "  /* unfitted */\n",
              "  border: var(--sklearn-color-unfitted-level-1) 1pt solid;\n",
              "  color: var(--sklearn-color-unfitted-level-1);\n",
              "}\n",
              "\n",
              ".sk-estimator-doc-link.fitted,\n",
              "a:link.sk-estimator-doc-link.fitted,\n",
              "a:visited.sk-estimator-doc-link.fitted {\n",
              "  /* fitted */\n",
              "  border: var(--sklearn-color-fitted-level-1) 1pt solid;\n",
              "  color: var(--sklearn-color-fitted-level-1);\n",
              "}\n",
              "\n",
              "/* On hover */\n",
              "div.sk-estimator:hover .sk-estimator-doc-link:hover,\n",
              ".sk-estimator-doc-link:hover,\n",
              "div.sk-label-container:hover .sk-estimator-doc-link:hover,\n",
              ".sk-estimator-doc-link:hover {\n",
              "  /* unfitted */\n",
              "  background-color: var(--sklearn-color-unfitted-level-3);\n",
              "  color: var(--sklearn-color-background);\n",
              "  text-decoration: none;\n",
              "}\n",
              "\n",
              "div.sk-estimator.fitted:hover .sk-estimator-doc-link.fitted:hover,\n",
              ".sk-estimator-doc-link.fitted:hover,\n",
              "div.sk-label-container:hover .sk-estimator-doc-link.fitted:hover,\n",
              ".sk-estimator-doc-link.fitted:hover {\n",
              "  /* fitted */\n",
              "  background-color: var(--sklearn-color-fitted-level-3);\n",
              "  color: var(--sklearn-color-background);\n",
              "  text-decoration: none;\n",
              "}\n",
              "\n",
              "/* Span, style for the box shown on hovering the info icon */\n",
              ".sk-estimator-doc-link span {\n",
              "  display: none;\n",
              "  z-index: 9999;\n",
              "  position: relative;\n",
              "  font-weight: normal;\n",
              "  right: .2ex;\n",
              "  padding: .5ex;\n",
              "  margin: .5ex;\n",
              "  width: min-content;\n",
              "  min-width: 20ex;\n",
              "  max-width: 50ex;\n",
              "  color: var(--sklearn-color-text);\n",
              "  box-shadow: 2pt 2pt 4pt #999;\n",
              "  /* unfitted */\n",
              "  background: var(--sklearn-color-unfitted-level-0);\n",
              "  border: .5pt solid var(--sklearn-color-unfitted-level-3);\n",
              "}\n",
              "\n",
              ".sk-estimator-doc-link.fitted span {\n",
              "  /* fitted */\n",
              "  background: var(--sklearn-color-fitted-level-0);\n",
              "  border: var(--sklearn-color-fitted-level-3);\n",
              "}\n",
              "\n",
              ".sk-estimator-doc-link:hover span {\n",
              "  display: block;\n",
              "}\n",
              "\n",
              "/* \"?\"-specific style due to the `<a>` HTML tag */\n",
              "\n",
              "#sk-container-id-3 a.estimator_doc_link {\n",
              "  float: right;\n",
              "  font-size: 1rem;\n",
              "  line-height: 1em;\n",
              "  font-family: monospace;\n",
              "  background-color: var(--sklearn-color-background);\n",
              "  border-radius: 1rem;\n",
              "  height: 1rem;\n",
              "  width: 1rem;\n",
              "  text-decoration: none;\n",
              "  /* unfitted */\n",
              "  color: var(--sklearn-color-unfitted-level-1);\n",
              "  border: var(--sklearn-color-unfitted-level-1) 1pt solid;\n",
              "}\n",
              "\n",
              "#sk-container-id-3 a.estimator_doc_link.fitted {\n",
              "  /* fitted */\n",
              "  border: var(--sklearn-color-fitted-level-1) 1pt solid;\n",
              "  color: var(--sklearn-color-fitted-level-1);\n",
              "}\n",
              "\n",
              "/* On hover */\n",
              "#sk-container-id-3 a.estimator_doc_link:hover {\n",
              "  /* unfitted */\n",
              "  background-color: var(--sklearn-color-unfitted-level-3);\n",
              "  color: var(--sklearn-color-background);\n",
              "  text-decoration: none;\n",
              "}\n",
              "\n",
              "#sk-container-id-3 a.estimator_doc_link.fitted:hover {\n",
              "  /* fitted */\n",
              "  background-color: var(--sklearn-color-fitted-level-3);\n",
              "}\n",
              "</style><div id=\"sk-container-id-3\" class=\"sk-top-container\"><div class=\"sk-text-repr-fallback\"><pre>LogisticRegression(class_weight=&#x27;balanced&#x27;)</pre><b>In a Jupyter environment, please rerun this cell to show the HTML representation or trust the notebook. <br />On GitHub, the HTML representation is unable to render, please try loading this page with nbviewer.org.</b></div><div class=\"sk-container\" hidden><div class=\"sk-item\"><div class=\"sk-estimator fitted sk-toggleable\"><input class=\"sk-toggleable__control sk-hidden--visually\" id=\"sk-estimator-id-3\" type=\"checkbox\" checked><label for=\"sk-estimator-id-3\" class=\"sk-toggleable__label fitted sk-toggleable__label-arrow\"><div><div>LogisticRegression</div></div><div><a class=\"sk-estimator-doc-link fitted\" rel=\"noreferrer\" target=\"_blank\" href=\"https://scikit-learn.org/1.6/modules/generated/sklearn.linear_model.LogisticRegression.html\">?<span>Documentation for LogisticRegression</span></a><span class=\"sk-estimator-doc-link fitted\">i<span>Fitted</span></span></div></label><div class=\"sk-toggleable__content fitted\"><pre>LogisticRegression(class_weight=&#x27;balanced&#x27;)</pre></div> </div></div></div></div>"
            ],
            "text/plain": [
              "LogisticRegression(class_weight='balanced')"
            ]
          },
          "execution_count": 93,
          "metadata": {},
          "output_type": "execute_result"
        }
      ],
      "source": [
        "re_rank_model = LogisticRegression(class_weight='balanced')\n",
        "re_rank_model.fit(X_train, y_train)"
      ]
    },
    {
      "cell_type": "code",
      "execution_count": null,
      "id": "8ad3053f-9bb4-4006-b951-2af33cce10d3",
      "metadata": {
        "id": "8ad3053f-9bb4-4006-b951-2af33cce10d3",
        "outputId": "8d02f930-34bb-473c-d934-f866ea6f5a92"
      },
      "outputs": [
        {
          "name": "stdout",
          "output_type": "stream",
          "text": [
            "After re-ranking: Recall@100 = 0.8962572585760991 mAP@100 = 0.4733631397386637\n"
          ]
        }
      ],
      "source": [
        "re_ranked_tfidf_results = re_rank_candidates_tfidf(tfidf_results, re_rank_model, top_k_candidates=100)\n",
        "recall_after, mAP_after = evaluate_recommendations(gold_mapping, re_ranked_tfidf_results, k=100)\n",
        "print(\"After re-ranking: Recall@100 =\", recall_after, \"mAP@100 =\", mAP_after)"
      ]
    },
    {
      "cell_type": "code",
      "execution_count": null,
      "id": "2eeca372-345a-499b-b21a-1a621088d893",
      "metadata": {
        "id": "2eeca372-345a-499b-b21a-1a621088d893",
        "outputId": "fe3f4db9-2c15-4565-d53e-46af4d72abd2"
      },
      "outputs": [
        {
          "data": {
            "text/html": [
              "<style>#sk-container-id-2 {\n",
              "  /* Definition of color scheme common for light and dark mode */\n",
              "  --sklearn-color-text: #000;\n",
              "  --sklearn-color-text-muted: #666;\n",
              "  --sklearn-color-line: gray;\n",
              "  /* Definition of color scheme for unfitted estimators */\n",
              "  --sklearn-color-unfitted-level-0: #fff5e6;\n",
              "  --sklearn-color-unfitted-level-1: #f6e4d2;\n",
              "  --sklearn-color-unfitted-level-2: #ffe0b3;\n",
              "  --sklearn-color-unfitted-level-3: chocolate;\n",
              "  /* Definition of color scheme for fitted estimators */\n",
              "  --sklearn-color-fitted-level-0: #f0f8ff;\n",
              "  --sklearn-color-fitted-level-1: #d4ebff;\n",
              "  --sklearn-color-fitted-level-2: #b3dbfd;\n",
              "  --sklearn-color-fitted-level-3: cornflowerblue;\n",
              "\n",
              "  /* Specific color for light theme */\n",
              "  --sklearn-color-text-on-default-background: var(--sg-text-color, var(--theme-code-foreground, var(--jp-content-font-color1, black)));\n",
              "  --sklearn-color-background: var(--sg-background-color, var(--theme-background, var(--jp-layout-color0, white)));\n",
              "  --sklearn-color-border-box: var(--sg-text-color, var(--theme-code-foreground, var(--jp-content-font-color1, black)));\n",
              "  --sklearn-color-icon: #696969;\n",
              "\n",
              "  @media (prefers-color-scheme: dark) {\n",
              "    /* Redefinition of color scheme for dark theme */\n",
              "    --sklearn-color-text-on-default-background: var(--sg-text-color, var(--theme-code-foreground, var(--jp-content-font-color1, white)));\n",
              "    --sklearn-color-background: var(--sg-background-color, var(--theme-background, var(--jp-layout-color0, #111)));\n",
              "    --sklearn-color-border-box: var(--sg-text-color, var(--theme-code-foreground, var(--jp-content-font-color1, white)));\n",
              "    --sklearn-color-icon: #878787;\n",
              "  }\n",
              "}\n",
              "\n",
              "#sk-container-id-2 {\n",
              "  color: var(--sklearn-color-text);\n",
              "}\n",
              "\n",
              "#sk-container-id-2 pre {\n",
              "  padding: 0;\n",
              "}\n",
              "\n",
              "#sk-container-id-2 input.sk-hidden--visually {\n",
              "  border: 0;\n",
              "  clip: rect(1px 1px 1px 1px);\n",
              "  clip: rect(1px, 1px, 1px, 1px);\n",
              "  height: 1px;\n",
              "  margin: -1px;\n",
              "  overflow: hidden;\n",
              "  padding: 0;\n",
              "  position: absolute;\n",
              "  width: 1px;\n",
              "}\n",
              "\n",
              "#sk-container-id-2 div.sk-dashed-wrapped {\n",
              "  border: 1px dashed var(--sklearn-color-line);\n",
              "  margin: 0 0.4em 0.5em 0.4em;\n",
              "  box-sizing: border-box;\n",
              "  padding-bottom: 0.4em;\n",
              "  background-color: var(--sklearn-color-background);\n",
              "}\n",
              "\n",
              "#sk-container-id-2 div.sk-container {\n",
              "  /* jupyter's `normalize.less` sets `[hidden] { display: none; }`\n",
              "     but bootstrap.min.css set `[hidden] { display: none !important; }`\n",
              "     so we also need the `!important` here to be able to override the\n",
              "     default hidden behavior on the sphinx rendered scikit-learn.org.\n",
              "     See: https://github.com/scikit-learn/scikit-learn/issues/21755 */\n",
              "  display: inline-block !important;\n",
              "  position: relative;\n",
              "}\n",
              "\n",
              "#sk-container-id-2 div.sk-text-repr-fallback {\n",
              "  display: none;\n",
              "}\n",
              "\n",
              "div.sk-parallel-item,\n",
              "div.sk-serial,\n",
              "div.sk-item {\n",
              "  /* draw centered vertical line to link estimators */\n",
              "  background-image: linear-gradient(var(--sklearn-color-text-on-default-background), var(--sklearn-color-text-on-default-background));\n",
              "  background-size: 2px 100%;\n",
              "  background-repeat: no-repeat;\n",
              "  background-position: center center;\n",
              "}\n",
              "\n",
              "/* Parallel-specific style estimator block */\n",
              "\n",
              "#sk-container-id-2 div.sk-parallel-item::after {\n",
              "  content: \"\";\n",
              "  width: 100%;\n",
              "  border-bottom: 2px solid var(--sklearn-color-text-on-default-background);\n",
              "  flex-grow: 1;\n",
              "}\n",
              "\n",
              "#sk-container-id-2 div.sk-parallel {\n",
              "  display: flex;\n",
              "  align-items: stretch;\n",
              "  justify-content: center;\n",
              "  background-color: var(--sklearn-color-background);\n",
              "  position: relative;\n",
              "}\n",
              "\n",
              "#sk-container-id-2 div.sk-parallel-item {\n",
              "  display: flex;\n",
              "  flex-direction: column;\n",
              "}\n",
              "\n",
              "#sk-container-id-2 div.sk-parallel-item:first-child::after {\n",
              "  align-self: flex-end;\n",
              "  width: 50%;\n",
              "}\n",
              "\n",
              "#sk-container-id-2 div.sk-parallel-item:last-child::after {\n",
              "  align-self: flex-start;\n",
              "  width: 50%;\n",
              "}\n",
              "\n",
              "#sk-container-id-2 div.sk-parallel-item:only-child::after {\n",
              "  width: 0;\n",
              "}\n",
              "\n",
              "/* Serial-specific style estimator block */\n",
              "\n",
              "#sk-container-id-2 div.sk-serial {\n",
              "  display: flex;\n",
              "  flex-direction: column;\n",
              "  align-items: center;\n",
              "  background-color: var(--sklearn-color-background);\n",
              "  padding-right: 1em;\n",
              "  padding-left: 1em;\n",
              "}\n",
              "\n",
              "\n",
              "/* Toggleable style: style used for estimator/Pipeline/ColumnTransformer box that is\n",
              "clickable and can be expanded/collapsed.\n",
              "- Pipeline and ColumnTransformer use this feature and define the default style\n",
              "- Estimators will overwrite some part of the style using the `sk-estimator` class\n",
              "*/\n",
              "\n",
              "/* Pipeline and ColumnTransformer style (default) */\n",
              "\n",
              "#sk-container-id-2 div.sk-toggleable {\n",
              "  /* Default theme specific background. It is overwritten whether we have a\n",
              "  specific estimator or a Pipeline/ColumnTransformer */\n",
              "  background-color: var(--sklearn-color-background);\n",
              "}\n",
              "\n",
              "/* Toggleable label */\n",
              "#sk-container-id-2 label.sk-toggleable__label {\n",
              "  cursor: pointer;\n",
              "  display: flex;\n",
              "  width: 100%;\n",
              "  margin-bottom: 0;\n",
              "  padding: 0.5em;\n",
              "  box-sizing: border-box;\n",
              "  text-align: center;\n",
              "  align-items: start;\n",
              "  justify-content: space-between;\n",
              "  gap: 0.5em;\n",
              "}\n",
              "\n",
              "#sk-container-id-2 label.sk-toggleable__label .caption {\n",
              "  font-size: 0.6rem;\n",
              "  font-weight: lighter;\n",
              "  color: var(--sklearn-color-text-muted);\n",
              "}\n",
              "\n",
              "#sk-container-id-2 label.sk-toggleable__label-arrow:before {\n",
              "  /* Arrow on the left of the label */\n",
              "  content: \"▸\";\n",
              "  float: left;\n",
              "  margin-right: 0.25em;\n",
              "  color: var(--sklearn-color-icon);\n",
              "}\n",
              "\n",
              "#sk-container-id-2 label.sk-toggleable__label-arrow:hover:before {\n",
              "  color: var(--sklearn-color-text);\n",
              "}\n",
              "\n",
              "/* Toggleable content - dropdown */\n",
              "\n",
              "#sk-container-id-2 div.sk-toggleable__content {\n",
              "  max-height: 0;\n",
              "  max-width: 0;\n",
              "  overflow: hidden;\n",
              "  text-align: left;\n",
              "  /* unfitted */\n",
              "  background-color: var(--sklearn-color-unfitted-level-0);\n",
              "}\n",
              "\n",
              "#sk-container-id-2 div.sk-toggleable__content.fitted {\n",
              "  /* fitted */\n",
              "  background-color: var(--sklearn-color-fitted-level-0);\n",
              "}\n",
              "\n",
              "#sk-container-id-2 div.sk-toggleable__content pre {\n",
              "  margin: 0.2em;\n",
              "  border-radius: 0.25em;\n",
              "  color: var(--sklearn-color-text);\n",
              "  /* unfitted */\n",
              "  background-color: var(--sklearn-color-unfitted-level-0);\n",
              "}\n",
              "\n",
              "#sk-container-id-2 div.sk-toggleable__content.fitted pre {\n",
              "  /* unfitted */\n",
              "  background-color: var(--sklearn-color-fitted-level-0);\n",
              "}\n",
              "\n",
              "#sk-container-id-2 input.sk-toggleable__control:checked~div.sk-toggleable__content {\n",
              "  /* Expand drop-down */\n",
              "  max-height: 200px;\n",
              "  max-width: 100%;\n",
              "  overflow: auto;\n",
              "}\n",
              "\n",
              "#sk-container-id-2 input.sk-toggleable__control:checked~label.sk-toggleable__label-arrow:before {\n",
              "  content: \"▾\";\n",
              "}\n",
              "\n",
              "/* Pipeline/ColumnTransformer-specific style */\n",
              "\n",
              "#sk-container-id-2 div.sk-label input.sk-toggleable__control:checked~label.sk-toggleable__label {\n",
              "  color: var(--sklearn-color-text);\n",
              "  background-color: var(--sklearn-color-unfitted-level-2);\n",
              "}\n",
              "\n",
              "#sk-container-id-2 div.sk-label.fitted input.sk-toggleable__control:checked~label.sk-toggleable__label {\n",
              "  background-color: var(--sklearn-color-fitted-level-2);\n",
              "}\n",
              "\n",
              "/* Estimator-specific style */\n",
              "\n",
              "/* Colorize estimator box */\n",
              "#sk-container-id-2 div.sk-estimator input.sk-toggleable__control:checked~label.sk-toggleable__label {\n",
              "  /* unfitted */\n",
              "  background-color: var(--sklearn-color-unfitted-level-2);\n",
              "}\n",
              "\n",
              "#sk-container-id-2 div.sk-estimator.fitted input.sk-toggleable__control:checked~label.sk-toggleable__label {\n",
              "  /* fitted */\n",
              "  background-color: var(--sklearn-color-fitted-level-2);\n",
              "}\n",
              "\n",
              "#sk-container-id-2 div.sk-label label.sk-toggleable__label,\n",
              "#sk-container-id-2 div.sk-label label {\n",
              "  /* The background is the default theme color */\n",
              "  color: var(--sklearn-color-text-on-default-background);\n",
              "}\n",
              "\n",
              "/* On hover, darken the color of the background */\n",
              "#sk-container-id-2 div.sk-label:hover label.sk-toggleable__label {\n",
              "  color: var(--sklearn-color-text);\n",
              "  background-color: var(--sklearn-color-unfitted-level-2);\n",
              "}\n",
              "\n",
              "/* Label box, darken color on hover, fitted */\n",
              "#sk-container-id-2 div.sk-label.fitted:hover label.sk-toggleable__label.fitted {\n",
              "  color: var(--sklearn-color-text);\n",
              "  background-color: var(--sklearn-color-fitted-level-2);\n",
              "}\n",
              "\n",
              "/* Estimator label */\n",
              "\n",
              "#sk-container-id-2 div.sk-label label {\n",
              "  font-family: monospace;\n",
              "  font-weight: bold;\n",
              "  display: inline-block;\n",
              "  line-height: 1.2em;\n",
              "}\n",
              "\n",
              "#sk-container-id-2 div.sk-label-container {\n",
              "  text-align: center;\n",
              "}\n",
              "\n",
              "/* Estimator-specific */\n",
              "#sk-container-id-2 div.sk-estimator {\n",
              "  font-family: monospace;\n",
              "  border: 1px dotted var(--sklearn-color-border-box);\n",
              "  border-radius: 0.25em;\n",
              "  box-sizing: border-box;\n",
              "  margin-bottom: 0.5em;\n",
              "  /* unfitted */\n",
              "  background-color: var(--sklearn-color-unfitted-level-0);\n",
              "}\n",
              "\n",
              "#sk-container-id-2 div.sk-estimator.fitted {\n",
              "  /* fitted */\n",
              "  background-color: var(--sklearn-color-fitted-level-0);\n",
              "}\n",
              "\n",
              "/* on hover */\n",
              "#sk-container-id-2 div.sk-estimator:hover {\n",
              "  /* unfitted */\n",
              "  background-color: var(--sklearn-color-unfitted-level-2);\n",
              "}\n",
              "\n",
              "#sk-container-id-2 div.sk-estimator.fitted:hover {\n",
              "  /* fitted */\n",
              "  background-color: var(--sklearn-color-fitted-level-2);\n",
              "}\n",
              "\n",
              "/* Specification for estimator info (e.g. \"i\" and \"?\") */\n",
              "\n",
              "/* Common style for \"i\" and \"?\" */\n",
              "\n",
              ".sk-estimator-doc-link,\n",
              "a:link.sk-estimator-doc-link,\n",
              "a:visited.sk-estimator-doc-link {\n",
              "  float: right;\n",
              "  font-size: smaller;\n",
              "  line-height: 1em;\n",
              "  font-family: monospace;\n",
              "  background-color: var(--sklearn-color-background);\n",
              "  border-radius: 1em;\n",
              "  height: 1em;\n",
              "  width: 1em;\n",
              "  text-decoration: none !important;\n",
              "  margin-left: 0.5em;\n",
              "  text-align: center;\n",
              "  /* unfitted */\n",
              "  border: var(--sklearn-color-unfitted-level-1) 1pt solid;\n",
              "  color: var(--sklearn-color-unfitted-level-1);\n",
              "}\n",
              "\n",
              ".sk-estimator-doc-link.fitted,\n",
              "a:link.sk-estimator-doc-link.fitted,\n",
              "a:visited.sk-estimator-doc-link.fitted {\n",
              "  /* fitted */\n",
              "  border: var(--sklearn-color-fitted-level-1) 1pt solid;\n",
              "  color: var(--sklearn-color-fitted-level-1);\n",
              "}\n",
              "\n",
              "/* On hover */\n",
              "div.sk-estimator:hover .sk-estimator-doc-link:hover,\n",
              ".sk-estimator-doc-link:hover,\n",
              "div.sk-label-container:hover .sk-estimator-doc-link:hover,\n",
              ".sk-estimator-doc-link:hover {\n",
              "  /* unfitted */\n",
              "  background-color: var(--sklearn-color-unfitted-level-3);\n",
              "  color: var(--sklearn-color-background);\n",
              "  text-decoration: none;\n",
              "}\n",
              "\n",
              "div.sk-estimator.fitted:hover .sk-estimator-doc-link.fitted:hover,\n",
              ".sk-estimator-doc-link.fitted:hover,\n",
              "div.sk-label-container:hover .sk-estimator-doc-link.fitted:hover,\n",
              ".sk-estimator-doc-link.fitted:hover {\n",
              "  /* fitted */\n",
              "  background-color: var(--sklearn-color-fitted-level-3);\n",
              "  color: var(--sklearn-color-background);\n",
              "  text-decoration: none;\n",
              "}\n",
              "\n",
              "/* Span, style for the box shown on hovering the info icon */\n",
              ".sk-estimator-doc-link span {\n",
              "  display: none;\n",
              "  z-index: 9999;\n",
              "  position: relative;\n",
              "  font-weight: normal;\n",
              "  right: .2ex;\n",
              "  padding: .5ex;\n",
              "  margin: .5ex;\n",
              "  width: min-content;\n",
              "  min-width: 20ex;\n",
              "  max-width: 50ex;\n",
              "  color: var(--sklearn-color-text);\n",
              "  box-shadow: 2pt 2pt 4pt #999;\n",
              "  /* unfitted */\n",
              "  background: var(--sklearn-color-unfitted-level-0);\n",
              "  border: .5pt solid var(--sklearn-color-unfitted-level-3);\n",
              "}\n",
              "\n",
              ".sk-estimator-doc-link.fitted span {\n",
              "  /* fitted */\n",
              "  background: var(--sklearn-color-fitted-level-0);\n",
              "  border: var(--sklearn-color-fitted-level-3);\n",
              "}\n",
              "\n",
              ".sk-estimator-doc-link:hover span {\n",
              "  display: block;\n",
              "}\n",
              "\n",
              "/* \"?\"-specific style due to the `<a>` HTML tag */\n",
              "\n",
              "#sk-container-id-2 a.estimator_doc_link {\n",
              "  float: right;\n",
              "  font-size: 1rem;\n",
              "  line-height: 1em;\n",
              "  font-family: monospace;\n",
              "  background-color: var(--sklearn-color-background);\n",
              "  border-radius: 1rem;\n",
              "  height: 1rem;\n",
              "  width: 1rem;\n",
              "  text-decoration: none;\n",
              "  /* unfitted */\n",
              "  color: var(--sklearn-color-unfitted-level-1);\n",
              "  border: var(--sklearn-color-unfitted-level-1) 1pt solid;\n",
              "}\n",
              "\n",
              "#sk-container-id-2 a.estimator_doc_link.fitted {\n",
              "  /* fitted */\n",
              "  border: var(--sklearn-color-fitted-level-1) 1pt solid;\n",
              "  color: var(--sklearn-color-fitted-level-1);\n",
              "}\n",
              "\n",
              "/* On hover */\n",
              "#sk-container-id-2 a.estimator_doc_link:hover {\n",
              "  /* unfitted */\n",
              "  background-color: var(--sklearn-color-unfitted-level-3);\n",
              "  color: var(--sklearn-color-background);\n",
              "  text-decoration: none;\n",
              "}\n",
              "\n",
              "#sk-container-id-2 a.estimator_doc_link.fitted:hover {\n",
              "  /* fitted */\n",
              "  background-color: var(--sklearn-color-fitted-level-3);\n",
              "}\n",
              "</style><div id=\"sk-container-id-2\" class=\"sk-top-container\"><div class=\"sk-text-repr-fallback\"><pre>RandomForestClassifier(class_weight=&#x27;balanced&#x27;, max_depth=5, n_estimators=200)</pre><b>In a Jupyter environment, please rerun this cell to show the HTML representation or trust the notebook. <br />On GitHub, the HTML representation is unable to render, please try loading this page with nbviewer.org.</b></div><div class=\"sk-container\" hidden><div class=\"sk-item\"><div class=\"sk-estimator fitted sk-toggleable\"><input class=\"sk-toggleable__control sk-hidden--visually\" id=\"sk-estimator-id-2\" type=\"checkbox\" checked><label for=\"sk-estimator-id-2\" class=\"sk-toggleable__label fitted sk-toggleable__label-arrow\"><div><div>RandomForestClassifier</div></div><div><a class=\"sk-estimator-doc-link fitted\" rel=\"noreferrer\" target=\"_blank\" href=\"https://scikit-learn.org/1.6/modules/generated/sklearn.ensemble.RandomForestClassifier.html\">?<span>Documentation for RandomForestClassifier</span></a><span class=\"sk-estimator-doc-link fitted\">i<span>Fitted</span></span></div></label><div class=\"sk-toggleable__content fitted\"><pre>RandomForestClassifier(class_weight=&#x27;balanced&#x27;, max_depth=5, n_estimators=200)</pre></div> </div></div></div></div>"
            ],
            "text/plain": [
              "RandomForestClassifier(class_weight='balanced', max_depth=5, n_estimators=200)"
            ]
          },
          "execution_count": 91,
          "metadata": {},
          "output_type": "execute_result"
        }
      ],
      "source": [
        "re_rank_model = RandomForestClassifier(class_weight='balanced', n_estimators = 200, max_depth = 5)\n",
        "re_rank_model.fit(X_train, y_train)"
      ]
    },
    {
      "cell_type": "code",
      "execution_count": null,
      "id": "7a13ad2e-2b11-41f6-8cb6-6c614bea26cb",
      "metadata": {
        "id": "7a13ad2e-2b11-41f6-8cb6-6c614bea26cb",
        "outputId": "28dc0d6c-6e59-4027-a0e8-dcc3e2cd8d70"
      },
      "outputs": [
        {
          "name": "stdout",
          "output_type": "stream",
          "text": [
            "After re-ranking: Recall@100 = 0.8962572585760991 mAP@100 = 0.4792787313604528\n"
          ]
        }
      ],
      "source": [
        "re_ranked_tfidf_results = re_rank_candidates_tfidf(tfidf_results, re_rank_model, top_k_candidates=100)\n",
        "recall_after, mAP_after = evaluate_recommendations(gold_mapping, re_ranked_tfidf_results, k=100)\n",
        "print(\"After re-ranking: Recall@100 =\", recall_after, \"mAP@100 =\", mAP_after)"
      ]
    },
    {
      "cell_type": "markdown",
      "id": "192f18d8-e7a9-4f17-8ba2-a21af05fa6ab",
      "metadata": {
        "id": "192f18d8-e7a9-4f17-8ba2-a21af05fa6ab"
      },
      "source": [
        "## Recall=0.8963, mAP=0.4793"
      ]
    },
    {
      "cell_type": "markdown",
      "id": "35e895ea-f0ba-4139-a1b0-b7646ba70fa8",
      "metadata": {
        "id": "35e895ea-f0ba-4139-a1b0-b7646ba70fa8",
        "jp-MarkdownHeadingCollapsed": true
      },
      "source": [
        "# 5. Dense Embeddings From Class"
      ]
    },
    {
      "cell_type": "code",
      "execution_count": null,
      "id": "004fbc2a-7ceb-4367-9615-f5b9065266fd",
      "metadata": {
        "id": "004fbc2a-7ceb-4367-9615-f5b9065266fd"
      },
      "outputs": [],
      "source": [
        "BASE_DIR = os.getcwd()\n",
        "DOC_EMBEDDING_DIR = os.path.join(BASE_DIR, \"embeddings_precalculated_docs\")\n",
        "TRAIN_EMBEDDING_DIR = os.path.join(BASE_DIR, \"embeddings_precalculated_train\")\n",
        "TEST_EMBEDDING_DIR  = os.path.join(BASE_DIR, \"embeddings_precalculated_test\")\n",
        "CITATION_FILE     = os.path.join(BASE_DIR, \"Citation_JSONs\", \"Citation_Train.json\")"
      ]
    },
    {
      "cell_type": "markdown",
      "id": "d2a1e7c7-d0bd-403d-8db7-65f44e548038",
      "metadata": {
        "id": "d2a1e7c7-d0bd-403d-8db7-65f44e548038",
        "jp-MarkdownHeadingCollapsed": true
      },
      "source": [
        "## 5.1 Grid by components"
      ]
    },
    {
      "cell_type": "code",
      "execution_count": null,
      "id": "310cf911-2b76-4cf8-afcf-d9b92248f439",
      "metadata": {
        "id": "310cf911-2b76-4cf8-afcf-d9b92248f439"
      },
      "outputs": [],
      "source": [
        "embedd_grid = {\n",
        "    'MODEL_NAME': [\"all-MiniLM-L6-v2\", \"PatentSBERTa\"],\n",
        "    'CONTENT_TYPE': [\"TA\", \"claims\", \"TAC\"]\n",
        "}\n",
        "POOLING = \"mean\"\n",
        "QUERY_SET = \"train\""
      ]
    },
    {
      "cell_type": "code",
      "execution_count": null,
      "id": "d58a3dc5-ffd2-408d-8afa-1480e94e3ed4",
      "metadata": {
        "colab": {
          "referenced_widgets": [
            "3d0adc509b5246b49ce4a1897454ba40",
            "0945cb22065a4e3298b2ec53a491aa81",
            "333a7a0ab2a8402d8b216c0e4e463cdb",
            "b209c3ace4bb4e8cba5db5d313e0e79b",
            "2b2516447c85488f9a488cc68102857a",
            "358403546f6049f78c0e55dd5599473f"
          ]
        },
        "id": "d58a3dc5-ffd2-408d-8afa-1480e94e3ed4",
        "outputId": "ae5d0982-811e-41d8-83f8-8904c03e7a8a"
      },
      "outputs": [
        {
          "name": "stdout",
          "output_type": "stream",
          "text": [
            "Evaluating with parameters: {'CONTENT_TYPE': 'TA', 'MODEL_NAME': 'all-MiniLM-L6-v2'}\n",
            "Loading embeddings from C:\\Users\\Polina\\Documents\\Python_files\\AI\\Inf_Retr\\challenge\\embeddings_precalculated_docs\\embeddings_all-MiniLM-L6-v2_mean_TA.npy\n",
            "Loading app_ids from C:\\Users\\Polina\\Documents\\Python_files\\AI\\Inf_Retr\\challenge\\embeddings_precalculated_docs\\app_ids_all-MiniLM-L6-v2_mean_TA.json\n",
            "Loaded 16837 embeddings and 16837 app_ids\n",
            "Loading embeddings from C:\\Users\\Polina\\Documents\\Python_files\\AI\\Inf_Retr\\challenge\\embeddings_precalculated_train\\embeddings_all-MiniLM-L6-v2_mean_TA.npy\n",
            "Loading app_ids from C:\\Users\\Polina\\Documents\\Python_files\\AI\\Inf_Retr\\challenge\\embeddings_precalculated_train\\app_ids_all-MiniLM-L6-v2_mean_TA.json\n",
            "Loaded 6831 embeddings and 6831 app_ids\n"
          ]
        },
        {
          "data": {
            "application/vnd.jupyter.widget-view+json": {
              "model_id": "3d0adc509b5246b49ce4a1897454ba40",
              "version_major": 2,
              "version_minor": 0
            },
            "text/plain": [
              "Retrieval [all-MiniLM-L6-v2-TA]:   0%|          | 0/6831 [00:00<?, ?it/s]"
            ]
          },
          "metadata": {},
          "output_type": "display_data"
        },
        {
          "name": "stdout",
          "output_type": "stream",
          "text": [
            "Recall: 0.8216, mAP: 0.3606, Combined Score: 0.5911\n",
            "Evaluating with parameters: {'CONTENT_TYPE': 'TA', 'MODEL_NAME': 'PatentSBERTa'}\n",
            "Loading embeddings from C:\\Users\\Polina\\Documents\\Python_files\\AI\\Inf_Retr\\challenge\\embeddings_precalculated_docs\\embeddings_PatentSBERTa_mean_TA.npy\n",
            "Loading app_ids from C:\\Users\\Polina\\Documents\\Python_files\\AI\\Inf_Retr\\challenge\\embeddings_precalculated_docs\\app_ids_PatentSBERTa_mean_TA.json\n",
            "Loaded 16837 embeddings and 16837 app_ids\n",
            "Loading embeddings from C:\\Users\\Polina\\Documents\\Python_files\\AI\\Inf_Retr\\challenge\\embeddings_precalculated_train\\embeddings_PatentSBERTa_mean_TA.npy\n",
            "Loading app_ids from C:\\Users\\Polina\\Documents\\Python_files\\AI\\Inf_Retr\\challenge\\embeddings_precalculated_train\\app_ids_PatentSBERTa_mean_TA.json\n",
            "Loaded 6831 embeddings and 6831 app_ids\n"
          ]
        },
        {
          "data": {
            "application/vnd.jupyter.widget-view+json": {
              "model_id": "0945cb22065a4e3298b2ec53a491aa81",
              "version_major": 2,
              "version_minor": 0
            },
            "text/plain": [
              "Retrieval [PatentSBERTa-TA]:   0%|          | 0/6831 [00:00<?, ?it/s]"
            ]
          },
          "metadata": {},
          "output_type": "display_data"
        },
        {
          "name": "stdout",
          "output_type": "stream",
          "text": [
            "Recall: 0.7965, mAP: 0.3434, Combined Score: 0.5699\n",
            "Evaluating with parameters: {'CONTENT_TYPE': 'claims', 'MODEL_NAME': 'all-MiniLM-L6-v2'}\n",
            "Loading embeddings from C:\\Users\\Polina\\Documents\\Python_files\\AI\\Inf_Retr\\challenge\\embeddings_precalculated_docs\\embeddings_all-MiniLM-L6-v2_mean_claims.npy\n",
            "Loading app_ids from C:\\Users\\Polina\\Documents\\Python_files\\AI\\Inf_Retr\\challenge\\embeddings_precalculated_docs\\app_ids_all-MiniLM-L6-v2_mean_claims.json\n",
            "Loaded 16834 embeddings and 16834 app_ids\n",
            "Loading embeddings from C:\\Users\\Polina\\Documents\\Python_files\\AI\\Inf_Retr\\challenge\\embeddings_precalculated_train\\embeddings_all-MiniLM-L6-v2_mean_claims.npy\n",
            "Loading app_ids from C:\\Users\\Polina\\Documents\\Python_files\\AI\\Inf_Retr\\challenge\\embeddings_precalculated_train\\app_ids_all-MiniLM-L6-v2_mean_claims.json\n",
            "Loaded 6831 embeddings and 6831 app_ids\n"
          ]
        },
        {
          "data": {
            "application/vnd.jupyter.widget-view+json": {
              "model_id": "333a7a0ab2a8402d8b216c0e4e463cdb",
              "version_major": 2,
              "version_minor": 0
            },
            "text/plain": [
              "Retrieval [all-MiniLM-L6-v2-claims]:   0%|          | 0/6831 [00:00<?, ?it/s]"
            ]
          },
          "metadata": {},
          "output_type": "display_data"
        },
        {
          "name": "stdout",
          "output_type": "stream",
          "text": [
            "Recall: 0.7795, mAP: 0.3232, Combined Score: 0.5514\n",
            "Evaluating with parameters: {'CONTENT_TYPE': 'claims', 'MODEL_NAME': 'PatentSBERTa'}\n",
            "Loading embeddings from C:\\Users\\Polina\\Documents\\Python_files\\AI\\Inf_Retr\\challenge\\embeddings_precalculated_docs\\embeddings_PatentSBERTa_mean_claims.npy\n",
            "Loading app_ids from C:\\Users\\Polina\\Documents\\Python_files\\AI\\Inf_Retr\\challenge\\embeddings_precalculated_docs\\app_ids_PatentSBERTa_mean_claims.json\n",
            "Loaded 16834 embeddings and 16834 app_ids\n",
            "Loading embeddings from C:\\Users\\Polina\\Documents\\Python_files\\AI\\Inf_Retr\\challenge\\embeddings_precalculated_train\\embeddings_PatentSBERTa_mean_claims.npy\n",
            "Loading app_ids from C:\\Users\\Polina\\Documents\\Python_files\\AI\\Inf_Retr\\challenge\\embeddings_precalculated_train\\app_ids_PatentSBERTa_mean_claims.json\n",
            "Loaded 6831 embeddings and 6831 app_ids\n"
          ]
        },
        {
          "data": {
            "application/vnd.jupyter.widget-view+json": {
              "model_id": "b209c3ace4bb4e8cba5db5d313e0e79b",
              "version_major": 2,
              "version_minor": 0
            },
            "text/plain": [
              "Retrieval [PatentSBERTa-claims]:   0%|          | 0/6831 [00:00<?, ?it/s]"
            ]
          },
          "metadata": {},
          "output_type": "display_data"
        },
        {
          "name": "stdout",
          "output_type": "stream",
          "text": [
            "Recall: 0.7323, mAP: 0.2948, Combined Score: 0.5135\n",
            "Evaluating with parameters: {'CONTENT_TYPE': 'TAC', 'MODEL_NAME': 'all-MiniLM-L6-v2'}\n",
            "Loading embeddings from C:\\Users\\Polina\\Documents\\Python_files\\AI\\Inf_Retr\\challenge\\embeddings_precalculated_docs\\embeddings_all-MiniLM-L6-v2_mean_TAC.npy\n",
            "Loading app_ids from C:\\Users\\Polina\\Documents\\Python_files\\AI\\Inf_Retr\\challenge\\embeddings_precalculated_docs\\app_ids_all-MiniLM-L6-v2_mean_TAC.json\n",
            "Loaded 16837 embeddings and 16837 app_ids\n",
            "Loading embeddings from C:\\Users\\Polina\\Documents\\Python_files\\AI\\Inf_Retr\\challenge\\embeddings_precalculated_train\\embeddings_all-MiniLM-L6-v2_mean_TAC.npy\n",
            "Loading app_ids from C:\\Users\\Polina\\Documents\\Python_files\\AI\\Inf_Retr\\challenge\\embeddings_precalculated_train\\app_ids_all-MiniLM-L6-v2_mean_TAC.json\n",
            "Loaded 6831 embeddings and 6831 app_ids\n"
          ]
        },
        {
          "data": {
            "application/vnd.jupyter.widget-view+json": {
              "model_id": "2b2516447c85488f9a488cc68102857a",
              "version_major": 2,
              "version_minor": 0
            },
            "text/plain": [
              "Retrieval [all-MiniLM-L6-v2-TAC]:   0%|          | 0/6831 [00:00<?, ?it/s]"
            ]
          },
          "metadata": {},
          "output_type": "display_data"
        },
        {
          "name": "stdout",
          "output_type": "stream",
          "text": [
            "Recall: 0.8170, mAP: 0.3587, Combined Score: 0.5879\n",
            "Evaluating with parameters: {'CONTENT_TYPE': 'TAC', 'MODEL_NAME': 'PatentSBERTa'}\n",
            "Loading embeddings from C:\\Users\\Polina\\Documents\\Python_files\\AI\\Inf_Retr\\challenge\\embeddings_precalculated_docs\\embeddings_PatentSBERTa_mean_TAC.npy\n",
            "Loading app_ids from C:\\Users\\Polina\\Documents\\Python_files\\AI\\Inf_Retr\\challenge\\embeddings_precalculated_docs\\app_ids_PatentSBERTa_mean_TAC.json\n",
            "Loaded 16837 embeddings and 16837 app_ids\n",
            "Loading embeddings from C:\\Users\\Polina\\Documents\\Python_files\\AI\\Inf_Retr\\challenge\\embeddings_precalculated_train\\embeddings_PatentSBERTa_mean_TAC.npy\n",
            "Loading app_ids from C:\\Users\\Polina\\Documents\\Python_files\\AI\\Inf_Retr\\challenge\\embeddings_precalculated_train\\app_ids_PatentSBERTa_mean_TAC.json\n",
            "Loaded 6831 embeddings and 6831 app_ids\n"
          ]
        },
        {
          "data": {
            "application/vnd.jupyter.widget-view+json": {
              "model_id": "358403546f6049f78c0e55dd5599473f",
              "version_major": 2,
              "version_minor": 0
            },
            "text/plain": [
              "Retrieval [PatentSBERTa-TAC]:   0%|          | 0/6831 [00:00<?, ?it/s]"
            ]
          },
          "metadata": {},
          "output_type": "display_data"
        },
        {
          "name": "stdout",
          "output_type": "stream",
          "text": [
            "Recall: 0.8021, mAP: 0.3437, Combined Score: 0.5729\n",
            "\n",
            "Best parameters: {'CONTENT_TYPE': 'TA', 'MODEL_NAME': 'all-MiniLM-L6-v2'}\n",
            "Best score: 0.5911400583526261\n"
          ]
        }
      ],
      "source": [
        "best_score = 0\n",
        "best_params = {}\n",
        "\n",
        "for params in ParameterGrid(embedd_grid):\n",
        "    print(f\"Evaluating with parameters: {params}\")\n",
        "    recall, map_score = grid_search_embedd_comp(params, BASE_DIR = BASE_DIR)\n",
        "    score = 0.5*recall + 0.5*map_score\n",
        "    print(f\"Recall: {recall:.4f}, mAP: {map_score:.4f}, Combined Score: {score:.4f}\")\n",
        "\n",
        "    if score > best_score:\n",
        "        best_score = score\n",
        "        best_params = params\n",
        "\n",
        "print(f\"\\nBest parameters: {best_params}\")\n",
        "print(f\"Best score: {best_score}\")"
      ]
    },
    {
      "cell_type": "markdown",
      "id": "4eb7248d-cb9b-4682-b4e2-da2cabbde579",
      "metadata": {
        "id": "4eb7248d-cb9b-4682-b4e2-da2cabbde579"
      },
      "source": [
        "## Recall=0.0.8216, mAP=0.3606"
      ]
    },
    {
      "cell_type": "markdown",
      "id": "b2ceb89e-3dc6-4a85-a3df-d992f9c31222",
      "metadata": {
        "id": "b2ceb89e-3dc6-4a85-a3df-d992f9c31222",
        "jp-MarkdownHeadingCollapsed": true
      },
      "source": [
        "## 5.2 Grid by Combination of components"
      ]
    },
    {
      "cell_type": "code",
      "execution_count": null,
      "id": "665ab11e-08a4-46a3-bc45-17806d385778",
      "metadata": {
        "colab": {
          "referenced_widgets": [
            "593f71c833af490888138180dc656379",
            "381829a477b946fc94db41b7c6207827",
            "736f64783c994620ba80c05f61c4c53c",
            "3c116a91770b4db69d2f1804790c0d26",
            "ec6c0e63507844d0b807e0f4b644daa4",
            "9a505f0a50e7481db234ea21d50b912a",
            "d760582f1a2f497091d452e5c085f8a0",
            "af7e0bf0a02046d2a1d82b7f90856631",
            "a26e0f9a69584daeb5bf3a3e147a6ac8",
            "390627fc9b154b1d93ecbbfacc245ec6",
            "37cac21e9fb14368b6902ece8c8cc17f",
            "2b62546633fe4c998a30c757df877ebd",
            "fbc230f3c6034463b8095c363a6cf4d4",
            "daedbfb769f54553a043a6aa1ea4e455",
            "c97d7beea50c436fbf990d1a212a7a89",
            "cde368b515194753bfc367973e4ea0b0",
            "167d4356c2ef461b988148efcd45404d",
            "1dfee71314294204a22338bae9130914",
            "efa4700f90834ce191071315d53ca11e",
            "b2b4662059a245ddaba7ecacd92c3cfc",
            "d46344abb02a4e57b1f3a0f5775041dd",
            "553e52381922420c981e9a772407960c",
            "71997dd785cd499c8cf3c0f79749c4f0",
            "092fcb6ece4c4a5b9299848132618dfc",
            "97e375f72dc9461882267aa5625cf0ce",
            "be41b73f072e4160a3df59a7e871b3db",
            "e09b871b97e1437f81e7ed27e63353c1",
            "bca2fcb78a5f43f88dc574851beae7ac",
            "8d0318a432b241d5ab8679ee52deca1d",
            "97cb4c730b4a402283f40bd25579e284",
            "d8cb08eda102492d86263ddc8702220f",
            "5d313c0af3244fb9a98bb994c5ab56eb",
            "1f8e11ca546f4436bd5020e1b27ac23f",
            "c48deb18fd88403888bc2dd2f4d6c635",
            "74ce32808aab49a98aa0a141110f3591",
            "772cdf07ce494b2fbf80c63005aacfab",
            "27e725b1656e4dabbd19777d3d72889e",
            "a185c99eeca942cdbe3f76bb9228dd75",
            "4eff4cf4e6c3474dbc6d6c5d4333b0cb",
            "420f8624f3be4c0baae0f568ed76ed0a",
            "c07ca175a44c45c1b19db25aeb544744",
            "7fa7a02ef9984f399fca1d5e2891c140",
            "df1793347a694ca3bc0d69f8cee30c7a",
            "4b11fd4c4d1a4d3c836602dc8e3d5e21",
            "c460d8efa3f44ec38a178dfbaa132fde"
          ]
        },
        "id": "665ab11e-08a4-46a3-bc45-17806d385778",
        "outputId": "ffafbbbc-2416-45de-84af-7df62ce9cfa9"
      },
      "outputs": [
        {
          "name": "stdout",
          "output_type": "stream",
          "text": [
            "Loading embeddings from embeddings_precalculated_docs\\embeddings_all-MiniLM-L6-v2_mean_TA.npy\n",
            "Loading app_ids from embeddings_precalculated_docs\\app_ids_all-MiniLM-L6-v2_mean_TA.json\n",
            "Loaded 16837 embeddings and 16837 app_ids\n",
            "Loading embeddings from embeddings_precalculated_train\\embeddings_all-MiniLM-L6-v2_mean_TA.npy\n",
            "Loading app_ids from embeddings_precalculated_train\\app_ids_all-MiniLM-L6-v2_mean_TA.json\n",
            "Loaded 6831 embeddings and 6831 app_ids\n",
            "Loading embeddings from embeddings_precalculated_docs\\embeddings_all-MiniLM-L6-v2_mean_claims.npy\n",
            "Loading app_ids from embeddings_precalculated_docs\\app_ids_all-MiniLM-L6-v2_mean_claims.json\n",
            "Loaded 16834 embeddings and 16834 app_ids\n",
            "Loading embeddings from embeddings_precalculated_train\\embeddings_all-MiniLM-L6-v2_mean_claims.npy\n",
            "Loading app_ids from embeddings_precalculated_train\\app_ids_all-MiniLM-L6-v2_mean_claims.json\n",
            "Loaded 6831 embeddings and 6831 app_ids\n",
            "Loading embeddings from embeddings_precalculated_docs\\embeddings_all-MiniLM-L6-v2_mean_TAC.npy\n",
            "Loading app_ids from embeddings_precalculated_docs\\app_ids_all-MiniLM-L6-v2_mean_TAC.json\n",
            "Loaded 16837 embeddings and 16837 app_ids\n",
            "Loading embeddings from embeddings_precalculated_train\\embeddings_all-MiniLM-L6-v2_mean_TAC.npy\n",
            "Loading app_ids from embeddings_precalculated_train\\app_ids_all-MiniLM-L6-v2_mean_TAC.json\n",
            "Loaded 6831 embeddings and 6831 app_ids\n",
            "Loading embeddings from embeddings_precalculated_docs\\embeddings_PatentSBERTa_mean_TA.npy\n",
            "Loading app_ids from embeddings_precalculated_docs\\app_ids_PatentSBERTa_mean_TA.json\n",
            "Loaded 16837 embeddings and 16837 app_ids\n",
            "Loading embeddings from embeddings_precalculated_train\\embeddings_PatentSBERTa_mean_TA.npy\n",
            "Loading app_ids from embeddings_precalculated_train\\app_ids_PatentSBERTa_mean_TA.json\n",
            "Loaded 6831 embeddings and 6831 app_ids\n",
            "Loading embeddings from embeddings_precalculated_docs\\embeddings_PatentSBERTa_mean_claims.npy\n",
            "Loading app_ids from embeddings_precalculated_docs\\app_ids_PatentSBERTa_mean_claims.json\n",
            "Loaded 16834 embeddings and 16834 app_ids\n",
            "Loading embeddings from embeddings_precalculated_train\\embeddings_PatentSBERTa_mean_claims.npy\n",
            "Loading app_ids from embeddings_precalculated_train\\app_ids_PatentSBERTa_mean_claims.json\n",
            "Loaded 6831 embeddings and 6831 app_ids\n",
            "Loading embeddings from embeddings_precalculated_docs\\embeddings_PatentSBERTa_mean_TAC.npy\n",
            "Loading app_ids from embeddings_precalculated_docs\\app_ids_PatentSBERTa_mean_TAC.json\n",
            "Loaded 16837 embeddings and 16837 app_ids\n",
            "Loading embeddings from embeddings_precalculated_train\\embeddings_PatentSBERTa_mean_TAC.npy\n",
            "Loading app_ids from embeddings_precalculated_train\\app_ids_PatentSBERTa_mean_TAC.json\n",
            "Loaded 6831 embeddings and 6831 app_ids\n"
          ]
        },
        {
          "data": {
            "application/vnd.jupyter.widget-view+json": {
              "model_id": "593f71c833af490888138180dc656379",
              "version_major": 2,
              "version_minor": 0
            },
            "text/plain": [
              "all-MiniLM-L6-v2_TA+all-MiniLM-L6-v2_claims:sum:   0%|          | 0/6831 [00:00<?, ?it/s]"
            ]
          },
          "metadata": {},
          "output_type": "display_data"
        },
        {
          "name": "stdout",
          "output_type": "stream",
          "text": [
            "Combination: all-MiniLM-L6-v2_TA & all-MiniLM-L6-v2_claims, method=sum | Recall@50=0.8022, mAP@50=0.4104, combined=1.2126\n"
          ]
        },
        {
          "data": {
            "application/vnd.jupyter.widget-view+json": {
              "model_id": "381829a477b946fc94db41b7c6207827",
              "version_major": 2,
              "version_minor": 0
            },
            "text/plain": [
              "all-MiniLM-L6-v2_TA+all-MiniLM-L6-v2_claims:avg:   0%|          | 0/6831 [00:00<?, ?it/s]"
            ]
          },
          "metadata": {},
          "output_type": "display_data"
        },
        {
          "name": "stdout",
          "output_type": "stream",
          "text": [
            "Combination: all-MiniLM-L6-v2_TA & all-MiniLM-L6-v2_claims, method=avg | Recall@50=0.8022, mAP@50=0.4104, combined=1.2126\n"
          ]
        },
        {
          "data": {
            "application/vnd.jupyter.widget-view+json": {
              "model_id": "736f64783c994620ba80c05f61c4c53c",
              "version_major": 2,
              "version_minor": 0
            },
            "text/plain": [
              "all-MiniLM-L6-v2_TA+all-MiniLM-L6-v2_claims:concat:   0%|          | 0/6831 [00:00<?, ?it/s]"
            ]
          },
          "metadata": {},
          "output_type": "display_data"
        },
        {
          "name": "stdout",
          "output_type": "stream",
          "text": [
            "Combination: all-MiniLM-L6-v2_TA & all-MiniLM-L6-v2_claims, method=concat | Recall@50=0.7996, mAP@50=0.4056, combined=1.2052\n"
          ]
        },
        {
          "data": {
            "application/vnd.jupyter.widget-view+json": {
              "model_id": "3c116a91770b4db69d2f1804790c0d26",
              "version_major": 2,
              "version_minor": 0
            },
            "text/plain": [
              "all-MiniLM-L6-v2_TA+all-MiniLM-L6-v2_TAC:sum:   0%|          | 0/6831 [00:00<?, ?it/s]"
            ]
          },
          "metadata": {},
          "output_type": "display_data"
        },
        {
          "name": "stdout",
          "output_type": "stream",
          "text": [
            "Combination: all-MiniLM-L6-v2_TA & all-MiniLM-L6-v2_TAC, method=sum | Recall@50=0.7890, mAP@50=0.3964, combined=1.1854\n"
          ]
        },
        {
          "data": {
            "application/vnd.jupyter.widget-view+json": {
              "model_id": "ec6c0e63507844d0b807e0f4b644daa4",
              "version_major": 2,
              "version_minor": 0
            },
            "text/plain": [
              "all-MiniLM-L6-v2_TA+all-MiniLM-L6-v2_TAC:avg:   0%|          | 0/6831 [00:00<?, ?it/s]"
            ]
          },
          "metadata": {},
          "output_type": "display_data"
        },
        {
          "name": "stdout",
          "output_type": "stream",
          "text": [
            "Combination: all-MiniLM-L6-v2_TA & all-MiniLM-L6-v2_TAC, method=avg | Recall@50=0.7890, mAP@50=0.3964, combined=1.1854\n"
          ]
        },
        {
          "data": {
            "application/vnd.jupyter.widget-view+json": {
              "model_id": "9a505f0a50e7481db234ea21d50b912a",
              "version_major": 2,
              "version_minor": 0
            },
            "text/plain": [
              "all-MiniLM-L6-v2_TA+all-MiniLM-L6-v2_TAC:concat:   0%|          | 0/6831 [00:00<?, ?it/s]"
            ]
          },
          "metadata": {},
          "output_type": "display_data"
        },
        {
          "name": "stdout",
          "output_type": "stream",
          "text": [
            "Combination: all-MiniLM-L6-v2_TA & all-MiniLM-L6-v2_TAC, method=concat | Recall@50=0.7927, mAP@50=0.3994, combined=1.1921\n"
          ]
        },
        {
          "data": {
            "application/vnd.jupyter.widget-view+json": {
              "model_id": "d760582f1a2f497091d452e5c085f8a0",
              "version_major": 2,
              "version_minor": 0
            },
            "text/plain": [
              "all-MiniLM-L6-v2_TA+PatentSBERTa_TA:sum:   0%|          | 0/6831 [00:00<?, ?it/s]"
            ]
          },
          "metadata": {},
          "output_type": "display_data"
        },
        {
          "name": "stdout",
          "output_type": "stream",
          "text": [
            "Combination: all-MiniLM-L6-v2_TA & PatentSBERTa_TA, method=sum | Recall@50=0.6938, mAP@50=0.3219, combined=1.0157\n"
          ]
        },
        {
          "data": {
            "application/vnd.jupyter.widget-view+json": {
              "model_id": "af7e0bf0a02046d2a1d82b7f90856631",
              "version_major": 2,
              "version_minor": 0
            },
            "text/plain": [
              "all-MiniLM-L6-v2_TA+PatentSBERTa_TA:avg:   0%|          | 0/6831 [00:00<?, ?it/s]"
            ]
          },
          "metadata": {},
          "output_type": "display_data"
        },
        {
          "name": "stdout",
          "output_type": "stream",
          "text": [
            "Combination: all-MiniLM-L6-v2_TA & PatentSBERTa_TA, method=avg | Recall@50=0.6936, mAP@50=0.3219, combined=1.0156\n"
          ]
        },
        {
          "data": {
            "application/vnd.jupyter.widget-view+json": {
              "model_id": "a26e0f9a69584daeb5bf3a3e147a6ac8",
              "version_major": 2,
              "version_minor": 0
            },
            "text/plain": [
              "all-MiniLM-L6-v2_TA+PatentSBERTa_TA:concat:   0%|          | 0/6831 [00:00<?, ?it/s]"
            ]
          },
          "metadata": {},
          "output_type": "display_data"
        },
        {
          "name": "stdout",
          "output_type": "stream",
          "text": [
            "Combination: all-MiniLM-L6-v2_TA & PatentSBERTa_TA, method=concat | Recall@50=0.7509, mAP@50=0.3671, combined=1.1180\n"
          ]
        },
        {
          "data": {
            "application/vnd.jupyter.widget-view+json": {
              "model_id": "390627fc9b154b1d93ecbbfacc245ec6",
              "version_major": 2,
              "version_minor": 0
            },
            "text/plain": [
              "all-MiniLM-L6-v2_TA+PatentSBERTa_claims:sum:   0%|          | 0/6831 [00:00<?, ?it/s]"
            ]
          },
          "metadata": {},
          "output_type": "display_data"
        },
        {
          "name": "stdout",
          "output_type": "stream",
          "text": [
            "Combination: all-MiniLM-L6-v2_TA & PatentSBERTa_claims, method=sum | Recall@50=0.6598, mAP@50=0.2876, combined=0.9474\n"
          ]
        },
        {
          "data": {
            "application/vnd.jupyter.widget-view+json": {
              "model_id": "37cac21e9fb14368b6902ece8c8cc17f",
              "version_major": 2,
              "version_minor": 0
            },
            "text/plain": [
              "all-MiniLM-L6-v2_TA+PatentSBERTa_claims:avg:   0%|          | 0/6831 [00:00<?, ?it/s]"
            ]
          },
          "metadata": {},
          "output_type": "display_data"
        },
        {
          "name": "stdout",
          "output_type": "stream",
          "text": [
            "Combination: all-MiniLM-L6-v2_TA & PatentSBERTa_claims, method=avg | Recall@50=0.6521, mAP@50=0.2876, combined=0.9397\n"
          ]
        },
        {
          "data": {
            "application/vnd.jupyter.widget-view+json": {
              "model_id": "2b62546633fe4c998a30c757df877ebd",
              "version_major": 2,
              "version_minor": 0
            },
            "text/plain": [
              "all-MiniLM-L6-v2_TA+PatentSBERTa_claims:concat:   0%|          | 0/6831 [00:00<?, ?it/s]"
            ]
          },
          "metadata": {},
          "output_type": "display_data"
        },
        {
          "name": "stdout",
          "output_type": "stream",
          "text": [
            "Combination: all-MiniLM-L6-v2_TA & PatentSBERTa_claims, method=concat | Recall@50=0.7705, mAP@50=0.3825, combined=1.1531\n"
          ]
        },
        {
          "data": {
            "application/vnd.jupyter.widget-view+json": {
              "model_id": "fbc230f3c6034463b8095c363a6cf4d4",
              "version_major": 2,
              "version_minor": 0
            },
            "text/plain": [
              "all-MiniLM-L6-v2_TA+PatentSBERTa_TAC:sum:   0%|          | 0/6831 [00:00<?, ?it/s]"
            ]
          },
          "metadata": {},
          "output_type": "display_data"
        },
        {
          "name": "stdout",
          "output_type": "stream",
          "text": [
            "Combination: all-MiniLM-L6-v2_TA & PatentSBERTa_TAC, method=sum | Recall@50=0.7328, mAP@50=0.3380, combined=1.0708\n"
          ]
        },
        {
          "data": {
            "application/vnd.jupyter.widget-view+json": {
              "model_id": "daedbfb769f54553a043a6aa1ea4e455",
              "version_major": 2,
              "version_minor": 0
            },
            "text/plain": [
              "all-MiniLM-L6-v2_TA+PatentSBERTa_TAC:avg:   0%|          | 0/6831 [00:00<?, ?it/s]"
            ]
          },
          "metadata": {},
          "output_type": "display_data"
        },
        {
          "name": "stdout",
          "output_type": "stream",
          "text": [
            "Combination: all-MiniLM-L6-v2_TA & PatentSBERTa_TAC, method=avg | Recall@50=0.7380, mAP@50=0.3468, combined=1.0848\n"
          ]
        },
        {
          "data": {
            "application/vnd.jupyter.widget-view+json": {
              "model_id": "c97d7beea50c436fbf990d1a212a7a89",
              "version_major": 2,
              "version_minor": 0
            },
            "text/plain": [
              "all-MiniLM-L6-v2_TA+PatentSBERTa_TAC:concat:   0%|          | 0/6831 [00:00<?, ?it/s]"
            ]
          },
          "metadata": {},
          "output_type": "display_data"
        },
        {
          "name": "stdout",
          "output_type": "stream",
          "text": [
            "Combination: all-MiniLM-L6-v2_TA & PatentSBERTa_TAC, method=concat | Recall@50=0.7993, mAP@50=0.4038, combined=1.2032\n"
          ]
        },
        {
          "data": {
            "application/vnd.jupyter.widget-view+json": {
              "model_id": "cde368b515194753bfc367973e4ea0b0",
              "version_major": 2,
              "version_minor": 0
            },
            "text/plain": [
              "all-MiniLM-L6-v2_claims+all-MiniLM-L6-v2_TAC:sum:   0%|          | 0/6831 [00:00<?, ?it/s]"
            ]
          },
          "metadata": {},
          "output_type": "display_data"
        },
        {
          "name": "stdout",
          "output_type": "stream",
          "text": [
            "Combination: all-MiniLM-L6-v2_claims & all-MiniLM-L6-v2_TAC, method=sum | Recall@50=0.7337, mAP@50=0.3644, combined=1.0981\n"
          ]
        },
        {
          "data": {
            "application/vnd.jupyter.widget-view+json": {
              "model_id": "167d4356c2ef461b988148efcd45404d",
              "version_major": 2,
              "version_minor": 0
            },
            "text/plain": [
              "all-MiniLM-L6-v2_claims+all-MiniLM-L6-v2_TAC:avg:   0%|          | 0/6831 [00:00<?, ?it/s]"
            ]
          },
          "metadata": {},
          "output_type": "display_data"
        },
        {
          "name": "stdout",
          "output_type": "stream",
          "text": [
            "Combination: all-MiniLM-L6-v2_claims & all-MiniLM-L6-v2_TAC, method=avg | Recall@50=0.7337, mAP@50=0.3644, combined=1.0981\n"
          ]
        },
        {
          "data": {
            "application/vnd.jupyter.widget-view+json": {
              "model_id": "1dfee71314294204a22338bae9130914",
              "version_major": 2,
              "version_minor": 0
            },
            "text/plain": [
              "all-MiniLM-L6-v2_claims+all-MiniLM-L6-v2_TAC:concat:   0%|          | 0/6831 [00:00<?, ?it/s]"
            ]
          },
          "metadata": {},
          "output_type": "display_data"
        },
        {
          "name": "stdout",
          "output_type": "stream",
          "text": [
            "Combination: all-MiniLM-L6-v2_claims & all-MiniLM-L6-v2_TAC, method=concat | Recall@50=0.7716, mAP@50=0.3783, combined=1.1498\n"
          ]
        },
        {
          "data": {
            "application/vnd.jupyter.widget-view+json": {
              "model_id": "efa4700f90834ce191071315d53ca11e",
              "version_major": 2,
              "version_minor": 0
            },
            "text/plain": [
              "all-MiniLM-L6-v2_claims+PatentSBERTa_TA:sum:   0%|          | 0/6831 [00:00<?, ?it/s]"
            ]
          },
          "metadata": {},
          "output_type": "display_data"
        },
        {
          "name": "stdout",
          "output_type": "stream",
          "text": [
            "Combination: all-MiniLM-L6-v2_claims & PatentSBERTa_TA, method=sum | Recall@50=0.7103, mAP@50=0.3321, combined=1.0424\n"
          ]
        },
        {
          "data": {
            "application/vnd.jupyter.widget-view+json": {
              "model_id": "b2b4662059a245ddaba7ecacd92c3cfc",
              "version_major": 2,
              "version_minor": 0
            },
            "text/plain": [
              "all-MiniLM-L6-v2_claims+PatentSBERTa_TA:avg:   0%|          | 0/6831 [00:00<?, ?it/s]"
            ]
          },
          "metadata": {},
          "output_type": "display_data"
        },
        {
          "name": "stdout",
          "output_type": "stream",
          "text": [
            "Combination: all-MiniLM-L6-v2_claims & PatentSBERTa_TA, method=avg | Recall@50=0.7157, mAP@50=0.3376, combined=1.0534\n"
          ]
        },
        {
          "data": {
            "application/vnd.jupyter.widget-view+json": {
              "model_id": "d46344abb02a4e57b1f3a0f5775041dd",
              "version_major": 2,
              "version_minor": 0
            },
            "text/plain": [
              "all-MiniLM-L6-v2_claims+PatentSBERTa_TA:concat:   0%|          | 0/6831 [00:00<?, ?it/s]"
            ]
          },
          "metadata": {},
          "output_type": "display_data"
        },
        {
          "name": "stdout",
          "output_type": "stream",
          "text": [
            "Combination: all-MiniLM-L6-v2_claims & PatentSBERTa_TA, method=concat | Recall@50=0.7573, mAP@50=0.3707, combined=1.1280\n"
          ]
        },
        {
          "data": {
            "application/vnd.jupyter.widget-view+json": {
              "model_id": "553e52381922420c981e9a772407960c",
              "version_major": 2,
              "version_minor": 0
            },
            "text/plain": [
              "all-MiniLM-L6-v2_claims+PatentSBERTa_claims:sum:   0%|          | 0/6831 [00:00<?, ?it/s]"
            ]
          },
          "metadata": {},
          "output_type": "display_data"
        },
        {
          "name": "stdout",
          "output_type": "stream",
          "text": [
            "Combination: all-MiniLM-L6-v2_claims & PatentSBERTa_claims, method=sum | Recall@50=0.6337, mAP@50=0.2765, combined=0.9101\n"
          ]
        },
        {
          "data": {
            "application/vnd.jupyter.widget-view+json": {
              "model_id": "71997dd785cd499c8cf3c0f79749c4f0",
              "version_major": 2,
              "version_minor": 0
            },
            "text/plain": [
              "all-MiniLM-L6-v2_claims+PatentSBERTa_claims:avg:   0%|          | 0/6831 [00:00<?, ?it/s]"
            ]
          },
          "metadata": {},
          "output_type": "display_data"
        },
        {
          "name": "stdout",
          "output_type": "stream",
          "text": [
            "Combination: all-MiniLM-L6-v2_claims & PatentSBERTa_claims, method=avg | Recall@50=0.6348, mAP@50=0.2811, combined=0.9159\n"
          ]
        },
        {
          "data": {
            "application/vnd.jupyter.widget-view+json": {
              "model_id": "092fcb6ece4c4a5b9299848132618dfc",
              "version_major": 2,
              "version_minor": 0
            },
            "text/plain": [
              "all-MiniLM-L6-v2_claims+PatentSBERTa_claims:concat:   0%|          | 0/6831 [00:00<?, ?it/s]"
            ]
          },
          "metadata": {},
          "output_type": "display_data"
        },
        {
          "name": "stdout",
          "output_type": "stream",
          "text": [
            "Combination: all-MiniLM-L6-v2_claims & PatentSBERTa_claims, method=concat | Recall@50=0.6833, mAP@50=0.3174, combined=1.0007\n"
          ]
        },
        {
          "data": {
            "application/vnd.jupyter.widget-view+json": {
              "model_id": "97e375f72dc9461882267aa5625cf0ce",
              "version_major": 2,
              "version_minor": 0
            },
            "text/plain": [
              "all-MiniLM-L6-v2_claims+PatentSBERTa_TAC:sum:   0%|          | 0/6831 [00:00<?, ?it/s]"
            ]
          },
          "metadata": {},
          "output_type": "display_data"
        },
        {
          "name": "stdout",
          "output_type": "stream",
          "text": [
            "Combination: all-MiniLM-L6-v2_claims & PatentSBERTa_TAC, method=sum | Recall@50=0.7068, mAP@50=0.3232, combined=1.0300\n"
          ]
        },
        {
          "data": {
            "application/vnd.jupyter.widget-view+json": {
              "model_id": "be41b73f072e4160a3df59a7e871b3db",
              "version_major": 2,
              "version_minor": 0
            },
            "text/plain": [
              "all-MiniLM-L6-v2_claims+PatentSBERTa_TAC:avg:   0%|          | 0/6831 [00:00<?, ?it/s]"
            ]
          },
          "metadata": {},
          "output_type": "display_data"
        },
        {
          "name": "stdout",
          "output_type": "stream",
          "text": [
            "Combination: all-MiniLM-L6-v2_claims & PatentSBERTa_TAC, method=avg | Recall@50=0.7101, mAP@50=0.3275, combined=1.0376\n"
          ]
        },
        {
          "data": {
            "application/vnd.jupyter.widget-view+json": {
              "model_id": "e09b871b97e1437f81e7ed27e63353c1",
              "version_major": 2,
              "version_minor": 0
            },
            "text/plain": [
              "all-MiniLM-L6-v2_claims+PatentSBERTa_TAC:concat:   0%|          | 0/6831 [00:00<?, ?it/s]"
            ]
          },
          "metadata": {},
          "output_type": "display_data"
        },
        {
          "name": "stdout",
          "output_type": "stream",
          "text": [
            "Combination: all-MiniLM-L6-v2_claims & PatentSBERTa_TAC, method=concat | Recall@50=0.7722, mAP@50=0.3829, combined=1.1551\n"
          ]
        },
        {
          "data": {
            "application/vnd.jupyter.widget-view+json": {
              "model_id": "bca2fcb78a5f43f88dc574851beae7ac",
              "version_major": 2,
              "version_minor": 0
            },
            "text/plain": [
              "all-MiniLM-L6-v2_TAC+PatentSBERTa_TA:sum:   0%|          | 0/6831 [00:00<?, ?it/s]"
            ]
          },
          "metadata": {},
          "output_type": "display_data"
        },
        {
          "name": "stdout",
          "output_type": "stream",
          "text": [
            "Combination: all-MiniLM-L6-v2_TAC & PatentSBERTa_TA, method=sum | Recall@50=0.7089, mAP@50=0.3335, combined=1.0424\n"
          ]
        },
        {
          "data": {
            "application/vnd.jupyter.widget-view+json": {
              "model_id": "8d0318a432b241d5ab8679ee52deca1d",
              "version_major": 2,
              "version_minor": 0
            },
            "text/plain": [
              "all-MiniLM-L6-v2_TAC+PatentSBERTa_TA:avg:   0%|          | 0/6831 [00:00<?, ?it/s]"
            ]
          },
          "metadata": {},
          "output_type": "display_data"
        },
        {
          "name": "stdout",
          "output_type": "stream",
          "text": [
            "Combination: all-MiniLM-L6-v2_TAC & PatentSBERTa_TA, method=avg | Recall@50=0.7181, mAP@50=0.3361, combined=1.0542\n"
          ]
        },
        {
          "data": {
            "application/vnd.jupyter.widget-view+json": {
              "model_id": "97cb4c730b4a402283f40bd25579e284",
              "version_major": 2,
              "version_minor": 0
            },
            "text/plain": [
              "all-MiniLM-L6-v2_TAC+PatentSBERTa_TA:concat:   0%|          | 0/6831 [00:00<?, ?it/s]"
            ]
          },
          "metadata": {},
          "output_type": "display_data"
        },
        {
          "name": "stdout",
          "output_type": "stream",
          "text": [
            "Combination: all-MiniLM-L6-v2_TAC & PatentSBERTa_TA, method=concat | Recall@50=0.7540, mAP@50=0.3691, combined=1.1231\n"
          ]
        },
        {
          "data": {
            "application/vnd.jupyter.widget-view+json": {
              "model_id": "d8cb08eda102492d86263ddc8702220f",
              "version_major": 2,
              "version_minor": 0
            },
            "text/plain": [
              "all-MiniLM-L6-v2_TAC+PatentSBERTa_claims:sum:   0%|          | 0/6831 [00:00<?, ?it/s]"
            ]
          },
          "metadata": {},
          "output_type": "display_data"
        },
        {
          "name": "stdout",
          "output_type": "stream",
          "text": [
            "Combination: all-MiniLM-L6-v2_TAC & PatentSBERTa_claims, method=sum | Recall@50=0.6289, mAP@50=0.2699, combined=0.8988\n"
          ]
        },
        {
          "data": {
            "application/vnd.jupyter.widget-view+json": {
              "model_id": "5d313c0af3244fb9a98bb994c5ab56eb",
              "version_major": 2,
              "version_minor": 0
            },
            "text/plain": [
              "all-MiniLM-L6-v2_TAC+PatentSBERTa_claims:avg:   0%|          | 0/6831 [00:00<?, ?it/s]"
            ]
          },
          "metadata": {},
          "output_type": "display_data"
        },
        {
          "name": "stdout",
          "output_type": "stream",
          "text": [
            "Combination: all-MiniLM-L6-v2_TAC & PatentSBERTa_claims, method=avg | Recall@50=0.6318, mAP@50=0.2739, combined=0.9057\n"
          ]
        },
        {
          "data": {
            "application/vnd.jupyter.widget-view+json": {
              "model_id": "1f8e11ca546f4436bd5020e1b27ac23f",
              "version_major": 2,
              "version_minor": 0
            },
            "text/plain": [
              "all-MiniLM-L6-v2_TAC+PatentSBERTa_claims:concat:   0%|          | 0/6831 [00:00<?, ?it/s]"
            ]
          },
          "metadata": {},
          "output_type": "display_data"
        },
        {
          "name": "stdout",
          "output_type": "stream",
          "text": [
            "Combination: all-MiniLM-L6-v2_TAC & PatentSBERTa_claims, method=concat | Recall@50=0.7175, mAP@50=0.3453, combined=1.0628\n"
          ]
        },
        {
          "data": {
            "application/vnd.jupyter.widget-view+json": {
              "model_id": "c48deb18fd88403888bc2dd2f4d6c635",
              "version_major": 2,
              "version_minor": 0
            },
            "text/plain": [
              "all-MiniLM-L6-v2_TAC+PatentSBERTa_TAC:sum:   0%|          | 0/6831 [00:00<?, ?it/s]"
            ]
          },
          "metadata": {},
          "output_type": "display_data"
        },
        {
          "name": "stdout",
          "output_type": "stream",
          "text": [
            "Combination: all-MiniLM-L6-v2_TAC & PatentSBERTa_TAC, method=sum | Recall@50=0.6993, mAP@50=0.3194, combined=1.0187\n"
          ]
        },
        {
          "data": {
            "application/vnd.jupyter.widget-view+json": {
              "model_id": "74ce32808aab49a98aa0a141110f3591",
              "version_major": 2,
              "version_minor": 0
            },
            "text/plain": [
              "all-MiniLM-L6-v2_TAC+PatentSBERTa_TAC:avg:   0%|          | 0/6831 [00:00<?, ?it/s]"
            ]
          },
          "metadata": {},
          "output_type": "display_data"
        },
        {
          "name": "stdout",
          "output_type": "stream",
          "text": [
            "Combination: all-MiniLM-L6-v2_TAC & PatentSBERTa_TAC, method=avg | Recall@50=0.7019, mAP@50=0.3193, combined=1.0212\n"
          ]
        },
        {
          "data": {
            "application/vnd.jupyter.widget-view+json": {
              "model_id": "772cdf07ce494b2fbf80c63005aacfab",
              "version_major": 2,
              "version_minor": 0
            },
            "text/plain": [
              "all-MiniLM-L6-v2_TAC+PatentSBERTa_TAC:concat:   0%|          | 0/6831 [00:00<?, ?it/s]"
            ]
          },
          "metadata": {},
          "output_type": "display_data"
        },
        {
          "name": "stdout",
          "output_type": "stream",
          "text": [
            "Combination: all-MiniLM-L6-v2_TAC & PatentSBERTa_TAC, method=concat | Recall@50=0.7529, mAP@50=0.3654, combined=1.1183\n"
          ]
        },
        {
          "data": {
            "application/vnd.jupyter.widget-view+json": {
              "model_id": "27e725b1656e4dabbd19777d3d72889e",
              "version_major": 2,
              "version_minor": 0
            },
            "text/plain": [
              "PatentSBERTa_TA+PatentSBERTa_claims:sum:   0%|          | 0/6831 [00:00<?, ?it/s]"
            ]
          },
          "metadata": {},
          "output_type": "display_data"
        },
        {
          "name": "stdout",
          "output_type": "stream",
          "text": [
            "Combination: PatentSBERTa_TA & PatentSBERTa_claims, method=sum | Recall@50=0.7783, mAP@50=0.3954, combined=1.1737\n"
          ]
        },
        {
          "data": {
            "application/vnd.jupyter.widget-view+json": {
              "model_id": "a185c99eeca942cdbe3f76bb9228dd75",
              "version_major": 2,
              "version_minor": 0
            },
            "text/plain": [
              "PatentSBERTa_TA+PatentSBERTa_claims:avg:   0%|          | 0/6831 [00:00<?, ?it/s]"
            ]
          },
          "metadata": {},
          "output_type": "display_data"
        },
        {
          "name": "stdout",
          "output_type": "stream",
          "text": [
            "Combination: PatentSBERTa_TA & PatentSBERTa_claims, method=avg | Recall@50=0.7783, mAP@50=0.3954, combined=1.1737\n"
          ]
        },
        {
          "data": {
            "application/vnd.jupyter.widget-view+json": {
              "model_id": "4eff4cf4e6c3474dbc6d6c5d4333b0cb",
              "version_major": 2,
              "version_minor": 0
            },
            "text/plain": [
              "PatentSBERTa_TA+PatentSBERTa_claims:concat:   0%|          | 0/6831 [00:00<?, ?it/s]"
            ]
          },
          "metadata": {},
          "output_type": "display_data"
        },
        {
          "name": "stdout",
          "output_type": "stream",
          "text": [
            "Combination: PatentSBERTa_TA & PatentSBERTa_claims, method=concat | Recall@50=0.7769, mAP@50=0.3877, combined=1.1646\n"
          ]
        },
        {
          "data": {
            "application/vnd.jupyter.widget-view+json": {
              "model_id": "420f8624f3be4c0baae0f568ed76ed0a",
              "version_major": 2,
              "version_minor": 0
            },
            "text/plain": [
              "PatentSBERTa_TA+PatentSBERTa_TAC:sum:   0%|          | 0/6831 [00:00<?, ?it/s]"
            ]
          },
          "metadata": {},
          "output_type": "display_data"
        },
        {
          "name": "stdout",
          "output_type": "stream",
          "text": [
            "Combination: PatentSBERTa_TA & PatentSBERTa_TAC, method=sum | Recall@50=0.7679, mAP@50=0.3763, combined=1.1442\n"
          ]
        },
        {
          "data": {
            "application/vnd.jupyter.widget-view+json": {
              "model_id": "c07ca175a44c45c1b19db25aeb544744",
              "version_major": 2,
              "version_minor": 0
            },
            "text/plain": [
              "PatentSBERTa_TA+PatentSBERTa_TAC:avg:   0%|          | 0/6831 [00:00<?, ?it/s]"
            ]
          },
          "metadata": {},
          "output_type": "display_data"
        },
        {
          "name": "stdout",
          "output_type": "stream",
          "text": [
            "Combination: PatentSBERTa_TA & PatentSBERTa_TAC, method=avg | Recall@50=0.7679, mAP@50=0.3763, combined=1.1442\n"
          ]
        },
        {
          "data": {
            "application/vnd.jupyter.widget-view+json": {
              "model_id": "7fa7a02ef9984f399fca1d5e2891c140",
              "version_major": 2,
              "version_minor": 0
            },
            "text/plain": [
              "PatentSBERTa_TA+PatentSBERTa_TAC:concat:   0%|          | 0/6831 [00:00<?, ?it/s]"
            ]
          },
          "metadata": {},
          "output_type": "display_data"
        },
        {
          "name": "stdout",
          "output_type": "stream",
          "text": [
            "Combination: PatentSBERTa_TA & PatentSBERTa_TAC, method=concat | Recall@50=0.7679, mAP@50=0.3771, combined=1.1449\n"
          ]
        },
        {
          "data": {
            "application/vnd.jupyter.widget-view+json": {
              "model_id": "df1793347a694ca3bc0d69f8cee30c7a",
              "version_major": 2,
              "version_minor": 0
            },
            "text/plain": [
              "PatentSBERTa_claims+PatentSBERTa_TAC:sum:   0%|          | 0/6831 [00:00<?, ?it/s]"
            ]
          },
          "metadata": {},
          "output_type": "display_data"
        },
        {
          "name": "stdout",
          "output_type": "stream",
          "text": [
            "Combination: PatentSBERTa_claims & PatentSBERTa_TAC, method=sum | Recall@50=0.6829, mAP@50=0.3392, combined=1.0221\n"
          ]
        },
        {
          "data": {
            "application/vnd.jupyter.widget-view+json": {
              "model_id": "4b11fd4c4d1a4d3c836602dc8e3d5e21",
              "version_major": 2,
              "version_minor": 0
            },
            "text/plain": [
              "PatentSBERTa_claims+PatentSBERTa_TAC:avg:   0%|          | 0/6831 [00:00<?, ?it/s]"
            ]
          },
          "metadata": {},
          "output_type": "display_data"
        },
        {
          "name": "stdout",
          "output_type": "stream",
          "text": [
            "Combination: PatentSBERTa_claims & PatentSBERTa_TAC, method=avg | Recall@50=0.6829, mAP@50=0.3392, combined=1.0221\n"
          ]
        },
        {
          "data": {
            "application/vnd.jupyter.widget-view+json": {
              "model_id": "c460d8efa3f44ec38a178dfbaa132fde",
              "version_major": 2,
              "version_minor": 0
            },
            "text/plain": [
              "PatentSBERTa_claims+PatentSBERTa_TAC:concat:   0%|          | 0/6831 [00:00<?, ?it/s]"
            ]
          },
          "metadata": {},
          "output_type": "display_data"
        },
        {
          "name": "stdout",
          "output_type": "stream",
          "text": [
            "Combination: PatentSBERTa_claims & PatentSBERTa_TAC, method=concat | Recall@50=0.7574, mAP@50=0.3675, combined=1.1249\n"
          ]
        }
      ],
      "source": [
        "best_combo, best_score = grid_search_embedd_combinations(\n",
        "    model_names    = [\"all-MiniLM-L6-v2\", \"PatentSBERTa\"],\n",
        "    content_types  = [\"TA\", \"claims\", \"TAC\"],\n",
        "    methods        = [\"sum\", \"avg\", \"concat\"],\n",
        "    citation_file  = \"Citation_JSONs/Citation_Train.json\",\n",
        "    doc_dir        = \"embeddings_precalculated_docs\",\n",
        "    query_dir      = \"embeddings_precalculated_train\",\n",
        "    top_n          = 100,\n",
        "    k_value        = 50,\n",
        "    pooling        = \"mean\"\n",
        ")"
      ]
    },
    {
      "cell_type": "code",
      "execution_count": null,
      "id": "ca6ae58f-467c-4fec-aa15-1cc1d7c874e1",
      "metadata": {
        "id": "ca6ae58f-467c-4fec-aa15-1cc1d7c874e1",
        "outputId": "7e31e7d3-3c77-441f-fe45-c3ea79bf3d4a"
      },
      "outputs": [
        {
          "name": "stdout",
          "output_type": "stream",
          "text": [
            "Best combination: ('all-MiniLM-L6-v2_TA', 'all-MiniLM-L6-v2_claims', 'sum', 0.8022471087688479, 0.41037653491149245)\n",
            "Best combined score: 1.2126236436803404\n"
          ]
        }
      ],
      "source": [
        "print(\"Best combination:\", best_combo)\n",
        "print(\"Best combined score:\", best_score)"
      ]
    },
    {
      "cell_type": "markdown",
      "id": "1fa80491-9cf7-4df0-9842-2d73893eeb31",
      "metadata": {
        "id": "1fa80491-9cf7-4df0-9842-2d73893eeb31"
      },
      "source": [
        "## Recall=0.8022, mAP=0.4104"
      ]
    },
    {
      "cell_type": "markdown",
      "id": "b9fc42da-9af2-4f72-87e3-bb18d21906a2",
      "metadata": {
        "id": "b9fc42da-9af2-4f72-87e3-bb18d21906a2"
      },
      "source": [
        "# 6. TF-IDF & Embeddings from Class"
      ]
    },
    {
      "cell_type": "markdown",
      "id": "6f1e0104-fae5-4d55-81de-89929eb75721",
      "metadata": {
        "id": "6f1e0104-fae5-4d55-81de-89929eb75721"
      },
      "source": [
        "## 6.1 Re-Ranking: TF-IDF & allMini-TA"
      ]
    },
    {
      "cell_type": "markdown",
      "id": "8515cd56-069f-46c9-87d1-7ecd5813cf38",
      "metadata": {
        "id": "8515cd56-069f-46c9-87d1-7ecd5813cf38",
        "jp-MarkdownHeadingCollapsed": true
      },
      "source": [
        "### Dense Embeddings Recommendations"
      ]
    },
    {
      "cell_type": "code",
      "execution_count": null,
      "id": "975b9e5b-bb50-480b-abd8-92d1efa4517e",
      "metadata": {
        "id": "975b9e5b-bb50-480b-abd8-92d1efa4517e"
      },
      "outputs": [],
      "source": [
        "MODEL_NAME = \"all-MiniLM-L6-v2\"  # Choose from: \"all-MiniLM-L6-v2\" or \"PatentSBERTa\"\n",
        "CONTENT_TYPE = \"TA\"              # Choose from: \"TA\", \"claims\", or \"TAC\"\n",
        "POOLING = \"mean\"                 # The pooling strategy used in create_embeddings.py\n",
        "QUERY_SET = \"train\"              # Choose from: \"train\" or \"test\""
      ]
    },
    {
      "cell_type": "code",
      "execution_count": null,
      "id": "a8a336f1-55f6-4f0c-82d2-dde9d9910827",
      "metadata": {
        "id": "a8a336f1-55f6-4f0c-82d2-dde9d9910827"
      },
      "outputs": [],
      "source": [
        "BASE_DIR = os.getcwd()\n",
        "DOC_EMBEDDING_DIR = os.path.join(BASE_DIR, \"embeddings_precalculated_docs\")\n",
        "TRAIN_EMBEDDING_DIR = os.path.join(BASE_DIR, \"embeddings_precalculated_train\")\n",
        "TEST_EMBEDDING_DIR  = os.path.join(BASE_DIR, \"embeddings_precalculated_test\")\n",
        "CITATION_FILE     = os.path.join(BASE_DIR, \"Citation_JSONs\", \"Citation_Train.json\")\n",
        "\n",
        "# Embedding files\n",
        "DOC_EMBEDDING_FILE = os.path.join(DOC_EMBEDDING_DIR, f\"embeddings_{MODEL_NAME}_{POOLING}_{CONTENT_TYPE}.npy\")\n",
        "DOC_APP_IDS_FILE = os.path.join(DOC_EMBEDDING_DIR, f\"app_ids_{MODEL_NAME}_{POOLING}_{CONTENT_TYPE}.json\")\n",
        "\n",
        "# Select query embedding directory based on QUERY_SET\n",
        "QUERY_EMBEDDING_DIR = TRAIN_EMBEDDING_DIR if QUERY_SET == \"train\" else TEST_EMBEDDING_DIR\n",
        "QUERY_EMBEDDING_FILE = os.path.join(QUERY_EMBEDDING_DIR, f\"embeddings_{MODEL_NAME}_{POOLING}_{CONTENT_TYPE}.npy\")\n",
        "QUERY_APP_IDS_FILE = os.path.join(QUERY_EMBEDDING_DIR, f\"app_ids_{MODEL_NAME}_{POOLING}_{CONTENT_TYPE}.json\")"
      ]
    },
    {
      "cell_type": "code",
      "execution_count": null,
      "id": "94d8a3d8-bf84-4b3a-8104-5225b92b098b",
      "metadata": {
        "id": "94d8a3d8-bf84-4b3a-8104-5225b92b098b",
        "outputId": "48bca76b-8de9-4b3b-e764-55a88a07700e"
      },
      "outputs": [
        {
          "name": "stdout",
          "output_type": "stream",
          "text": [
            "Loading embeddings from C:\\Users\\Polina\\Documents\\Python_files\\AI\\Inf_Retr\\challenge\\embeddings_precalculated_docs\\embeddings_all-MiniLM-L6-v2_mean_TA.npy\n",
            "Loading app_ids from C:\\Users\\Polina\\Documents\\Python_files\\AI\\Inf_Retr\\challenge\\embeddings_precalculated_docs\\app_ids_all-MiniLM-L6-v2_mean_TA.json\n",
            "Loaded 16837 embeddings and 16837 app_ids\n",
            "Loading embeddings from C:\\Users\\Polina\\Documents\\Python_files\\AI\\Inf_Retr\\challenge\\embeddings_precalculated_train\\embeddings_all-MiniLM-L6-v2_mean_TA.npy\n",
            "Loading app_ids from C:\\Users\\Polina\\Documents\\Python_files\\AI\\Inf_Retr\\challenge\\embeddings_precalculated_train\\app_ids_all-MiniLM-L6-v2_mean_TA.json\n",
            "Loaded 6831 embeddings and 6831 app_ids\n",
            "Running retrieval with 6831 queries against 16837 documents\n"
          ]
        }
      ],
      "source": [
        "doc_embeddings, doc_app_ids = load_embeddings_and_ids(DOC_EMBEDDING_FILE, DOC_APP_IDS_FILE)\n",
        "\n",
        "# Load query embeddings and app_ids\n",
        "query_embeddings, query_app_ids = load_embeddings_and_ids(QUERY_EMBEDDING_FILE, QUERY_APP_IDS_FILE)\n",
        "\n",
        "print(f\"Running retrieval with {len(query_embeddings)} queries against {len(doc_embeddings)} documents\")"
      ]
    },
    {
      "cell_type": "code",
      "execution_count": null,
      "id": "d6c8c55e-b320-48ab-ae2a-2de3e26f7542",
      "metadata": {
        "colab": {
          "referenced_widgets": [
            "216a3535baff45deb9ba8255e5e63cb2"
          ]
        },
        "id": "d6c8c55e-b320-48ab-ae2a-2de3e26f7542",
        "outputId": "438d6d1b-779a-41b6-bd30-be39c2d82dfb"
      },
      "outputs": [
        {
          "data": {
            "application/vnd.jupyter.widget-view+json": {
              "model_id": "216a3535baff45deb9ba8255e5e63cb2",
              "version_major": 2,
              "version_minor": 0
            },
            "text/plain": [
              "Dense embeddings similarity:   0%|          | 0/6831 [00:00<?, ?it/s]"
            ]
          },
          "metadata": {},
          "output_type": "display_data"
        }
      ],
      "source": [
        "dense_results = get_dense_recommendations(query_embeddings, query_app_ids, doc_embeddings, doc_app_ids, top_k_candidates=200)"
      ]
    },
    {
      "cell_type": "markdown",
      "id": "3192c624-17ca-40fc-819c-413c3e23e588",
      "metadata": {
        "id": "3192c624-17ca-40fc-819c-413c3e23e588",
        "jp-MarkdownHeadingCollapsed": true
      },
      "source": [
        "### TF-IDF Recommendations"
      ]
    },
    {
      "cell_type": "code",
      "execution_count": null,
      "id": "abb95e99-3e8b-41e0-b663-068fe1bb4bb0",
      "metadata": {
        "id": "abb95e99-3e8b-41e0-b663-068fe1bb4bb0"
      },
      "outputs": [],
      "source": [
        "vectorizer = TfidfVectorizer(stop_words = 'english', max_features = 30000, sublinear_tf = True)\n",
        "weights = {'title': 1, 'abstract': 0, 'claims': 1, 'description': 1}"
      ]
    },
    {
      "cell_type": "code",
      "execution_count": null,
      "id": "ed249230-894e-4d50-a808-4af386171120",
      "metadata": {
        "colab": {
          "referenced_widgets": [
            "6eb6aefde35a407a8da2d8dc2dd7b177"
          ]
        },
        "id": "ed249230-894e-4d50-a808-4af386171120",
        "outputId": "45d3940f-7cb2-45c6-b7fd-148eba078f3e"
      },
      "outputs": [
        {
          "data": {
            "application/vnd.jupyter.widget-view+json": {
              "model_id": "6eb6aefde35a407a8da2d8dc2dd7b177",
              "version_major": 2,
              "version_minor": 0
            },
            "text/plain": [
              "TF-IDF:   0%|          | 0/23668 [00:00<?, ?it/s]"
            ]
          },
          "metadata": {},
          "output_type": "display_data"
        },
        {
          "name": "stdout",
          "output_type": "stream",
          "text": [
            "Vocabulary size: 30000\n"
          ]
        }
      ],
      "source": [
        "tfidf_query, tfidf_docs, query_ids, doc_ids, fitted_vectorizer = prepare_tfidf_data(\n",
        "                                                                        citing_docs=json_citing_train,\n",
        "                                                                        cited_docs=json_nonciting,\n",
        "                                                                        weights=weights,\n",
        "                                                                        vectorizer=vectorizer,\n",
        "                                                                        apply_cleaning=False,\n",
        "                                                                        test=False)"
      ]
    },
    {
      "cell_type": "code",
      "execution_count": null,
      "id": "7249ed7e-e5c1-4677-8821-8e83261db80b",
      "metadata": {
        "id": "7249ed7e-e5c1-4677-8821-8e83261db80b"
      },
      "outputs": [],
      "source": [
        "tfidf_results = get_tfidf_recommendations(query_ids,\n",
        "                                            doc_ids,\n",
        "                                            tfidf_query,\n",
        "                                            tfidf_docs,\n",
        "                                            k=200, return_scores=True)"
      ]
    },
    {
      "cell_type": "markdown",
      "id": "4cd80160-9a71-4c2a-bc4a-42d521ebd465",
      "metadata": {
        "id": "4cd80160-9a71-4c2a-bc4a-42d521ebd465",
        "jp-MarkdownHeadingCollapsed": true
      },
      "source": [
        "### Fuse Recommendations"
      ]
    },
    {
      "cell_type": "code",
      "execution_count": null,
      "id": "eb77d9b8-5ce7-4553-bfd1-ba6170dda5f4",
      "metadata": {
        "id": "eb77d9b8-5ce7-4553-bfd1-ba6170dda5f4"
      },
      "outputs": [],
      "source": [
        "fused_results = fuse_results_simple(tfidf_results, dense_results, alpha=0.5, beta=0.5)"
      ]
    },
    {
      "cell_type": "code",
      "execution_count": null,
      "id": "2cd41fef-43b1-4e82-b604-8831d680312d",
      "metadata": {
        "id": "2cd41fef-43b1-4e82-b604-8831d680312d",
        "outputId": "60d1f35a-7e5a-4847-a9a6-31d5430177c7"
      },
      "outputs": [
        {
          "name": "stdout",
          "output_type": "stream",
          "text": [
            "Fuse: Recall@100 = 0.8779583272336895 mAP@100 = 0.495378868269633\n"
          ]
        }
      ],
      "source": [
        "recall, mAP = evaluate_recommendations(gold_mapping, fused_results, k=100)\n",
        "print(\"Fuse: Recall@100 =\", recall, \"mAP@100 =\", mAP)"
      ]
    },
    {
      "cell_type": "markdown",
      "id": "009ad464-0974-4f4e-a408-e98aeafd0451",
      "metadata": {
        "id": "009ad464-0974-4f4e-a408-e98aeafd0451"
      },
      "source": [
        "## Recall=0.8780, mAP=0.4954"
      ]
    },
    {
      "cell_type": "markdown",
      "id": "84e2a8a8-ab6f-470a-9666-8805a71c838a",
      "metadata": {
        "id": "84e2a8a8-ab6f-470a-9666-8805a71c838a",
        "jp-MarkdownHeadingCollapsed": true
      },
      "source": [
        "### Re-Ranking"
      ]
    },
    {
      "cell_type": "code",
      "execution_count": null,
      "id": "f1fd6e87-dcb1-42ab-9037-159b5639a0e4",
      "metadata": {
        "id": "f1fd6e87-dcb1-42ab-9037-159b5639a0e4",
        "outputId": "88437854-9849-434a-aa9d-8ebc8fc62a45"
      },
      "outputs": [
        {
          "name": "stdout",
          "output_type": "stream",
          "text": [
            "X_train: (1206388, 2)\n",
            "y_train: (1206388,)\n"
          ]
        }
      ],
      "source": [
        "X_train, y_train = prepare_training_data_fused(\n",
        "    ids            = query_ids,\n",
        "    tfidf_results  = tfidf_results,\n",
        "    dense_results  = dense_results,\n",
        "    gold_mapping   = gold_mapping,\n",
        "    top_k_candidates = 100\n",
        ")\n",
        "\n",
        "print(\"X_train:\", X_train.shape)\n",
        "print(\"y_train:\", y_train.shape)"
      ]
    },
    {
      "cell_type": "code",
      "execution_count": null,
      "id": "92a63b36-9474-4fc7-9d89-a423815f77ec",
      "metadata": {
        "id": "92a63b36-9474-4fc7-9d89-a423815f77ec",
        "outputId": "ef742500-ed8b-4ecd-d72e-ab7963484b49"
      },
      "outputs": [
        {
          "data": {
            "text/html": [
              "<style>#sk-container-id-5 {\n",
              "  /* Definition of color scheme common for light and dark mode */\n",
              "  --sklearn-color-text: #000;\n",
              "  --sklearn-color-text-muted: #666;\n",
              "  --sklearn-color-line: gray;\n",
              "  /* Definition of color scheme for unfitted estimators */\n",
              "  --sklearn-color-unfitted-level-0: #fff5e6;\n",
              "  --sklearn-color-unfitted-level-1: #f6e4d2;\n",
              "  --sklearn-color-unfitted-level-2: #ffe0b3;\n",
              "  --sklearn-color-unfitted-level-3: chocolate;\n",
              "  /* Definition of color scheme for fitted estimators */\n",
              "  --sklearn-color-fitted-level-0: #f0f8ff;\n",
              "  --sklearn-color-fitted-level-1: #d4ebff;\n",
              "  --sklearn-color-fitted-level-2: #b3dbfd;\n",
              "  --sklearn-color-fitted-level-3: cornflowerblue;\n",
              "\n",
              "  /* Specific color for light theme */\n",
              "  --sklearn-color-text-on-default-background: var(--sg-text-color, var(--theme-code-foreground, var(--jp-content-font-color1, black)));\n",
              "  --sklearn-color-background: var(--sg-background-color, var(--theme-background, var(--jp-layout-color0, white)));\n",
              "  --sklearn-color-border-box: var(--sg-text-color, var(--theme-code-foreground, var(--jp-content-font-color1, black)));\n",
              "  --sklearn-color-icon: #696969;\n",
              "\n",
              "  @media (prefers-color-scheme: dark) {\n",
              "    /* Redefinition of color scheme for dark theme */\n",
              "    --sklearn-color-text-on-default-background: var(--sg-text-color, var(--theme-code-foreground, var(--jp-content-font-color1, white)));\n",
              "    --sklearn-color-background: var(--sg-background-color, var(--theme-background, var(--jp-layout-color0, #111)));\n",
              "    --sklearn-color-border-box: var(--sg-text-color, var(--theme-code-foreground, var(--jp-content-font-color1, white)));\n",
              "    --sklearn-color-icon: #878787;\n",
              "  }\n",
              "}\n",
              "\n",
              "#sk-container-id-5 {\n",
              "  color: var(--sklearn-color-text);\n",
              "}\n",
              "\n",
              "#sk-container-id-5 pre {\n",
              "  padding: 0;\n",
              "}\n",
              "\n",
              "#sk-container-id-5 input.sk-hidden--visually {\n",
              "  border: 0;\n",
              "  clip: rect(1px 1px 1px 1px);\n",
              "  clip: rect(1px, 1px, 1px, 1px);\n",
              "  height: 1px;\n",
              "  margin: -1px;\n",
              "  overflow: hidden;\n",
              "  padding: 0;\n",
              "  position: absolute;\n",
              "  width: 1px;\n",
              "}\n",
              "\n",
              "#sk-container-id-5 div.sk-dashed-wrapped {\n",
              "  border: 1px dashed var(--sklearn-color-line);\n",
              "  margin: 0 0.4em 0.5em 0.4em;\n",
              "  box-sizing: border-box;\n",
              "  padding-bottom: 0.4em;\n",
              "  background-color: var(--sklearn-color-background);\n",
              "}\n",
              "\n",
              "#sk-container-id-5 div.sk-container {\n",
              "  /* jupyter's `normalize.less` sets `[hidden] { display: none; }`\n",
              "     but bootstrap.min.css set `[hidden] { display: none !important; }`\n",
              "     so we also need the `!important` here to be able to override the\n",
              "     default hidden behavior on the sphinx rendered scikit-learn.org.\n",
              "     See: https://github.com/scikit-learn/scikit-learn/issues/21755 */\n",
              "  display: inline-block !important;\n",
              "  position: relative;\n",
              "}\n",
              "\n",
              "#sk-container-id-5 div.sk-text-repr-fallback {\n",
              "  display: none;\n",
              "}\n",
              "\n",
              "div.sk-parallel-item,\n",
              "div.sk-serial,\n",
              "div.sk-item {\n",
              "  /* draw centered vertical line to link estimators */\n",
              "  background-image: linear-gradient(var(--sklearn-color-text-on-default-background), var(--sklearn-color-text-on-default-background));\n",
              "  background-size: 2px 100%;\n",
              "  background-repeat: no-repeat;\n",
              "  background-position: center center;\n",
              "}\n",
              "\n",
              "/* Parallel-specific style estimator block */\n",
              "\n",
              "#sk-container-id-5 div.sk-parallel-item::after {\n",
              "  content: \"\";\n",
              "  width: 100%;\n",
              "  border-bottom: 2px solid var(--sklearn-color-text-on-default-background);\n",
              "  flex-grow: 1;\n",
              "}\n",
              "\n",
              "#sk-container-id-5 div.sk-parallel {\n",
              "  display: flex;\n",
              "  align-items: stretch;\n",
              "  justify-content: center;\n",
              "  background-color: var(--sklearn-color-background);\n",
              "  position: relative;\n",
              "}\n",
              "\n",
              "#sk-container-id-5 div.sk-parallel-item {\n",
              "  display: flex;\n",
              "  flex-direction: column;\n",
              "}\n",
              "\n",
              "#sk-container-id-5 div.sk-parallel-item:first-child::after {\n",
              "  align-self: flex-end;\n",
              "  width: 50%;\n",
              "}\n",
              "\n",
              "#sk-container-id-5 div.sk-parallel-item:last-child::after {\n",
              "  align-self: flex-start;\n",
              "  width: 50%;\n",
              "}\n",
              "\n",
              "#sk-container-id-5 div.sk-parallel-item:only-child::after {\n",
              "  width: 0;\n",
              "}\n",
              "\n",
              "/* Serial-specific style estimator block */\n",
              "\n",
              "#sk-container-id-5 div.sk-serial {\n",
              "  display: flex;\n",
              "  flex-direction: column;\n",
              "  align-items: center;\n",
              "  background-color: var(--sklearn-color-background);\n",
              "  padding-right: 1em;\n",
              "  padding-left: 1em;\n",
              "}\n",
              "\n",
              "\n",
              "/* Toggleable style: style used for estimator/Pipeline/ColumnTransformer box that is\n",
              "clickable and can be expanded/collapsed.\n",
              "- Pipeline and ColumnTransformer use this feature and define the default style\n",
              "- Estimators will overwrite some part of the style using the `sk-estimator` class\n",
              "*/\n",
              "\n",
              "/* Pipeline and ColumnTransformer style (default) */\n",
              "\n",
              "#sk-container-id-5 div.sk-toggleable {\n",
              "  /* Default theme specific background. It is overwritten whether we have a\n",
              "  specific estimator or a Pipeline/ColumnTransformer */\n",
              "  background-color: var(--sklearn-color-background);\n",
              "}\n",
              "\n",
              "/* Toggleable label */\n",
              "#sk-container-id-5 label.sk-toggleable__label {\n",
              "  cursor: pointer;\n",
              "  display: flex;\n",
              "  width: 100%;\n",
              "  margin-bottom: 0;\n",
              "  padding: 0.5em;\n",
              "  box-sizing: border-box;\n",
              "  text-align: center;\n",
              "  align-items: start;\n",
              "  justify-content: space-between;\n",
              "  gap: 0.5em;\n",
              "}\n",
              "\n",
              "#sk-container-id-5 label.sk-toggleable__label .caption {\n",
              "  font-size: 0.6rem;\n",
              "  font-weight: lighter;\n",
              "  color: var(--sklearn-color-text-muted);\n",
              "}\n",
              "\n",
              "#sk-container-id-5 label.sk-toggleable__label-arrow:before {\n",
              "  /* Arrow on the left of the label */\n",
              "  content: \"▸\";\n",
              "  float: left;\n",
              "  margin-right: 0.25em;\n",
              "  color: var(--sklearn-color-icon);\n",
              "}\n",
              "\n",
              "#sk-container-id-5 label.sk-toggleable__label-arrow:hover:before {\n",
              "  color: var(--sklearn-color-text);\n",
              "}\n",
              "\n",
              "/* Toggleable content - dropdown */\n",
              "\n",
              "#sk-container-id-5 div.sk-toggleable__content {\n",
              "  max-height: 0;\n",
              "  max-width: 0;\n",
              "  overflow: hidden;\n",
              "  text-align: left;\n",
              "  /* unfitted */\n",
              "  background-color: var(--sklearn-color-unfitted-level-0);\n",
              "}\n",
              "\n",
              "#sk-container-id-5 div.sk-toggleable__content.fitted {\n",
              "  /* fitted */\n",
              "  background-color: var(--sklearn-color-fitted-level-0);\n",
              "}\n",
              "\n",
              "#sk-container-id-5 div.sk-toggleable__content pre {\n",
              "  margin: 0.2em;\n",
              "  border-radius: 0.25em;\n",
              "  color: var(--sklearn-color-text);\n",
              "  /* unfitted */\n",
              "  background-color: var(--sklearn-color-unfitted-level-0);\n",
              "}\n",
              "\n",
              "#sk-container-id-5 div.sk-toggleable__content.fitted pre {\n",
              "  /* unfitted */\n",
              "  background-color: var(--sklearn-color-fitted-level-0);\n",
              "}\n",
              "\n",
              "#sk-container-id-5 input.sk-toggleable__control:checked~div.sk-toggleable__content {\n",
              "  /* Expand drop-down */\n",
              "  max-height: 200px;\n",
              "  max-width: 100%;\n",
              "  overflow: auto;\n",
              "}\n",
              "\n",
              "#sk-container-id-5 input.sk-toggleable__control:checked~label.sk-toggleable__label-arrow:before {\n",
              "  content: \"▾\";\n",
              "}\n",
              "\n",
              "/* Pipeline/ColumnTransformer-specific style */\n",
              "\n",
              "#sk-container-id-5 div.sk-label input.sk-toggleable__control:checked~label.sk-toggleable__label {\n",
              "  color: var(--sklearn-color-text);\n",
              "  background-color: var(--sklearn-color-unfitted-level-2);\n",
              "}\n",
              "\n",
              "#sk-container-id-5 div.sk-label.fitted input.sk-toggleable__control:checked~label.sk-toggleable__label {\n",
              "  background-color: var(--sklearn-color-fitted-level-2);\n",
              "}\n",
              "\n",
              "/* Estimator-specific style */\n",
              "\n",
              "/* Colorize estimator box */\n",
              "#sk-container-id-5 div.sk-estimator input.sk-toggleable__control:checked~label.sk-toggleable__label {\n",
              "  /* unfitted */\n",
              "  background-color: var(--sklearn-color-unfitted-level-2);\n",
              "}\n",
              "\n",
              "#sk-container-id-5 div.sk-estimator.fitted input.sk-toggleable__control:checked~label.sk-toggleable__label {\n",
              "  /* fitted */\n",
              "  background-color: var(--sklearn-color-fitted-level-2);\n",
              "}\n",
              "\n",
              "#sk-container-id-5 div.sk-label label.sk-toggleable__label,\n",
              "#sk-container-id-5 div.sk-label label {\n",
              "  /* The background is the default theme color */\n",
              "  color: var(--sklearn-color-text-on-default-background);\n",
              "}\n",
              "\n",
              "/* On hover, darken the color of the background */\n",
              "#sk-container-id-5 div.sk-label:hover label.sk-toggleable__label {\n",
              "  color: var(--sklearn-color-text);\n",
              "  background-color: var(--sklearn-color-unfitted-level-2);\n",
              "}\n",
              "\n",
              "/* Label box, darken color on hover, fitted */\n",
              "#sk-container-id-5 div.sk-label.fitted:hover label.sk-toggleable__label.fitted {\n",
              "  color: var(--sklearn-color-text);\n",
              "  background-color: var(--sklearn-color-fitted-level-2);\n",
              "}\n",
              "\n",
              "/* Estimator label */\n",
              "\n",
              "#sk-container-id-5 div.sk-label label {\n",
              "  font-family: monospace;\n",
              "  font-weight: bold;\n",
              "  display: inline-block;\n",
              "  line-height: 1.2em;\n",
              "}\n",
              "\n",
              "#sk-container-id-5 div.sk-label-container {\n",
              "  text-align: center;\n",
              "}\n",
              "\n",
              "/* Estimator-specific */\n",
              "#sk-container-id-5 div.sk-estimator {\n",
              "  font-family: monospace;\n",
              "  border: 1px dotted var(--sklearn-color-border-box);\n",
              "  border-radius: 0.25em;\n",
              "  box-sizing: border-box;\n",
              "  margin-bottom: 0.5em;\n",
              "  /* unfitted */\n",
              "  background-color: var(--sklearn-color-unfitted-level-0);\n",
              "}\n",
              "\n",
              "#sk-container-id-5 div.sk-estimator.fitted {\n",
              "  /* fitted */\n",
              "  background-color: var(--sklearn-color-fitted-level-0);\n",
              "}\n",
              "\n",
              "/* on hover */\n",
              "#sk-container-id-5 div.sk-estimator:hover {\n",
              "  /* unfitted */\n",
              "  background-color: var(--sklearn-color-unfitted-level-2);\n",
              "}\n",
              "\n",
              "#sk-container-id-5 div.sk-estimator.fitted:hover {\n",
              "  /* fitted */\n",
              "  background-color: var(--sklearn-color-fitted-level-2);\n",
              "}\n",
              "\n",
              "/* Specification for estimator info (e.g. \"i\" and \"?\") */\n",
              "\n",
              "/* Common style for \"i\" and \"?\" */\n",
              "\n",
              ".sk-estimator-doc-link,\n",
              "a:link.sk-estimator-doc-link,\n",
              "a:visited.sk-estimator-doc-link {\n",
              "  float: right;\n",
              "  font-size: smaller;\n",
              "  line-height: 1em;\n",
              "  font-family: monospace;\n",
              "  background-color: var(--sklearn-color-background);\n",
              "  border-radius: 1em;\n",
              "  height: 1em;\n",
              "  width: 1em;\n",
              "  text-decoration: none !important;\n",
              "  margin-left: 0.5em;\n",
              "  text-align: center;\n",
              "  /* unfitted */\n",
              "  border: var(--sklearn-color-unfitted-level-1) 1pt solid;\n",
              "  color: var(--sklearn-color-unfitted-level-1);\n",
              "}\n",
              "\n",
              ".sk-estimator-doc-link.fitted,\n",
              "a:link.sk-estimator-doc-link.fitted,\n",
              "a:visited.sk-estimator-doc-link.fitted {\n",
              "  /* fitted */\n",
              "  border: var(--sklearn-color-fitted-level-1) 1pt solid;\n",
              "  color: var(--sklearn-color-fitted-level-1);\n",
              "}\n",
              "\n",
              "/* On hover */\n",
              "div.sk-estimator:hover .sk-estimator-doc-link:hover,\n",
              ".sk-estimator-doc-link:hover,\n",
              "div.sk-label-container:hover .sk-estimator-doc-link:hover,\n",
              ".sk-estimator-doc-link:hover {\n",
              "  /* unfitted */\n",
              "  background-color: var(--sklearn-color-unfitted-level-3);\n",
              "  color: var(--sklearn-color-background);\n",
              "  text-decoration: none;\n",
              "}\n",
              "\n",
              "div.sk-estimator.fitted:hover .sk-estimator-doc-link.fitted:hover,\n",
              ".sk-estimator-doc-link.fitted:hover,\n",
              "div.sk-label-container:hover .sk-estimator-doc-link.fitted:hover,\n",
              ".sk-estimator-doc-link.fitted:hover {\n",
              "  /* fitted */\n",
              "  background-color: var(--sklearn-color-fitted-level-3);\n",
              "  color: var(--sklearn-color-background);\n",
              "  text-decoration: none;\n",
              "}\n",
              "\n",
              "/* Span, style for the box shown on hovering the info icon */\n",
              ".sk-estimator-doc-link span {\n",
              "  display: none;\n",
              "  z-index: 9999;\n",
              "  position: relative;\n",
              "  font-weight: normal;\n",
              "  right: .2ex;\n",
              "  padding: .5ex;\n",
              "  margin: .5ex;\n",
              "  width: min-content;\n",
              "  min-width: 20ex;\n",
              "  max-width: 50ex;\n",
              "  color: var(--sklearn-color-text);\n",
              "  box-shadow: 2pt 2pt 4pt #999;\n",
              "  /* unfitted */\n",
              "  background: var(--sklearn-color-unfitted-level-0);\n",
              "  border: .5pt solid var(--sklearn-color-unfitted-level-3);\n",
              "}\n",
              "\n",
              ".sk-estimator-doc-link.fitted span {\n",
              "  /* fitted */\n",
              "  background: var(--sklearn-color-fitted-level-0);\n",
              "  border: var(--sklearn-color-fitted-level-3);\n",
              "}\n",
              "\n",
              ".sk-estimator-doc-link:hover span {\n",
              "  display: block;\n",
              "}\n",
              "\n",
              "/* \"?\"-specific style due to the `<a>` HTML tag */\n",
              "\n",
              "#sk-container-id-5 a.estimator_doc_link {\n",
              "  float: right;\n",
              "  font-size: 1rem;\n",
              "  line-height: 1em;\n",
              "  font-family: monospace;\n",
              "  background-color: var(--sklearn-color-background);\n",
              "  border-radius: 1rem;\n",
              "  height: 1rem;\n",
              "  width: 1rem;\n",
              "  text-decoration: none;\n",
              "  /* unfitted */\n",
              "  color: var(--sklearn-color-unfitted-level-1);\n",
              "  border: var(--sklearn-color-unfitted-level-1) 1pt solid;\n",
              "}\n",
              "\n",
              "#sk-container-id-5 a.estimator_doc_link.fitted {\n",
              "  /* fitted */\n",
              "  border: var(--sklearn-color-fitted-level-1) 1pt solid;\n",
              "  color: var(--sklearn-color-fitted-level-1);\n",
              "}\n",
              "\n",
              "/* On hover */\n",
              "#sk-container-id-5 a.estimator_doc_link:hover {\n",
              "  /* unfitted */\n",
              "  background-color: var(--sklearn-color-unfitted-level-3);\n",
              "  color: var(--sklearn-color-background);\n",
              "  text-decoration: none;\n",
              "}\n",
              "\n",
              "#sk-container-id-5 a.estimator_doc_link.fitted:hover {\n",
              "  /* fitted */\n",
              "  background-color: var(--sklearn-color-fitted-level-3);\n",
              "}\n",
              "</style><div id=\"sk-container-id-5\" class=\"sk-top-container\"><div class=\"sk-text-repr-fallback\"><pre>RandomForestClassifier(class_weight=&#x27;balanced&#x27;, max_depth=5, n_estimators=200)</pre><b>In a Jupyter environment, please rerun this cell to show the HTML representation or trust the notebook. <br />On GitHub, the HTML representation is unable to render, please try loading this page with nbviewer.org.</b></div><div class=\"sk-container\" hidden><div class=\"sk-item\"><div class=\"sk-estimator fitted sk-toggleable\"><input class=\"sk-toggleable__control sk-hidden--visually\" id=\"sk-estimator-id-5\" type=\"checkbox\" checked><label for=\"sk-estimator-id-5\" class=\"sk-toggleable__label fitted sk-toggleable__label-arrow\"><div><div>RandomForestClassifier</div></div><div><a class=\"sk-estimator-doc-link fitted\" rel=\"noreferrer\" target=\"_blank\" href=\"https://scikit-learn.org/1.6/modules/generated/sklearn.ensemble.RandomForestClassifier.html\">?<span>Documentation for RandomForestClassifier</span></a><span class=\"sk-estimator-doc-link fitted\">i<span>Fitted</span></span></div></label><div class=\"sk-toggleable__content fitted\"><pre>RandomForestClassifier(class_weight=&#x27;balanced&#x27;, max_depth=5, n_estimators=200)</pre></div> </div></div></div></div>"
            ],
            "text/plain": [
              "RandomForestClassifier(class_weight='balanced', max_depth=5, n_estimators=200)"
            ]
          },
          "execution_count": 182,
          "metadata": {},
          "output_type": "execute_result"
        }
      ],
      "source": [
        "re_rank_model = RandomForestClassifier(class_weight='balanced', n_estimators = 200, max_depth = 5)\n",
        "re_rank_model.fit(X_train, y_train)"
      ]
    },
    {
      "cell_type": "code",
      "execution_count": null,
      "id": "36ff153c-5896-4278-9091-85ccc3de4cde",
      "metadata": {
        "colab": {
          "referenced_widgets": [
            "04cb1f50c31547c4bcd27dd691cf3ac4"
          ]
        },
        "id": "36ff153c-5896-4278-9091-85ccc3de4cde",
        "outputId": "af009dd7-e91f-4fba-9023-9bbc229b5f3d"
      },
      "outputs": [
        {
          "data": {
            "application/vnd.jupyter.widget-view+json": {
              "model_id": "04cb1f50c31547c4bcd27dd691cf3ac4",
              "version_major": 2,
              "version_minor": 0
            },
            "text/plain": [
              "Re-ranking candidates:   0%|          | 0/6831 [00:00<?, ?it/s]"
            ]
          },
          "metadata": {},
          "output_type": "display_data"
        }
      ],
      "source": [
        "fused_results = re_rank_candidates_fused(query_app_ids, tfidf_results, dense_results, re_rank_model, top_k_candidates=100)"
      ]
    },
    {
      "cell_type": "code",
      "execution_count": null,
      "id": "c953d9a9-04c0-47a8-b90f-01d96f696a39",
      "metadata": {
        "id": "c953d9a9-04c0-47a8-b90f-01d96f696a39",
        "outputId": "609a3dd4-29c8-46cd-de57-e9e24c695de9"
      },
      "outputs": [
        {
          "name": "stdout",
          "output_type": "stream",
          "text": [
            "Fuse: Recall@100 = 0.9161542965890792 mAP@100 = 0.5080355437932781\n"
          ]
        }
      ],
      "source": [
        "recall, mAP = evaluate_recommendations(gold_mapping, fused_results, k=100)\n",
        "print(\"Fuse: Recall@100 =\", recall, \"mAP@100 =\", mAP)"
      ]
    },
    {
      "cell_type": "markdown",
      "id": "8f95c986-5caa-481b-a2c0-1710d17633a4",
      "metadata": {
        "id": "8f95c986-5caa-481b-a2c0-1710d17633a4"
      },
      "source": [
        "## Recall=0.9162, mAP=0.5080"
      ]
    },
    {
      "cell_type": "markdown",
      "id": "ed9bca08-717e-40fc-9718-131426f768eb",
      "metadata": {
        "id": "ed9bca08-717e-40fc-9718-131426f768eb",
        "jp-MarkdownHeadingCollapsed": true
      },
      "source": [
        "## Save prediction 2"
      ]
    },
    {
      "cell_type": "code",
      "execution_count": null,
      "id": "c029eb6e-635b-4e48-b754-e2864616b5ec",
      "metadata": {
        "colab": {
          "referenced_widgets": [
            "683d4bc3e944490e9bdb7b91f14023cf"
          ]
        },
        "id": "c029eb6e-635b-4e48-b754-e2864616b5ec",
        "outputId": "677956f6-4cce-4943-aa59-38e73faf9c32"
      },
      "outputs": [
        {
          "data": {
            "application/vnd.jupyter.widget-view+json": {
              "model_id": "683d4bc3e944490e9bdb7b91f14023cf",
              "version_major": 2,
              "version_minor": 0
            },
            "text/plain": [
              "TF-IDF:   0%|          | 0/17837 [00:00<?, ?it/s]"
            ]
          },
          "metadata": {},
          "output_type": "display_data"
        },
        {
          "name": "stdout",
          "output_type": "stream",
          "text": [
            "Vocabulary size: 30000\n"
          ]
        }
      ],
      "source": [
        "tfidf_query_test, tfidf_docs_test, query_ids_test, doc_ids_test, _ = prepare_tfidf_data(\n",
        "                                                                        citing_docs=json_citing_test,\n",
        "                                                                        cited_docs=json_nonciting,\n",
        "                                                                        weights=weights,\n",
        "                                                                        vectorizer=fitted_vectorizer,\n",
        "                                                                        apply_cleaning=False,\n",
        "                                                                        test=True)"
      ]
    },
    {
      "cell_type": "code",
      "execution_count": null,
      "id": "da82df83-3cd0-440c-a02b-8ad64b066e1a",
      "metadata": {
        "id": "da82df83-3cd0-440c-a02b-8ad64b066e1a"
      },
      "outputs": [],
      "source": [
        "tfidf_results_test = get_tfidf_recommendations(query_ids_test,\n",
        "                                            doc_ids_test,\n",
        "                                            tfidf_query_test,\n",
        "                                            tfidf_docs_test,\n",
        "                                            k=100, return_scores=True)"
      ]
    },
    {
      "cell_type": "code",
      "execution_count": null,
      "id": "18b60a25-8e65-44eb-9642-d4a20dfa6014",
      "metadata": {
        "id": "18b60a25-8e65-44eb-9642-d4a20dfa6014"
      },
      "outputs": [],
      "source": [
        "QUERY_SET = \"test\"\n",
        "SAVE_RESULTS = False\n",
        "\n",
        "QUERY_EMBEDDING_DIR = TEST_EMBEDDING_DIR\n",
        "QUERY_EMBEDDING_FILE = os.path.join(QUERY_EMBEDDING_DIR, f\"embeddings_{MODEL_NAME}_{POOLING}_{CONTENT_TYPE}.npy\")\n",
        "QUERY_APP_IDS_FILE = os.path.join(QUERY_EMBEDDING_DIR, f\"app_ids_{MODEL_NAME}_{POOLING}_{CONTENT_TYPE}.json\")"
      ]
    },
    {
      "cell_type": "code",
      "execution_count": null,
      "id": "e5e8a0ec-3a41-41d8-84de-22ed4c5974fb",
      "metadata": {
        "id": "e5e8a0ec-3a41-41d8-84de-22ed4c5974fb"
      },
      "outputs": [],
      "source": [
        "doc_embeddings_test, doc_app_ids_test = load_embeddings_and_ids(DOC_EMBEDDING_FILE, DOC_APP_IDS_FILE)\n",
        "\n",
        "query_embeddings_test, query_app_ids_test = load_embeddings_and_ids(QUERY_EMBEDDING_FILE, QUERY_APP_IDS_FILE)\n",
        "\n",
        "print(f\"Running retrieval with {len(query_embeddings_test)} queries against {len(doc_embeddings_test)} documents\")"
      ]
    },
    {
      "cell_type": "code",
      "execution_count": null,
      "id": "a4616118-a8b5-42db-b8de-ebe14567d963",
      "metadata": {
        "id": "a4616118-a8b5-42db-b8de-ebe14567d963"
      },
      "outputs": [],
      "source": [
        "dense_results_test = get_dense_recommendations(query_embeddings_test, query_app_ids_test, doc_embeddings_test, doc_app_ids_test, top_k_candidates=200)"
      ]
    },
    {
      "cell_type": "code",
      "execution_count": null,
      "id": "3aa44c61-1a76-44c4-a591-ea1bdc8fea5b",
      "metadata": {
        "id": "3aa44c61-1a76-44c4-a591-ea1bdc8fea5b"
      },
      "outputs": [],
      "source": [
        "fused_results_test = re_rank_candidates_fused(query_app_ids_test, tfidf_results_test, dense_results_test, re_rank_model, top_k_candidates=100)"
      ]
    },
    {
      "cell_type": "code",
      "execution_count": null,
      "id": "ef1d2dd0-763e-46e9-aaeb-470753fd4bf7",
      "metadata": {
        "id": "ef1d2dd0-763e-46e9-aaeb-470753fd4bf7"
      },
      "outputs": [],
      "source": [
        "with open(\"predictions_1_2.json\", \"w\") as f:\n",
        "    json.dump(fused_results_test, f, indent=2)"
      ]
    },
    {
      "cell_type": "markdown",
      "id": "deb1a667-8a71-4c3b-b7e2-842c8bdc6662",
      "metadata": {
        "id": "deb1a667-8a71-4c3b-b7e2-842c8bdc6662"
      },
      "source": [
        "## 6.2 Re-Ranking: TF-IDF & allMini sum(TA, claims)"
      ]
    },
    {
      "cell_type": "markdown",
      "id": "99504c66-549a-4b0f-b32b-b327d48657d2",
      "metadata": {
        "id": "99504c66-549a-4b0f-b32b-b327d48657d2",
        "jp-MarkdownHeadingCollapsed": true
      },
      "source": [
        "### Dense Embeddings Recommendations"
      ]
    },
    {
      "cell_type": "code",
      "execution_count": null,
      "id": "c39fe07d-e1b3-4dbb-b53f-987bd6c939c9",
      "metadata": {
        "id": "c39fe07d-e1b3-4dbb-b53f-987bd6c939c9",
        "outputId": "46cb52d1-9ba9-430b-e0b2-837c18d72aa4"
      },
      "outputs": [
        {
          "name": "stdout",
          "output_type": "stream",
          "text": [
            "Loading embeddings from C:\\Users\\Polina\\Documents\\Python_files\\AI\\Inf_Retr\\challenge\\embeddings_precalculated_docs\\embeddings_all-MiniLM-L6-v2_mean_TA.npy\n",
            "Loading app_ids from C:\\Users\\Polina\\Documents\\Python_files\\AI\\Inf_Retr\\challenge\\embeddings_precalculated_docs\\app_ids_all-MiniLM-L6-v2_mean_TA.json\n",
            "Loaded 16837 embeddings and 16837 app_ids\n",
            "Loading embeddings from C:\\Users\\Polina\\Documents\\Python_files\\AI\\Inf_Retr\\challenge\\embeddings_precalculated_docs\\embeddings_all-MiniLM-L6-v2_mean_claims.npy\n",
            "Loading app_ids from C:\\Users\\Polina\\Documents\\Python_files\\AI\\Inf_Retr\\challenge\\embeddings_precalculated_docs\\app_ids_all-MiniLM-L6-v2_mean_claims.json\n",
            "Loaded 16834 embeddings and 16834 app_ids\n"
          ]
        }
      ],
      "source": [
        "QUERY_EMBEDDING_DIR = TRAIN_EMBEDDING_DIR\n",
        "DOC_EMBEDDING_FILE_TA = os.path.join(DOC_EMBEDDING_DIR, f\"embeddings_{MODEL_NAME}_{POOLING}_TA.npy\")\n",
        "DOC_EMBEDDING_FILE_claims = os.path.join(DOC_EMBEDDING_DIR, f\"embeddings_{MODEL_NAME}_{POOLING}_claims.npy\")\n",
        "\n",
        "DOC_APP_IDS_FILE_TA = os.path.join(DOC_EMBEDDING_DIR, f\"app_ids_{MODEL_NAME}_{POOLING}_TA.json\")\n",
        "DOC_APP_IDS_FILE_claims = os.path.join(DOC_EMBEDDING_DIR, f\"app_ids_{MODEL_NAME}_{POOLING}_claims.json\")\n",
        "\n",
        "\n",
        "QUERY_EMBEDDING_FILE_TA = os.path.join(QUERY_EMBEDDING_DIR, f\"embeddings_{MODEL_NAME}_{POOLING}_TA.npy\")\n",
        "QUERY_EMBEDDING_FILE_claims = os.path.join(QUERY_EMBEDDING_DIR, f\"embeddings_{MODEL_NAME}_{POOLING}_claims.npy\")\n",
        "QUERY_APP_IDS_FILE = os.path.join(QUERY_EMBEDDING_DIR, f\"app_ids_{MODEL_NAME}_{POOLING}_TA.json\")\n",
        "\n",
        "doc_embeddings_TA, doc_app_ids_TA = load_embeddings_and_ids(DOC_EMBEDDING_FILE_TA, DOC_APP_IDS_FILE_TA)\n",
        "doc_embeddings_claims, doc_app_ids_claims = load_embeddings_and_ids(DOC_EMBEDDING_FILE_claims, DOC_APP_IDS_FILE_claims)"
      ]
    },
    {
      "cell_type": "code",
      "execution_count": null,
      "id": "b9190532-004f-4f21-94fd-7a0c915d3cd4",
      "metadata": {
        "id": "b9190532-004f-4f21-94fd-7a0c915d3cd4",
        "outputId": "3e687d88-551a-4523-86d4-b6d44daf4456"
      },
      "outputs": [
        {
          "name": "stdout",
          "output_type": "stream",
          "text": [
            "Original number of claim embeddings: 16834\n",
            "Number of aligned claim embeddings: 16837\n"
          ]
        }
      ],
      "source": [
        "doc_embeddings_claims_aligned = align_embeddings(doc_embeddings_claims, doc_app_ids_claims, doc_app_ids_TA)\n",
        "\n",
        "print(\"Original number of claim embeddings:\", doc_embeddings_claims.shape[0])\n",
        "print(\"Number of aligned claim embeddings:\", doc_embeddings_claims_aligned.shape[0])"
      ]
    },
    {
      "cell_type": "code",
      "execution_count": null,
      "id": "97c80e27-390d-4a00-9106-d9bf37a1ee62",
      "metadata": {
        "id": "97c80e27-390d-4a00-9106-d9bf37a1ee62",
        "outputId": "c59cb67b-8d60-47e1-8ba8-417e343f2610"
      },
      "outputs": [
        {
          "name": "stdout",
          "output_type": "stream",
          "text": [
            "Loading embeddings from C:\\Users\\Polina\\Documents\\Python_files\\AI\\Inf_Retr\\challenge\\embeddings_precalculated_train\\embeddings_all-MiniLM-L6-v2_mean_TA.npy\n",
            "Loading app_ids from C:\\Users\\Polina\\Documents\\Python_files\\AI\\Inf_Retr\\challenge\\embeddings_precalculated_train\\app_ids_all-MiniLM-L6-v2_mean_TA.json\n",
            "Loaded 6831 embeddings and 6831 app_ids\n",
            "Loading embeddings from C:\\Users\\Polina\\Documents\\Python_files\\AI\\Inf_Retr\\challenge\\embeddings_precalculated_train\\embeddings_all-MiniLM-L6-v2_mean_claims.npy\n",
            "Loading app_ids from C:\\Users\\Polina\\Documents\\Python_files\\AI\\Inf_Retr\\challenge\\embeddings_precalculated_train\\app_ids_all-MiniLM-L6-v2_mean_TA.json\n",
            "Loaded 6831 embeddings and 6831 app_ids\n"
          ]
        },
        {
          "name": "stderr",
          "output_type": "stream",
          "text": [
            "C:\\Users\\Polina\\AppData\\Local\\Temp\\ipykernel_17740\\2362672834.py:1: DeprecationWarning: __array_wrap__ must accept context and return_scalar arguments (positionally) in the future. (Deprecated NumPy 2.0)\n",
            "  doc_embeddings_sum = doc_embeddings_TA + doc_embeddings_claims_aligned\n"
          ]
        }
      ],
      "source": [
        "doc_embeddings_sum = doc_embeddings_TA + doc_embeddings_claims_aligned\n",
        "\n",
        "query_embeddings_TA, query_app_ids = load_embeddings_and_ids(QUERY_EMBEDDING_FILE_TA, QUERY_APP_IDS_FILE)\n",
        "query_embeddings_claims, _ = load_embeddings_and_ids(QUERY_EMBEDDING_FILE_claims, QUERY_APP_IDS_FILE)\n",
        "query_embeddings_sum = query_embeddings_TA + query_embeddings_claims"
      ]
    },
    {
      "cell_type": "code",
      "execution_count": null,
      "id": "4d1534f5-4067-4419-a25c-c2e9c95a0fe6",
      "metadata": {
        "id": "4d1534f5-4067-4419-a25c-c2e9c95a0fe6",
        "outputId": "9d901718-b2fe-4f0d-818f-3557972cd57c"
      },
      "outputs": [
        {
          "data": {
            "text/plain": [
              "torch.Size([6831, 384])"
            ]
          },
          "execution_count": 188,
          "metadata": {},
          "output_type": "execute_result"
        }
      ],
      "source": [
        "query_embeddings_sum.shape"
      ]
    },
    {
      "cell_type": "code",
      "execution_count": null,
      "id": "cfbfeff6-d7b1-481c-99f9-f054e2252084",
      "metadata": {
        "id": "cfbfeff6-d7b1-481c-99f9-f054e2252084",
        "outputId": "f898ac3c-9048-4dfb-d561-ab4ea85582b9"
      },
      "outputs": [
        {
          "data": {
            "text/plain": [
              "torch.Size([16837, 384])"
            ]
          },
          "execution_count": 189,
          "metadata": {},
          "output_type": "execute_result"
        }
      ],
      "source": [
        "doc_embeddings_sum.shape"
      ]
    },
    {
      "cell_type": "code",
      "execution_count": null,
      "id": "701a78c1-b0b3-489e-b866-e75a65e6c69e",
      "metadata": {
        "colab": {
          "referenced_widgets": [
            "8c0dc3bae1fb44db95ee6e38dc106863"
          ]
        },
        "id": "701a78c1-b0b3-489e-b866-e75a65e6c69e",
        "outputId": "2c470a55-bd75-4e0f-8921-49aaba984193"
      },
      "outputs": [
        {
          "data": {
            "application/vnd.jupyter.widget-view+json": {
              "model_id": "8c0dc3bae1fb44db95ee6e38dc106863",
              "version_major": 2,
              "version_minor": 0
            },
            "text/plain": [
              "Dense embeddings similarity:   0%|          | 0/6831 [00:00<?, ?it/s]"
            ]
          },
          "metadata": {},
          "output_type": "display_data"
        }
      ],
      "source": [
        "dense_sum_results = get_dense_recommendations(query_embeddings_sum, query_app_ids, doc_embeddings_sum, doc_app_ids, top_k_candidates=200)"
      ]
    },
    {
      "cell_type": "markdown",
      "id": "607e72d2-030f-4520-97f9-62efe816264e",
      "metadata": {
        "id": "607e72d2-030f-4520-97f9-62efe816264e",
        "jp-MarkdownHeadingCollapsed": true
      },
      "source": [
        "### Fused Recommendation"
      ]
    },
    {
      "cell_type": "code",
      "execution_count": null,
      "id": "999fcebf-eafa-4545-b2e4-3fad5f16b561",
      "metadata": {
        "id": "999fcebf-eafa-4545-b2e4-3fad5f16b561"
      },
      "outputs": [],
      "source": [
        "fused_sum_results = fuse_results_simple(tfidf_results, dense_sum_results, alpha=0.5, beta=0.5)"
      ]
    },
    {
      "cell_type": "code",
      "execution_count": null,
      "id": "0c03b1d1-98d5-4148-92c9-95ed22e793ea",
      "metadata": {
        "id": "0c03b1d1-98d5-4148-92c9-95ed22e793ea",
        "outputId": "8d405626-67c0-4c6a-9330-4f0d283d4741"
      },
      "outputs": [
        {
          "name": "stdout",
          "output_type": "stream",
          "text": [
            "Fuse: Recall@100 = 0.9055384765529694 mAP@100 = 0.52648531563622\n"
          ]
        }
      ],
      "source": [
        "recall, mAP = evaluate_recommendations(gold_mapping, fused_sum_results, k=100)\n",
        "print(\"Fuse: Recall@100 =\", recall, \"mAP@100 =\", mAP)"
      ]
    },
    {
      "cell_type": "markdown",
      "id": "070a8054-d114-492c-8e57-95da77435ffb",
      "metadata": {
        "id": "070a8054-d114-492c-8e57-95da77435ffb"
      },
      "source": [
        "## Recall=0.9055, mAP=0.5265"
      ]
    },
    {
      "cell_type": "markdown",
      "id": "89ce22c5-b246-48a7-bc0d-cf7ee01853c1",
      "metadata": {
        "id": "89ce22c5-b246-48a7-bc0d-cf7ee01853c1",
        "jp-MarkdownHeadingCollapsed": true
      },
      "source": [
        "### Re-Ranking"
      ]
    },
    {
      "cell_type": "code",
      "execution_count": null,
      "id": "65d5de0f-5b4a-483d-a159-a4b0641e6459",
      "metadata": {
        "id": "65d5de0f-5b4a-483d-a159-a4b0641e6459",
        "outputId": "b0e9b2c5-927f-4628-ff3d-6c9776bc90fc"
      },
      "outputs": [
        {
          "name": "stdout",
          "output_type": "stream",
          "text": [
            "X_train: (1187815, 2)\n",
            "y_train: (1187815,)\n"
          ]
        }
      ],
      "source": [
        "X_train, y_train = prepare_training_data_fused(\n",
        "    ids            = query_ids,\n",
        "    tfidf_results  = tfidf_results,\n",
        "    dense_results  = dense_sum_results,\n",
        "    gold_mapping   = gold_mapping,\n",
        "    top_k_candidates = 100\n",
        ")\n",
        "\n",
        "print(\"X_train:\", X_train.shape)\n",
        "print(\"y_train:\", y_train.shape)"
      ]
    },
    {
      "cell_type": "code",
      "execution_count": null,
      "id": "185512d4-7965-49d8-8b06-46a57427c9a5",
      "metadata": {
        "id": "185512d4-7965-49d8-8b06-46a57427c9a5",
        "outputId": "c004967c-f4ac-4879-8c59-299d0b593ec9"
      },
      "outputs": [
        {
          "data": {
            "text/html": [
              "<style>#sk-container-id-6 {\n",
              "  /* Definition of color scheme common for light and dark mode */\n",
              "  --sklearn-color-text: #000;\n",
              "  --sklearn-color-text-muted: #666;\n",
              "  --sklearn-color-line: gray;\n",
              "  /* Definition of color scheme for unfitted estimators */\n",
              "  --sklearn-color-unfitted-level-0: #fff5e6;\n",
              "  --sklearn-color-unfitted-level-1: #f6e4d2;\n",
              "  --sklearn-color-unfitted-level-2: #ffe0b3;\n",
              "  --sklearn-color-unfitted-level-3: chocolate;\n",
              "  /* Definition of color scheme for fitted estimators */\n",
              "  --sklearn-color-fitted-level-0: #f0f8ff;\n",
              "  --sklearn-color-fitted-level-1: #d4ebff;\n",
              "  --sklearn-color-fitted-level-2: #b3dbfd;\n",
              "  --sklearn-color-fitted-level-3: cornflowerblue;\n",
              "\n",
              "  /* Specific color for light theme */\n",
              "  --sklearn-color-text-on-default-background: var(--sg-text-color, var(--theme-code-foreground, var(--jp-content-font-color1, black)));\n",
              "  --sklearn-color-background: var(--sg-background-color, var(--theme-background, var(--jp-layout-color0, white)));\n",
              "  --sklearn-color-border-box: var(--sg-text-color, var(--theme-code-foreground, var(--jp-content-font-color1, black)));\n",
              "  --sklearn-color-icon: #696969;\n",
              "\n",
              "  @media (prefers-color-scheme: dark) {\n",
              "    /* Redefinition of color scheme for dark theme */\n",
              "    --sklearn-color-text-on-default-background: var(--sg-text-color, var(--theme-code-foreground, var(--jp-content-font-color1, white)));\n",
              "    --sklearn-color-background: var(--sg-background-color, var(--theme-background, var(--jp-layout-color0, #111)));\n",
              "    --sklearn-color-border-box: var(--sg-text-color, var(--theme-code-foreground, var(--jp-content-font-color1, white)));\n",
              "    --sklearn-color-icon: #878787;\n",
              "  }\n",
              "}\n",
              "\n",
              "#sk-container-id-6 {\n",
              "  color: var(--sklearn-color-text);\n",
              "}\n",
              "\n",
              "#sk-container-id-6 pre {\n",
              "  padding: 0;\n",
              "}\n",
              "\n",
              "#sk-container-id-6 input.sk-hidden--visually {\n",
              "  border: 0;\n",
              "  clip: rect(1px 1px 1px 1px);\n",
              "  clip: rect(1px, 1px, 1px, 1px);\n",
              "  height: 1px;\n",
              "  margin: -1px;\n",
              "  overflow: hidden;\n",
              "  padding: 0;\n",
              "  position: absolute;\n",
              "  width: 1px;\n",
              "}\n",
              "\n",
              "#sk-container-id-6 div.sk-dashed-wrapped {\n",
              "  border: 1px dashed var(--sklearn-color-line);\n",
              "  margin: 0 0.4em 0.5em 0.4em;\n",
              "  box-sizing: border-box;\n",
              "  padding-bottom: 0.4em;\n",
              "  background-color: var(--sklearn-color-background);\n",
              "}\n",
              "\n",
              "#sk-container-id-6 div.sk-container {\n",
              "  /* jupyter's `normalize.less` sets `[hidden] { display: none; }`\n",
              "     but bootstrap.min.css set `[hidden] { display: none !important; }`\n",
              "     so we also need the `!important` here to be able to override the\n",
              "     default hidden behavior on the sphinx rendered scikit-learn.org.\n",
              "     See: https://github.com/scikit-learn/scikit-learn/issues/21755 */\n",
              "  display: inline-block !important;\n",
              "  position: relative;\n",
              "}\n",
              "\n",
              "#sk-container-id-6 div.sk-text-repr-fallback {\n",
              "  display: none;\n",
              "}\n",
              "\n",
              "div.sk-parallel-item,\n",
              "div.sk-serial,\n",
              "div.sk-item {\n",
              "  /* draw centered vertical line to link estimators */\n",
              "  background-image: linear-gradient(var(--sklearn-color-text-on-default-background), var(--sklearn-color-text-on-default-background));\n",
              "  background-size: 2px 100%;\n",
              "  background-repeat: no-repeat;\n",
              "  background-position: center center;\n",
              "}\n",
              "\n",
              "/* Parallel-specific style estimator block */\n",
              "\n",
              "#sk-container-id-6 div.sk-parallel-item::after {\n",
              "  content: \"\";\n",
              "  width: 100%;\n",
              "  border-bottom: 2px solid var(--sklearn-color-text-on-default-background);\n",
              "  flex-grow: 1;\n",
              "}\n",
              "\n",
              "#sk-container-id-6 div.sk-parallel {\n",
              "  display: flex;\n",
              "  align-items: stretch;\n",
              "  justify-content: center;\n",
              "  background-color: var(--sklearn-color-background);\n",
              "  position: relative;\n",
              "}\n",
              "\n",
              "#sk-container-id-6 div.sk-parallel-item {\n",
              "  display: flex;\n",
              "  flex-direction: column;\n",
              "}\n",
              "\n",
              "#sk-container-id-6 div.sk-parallel-item:first-child::after {\n",
              "  align-self: flex-end;\n",
              "  width: 50%;\n",
              "}\n",
              "\n",
              "#sk-container-id-6 div.sk-parallel-item:last-child::after {\n",
              "  align-self: flex-start;\n",
              "  width: 50%;\n",
              "}\n",
              "\n",
              "#sk-container-id-6 div.sk-parallel-item:only-child::after {\n",
              "  width: 0;\n",
              "}\n",
              "\n",
              "/* Serial-specific style estimator block */\n",
              "\n",
              "#sk-container-id-6 div.sk-serial {\n",
              "  display: flex;\n",
              "  flex-direction: column;\n",
              "  align-items: center;\n",
              "  background-color: var(--sklearn-color-background);\n",
              "  padding-right: 1em;\n",
              "  padding-left: 1em;\n",
              "}\n",
              "\n",
              "\n",
              "/* Toggleable style: style used for estimator/Pipeline/ColumnTransformer box that is\n",
              "clickable and can be expanded/collapsed.\n",
              "- Pipeline and ColumnTransformer use this feature and define the default style\n",
              "- Estimators will overwrite some part of the style using the `sk-estimator` class\n",
              "*/\n",
              "\n",
              "/* Pipeline and ColumnTransformer style (default) */\n",
              "\n",
              "#sk-container-id-6 div.sk-toggleable {\n",
              "  /* Default theme specific background. It is overwritten whether we have a\n",
              "  specific estimator or a Pipeline/ColumnTransformer */\n",
              "  background-color: var(--sklearn-color-background);\n",
              "}\n",
              "\n",
              "/* Toggleable label */\n",
              "#sk-container-id-6 label.sk-toggleable__label {\n",
              "  cursor: pointer;\n",
              "  display: flex;\n",
              "  width: 100%;\n",
              "  margin-bottom: 0;\n",
              "  padding: 0.5em;\n",
              "  box-sizing: border-box;\n",
              "  text-align: center;\n",
              "  align-items: start;\n",
              "  justify-content: space-between;\n",
              "  gap: 0.5em;\n",
              "}\n",
              "\n",
              "#sk-container-id-6 label.sk-toggleable__label .caption {\n",
              "  font-size: 0.6rem;\n",
              "  font-weight: lighter;\n",
              "  color: var(--sklearn-color-text-muted);\n",
              "}\n",
              "\n",
              "#sk-container-id-6 label.sk-toggleable__label-arrow:before {\n",
              "  /* Arrow on the left of the label */\n",
              "  content: \"▸\";\n",
              "  float: left;\n",
              "  margin-right: 0.25em;\n",
              "  color: var(--sklearn-color-icon);\n",
              "}\n",
              "\n",
              "#sk-container-id-6 label.sk-toggleable__label-arrow:hover:before {\n",
              "  color: var(--sklearn-color-text);\n",
              "}\n",
              "\n",
              "/* Toggleable content - dropdown */\n",
              "\n",
              "#sk-container-id-6 div.sk-toggleable__content {\n",
              "  max-height: 0;\n",
              "  max-width: 0;\n",
              "  overflow: hidden;\n",
              "  text-align: left;\n",
              "  /* unfitted */\n",
              "  background-color: var(--sklearn-color-unfitted-level-0);\n",
              "}\n",
              "\n",
              "#sk-container-id-6 div.sk-toggleable__content.fitted {\n",
              "  /* fitted */\n",
              "  background-color: var(--sklearn-color-fitted-level-0);\n",
              "}\n",
              "\n",
              "#sk-container-id-6 div.sk-toggleable__content pre {\n",
              "  margin: 0.2em;\n",
              "  border-radius: 0.25em;\n",
              "  color: var(--sklearn-color-text);\n",
              "  /* unfitted */\n",
              "  background-color: var(--sklearn-color-unfitted-level-0);\n",
              "}\n",
              "\n",
              "#sk-container-id-6 div.sk-toggleable__content.fitted pre {\n",
              "  /* unfitted */\n",
              "  background-color: var(--sklearn-color-fitted-level-0);\n",
              "}\n",
              "\n",
              "#sk-container-id-6 input.sk-toggleable__control:checked~div.sk-toggleable__content {\n",
              "  /* Expand drop-down */\n",
              "  max-height: 200px;\n",
              "  max-width: 100%;\n",
              "  overflow: auto;\n",
              "}\n",
              "\n",
              "#sk-container-id-6 input.sk-toggleable__control:checked~label.sk-toggleable__label-arrow:before {\n",
              "  content: \"▾\";\n",
              "}\n",
              "\n",
              "/* Pipeline/ColumnTransformer-specific style */\n",
              "\n",
              "#sk-container-id-6 div.sk-label input.sk-toggleable__control:checked~label.sk-toggleable__label {\n",
              "  color: var(--sklearn-color-text);\n",
              "  background-color: var(--sklearn-color-unfitted-level-2);\n",
              "}\n",
              "\n",
              "#sk-container-id-6 div.sk-label.fitted input.sk-toggleable__control:checked~label.sk-toggleable__label {\n",
              "  background-color: var(--sklearn-color-fitted-level-2);\n",
              "}\n",
              "\n",
              "/* Estimator-specific style */\n",
              "\n",
              "/* Colorize estimator box */\n",
              "#sk-container-id-6 div.sk-estimator input.sk-toggleable__control:checked~label.sk-toggleable__label {\n",
              "  /* unfitted */\n",
              "  background-color: var(--sklearn-color-unfitted-level-2);\n",
              "}\n",
              "\n",
              "#sk-container-id-6 div.sk-estimator.fitted input.sk-toggleable__control:checked~label.sk-toggleable__label {\n",
              "  /* fitted */\n",
              "  background-color: var(--sklearn-color-fitted-level-2);\n",
              "}\n",
              "\n",
              "#sk-container-id-6 div.sk-label label.sk-toggleable__label,\n",
              "#sk-container-id-6 div.sk-label label {\n",
              "  /* The background is the default theme color */\n",
              "  color: var(--sklearn-color-text-on-default-background);\n",
              "}\n",
              "\n",
              "/* On hover, darken the color of the background */\n",
              "#sk-container-id-6 div.sk-label:hover label.sk-toggleable__label {\n",
              "  color: var(--sklearn-color-text);\n",
              "  background-color: var(--sklearn-color-unfitted-level-2);\n",
              "}\n",
              "\n",
              "/* Label box, darken color on hover, fitted */\n",
              "#sk-container-id-6 div.sk-label.fitted:hover label.sk-toggleable__label.fitted {\n",
              "  color: var(--sklearn-color-text);\n",
              "  background-color: var(--sklearn-color-fitted-level-2);\n",
              "}\n",
              "\n",
              "/* Estimator label */\n",
              "\n",
              "#sk-container-id-6 div.sk-label label {\n",
              "  font-family: monospace;\n",
              "  font-weight: bold;\n",
              "  display: inline-block;\n",
              "  line-height: 1.2em;\n",
              "}\n",
              "\n",
              "#sk-container-id-6 div.sk-label-container {\n",
              "  text-align: center;\n",
              "}\n",
              "\n",
              "/* Estimator-specific */\n",
              "#sk-container-id-6 div.sk-estimator {\n",
              "  font-family: monospace;\n",
              "  border: 1px dotted var(--sklearn-color-border-box);\n",
              "  border-radius: 0.25em;\n",
              "  box-sizing: border-box;\n",
              "  margin-bottom: 0.5em;\n",
              "  /* unfitted */\n",
              "  background-color: var(--sklearn-color-unfitted-level-0);\n",
              "}\n",
              "\n",
              "#sk-container-id-6 div.sk-estimator.fitted {\n",
              "  /* fitted */\n",
              "  background-color: var(--sklearn-color-fitted-level-0);\n",
              "}\n",
              "\n",
              "/* on hover */\n",
              "#sk-container-id-6 div.sk-estimator:hover {\n",
              "  /* unfitted */\n",
              "  background-color: var(--sklearn-color-unfitted-level-2);\n",
              "}\n",
              "\n",
              "#sk-container-id-6 div.sk-estimator.fitted:hover {\n",
              "  /* fitted */\n",
              "  background-color: var(--sklearn-color-fitted-level-2);\n",
              "}\n",
              "\n",
              "/* Specification for estimator info (e.g. \"i\" and \"?\") */\n",
              "\n",
              "/* Common style for \"i\" and \"?\" */\n",
              "\n",
              ".sk-estimator-doc-link,\n",
              "a:link.sk-estimator-doc-link,\n",
              "a:visited.sk-estimator-doc-link {\n",
              "  float: right;\n",
              "  font-size: smaller;\n",
              "  line-height: 1em;\n",
              "  font-family: monospace;\n",
              "  background-color: var(--sklearn-color-background);\n",
              "  border-radius: 1em;\n",
              "  height: 1em;\n",
              "  width: 1em;\n",
              "  text-decoration: none !important;\n",
              "  margin-left: 0.5em;\n",
              "  text-align: center;\n",
              "  /* unfitted */\n",
              "  border: var(--sklearn-color-unfitted-level-1) 1pt solid;\n",
              "  color: var(--sklearn-color-unfitted-level-1);\n",
              "}\n",
              "\n",
              ".sk-estimator-doc-link.fitted,\n",
              "a:link.sk-estimator-doc-link.fitted,\n",
              "a:visited.sk-estimator-doc-link.fitted {\n",
              "  /* fitted */\n",
              "  border: var(--sklearn-color-fitted-level-1) 1pt solid;\n",
              "  color: var(--sklearn-color-fitted-level-1);\n",
              "}\n",
              "\n",
              "/* On hover */\n",
              "div.sk-estimator:hover .sk-estimator-doc-link:hover,\n",
              ".sk-estimator-doc-link:hover,\n",
              "div.sk-label-container:hover .sk-estimator-doc-link:hover,\n",
              ".sk-estimator-doc-link:hover {\n",
              "  /* unfitted */\n",
              "  background-color: var(--sklearn-color-unfitted-level-3);\n",
              "  color: var(--sklearn-color-background);\n",
              "  text-decoration: none;\n",
              "}\n",
              "\n",
              "div.sk-estimator.fitted:hover .sk-estimator-doc-link.fitted:hover,\n",
              ".sk-estimator-doc-link.fitted:hover,\n",
              "div.sk-label-container:hover .sk-estimator-doc-link.fitted:hover,\n",
              ".sk-estimator-doc-link.fitted:hover {\n",
              "  /* fitted */\n",
              "  background-color: var(--sklearn-color-fitted-level-3);\n",
              "  color: var(--sklearn-color-background);\n",
              "  text-decoration: none;\n",
              "}\n",
              "\n",
              "/* Span, style for the box shown on hovering the info icon */\n",
              ".sk-estimator-doc-link span {\n",
              "  display: none;\n",
              "  z-index: 9999;\n",
              "  position: relative;\n",
              "  font-weight: normal;\n",
              "  right: .2ex;\n",
              "  padding: .5ex;\n",
              "  margin: .5ex;\n",
              "  width: min-content;\n",
              "  min-width: 20ex;\n",
              "  max-width: 50ex;\n",
              "  color: var(--sklearn-color-text);\n",
              "  box-shadow: 2pt 2pt 4pt #999;\n",
              "  /* unfitted */\n",
              "  background: var(--sklearn-color-unfitted-level-0);\n",
              "  border: .5pt solid var(--sklearn-color-unfitted-level-3);\n",
              "}\n",
              "\n",
              ".sk-estimator-doc-link.fitted span {\n",
              "  /* fitted */\n",
              "  background: var(--sklearn-color-fitted-level-0);\n",
              "  border: var(--sklearn-color-fitted-level-3);\n",
              "}\n",
              "\n",
              ".sk-estimator-doc-link:hover span {\n",
              "  display: block;\n",
              "}\n",
              "\n",
              "/* \"?\"-specific style due to the `<a>` HTML tag */\n",
              "\n",
              "#sk-container-id-6 a.estimator_doc_link {\n",
              "  float: right;\n",
              "  font-size: 1rem;\n",
              "  line-height: 1em;\n",
              "  font-family: monospace;\n",
              "  background-color: var(--sklearn-color-background);\n",
              "  border-radius: 1rem;\n",
              "  height: 1rem;\n",
              "  width: 1rem;\n",
              "  text-decoration: none;\n",
              "  /* unfitted */\n",
              "  color: var(--sklearn-color-unfitted-level-1);\n",
              "  border: var(--sklearn-color-unfitted-level-1) 1pt solid;\n",
              "}\n",
              "\n",
              "#sk-container-id-6 a.estimator_doc_link.fitted {\n",
              "  /* fitted */\n",
              "  border: var(--sklearn-color-fitted-level-1) 1pt solid;\n",
              "  color: var(--sklearn-color-fitted-level-1);\n",
              "}\n",
              "\n",
              "/* On hover */\n",
              "#sk-container-id-6 a.estimator_doc_link:hover {\n",
              "  /* unfitted */\n",
              "  background-color: var(--sklearn-color-unfitted-level-3);\n",
              "  color: var(--sklearn-color-background);\n",
              "  text-decoration: none;\n",
              "}\n",
              "\n",
              "#sk-container-id-6 a.estimator_doc_link.fitted:hover {\n",
              "  /* fitted */\n",
              "  background-color: var(--sklearn-color-fitted-level-3);\n",
              "}\n",
              "</style><div id=\"sk-container-id-6\" class=\"sk-top-container\"><div class=\"sk-text-repr-fallback\"><pre>RandomForestClassifier(class_weight=&#x27;balanced&#x27;, max_depth=5, n_estimators=200)</pre><b>In a Jupyter environment, please rerun this cell to show the HTML representation or trust the notebook. <br />On GitHub, the HTML representation is unable to render, please try loading this page with nbviewer.org.</b></div><div class=\"sk-container\" hidden><div class=\"sk-item\"><div class=\"sk-estimator fitted sk-toggleable\"><input class=\"sk-toggleable__control sk-hidden--visually\" id=\"sk-estimator-id-6\" type=\"checkbox\" checked><label for=\"sk-estimator-id-6\" class=\"sk-toggleable__label fitted sk-toggleable__label-arrow\"><div><div>RandomForestClassifier</div></div><div><a class=\"sk-estimator-doc-link fitted\" rel=\"noreferrer\" target=\"_blank\" href=\"https://scikit-learn.org/1.6/modules/generated/sklearn.ensemble.RandomForestClassifier.html\">?<span>Documentation for RandomForestClassifier</span></a><span class=\"sk-estimator-doc-link fitted\">i<span>Fitted</span></span></div></label><div class=\"sk-toggleable__content fitted\"><pre>RandomForestClassifier(class_weight=&#x27;balanced&#x27;, max_depth=5, n_estimators=200)</pre></div> </div></div></div></div>"
            ],
            "text/plain": [
              "RandomForestClassifier(class_weight='balanced', max_depth=5, n_estimators=200)"
            ]
          },
          "execution_count": 195,
          "metadata": {},
          "output_type": "execute_result"
        }
      ],
      "source": [
        "re_rank_model = RandomForestClassifier(class_weight='balanced', n_estimators = 200, max_depth = 5)\n",
        "re_rank_model.fit(X_train, y_train)"
      ]
    },
    {
      "cell_type": "code",
      "execution_count": null,
      "id": "ba1b9046-441f-4abf-a3ab-2b0d4999abe8",
      "metadata": {
        "colab": {
          "referenced_widgets": [
            "d91f0a04482643f1a863ca91b4dfb879"
          ]
        },
        "id": "ba1b9046-441f-4abf-a3ab-2b0d4999abe8",
        "outputId": "e596b02b-1c4b-4f3e-dda1-d2e7fd936c4d"
      },
      "outputs": [
        {
          "data": {
            "application/vnd.jupyter.widget-view+json": {
              "model_id": "d91f0a04482643f1a863ca91b4dfb879",
              "version_major": 2,
              "version_minor": 0
            },
            "text/plain": [
              "Re-ranking candidates:   0%|          | 0/6831 [00:00<?, ?it/s]"
            ]
          },
          "metadata": {},
          "output_type": "display_data"
        }
      ],
      "source": [
        "fused_sum_results = re_rank_candidates_fused(query_app_ids, tfidf_results, dense_sum_results, re_rank_model, top_k_candidates=100)"
      ]
    },
    {
      "cell_type": "code",
      "execution_count": null,
      "id": "9a80cfae-ecfc-4bfd-95be-82794f17098d",
      "metadata": {
        "id": "9a80cfae-ecfc-4bfd-95be-82794f17098d",
        "outputId": "4ef8c688-78db-4b94-8064-c6d15f39642a"
      },
      "outputs": [
        {
          "name": "stdout",
          "output_type": "stream",
          "text": [
            "Fuse: Recall@100 = 0.9250036597862684 mAP@100 = 0.5287200191199317\n"
          ]
        }
      ],
      "source": [
        "recall, mAP = evaluate_recommendations(gold_mapping, fused_sum_results, k=100)\n",
        "print(\"Fuse: Recall@100 =\", recall, \"mAP@100 =\", mAP)"
      ]
    },
    {
      "cell_type": "markdown",
      "id": "221adb1e-1b69-4352-bc1f-2a9e4b927ab1",
      "metadata": {
        "id": "221adb1e-1b69-4352-bc1f-2a9e4b927ab1"
      },
      "source": [
        "## Recall=0.9250, mAP=0.5287"
      ]
    },
    {
      "cell_type": "markdown",
      "id": "5d66bd1a-c2a9-4ecf-a211-954de59cc0ad",
      "metadata": {
        "id": "5d66bd1a-c2a9-4ecf-a211-954de59cc0ad",
        "jp-MarkdownHeadingCollapsed": true
      },
      "source": [
        "## Save prediction 3"
      ]
    },
    {
      "cell_type": "code",
      "execution_count": null,
      "id": "d99f3b07-6363-498b-a5d8-8057ebf07d1e",
      "metadata": {
        "id": "d99f3b07-6363-498b-a5d8-8057ebf07d1e",
        "outputId": "9b5b5f24-a2fa-40ff-8e75-63b94e902ebb"
      },
      "outputs": [
        {
          "name": "stdout",
          "output_type": "stream",
          "text": [
            "Loading embeddings from C:\\Users\\Polina\\Documents\\Python_files\\AI\\Inf_Retr\\challenge\\embeddings_precalculated_docs\\embeddings_all-MiniLM-L6-v2_mean_TA.npy\n",
            "Loading app_ids from C:\\Users\\Polina\\Documents\\Python_files\\AI\\Inf_Retr\\challenge\\embeddings_precalculated_docs\\app_ids_all-MiniLM-L6-v2_mean_TA.json\n",
            "Loaded 16837 embeddings and 16837 app_ids\n",
            "Loading embeddings from C:\\Users\\Polina\\Documents\\Python_files\\AI\\Inf_Retr\\challenge\\embeddings_precalculated_docs\\embeddings_all-MiniLM-L6-v2_mean_claims.npy\n",
            "Loading app_ids from C:\\Users\\Polina\\Documents\\Python_files\\AI\\Inf_Retr\\challenge\\embeddings_precalculated_docs\\app_ids_all-MiniLM-L6-v2_mean_claims.json\n",
            "Loaded 16834 embeddings and 16834 app_ids\n"
          ]
        }
      ],
      "source": [
        "QUERY_EMBEDDING_DIR = TEST_EMBEDDING_DIR\n",
        "DOC_EMBEDDING_FILE_TA_TEST = os.path.join(DOC_EMBEDDING_DIR, f\"embeddings_{MODEL_NAME}_{POOLING}_TA.npy\")\n",
        "DOC_EMBEDDING_FILE_claims_TEST = os.path.join(DOC_EMBEDDING_DIR, f\"embeddings_{MODEL_NAME}_{POOLING}_claims.npy\")\n",
        "\n",
        "DOC_APP_IDS_FILE_TA_TEST = os.path.join(DOC_EMBEDDING_DIR, f\"app_ids_{MODEL_NAME}_{POOLING}_TA.json\")\n",
        "DOC_APP_IDS_FILE_claims_TEST = os.path.join(DOC_EMBEDDING_DIR, f\"app_ids_{MODEL_NAME}_{POOLING}_claims.json\")\n",
        "\n",
        "\n",
        "QUERY_EMBEDDING_FILE_TA_TEST = os.path.join(QUERY_EMBEDDING_DIR, f\"embeddings_{MODEL_NAME}_{POOLING}_TA.npy\")\n",
        "QUERY_EMBEDDING_FILE_claims_TEST = os.path.join(QUERY_EMBEDDING_DIR, f\"embeddings_{MODEL_NAME}_{POOLING}_claims.npy\")\n",
        "QUERY_APP_IDS_FILE_TEST = os.path.join(QUERY_EMBEDDING_DIR, f\"app_ids_{MODEL_NAME}_{POOLING}_TA.json\")\n",
        "\n",
        "doc_embeddings_TA_test, doc_app_ids_TA_test = load_embeddings_and_ids(DOC_EMBEDDING_FILE_TA_TEST, DOC_APP_IDS_FILE_TA_TEST)\n",
        "doc_embeddings_claims_test, doc_app_ids_claims_test = load_embeddings_and_ids(DOC_EMBEDDING_FILE_claims_TEST, DOC_APP_IDS_FILE_claims_TEST)"
      ]
    },
    {
      "cell_type": "code",
      "execution_count": null,
      "id": "8abaf110-b920-4a2e-aad4-e729e0dc7e00",
      "metadata": {
        "id": "8abaf110-b920-4a2e-aad4-e729e0dc7e00",
        "outputId": "9487a2c9-fd26-4dec-f292-df40987209f2"
      },
      "outputs": [
        {
          "name": "stdout",
          "output_type": "stream",
          "text": [
            "Original number of claim embeddings: 16834\n",
            "Number of aligned claim embeddings: 16837\n"
          ]
        }
      ],
      "source": [
        "doc_embeddings_claims_aligned_test = align_embeddings(doc_embeddings_claims_test, doc_app_ids_claims_test, doc_app_ids_TA_test)\n",
        "\n",
        "print(\"Original number of claim embeddings:\", doc_embeddings_claims_test.shape[0])\n",
        "print(\"Number of aligned claim embeddings:\", doc_embeddings_claims_aligned_test.shape[0])"
      ]
    },
    {
      "cell_type": "code",
      "execution_count": null,
      "id": "0d23fa46-2c65-44c4-8e3f-78958cfa3750",
      "metadata": {
        "id": "0d23fa46-2c65-44c4-8e3f-78958cfa3750",
        "outputId": "f23121cd-78a7-4ea0-c009-86c25413a728"
      },
      "outputs": [
        {
          "name": "stdout",
          "output_type": "stream",
          "text": [
            "Loading embeddings from C:\\Users\\Polina\\Documents\\Python_files\\AI\\Inf_Retr\\challenge\\embeddings_precalculated_test\\embeddings_all-MiniLM-L6-v2_mean_TA.npy\n",
            "Loading app_ids from C:\\Users\\Polina\\Documents\\Python_files\\AI\\Inf_Retr\\challenge\\embeddings_precalculated_test\\app_ids_all-MiniLM-L6-v2_mean_TA.json\n",
            "Loaded 1000 embeddings and 1000 app_ids\n",
            "Loading embeddings from C:\\Users\\Polina\\Documents\\Python_files\\AI\\Inf_Retr\\challenge\\embeddings_precalculated_test\\embeddings_all-MiniLM-L6-v2_mean_claims.npy\n",
            "Loading app_ids from C:\\Users\\Polina\\Documents\\Python_files\\AI\\Inf_Retr\\challenge\\embeddings_precalculated_test\\app_ids_all-MiniLM-L6-v2_mean_TA.json\n",
            "Loaded 1000 embeddings and 1000 app_ids\n"
          ]
        },
        {
          "name": "stderr",
          "output_type": "stream",
          "text": [
            "C:\\Users\\Polina\\AppData\\Local\\Temp\\ipykernel_17740\\1131541838.py:1: DeprecationWarning: __array_wrap__ must accept context and return_scalar arguments (positionally) in the future. (Deprecated NumPy 2.0)\n",
            "  doc_embeddings_sum_test = doc_embeddings_TA_test + doc_embeddings_claims_aligned_test\n"
          ]
        }
      ],
      "source": [
        "doc_embeddings_sum_test = doc_embeddings_TA_test + doc_embeddings_claims_aligned_test\n",
        "\n",
        "query_embeddings_TA_test, query_app_ids_test = load_embeddings_and_ids(QUERY_EMBEDDING_FILE_TA_TEST, QUERY_APP_IDS_FILE_TEST)\n",
        "query_embeddings_claims_test, _ = load_embeddings_and_ids(QUERY_EMBEDDING_FILE_claims_TEST, QUERY_APP_IDS_FILE_TEST)\n",
        "query_embeddings_sum_test = query_embeddings_TA_test + query_embeddings_claims_test"
      ]
    },
    {
      "cell_type": "code",
      "execution_count": null,
      "id": "73be22b1-12e3-4c8d-bfde-d4a50a188078",
      "metadata": {
        "colab": {
          "referenced_widgets": [
            "b572cd7e91304b31827b8534d90d1e48"
          ]
        },
        "id": "73be22b1-12e3-4c8d-bfde-d4a50a188078",
        "outputId": "7b5b0f95-e934-4f52-c4c3-fca7b1e1f82e"
      },
      "outputs": [
        {
          "data": {
            "application/vnd.jupyter.widget-view+json": {
              "model_id": "b572cd7e91304b31827b8534d90d1e48",
              "version_major": 2,
              "version_minor": 0
            },
            "text/plain": [
              "Dense embeddings similarity:   0%|          | 0/1000 [00:00<?, ?it/s]"
            ]
          },
          "metadata": {},
          "output_type": "display_data"
        }
      ],
      "source": [
        "dense_sum_results_test = get_dense_recommendations(query_embeddings_sum_test, query_app_ids_test, doc_embeddings_sum_test, doc_app_ids_TA_test, top_k_candidates=200)"
      ]
    },
    {
      "cell_type": "code",
      "execution_count": null,
      "id": "6ee77089-2002-4093-b946-c6413a2e8046",
      "metadata": {
        "colab": {
          "referenced_widgets": [
            "e502387ae0b945d199620b501d978a83"
          ]
        },
        "id": "6ee77089-2002-4093-b946-c6413a2e8046",
        "outputId": "313eb3aa-4916-4c3c-bbe5-ffde3255ddca"
      },
      "outputs": [
        {
          "data": {
            "application/vnd.jupyter.widget-view+json": {
              "model_id": "e502387ae0b945d199620b501d978a83",
              "version_major": 2,
              "version_minor": 0
            },
            "text/plain": [
              "Re-ranking candidates:   0%|          | 0/1000 [00:00<?, ?it/s]"
            ]
          },
          "metadata": {},
          "output_type": "display_data"
        }
      ],
      "source": [
        "fused_sum_results_test = re_rank_candidates_fused(query_app_ids_test, tfidf_results_test, dense_sum_results_test, re_rank_model, top_k_candidates=100)"
      ]
    },
    {
      "cell_type": "code",
      "execution_count": null,
      "id": "6555f6a1-1e82-460a-ab02-7f1861d4aaf5",
      "metadata": {
        "id": "6555f6a1-1e82-460a-ab02-7f1861d4aaf5"
      },
      "outputs": [],
      "source": [
        "with open(\"predictions_1_3.json\", \"w\") as f:\n",
        "    json.dump(fused_sum_results_test, f, indent=2)"
      ]
    },
    {
      "cell_type": "markdown",
      "id": "73a64c25-2f7f-4552-aff8-2d377cbcb952",
      "metadata": {
        "id": "73a64c25-2f7f-4552-aff8-2d377cbcb952",
        "jp-MarkdownHeadingCollapsed": true
      },
      "source": [
        "## 6.3 RRF: TF-IDF & allMini sum(TA, claims)"
      ]
    },
    {
      "cell_type": "code",
      "execution_count": null,
      "id": "a208ccf9-bb43-4ec9-8bd4-9ce90867a915",
      "metadata": {
        "id": "a208ccf9-bb43-4ec9-8bd4-9ce90867a915"
      },
      "outputs": [],
      "source": [
        "rrf_param = [10, 30, 60, 100, 150, 200, 300, 400, 500, 1000]"
      ]
    },
    {
      "cell_type": "code",
      "execution_count": null,
      "id": "978f96c2-cafc-4272-a447-c2c4b9a83172",
      "metadata": {
        "id": "978f96c2-cafc-4272-a447-c2c4b9a83172",
        "outputId": "d9c8f887-d601-400c-c3f7-196d48fb6d10"
      },
      "outputs": [
        {
          "name": "stdout",
          "output_type": "stream",
          "text": [
            "RRF k=10: Recall@100=0.8653, mAP@100=0.4739, combined=0.6696\n",
            "RRF k=30: Recall@100=0.9088, mAP@100=0.4972, combined=0.7030\n",
            "RRF k=60: Recall@100=0.9245, mAP@100=0.5042, combined=0.7143\n",
            "RRF k=100: Recall@100=0.9324, mAP@100=0.5058, combined=0.7191\n",
            "RRF k=150: Recall@100=0.9366, mAP@100=0.5055, combined=0.7210\n",
            "RRF k=200: Recall@100=0.9410, mAP@100=0.5049, combined=0.7229\n",
            "RRF k=300: Recall@100=0.9440, mAP@100=0.5039, combined=0.7240\n",
            "RRF k=400: Recall@100=0.9445, mAP@100=0.5034, combined=0.7239\n",
            "RRF k=500: Recall@100=0.9443, mAP@100=0.5031, combined=0.7237\n",
            "RRF k=1000: Recall@100=0.9441, mAP@100=0.5027, combined=0.7234\n"
          ]
        }
      ],
      "source": [
        "best_params, best_score = grid_search_rrf(tfidf_results, dense_sum_results, gold_mapping, rrf_param, eval_k=100)"
      ]
    },
    {
      "cell_type": "code",
      "execution_count": null,
      "id": "f93ec73b-ef08-4766-b33d-801193baaf98",
      "metadata": {
        "id": "f93ec73b-ef08-4766-b33d-801193baaf98",
        "outputId": "2dd43bd9-dbc4-4836-f8d5-e3db5cb01e0d"
      },
      "outputs": [
        {
          "name": "stdout",
          "output_type": "stream",
          "text": [
            "Best parameters: {'rrf_k': 300, 'recall': 0.9440321085248622, 'mAP': 0.5039317553859798, 'combined': 0.723981931955421}\n",
            "Best composite score: 0.723981931955421\n"
          ]
        }
      ],
      "source": [
        "print(\"Best parameters:\", best_params)\n",
        "print(\"Best composite score:\", best_score)"
      ]
    },
    {
      "cell_type": "code",
      "execution_count": null,
      "id": "edeb9a2c-dde5-4f69-955c-4fdd949622be",
      "metadata": {
        "id": "edeb9a2c-dde5-4f69-955c-4fdd949622be"
      },
      "outputs": [],
      "source": [
        "fused_rrf_results = fuse_results_rrf(tfidf_results, dense_sum_results, k=300)"
      ]
    },
    {
      "cell_type": "code",
      "execution_count": null,
      "id": "21805930-e326-4ad2-bf7e-2aacd639e012",
      "metadata": {
        "id": "21805930-e326-4ad2-bf7e-2aacd639e012",
        "outputId": "8cecb7d1-66dd-4eab-b7f3-85f690651da2"
      },
      "outputs": [
        {
          "name": "stdout",
          "output_type": "stream",
          "text": [
            "Fuse: Recall@100 = 0.9440321085248622 mAP@100 = 0.5039317553859798\n"
          ]
        }
      ],
      "source": [
        "recall, mAP = evaluate_recommendations(gold_mapping, fused_rrf_results, k=100)\n",
        "print(\"Fuse: Recall@100 =\", recall, \"mAP@100 =\", mAP)"
      ]
    },
    {
      "cell_type": "markdown",
      "id": "f3f0e08f-2a11-41b4-a042-b68166336d3a",
      "metadata": {
        "id": "f3f0e08f-2a11-41b4-a042-b68166336d3a"
      },
      "source": [
        "## Recall=0.9440, mAP=0.5039"
      ]
    },
    {
      "cell_type": "markdown",
      "id": "581004b6-7bd2-4249-9159-bda8d03c06b6",
      "metadata": {
        "id": "581004b6-7bd2-4249-9159-bda8d03c06b6"
      },
      "source": [
        "## Save prediction 4"
      ]
    },
    {
      "cell_type": "code",
      "execution_count": null,
      "id": "107ca969-0487-47ba-a984-c220cac5dab5",
      "metadata": {
        "id": "107ca969-0487-47ba-a984-c220cac5dab5"
      },
      "outputs": [],
      "source": [
        "fused_rrf_results_test = fuse_results_rrf(tfidf_results_test, dense_sum_results_test, k=300)"
      ]
    },
    {
      "cell_type": "code",
      "execution_count": null,
      "id": "cd6ab377-9057-410a-936e-1408b0b49097",
      "metadata": {
        "id": "cd6ab377-9057-410a-936e-1408b0b49097"
      },
      "outputs": [],
      "source": [
        "with open(\"predictions_1_6.json\", \"w\") as f:\n",
        "    json.dump(fused_sum_results_test, f, indent=2)"
      ]
    },
    {
      "cell_type": "markdown",
      "id": "9abe9989-cd01-4a0d-9a4c-f598ca08a56b",
      "metadata": {
        "id": "9abe9989-cd01-4a0d-9a4c-f598ca08a56b"
      },
      "source": [
        "# 7. Doc2Vec"
      ]
    },
    {
      "cell_type": "code",
      "execution_count": 6,
      "id": "m1gUySOdQj9S",
      "metadata": {
        "colab": {
          "base_uri": "https://localhost:8080/"
        },
        "id": "m1gUySOdQj9S",
        "outputId": "760a9aee-085f-412d-890c-cd66964ab40f"
      },
      "outputs": [
        {
          "name": "stderr",
          "output_type": "stream",
          "text": [
            "[nltk_data] Downloading package punkt to /root/nltk_data...\n",
            "[nltk_data]   Unzipping tokenizers/punkt.zip.\n",
            "[nltk_data] Downloading package punkt_tab to /root/nltk_data...\n",
            "[nltk_data]   Unzipping tokenizers/punkt_tab.zip.\n"
          ]
        },
        {
          "data": {
            "text/plain": [
              "True"
            ]
          },
          "execution_count": 6,
          "metadata": {},
          "output_type": "execute_result"
        }
      ],
      "source": [
        "nltk.download('punkt')\n",
        "nltk.download('punkt_tab')"
      ]
    },
    {
      "cell_type": "code",
      "execution_count": 15,
      "id": "YV_5j7TABpzk",
      "metadata": {
        "id": "YV_5j7TABpzk"
      },
      "outputs": [],
      "source": [
        "citing_dataset_df = pd.DataFrame(json_citing_train)\n",
        "\n",
        "nonciting_dataset_df = pd.DataFrame(json_nonciting)\n",
        "mapping_dataset_df = pd.DataFrame(json_citing_to_cited)\n",
        "mapping_dict = get_mapping_dict(mapping_dataset_df)"
      ]
    },
    {
      "cell_type": "code",
      "execution_count": null,
      "id": "9vryx3R0qiG1",
      "metadata": {
        "id": "9vryx3R0qiG1"
      },
      "outputs": [],
      "source": [
        "full_text_citing = create_corpus(json_citing_train , 'fulltext')\n",
        "full_text_nonciting = create_corpus(json_nonciting, 'fulltext')\n",
        "doc2vec_model_fulltext = train_doc2vec_model(full_text_citing + full_text_nonciting)\n",
        "fulltext_citing_embeddings = create_doc2vec_embeddings(full_text_citing, doc2vec_model_fulltext)\n",
        "fulltext_nonciting_embeddings = create_doc2vec_embeddings(full_text_nonciting, doc2vec_model_fulltext)\n",
        "\n",
        "# Calculate cosine similarities\n",
        "cosine_similarities_fulltext = linear_kernel(fulltext_citing_embeddings, fulltext_nonciting_embeddings)\n",
        "\n",
        "# Get top k ranks\n",
        "k = 100\n",
        "top_k_rank_fulltext = top_k_ranks(full_text_citing, full_text_nonciting, cosine_similarities_fulltext, k=k)\n",
        "\n",
        "# Calculate metrics\n",
        "true_labels, predicted_labels, not_in_citation_mapping = get_true_and_predicted(mapping_dict, top_k_rank_fulltext)\n",
        "\n",
        "mean_rank_fulltext = mean_ranking(true_labels, predicted_labels)\n",
        "mean_average_precision_fulltext = mean_average_precision(true_labels, predicted_labels)\n",
        "\n",
        "recall_at_10_fulltext = mean_recall_at_k(true_labels, predicted_labels, k=10)\n",
        "recall_at_20_fulltext = mean_recall_at_k(true_labels, predicted_labels, k=20)\n",
        "recall_at_50_fulltext = mean_recall_at_k(true_labels, predicted_labels, k=50)\n",
        "recall_at_100_fulltext = mean_recall_at_k(true_labels, predicted_labels, k=100)\n",
        "\n",
        "\n",
        "print(\"Recall at 10:\", round(recall_at_10_fulltext, 4))\n",
        "print(\"Recall at 20:\", round(recall_at_20_fulltext, 4))\n",
        "print(\"Recall at 50:\", round(recall_at_50_fulltext, 4))\n",
        "print(\"Recall at 100:\", round(recall_at_100_fulltext, 4))\n",
        "\n",
        "print(\"Mean ranking:\", round(mean_rank_fulltext, 4))\n",
        "print(\"Mean average precision:\", round(mean_average_precision_fulltext, 4))\n",
        "print(\"Number of patents measured:\", len(predicted_labels))\n",
        "print(\"Number of patents not in the citation:\", not_in_citation_mapping)\n",
        "\n",
        "# OUTPUT:\n",
        "# Recall at 10: 0.3642\n",
        "# Recall at 20: 0.46\n",
        "# Recall at 50: 0.5933\n",
        "# Recall at 100: 0.6939\n",
        "# Mean ranking: 45.1603\n",
        "# Mean average precision: 0.2037\n",
        "# Number of patents measured: 6831\n",
        "# Number of patents not in the citation: 0\n"
      ]
    },
    {
      "cell_type": "markdown",
      "id": "uUE9iHdoByT9",
      "metadata": {
        "id": "uUE9iHdoByT9"
      },
      "source": [
        "## Grid"
      ]
    },
    {
      "cell_type": "code",
      "execution_count": null,
      "id": "a9k52TFmFTk-",
      "metadata": {
        "id": "a9k52TFmFTk-"
      },
      "outputs": [],
      "source": [
        "param_grid = {\n",
        "    'vector_size': [100, 200], # Dimensionality of the feature vectors\n",
        "    'window': [5, 15], # The maximum distance between the current and predicted word within a sentence.\n",
        "    'min_count': [1, 5, 10], # Ignores all words with total frequency lower than this.\n",
        "    'content_type': ['title', 'claim1', 'claims', 'description', 'fulltext']\n",
        "}\n",
        "\n",
        "# For title, claim1 and claims it was giving low results such as\n",
        "# recall@100=0.22 and mAP=0.0089, 0.03 without major improvements with different parameters.\n",
        "\n",
        "grid = ParameterGrid(param_grid)\n",
        "\n",
        "best_map_models = {}\n",
        "best_recall_models = {}\n",
        "\n",
        "for params in grid:\n",
        "    print(f\"Training Doc2Vec model with parameters: {params}\")\n",
        "    vector_size = params['vector_size']\n",
        "    window = params['window']\n",
        "    min_count = params['min_count']\n",
        "    content_type = params['content_type']\n",
        "\n",
        "    citing_train = create_corpus(json_citing_train , content_type)\n",
        "    citing_test = create_corpus(json_citing_test , content_type)\n",
        "    nonciting = create_corpus(json_nonciting, content_type)\n",
        "\n",
        "    doc2vec_model = train_doc2vec_model(citing_train + nonciting)\n",
        "\n",
        "    doc2vec_citing_embeddings = create_doc2vec_embeddings(citing_train, doc2vec_model)\n",
        "    doc2vec_nonciting_embeddings = create_doc2vec_embeddings(nonciting, doc2vec_model)\n",
        "\n",
        "    doc2vec_cosine_similarities = linear_kernel(doc2vec_citing_embeddings, doc2vec_nonciting_embeddings)\n",
        "\n",
        "    top_k_rank = top_k_ranks(citing_train, nonciting, doc2vec_cosine_similarities, k=100)\n",
        "\n",
        "    true_labels, predicted_labels, not_in_citation_mapping = get_true_and_predicted(mapping_dict, top_k_rank)\n",
        "    mean_average_precision_val = mean_average_precision(true_labels, predicted_labels)\n",
        "\n",
        "    recall_at_100_doc2vec= mean_recall_at_k(true_labels, predicted_labels, k=100)\n",
        "\n",
        "    print(\"Recall@100 =\", round(recall_at_100_doc2vec, 4), \"mAP =\", round(mean_average_precision_val, 4))\n",
        "\n",
        "    # Update model with best mAP\n",
        "    if not best_map_models or mean_average_precision_val > best_map_models.get('mAP', 0):\n",
        "        best_map_models['mAP'] = mean_average_precision_val\n",
        "        best_map_models['recall'] = recall_at_100_doc2vec\n",
        "        best_map_models['params'] = params\n",
        "\n",
        "    # Update model with best recall\n",
        "    if not best_recall_models or recall_at_100_doc2vec > best_recall_models.get('recall', 0):\n",
        "        best_recall_models['mAP'] = mean_average_precision_val\n",
        "        best_recall_models['recall'] = recall_at_100_doc2vec\n",
        "        best_recall_models['params'] = params\n",
        "\n",
        "print(\"\\nBest Model by mAP:\")\n",
        "print(best_map_models)\n",
        "\n",
        "print(\"\\nBest Model by Recall:\")\n",
        "best_recall_models"
      ]
    },
    {
      "cell_type": "markdown",
      "id": "H58Y6HFRA49P",
      "metadata": {
        "id": "H58Y6HFRA49P"
      },
      "source": [
        "# 8. sBert-L12 (all-MiniLM-L12-v2)"
      ]
    },
    {
      "cell_type": "code",
      "execution_count": 5,
      "id": "hDtRkBqodrCK",
      "metadata": {
        "colab": {
          "base_uri": "https://localhost:8080/"
        },
        "id": "hDtRkBqodrCK",
        "outputId": "53044450-6311-4e96-93c2-5a38c2425d05"
      },
      "outputs": [
        {
          "name": "stdout",
          "output_type": "stream",
          "text": [
            "Using CUDA device: Tesla T4\n"
          ]
        }
      ],
      "source": [
        "import torch\n",
        "\n",
        "# Check if CUDA is available\n",
        "if torch.cuda.is_available():\n",
        "    device = torch.device(\"cuda\")\n",
        "    print(\"Using CUDA device:\", torch.cuda.get_device_name(0))\n",
        "else:\n",
        "    device = torch.device(\"cpu\")\n",
        "    print(\"CUDA is not available, using CPU.\")"
      ]
    },
    {
      "cell_type": "code",
      "execution_count": 7,
      "id": "Z2Eb_QhueW6q",
      "metadata": {
        "colab": {
          "base_uri": "https://localhost:8080/"
        },
        "id": "Z2Eb_QhueW6q",
        "outputId": "4496fc5a-6f2d-4cff-a609-2775a353796d"
      },
      "outputs": [
        {
          "name": "stderr",
          "output_type": "stream",
          "text": [
            "/usr/local/lib/python3.11/dist-packages/huggingface_hub/utils/_auth.py:94: UserWarning: \n",
            "The secret `HF_TOKEN` does not exist in your Colab secrets.\n",
            "To authenticate with the Hugging Face Hub, create a token in your settings tab (https://huggingface.co/settings/tokens), set it as secret in your Google Colab and restart your session.\n",
            "You will be able to reuse this secret in all of your notebooks.\n",
            "Please note that authentication is recommended but still optional to access public models or datasets.\n",
            "  warnings.warn(\n"
          ]
        }
      ],
      "source": [
        "model = SentenceTransformer('all-MiniLM-L12-v2').to(device)"
      ]
    },
    {
      "cell_type": "markdown",
      "id": "2jZbYh3YgBIz",
      "metadata": {
        "id": "2jZbYh3YgBIz"
      },
      "source": [
        "## 8.1 Description - Recall@100: 0.757, mAP: 0.2798"
      ]
    },
    {
      "cell_type": "code",
      "execution_count": 13,
      "id": "TNMiwHp0gAkQ",
      "metadata": {
        "colab": {
          "base_uri": "https://localhost:8080/"
        },
        "id": "TNMiwHp0gAkQ",
        "outputId": "732d0c84-c1ee-4113-9c9c-fc99937797f1"
      },
      "outputs": [
        {
          "name": "stdout",
          "output_type": "stream",
          "text": [
            "Number of documents without description: 0\n",
            "Number of documents without description: 0\n",
            "Number of documents without description: 0\n"
          ]
        }
      ],
      "source": [
        "l12_description_citing_train = create_corpus(json_citing_train , 'description')\n",
        "l12_description_citing_test = create_corpus(json_citing_test , 'description')\n",
        "l12_description_nonciting = create_corpus(json_nonciting, 'description')"
      ]
    },
    {
      "cell_type": "code",
      "execution_count": 14,
      "id": "7IwRAFamwMiI",
      "metadata": {
        "id": "7IwRAFamwMiI"
      },
      "outputs": [],
      "source": [
        "nonciting_l12_description = [doc['text'] for doc in l12_description_nonciting]\n",
        "l12_description_nonciting_embeddings = model.encode(nonciting_l12_description, convert_to_tensor=True, device=device)\n",
        "\n",
        "citing_train_l12_description = [doc['text'] for doc in l12_description_citing_train]\n",
        "l12_description_citing_embeddings = model.encode(citing_train_l12_description, convert_to_tensor=True, device=device)"
      ]
    },
    {
      "cell_type": "code",
      "execution_count": 15,
      "id": "39QojxfZwPo-",
      "metadata": {
        "id": "39QojxfZwPo-"
      },
      "outputs": [],
      "source": [
        "cosine_similarities_l12_description = linear_kernel(l12_description_citing_embeddings.cpu(), l12_description_nonciting_embeddings.cpu())"
      ]
    },
    {
      "cell_type": "code",
      "execution_count": 18,
      "id": "51sQLQ3vwRlM",
      "metadata": {
        "colab": {
          "base_uri": "https://localhost:8080/"
        },
        "id": "51sQLQ3vwRlM",
        "outputId": "a5110ee8-df3d-49f1-ad82-be0816a1ded1"
      },
      "outputs": [
        {
          "name": "stdout",
          "output_type": "stream",
          "text": [
            "Recall at 10: 0.458\n",
            "Recall at 20: 0.5475\n",
            "Recall at 50: 0.6737\n",
            "Recall at 100: 0.757\n",
            "Mean ranking: 37.2469\n",
            "Mean average precision: 0.2798\n",
            "Number of patents measured: 6831\n",
            "Number of patents not in the citation: 0\n"
          ]
        }
      ],
      "source": [
        "# Get the top k ranks for each citing patent\n",
        "k = 100\n",
        "top_k_rank = top_k_ranks(l12_description_citing_train, l12_description_nonciting, cosine_similarities_l12_description, k=k)\n",
        "\n",
        "# Calculate the metrics\n",
        "true_labels, predicted_labels, not_in_citation_mapping = \\\n",
        "    get_true_and_predicted(mapping_dict, top_k_rank)\n",
        "mean_rank = mean_ranking(true_labels, predicted_labels)\n",
        "mean_average_precision_val = mean_average_precision(true_labels, predicted_labels)\n",
        "\n",
        "recall_at_10 = mean_recall_at_k(true_labels, predicted_labels, k=10)\n",
        "recall_at_20 = mean_recall_at_k(true_labels, predicted_labels, k=20)\n",
        "recall_at_50 = mean_recall_at_k(true_labels, predicted_labels, k=50)\n",
        "recall_at_100= mean_recall_at_k(true_labels, predicted_labels, k=100)\n",
        "\n",
        "print(\"Recall at 10:\", round(recall_at_10, 4))\n",
        "print(\"Recall at 20:\", round(recall_at_20, 4))\n",
        "print(\"Recall at 50:\", round(recall_at_50, 4))\n",
        "print(\"Recall at 100:\", round(recall_at_100, 4))\n",
        "print(\"Mean ranking:\", round(mean_rank, 4))\n",
        "print(\"Mean average precision:\", round(mean_average_precision_val, 4))\n",
        "print(\"Number of patents measured:\", len(predicted_labels))\n",
        "print(\"Number of patents not in the citation:\", not_in_citation_mapping)"
      ]
    },
    {
      "cell_type": "markdown",
      "id": "vtqLraVAxF6L",
      "metadata": {
        "id": "vtqLraVAxF6L"
      },
      "source": [
        "## 8.2 Title + description - Recall@100: 0.814, mAP: 0.3241"
      ]
    },
    {
      "cell_type": "code",
      "execution_count": 11,
      "id": "FXyyThuxx698",
      "metadata": {
        "colab": {
          "base_uri": "https://localhost:8080/",
          "height": 81,
          "referenced_widgets": [
            "6f75bb0557f4497ba67fd922c524151e",
            "8bdddcfb266047e9a04b007b2afe27b3",
            "37c4f8d0a41a4d34b1b531963d147fb5",
            "63951ac8722c40f490be997013db806c",
            "9bbc767921614809bd11c542cb91fa6e",
            "04e6d4c29b71441484634f8aa5549e6d",
            "e56f8fab16cb4ef5afa5293efb080e3e",
            "23ef3c0ef4e34b4098e8b7a79131ca61",
            "4ca5fa039e0d4af3baa159432322a8c7",
            "53c4de7545e94a42a12fb4494d7406ab",
            "42a40ccc7ff94ccd80545d6a1c99b3dc",
            "792cc9ec3bb747718c966a3639ddd7ca",
            "4a3000c866754643a593425a8ca8b087",
            "cfc6af59b1fb4173831c1c19597c8630",
            "b5c1ede718ee4091b022f90ed553b3fc",
            "a8d24073b9df482096cb1643b4746b6c",
            "33a1066e82984b8a8dc0c950abd31f87",
            "39c6d15d85bf485c9eae9fe860621f4b",
            "921d3be8ca0041f6b164c125686c6eae",
            "31ad113568534b90911d4819f67ccf73",
            "e56855cf554942da9b3b56dfe99a3f7f",
            "7a503203440d498da5c181fde34eb406"
          ]
        },
        "id": "FXyyThuxx698",
        "outputId": "e249f9e0-45ce-48b9-cfba-ff51fde7d733"
      },
      "outputs": [
        {
          "data": {
            "application/vnd.jupyter.widget-view+json": {
              "model_id": "6f75bb0557f4497ba67fd922c524151e",
              "version_major": 2,
              "version_minor": 0
            },
            "text/plain": [
              "Combining columns:   0%|          | 0/6831 [00:00<?, ?it/s]"
            ]
          },
          "metadata": {},
          "output_type": "display_data"
        },
        {
          "data": {
            "application/vnd.jupyter.widget-view+json": {
              "model_id": "792cc9ec3bb747718c966a3639ddd7ca",
              "version_major": 2,
              "version_minor": 0
            },
            "text/plain": [
              "Combining columns:   0%|          | 0/16837 [00:00<?, ?it/s]"
            ]
          },
          "metadata": {},
          "output_type": "display_data"
        }
      ],
      "source": [
        "title_descr_citing_train = create_combined_corpus(json_citing_train, ['title', 'description'])\n",
        "title_descr_citing_train_text = [doc['text'] for doc in title_descr_citing_train]\n",
        "\n",
        "title_descr_nonciting = create_combined_corpus(json_nonciting, ['title', 'description'])\n",
        "combined_nonciting_text = [doc['text'] for doc in title_descr_nonciting]"
      ]
    },
    {
      "cell_type": "code",
      "execution_count": 9,
      "id": "OOxkqXxZyiQj",
      "metadata": {
        "id": "OOxkqXxZyiQj"
      },
      "outputs": [],
      "source": [
        "title_descr_citing_embeddings = model.encode(title_descr_citing_train_text, convert_to_tensor=True, device=device)\n",
        "title_descr_nonciting_embeddings = model.encode(combined_nonciting_text, convert_to_tensor=True, device=device)"
      ]
    },
    {
      "cell_type": "code",
      "execution_count": 10,
      "id": "JGVKEMF8ykHE",
      "metadata": {
        "id": "JGVKEMF8ykHE"
      },
      "outputs": [],
      "source": [
        "cosine_similarities_title_descr = linear_kernel(title_descr_citing_embeddings.cpu(), title_descr_nonciting_embeddings.cpu())"
      ]
    },
    {
      "cell_type": "code",
      "execution_count": 23,
      "id": "bMXv6qSFy-Yg",
      "metadata": {
        "colab": {
          "base_uri": "https://localhost:8080/"
        },
        "id": "bMXv6qSFy-Yg",
        "outputId": "ad497652-b934-4510-c01b-2a17b15b6980"
      },
      "outputs": [
        {
          "name": "stdout",
          "output_type": "stream",
          "text": [
            "Recall at 10: 0.5196\n",
            "Recall at 20: 0.611\n",
            "Recall at 50: 0.7358\n",
            "Recall at 100: 0.814\n",
            "Mean ranking: 31.2832\n",
            "Mean average precision: 0.3241\n",
            "Number of patents measured: 6831\n",
            "Number of patents not in the citation: 0\n"
          ]
        }
      ],
      "source": [
        "# Get top k ranks\n",
        "k = 100\n",
        "top_k_rank = top_k_ranks(title_descr_citing_train, title_descr_nonciting, cosine_similarities_title_descr, k=k)\n",
        "\n",
        "# Calculate metrics\n",
        "true_labels, predicted_labels, not_in_citation_mapping = get_true_and_predicted(mapping_dict, top_k_rank)\n",
        "\n",
        "mean_rank = mean_ranking(true_labels, predicted_labels)\n",
        "mean_average_precision_fulltext = mean_average_precision(true_labels, predicted_labels)\n",
        "\n",
        "recall_at_10 = mean_recall_at_k(true_labels, predicted_labels, k=10)\n",
        "recall_at_20 = mean_recall_at_k(true_labels, predicted_labels, k=20)\n",
        "recall_at_50 = mean_recall_at_k(true_labels, predicted_labels, k=50)\n",
        "recall_at_100 = mean_recall_at_k(true_labels, predicted_labels, k=100)\n",
        "\n",
        "\n",
        "print(\"Recall at 10:\", round(recall_at_10, 4))\n",
        "print(\"Recall at 20:\", round(recall_at_20, 4))\n",
        "print(\"Recall at 50:\", round(recall_at_50, 4))\n",
        "print(\"Recall at 100:\", round(recall_at_100, 4))\n",
        "\n",
        "print(\"Mean ranking:\", round(mean_rank, 4))\n",
        "print(\"Mean average precision:\", round(mean_average_precision_fulltext, 4))\n",
        "print(\"Number of patents measured:\", len(predicted_labels))\n",
        "print(\"Number of patents not in the citation:\", not_in_citation_mapping)"
      ]
    },
    {
      "cell_type": "markdown",
      "id": "5UrRcGW91_Ri",
      "metadata": {
        "id": "5UrRcGW91_Ri"
      },
      "source": [
        "## 8.3 Full Text - Recall@100: 0.7794, mAP: 0.3044"
      ]
    },
    {
      "cell_type": "code",
      "execution_count": 24,
      "id": "16cOcPS21-nG",
      "metadata": {
        "id": "16cOcPS21-nG"
      },
      "outputs": [],
      "source": [
        "fulltext_citing_train = create_corpus(json_citing_train , 'fulltext')\n",
        "fulltext_citing_test = create_corpus(json_citing_test , 'fulltext')\n",
        "fulltext_nonciting = create_corpus(json_nonciting, 'fulltext')"
      ]
    },
    {
      "cell_type": "code",
      "execution_count": 25,
      "id": "chFRwSKM2XPK",
      "metadata": {
        "id": "chFRwSKM2XPK"
      },
      "outputs": [],
      "source": [
        "fulltext_nonciting_text = [doc['text'] for doc in fulltext_nonciting]\n",
        "fulltext_nonciting_embeddings = model.encode(fulltext_nonciting_text, convert_to_tensor=True, device=device)\n",
        "\n",
        "fulltext_citing_train_text = [doc['text'] for doc in fulltext_citing_train]\n",
        "fulltext_citing_embeddings = model.encode(fulltext_citing_train_text, convert_to_tensor=True, device=device)"
      ]
    },
    {
      "cell_type": "code",
      "execution_count": 26,
      "id": "Pc2Ck3nG2tdQ",
      "metadata": {
        "id": "Pc2Ck3nG2tdQ"
      },
      "outputs": [],
      "source": [
        "cosine_similarities_fulltext = linear_kernel(fulltext_citing_embeddings.cpu(), fulltext_nonciting_embeddings.cpu())"
      ]
    },
    {
      "cell_type": "code",
      "execution_count": 27,
      "id": "bFGfSend20l3",
      "metadata": {
        "colab": {
          "base_uri": "https://localhost:8080/"
        },
        "id": "bFGfSend20l3",
        "outputId": "790631cc-cd81-40ee-8e1d-11233cf861d0"
      },
      "outputs": [
        {
          "name": "stdout",
          "output_type": "stream",
          "text": [
            "Recall at 10: 0.4907\n",
            "Recall at 20: 0.5776\n",
            "Recall at 50: 0.6967\n",
            "Recall at 100: 0.7794\n",
            "Mean ranking: 34.8414\n",
            "Mean average precision: 0.3044\n",
            "Number of patents measured: 6831\n",
            "Number of patents not in the citation: 0\n"
          ]
        }
      ],
      "source": [
        "# Get the top k ranks for each citing patent\n",
        "k = 100\n",
        "top_k_rank = top_k_ranks(fulltext_citing_train, fulltext_nonciting, cosine_similarities_fulltext, k=k)\n",
        "\n",
        "# Calculate the metrics\n",
        "true_labels, predicted_labels, not_in_citation_mapping = \\\n",
        "    get_true_and_predicted(mapping_dict, top_k_rank)\n",
        "mean_rank = mean_ranking(true_labels, predicted_labels)\n",
        "mean_average_precision_val = mean_average_precision(true_labels, predicted_labels)\n",
        "\n",
        "recall_at_10 = mean_recall_at_k(true_labels, predicted_labels, k=10)\n",
        "recall_at_20 = mean_recall_at_k(true_labels, predicted_labels, k=20)\n",
        "recall_at_50 = mean_recall_at_k(true_labels, predicted_labels, k=50)\n",
        "recall_at_100= mean_recall_at_k(true_labels, predicted_labels, k=100)\n",
        "\n",
        "print(\"Recall at 10:\", round(recall_at_10, 4))\n",
        "print(\"Recall at 20:\", round(recall_at_20, 4))\n",
        "print(\"Recall at 50:\", round(recall_at_50, 4))\n",
        "print(\"Recall at 100:\", round(recall_at_100, 4))\n",
        "print(\"Mean ranking:\", round(mean_rank, 4))\n",
        "print(\"Mean average precision:\", round(mean_average_precision_val, 4))\n",
        "print(\"Number of patents measured:\", len(predicted_labels))\n",
        "print(\"Number of patents not in the citation:\", not_in_citation_mapping)"
      ]
    },
    {
      "cell_type": "markdown",
      "id": "xQ826z_JTzZH",
      "metadata": {
        "id": "xQ826z_JTzZH"
      },
      "source": [
        "## 8.4 Re-ranking on Title + Description"
      ]
    },
    {
      "cell_type": "code",
      "execution_count": 16,
      "id": "bBkkOOtRUjRD",
      "metadata": {
        "id": "bBkkOOtRUjRD"
      },
      "outputs": [],
      "source": [
        "citing_ids = [doc['id'] for doc in title_descr_citing_train]  # Get citing patent IDs\n",
        "nonciting_ids = [doc['id'] for doc in title_descr_nonciting]\n",
        "\n",
        "X_train, y_train = prepare_training_data_sbert_l12(\n",
        "    citing_ids, nonciting_ids, cosine_similarities_title_descr,\n",
        "    mapping_dict,\n",
        ")"
      ]
    },
    {
      "cell_type": "code",
      "execution_count": 17,
      "id": "IIKW7MOXVMp6",
      "metadata": {
        "colab": {
          "base_uri": "https://localhost:8080/"
        },
        "id": "IIKW7MOXVMp6",
        "outputId": "b37bc42a-8a1f-4c2c-80d1-60373302331f"
      },
      "outputs": [
        {
          "data": {
            "text/plain": [
              "np.float64(0.010303030303030303)"
            ]
          },
          "execution_count": 17,
          "metadata": {},
          "output_type": "execute_result"
        }
      ],
      "source": [
        "positive_rate = np.mean(y_train)\n",
        "positive_rate # 0.010303030303030303"
      ]
    },
    {
      "cell_type": "code",
      "execution_count": 19,
      "id": "4Qw4XHewVWD1",
      "metadata": {
        "id": "4Qw4XHewVWD1"
      },
      "outputs": [],
      "source": [
        "lr_params = {\n",
        "    'C': [0.1, 1.0, 10.0]\n",
        "}\n",
        "rf_params = {\n",
        "    'n_estimators': [50, 100],\n",
        "    'max_depth': [5, 10]\n",
        "}\n",
        "xgb_params = {\n",
        "    'learning_rate': [0.01, 0.1],\n",
        "    'n_estimators': [50, 100],\n",
        "    'max_depth': [3, 5]\n",
        "}\n",
        "\n",
        "models = [\n",
        "    ('lr', LogisticRegression(class_weight='balanced', random_state=42), lr_params),\n",
        "    ('rf', RandomForestClassifier(class_weight='balanced', random_state=42), rf_params),\n",
        "    ('xgb', xgb.XGBClassifier(use_label_encoder=False, eval_metric='logloss', random_state=42), xgb_params)\n",
        "]"
      ]
    },
    {
      "cell_type": "code",
      "execution_count": 26,
      "id": "NBmu1WkgVY8U",
      "metadata": {
        "colab": {
          "base_uri": "https://localhost:8080/"
        },
        "id": "NBmu1WkgVY8U",
        "outputId": "97f8ac57-bb72-449b-f0fc-caceb362fb6b"
      },
      "outputs": [
        {
          "name": "stdout",
          "output_type": "stream",
          "text": [
            "Model lr with params {'C': 0.1}: average precision = 0.0872\n",
            "Model lr with params {'C': 1.0}: average precision = 0.0872\n",
            "Model lr with params {'C': 10.0}: average precision = 0.0872\n",
            "Model rf with params {'n_estimators': 50, 'max_depth': 5}: average precision = 0.0854\n",
            "Model rf with params {'n_estimators': 50, 'max_depth': 10}: average precision = 0.0788\n",
            "Model rf with params {'n_estimators': 100, 'max_depth': 5}: average precision = 0.0862\n",
            "Model rf with params {'n_estimators': 100, 'max_depth': 10}: average precision = 0.0792\n"
          ]
        },
        {
          "name": "stderr",
          "output_type": "stream",
          "text": [
            "/usr/local/lib/python3.11/dist-packages/xgboost/core.py:158: UserWarning: [18:27:54] WARNING: /workspace/src/learner.cc:740: \n",
            "Parameters: { \"use_label_encoder\" } are not used.\n",
            "\n",
            "  warnings.warn(smsg, UserWarning)\n",
            "/usr/local/lib/python3.11/dist-packages/xgboost/core.py:158: UserWarning: [18:27:55] WARNING: /workspace/src/learner.cc:740: \n",
            "Parameters: { \"use_label_encoder\" } are not used.\n",
            "\n",
            "  warnings.warn(smsg, UserWarning)\n",
            "/usr/local/lib/python3.11/dist-packages/xgboost/core.py:158: UserWarning: [18:27:55] WARNING: /workspace/src/learner.cc:740: \n",
            "Parameters: { \"use_label_encoder\" } are not used.\n",
            "\n",
            "  warnings.warn(smsg, UserWarning)\n",
            "/usr/local/lib/python3.11/dist-packages/xgboost/core.py:158: UserWarning: [18:27:56] WARNING: /workspace/src/learner.cc:740: \n",
            "Parameters: { \"use_label_encoder\" } are not used.\n",
            "\n",
            "  warnings.warn(smsg, UserWarning)\n",
            "/usr/local/lib/python3.11/dist-packages/xgboost/core.py:158: UserWarning: [18:27:57] WARNING: /workspace/src/learner.cc:740: \n",
            "Parameters: { \"use_label_encoder\" } are not used.\n",
            "\n",
            "  warnings.warn(smsg, UserWarning)\n"
          ]
        },
        {
          "name": "stdout",
          "output_type": "stream",
          "text": [
            "Model xgb with params {'learning_rate': 0.01, 'n_estimators': 50, 'max_depth': 3}: average precision = 0.0718\n"
          ]
        },
        {
          "name": "stderr",
          "output_type": "stream",
          "text": [
            "/usr/local/lib/python3.11/dist-packages/xgboost/core.py:158: UserWarning: [18:27:58] WARNING: /workspace/src/learner.cc:740: \n",
            "Parameters: { \"use_label_encoder\" } are not used.\n",
            "\n",
            "  warnings.warn(smsg, UserWarning)\n",
            "/usr/local/lib/python3.11/dist-packages/xgboost/core.py:158: UserWarning: [18:27:59] WARNING: /workspace/src/learner.cc:740: \n",
            "Parameters: { \"use_label_encoder\" } are not used.\n",
            "\n",
            "  warnings.warn(smsg, UserWarning)\n",
            "/usr/local/lib/python3.11/dist-packages/xgboost/core.py:158: UserWarning: [18:28:01] WARNING: /workspace/src/learner.cc:740: \n",
            "Parameters: { \"use_label_encoder\" } are not used.\n",
            "\n",
            "  warnings.warn(smsg, UserWarning)\n",
            "/usr/local/lib/python3.11/dist-packages/xgboost/core.py:158: UserWarning: [18:28:02] WARNING: /workspace/src/learner.cc:740: \n",
            "Parameters: { \"use_label_encoder\" } are not used.\n",
            "\n",
            "  warnings.warn(smsg, UserWarning)\n",
            "/usr/local/lib/python3.11/dist-packages/xgboost/core.py:158: UserWarning: [18:28:03] WARNING: /workspace/src/learner.cc:740: \n",
            "Parameters: { \"use_label_encoder\" } are not used.\n",
            "\n",
            "  warnings.warn(smsg, UserWarning)\n"
          ]
        },
        {
          "name": "stdout",
          "output_type": "stream",
          "text": [
            "Model xgb with params {'learning_rate': 0.01, 'n_estimators': 50, 'max_depth': 5}: average precision = 0.0739\n"
          ]
        },
        {
          "name": "stderr",
          "output_type": "stream",
          "text": [
            "/usr/local/lib/python3.11/dist-packages/xgboost/core.py:158: UserWarning: [18:28:04] WARNING: /workspace/src/learner.cc:740: \n",
            "Parameters: { \"use_label_encoder\" } are not used.\n",
            "\n",
            "  warnings.warn(smsg, UserWarning)\n",
            "/usr/local/lib/python3.11/dist-packages/xgboost/core.py:158: UserWarning: [18:28:06] WARNING: /workspace/src/learner.cc:740: \n",
            "Parameters: { \"use_label_encoder\" } are not used.\n",
            "\n",
            "  warnings.warn(smsg, UserWarning)\n",
            "/usr/local/lib/python3.11/dist-packages/xgboost/core.py:158: UserWarning: [18:28:07] WARNING: /workspace/src/learner.cc:740: \n",
            "Parameters: { \"use_label_encoder\" } are not used.\n",
            "\n",
            "  warnings.warn(smsg, UserWarning)\n",
            "/usr/local/lib/python3.11/dist-packages/xgboost/core.py:158: UserWarning: [18:28:09] WARNING: /workspace/src/learner.cc:740: \n",
            "Parameters: { \"use_label_encoder\" } are not used.\n",
            "\n",
            "  warnings.warn(smsg, UserWarning)\n",
            "/usr/local/lib/python3.11/dist-packages/xgboost/core.py:158: UserWarning: [18:28:10] WARNING: /workspace/src/learner.cc:740: \n",
            "Parameters: { \"use_label_encoder\" } are not used.\n",
            "\n",
            "  warnings.warn(smsg, UserWarning)\n"
          ]
        },
        {
          "name": "stdout",
          "output_type": "stream",
          "text": [
            "Model xgb with params {'learning_rate': 0.01, 'n_estimators': 100, 'max_depth': 3}: average precision = 0.0735\n"
          ]
        },
        {
          "name": "stderr",
          "output_type": "stream",
          "text": [
            "/usr/local/lib/python3.11/dist-packages/xgboost/core.py:158: UserWarning: [18:28:12] WARNING: /workspace/src/learner.cc:740: \n",
            "Parameters: { \"use_label_encoder\" } are not used.\n",
            "\n",
            "  warnings.warn(smsg, UserWarning)\n",
            "/usr/local/lib/python3.11/dist-packages/xgboost/core.py:158: UserWarning: [18:28:15] WARNING: /workspace/src/learner.cc:740: \n",
            "Parameters: { \"use_label_encoder\" } are not used.\n",
            "\n",
            "  warnings.warn(smsg, UserWarning)\n",
            "/usr/local/lib/python3.11/dist-packages/xgboost/core.py:158: UserWarning: [18:28:17] WARNING: /workspace/src/learner.cc:740: \n",
            "Parameters: { \"use_label_encoder\" } are not used.\n",
            "\n",
            "  warnings.warn(smsg, UserWarning)\n",
            "/usr/local/lib/python3.11/dist-packages/xgboost/core.py:158: UserWarning: [18:28:19] WARNING: /workspace/src/learner.cc:740: \n",
            "Parameters: { \"use_label_encoder\" } are not used.\n",
            "\n",
            "  warnings.warn(smsg, UserWarning)\n",
            "/usr/local/lib/python3.11/dist-packages/xgboost/core.py:158: UserWarning: [18:28:21] WARNING: /workspace/src/learner.cc:740: \n",
            "Parameters: { \"use_label_encoder\" } are not used.\n",
            "\n",
            "  warnings.warn(smsg, UserWarning)\n"
          ]
        },
        {
          "name": "stdout",
          "output_type": "stream",
          "text": [
            "Model xgb with params {'learning_rate': 0.01, 'n_estimators': 100, 'max_depth': 5}: average precision = 0.0744\n"
          ]
        },
        {
          "name": "stderr",
          "output_type": "stream",
          "text": [
            "/usr/local/lib/python3.11/dist-packages/xgboost/core.py:158: UserWarning: [18:28:22] WARNING: /workspace/src/learner.cc:740: \n",
            "Parameters: { \"use_label_encoder\" } are not used.\n",
            "\n",
            "  warnings.warn(smsg, UserWarning)\n",
            "/usr/local/lib/python3.11/dist-packages/xgboost/core.py:158: UserWarning: [18:28:23] WARNING: /workspace/src/learner.cc:740: \n",
            "Parameters: { \"use_label_encoder\" } are not used.\n",
            "\n",
            "  warnings.warn(smsg, UserWarning)\n",
            "/usr/local/lib/python3.11/dist-packages/xgboost/core.py:158: UserWarning: [18:28:24] WARNING: /workspace/src/learner.cc:740: \n",
            "Parameters: { \"use_label_encoder\" } are not used.\n",
            "\n",
            "  warnings.warn(smsg, UserWarning)\n",
            "/usr/local/lib/python3.11/dist-packages/xgboost/core.py:158: UserWarning: [18:28:27] WARNING: /workspace/src/learner.cc:740: \n",
            "Parameters: { \"use_label_encoder\" } are not used.\n",
            "\n",
            "  warnings.warn(smsg, UserWarning)\n",
            "/usr/local/lib/python3.11/dist-packages/xgboost/core.py:158: UserWarning: [18:28:27] WARNING: /workspace/src/learner.cc:740: \n",
            "Parameters: { \"use_label_encoder\" } are not used.\n",
            "\n",
            "  warnings.warn(smsg, UserWarning)\n"
          ]
        },
        {
          "name": "stdout",
          "output_type": "stream",
          "text": [
            "Model xgb with params {'learning_rate': 0.1, 'n_estimators': 50, 'max_depth': 3}: average precision = 0.0750\n"
          ]
        },
        {
          "name": "stderr",
          "output_type": "stream",
          "text": [
            "/usr/local/lib/python3.11/dist-packages/xgboost/core.py:158: UserWarning: [18:28:28] WARNING: /workspace/src/learner.cc:740: \n",
            "Parameters: { \"use_label_encoder\" } are not used.\n",
            "\n",
            "  warnings.warn(smsg, UserWarning)\n",
            "/usr/local/lib/python3.11/dist-packages/xgboost/core.py:158: UserWarning: [18:28:29] WARNING: /workspace/src/learner.cc:740: \n",
            "Parameters: { \"use_label_encoder\" } are not used.\n",
            "\n",
            "  warnings.warn(smsg, UserWarning)\n",
            "/usr/local/lib/python3.11/dist-packages/xgboost/core.py:158: UserWarning: [18:28:31] WARNING: /workspace/src/learner.cc:740: \n",
            "Parameters: { \"use_label_encoder\" } are not used.\n",
            "\n",
            "  warnings.warn(smsg, UserWarning)\n",
            "/usr/local/lib/python3.11/dist-packages/xgboost/core.py:158: UserWarning: [18:28:32] WARNING: /workspace/src/learner.cc:740: \n",
            "Parameters: { \"use_label_encoder\" } are not used.\n",
            "\n",
            "  warnings.warn(smsg, UserWarning)\n",
            "/usr/local/lib/python3.11/dist-packages/xgboost/core.py:158: UserWarning: [18:28:33] WARNING: /workspace/src/learner.cc:740: \n",
            "Parameters: { \"use_label_encoder\" } are not used.\n",
            "\n",
            "  warnings.warn(smsg, UserWarning)\n"
          ]
        },
        {
          "name": "stdout",
          "output_type": "stream",
          "text": [
            "Model xgb with params {'learning_rate': 0.1, 'n_estimators': 50, 'max_depth': 5}: average precision = 0.0755\n"
          ]
        },
        {
          "name": "stderr",
          "output_type": "stream",
          "text": [
            "/usr/local/lib/python3.11/dist-packages/xgboost/core.py:158: UserWarning: [18:28:34] WARNING: /workspace/src/learner.cc:740: \n",
            "Parameters: { \"use_label_encoder\" } are not used.\n",
            "\n",
            "  warnings.warn(smsg, UserWarning)\n",
            "/usr/local/lib/python3.11/dist-packages/xgboost/core.py:158: UserWarning: [18:28:35] WARNING: /workspace/src/learner.cc:740: \n",
            "Parameters: { \"use_label_encoder\" } are not used.\n",
            "\n",
            "  warnings.warn(smsg, UserWarning)\n",
            "/usr/local/lib/python3.11/dist-packages/xgboost/core.py:158: UserWarning: [18:28:38] WARNING: /workspace/src/learner.cc:740: \n",
            "Parameters: { \"use_label_encoder\" } are not used.\n",
            "\n",
            "  warnings.warn(smsg, UserWarning)\n",
            "/usr/local/lib/python3.11/dist-packages/xgboost/core.py:158: UserWarning: [18:28:40] WARNING: /workspace/src/learner.cc:740: \n",
            "Parameters: { \"use_label_encoder\" } are not used.\n",
            "\n",
            "  warnings.warn(smsg, UserWarning)\n",
            "/usr/local/lib/python3.11/dist-packages/xgboost/core.py:158: UserWarning: [18:28:41] WARNING: /workspace/src/learner.cc:740: \n",
            "Parameters: { \"use_label_encoder\" } are not used.\n",
            "\n",
            "  warnings.warn(smsg, UserWarning)\n"
          ]
        },
        {
          "name": "stdout",
          "output_type": "stream",
          "text": [
            "Model xgb with params {'learning_rate': 0.1, 'n_estimators': 100, 'max_depth': 3}: average precision = 0.0754\n"
          ]
        },
        {
          "name": "stderr",
          "output_type": "stream",
          "text": [
            "/usr/local/lib/python3.11/dist-packages/xgboost/core.py:158: UserWarning: [18:28:43] WARNING: /workspace/src/learner.cc:740: \n",
            "Parameters: { \"use_label_encoder\" } are not used.\n",
            "\n",
            "  warnings.warn(smsg, UserWarning)\n",
            "/usr/local/lib/python3.11/dist-packages/xgboost/core.py:158: UserWarning: [18:28:45] WARNING: /workspace/src/learner.cc:740: \n",
            "Parameters: { \"use_label_encoder\" } are not used.\n",
            "\n",
            "  warnings.warn(smsg, UserWarning)\n",
            "/usr/local/lib/python3.11/dist-packages/xgboost/core.py:158: UserWarning: [18:28:47] WARNING: /workspace/src/learner.cc:740: \n",
            "Parameters: { \"use_label_encoder\" } are not used.\n",
            "\n",
            "  warnings.warn(smsg, UserWarning)\n",
            "/usr/local/lib/python3.11/dist-packages/xgboost/core.py:158: UserWarning: [18:28:49] WARNING: /workspace/src/learner.cc:740: \n",
            "Parameters: { \"use_label_encoder\" } are not used.\n",
            "\n",
            "  warnings.warn(smsg, UserWarning)\n",
            "/usr/local/lib/python3.11/dist-packages/xgboost/core.py:158: UserWarning: [18:28:52] WARNING: /workspace/src/learner.cc:740: \n",
            "Parameters: { \"use_label_encoder\" } are not used.\n",
            "\n",
            "  warnings.warn(smsg, UserWarning)\n"
          ]
        },
        {
          "name": "stdout",
          "output_type": "stream",
          "text": [
            "Model xgb with params {'learning_rate': 0.1, 'n_estimators': 100, 'max_depth': 5}: average precision = 0.0756\n",
            "lr\n",
            "{'C': 0.1}\n",
            "0.08716409774977271\n"
          ]
        }
      ],
      "source": [
        "cv = StratifiedKFold(n_splits=5, shuffle=True, random_state=42)\n",
        "\n",
        "best_score = -np.inf\n",
        "best_model = None\n",
        "best_model_name = None\n",
        "best_params = None\n",
        "\n",
        "scoring = 'average_precision'\n",
        "\n",
        "for model_name, model, param_grid in models:\n",
        "    keys, values = zip(*param_grid.items())\n",
        "    for combination in itertools.product(*values):\n",
        "        params = dict(zip(keys, combination))\n",
        "        model.set_params(**params)\n",
        "        scores = cross_val_score(model, X_train, y_train, cv=cv, scoring=scoring)\n",
        "        mean_score = np.mean(scores)\n",
        "        print(f\"Model {model_name} with params {params}: average precision = {mean_score:.4f}\")\n",
        "        if mean_score > best_score:\n",
        "            best_score = mean_score\n",
        "            best_model = model\n",
        "            best_model_name = model_name\n",
        "            best_params = params\n",
        "\n",
        "print(best_model_name) # lr\n",
        "print(best_params) # {'C': 0.1}\n",
        "print(best_score) # 0.08716409774977271"
      ]
    },
    {
      "cell_type": "code",
      "execution_count": 28,
      "id": "_tvy5lYwhcHa",
      "metadata": {
        "colab": {
          "base_uri": "https://localhost:8080/"
        },
        "id": "_tvy5lYwhcHa",
        "outputId": "ea10d2e9-95b5-4846-cd3f-2430e2d20c57"
      },
      "outputs": [
        {
          "name": "stdout",
          "output_type": "stream",
          "text": [
            "After re-ranking: Recall@100 = 0.8140169814082873 mAP@100 = 0.3373516142010787\n"
          ]
        }
      ],
      "source": [
        "re_rank_model = LogisticRegression(class_weight='balanced', C=0.1)\n",
        "re_rank_model.fit(X_train, y_train)\n",
        "\n",
        "re_ranked_recommendations = re_rank_candidates_sbert_l12(citing_ids, nonciting_ids, cosine_similarities_title_descr, re_rank_model)\n",
        "recall_after, mAP_after = evaluate_recommendations_sbert_l12(mapping_dict, re_ranked_recommendations, k=100)\n",
        "print(\"After re-ranking: Recall@100 =\", recall_after, \"mAP@100 =\", mAP_after) # After re-ranking: Recall@100 = 0.8140169814082873 mAP@100 = 0.3373516142010787"
      ]
    }
  ],
  "metadata": {
    "accelerator": "GPU",
    "colab": {
      "gpuType": "T4",
      "provenance": []
    },
    "kernelspec": {
      "display_name": "Python 3",
      "name": "python3"
    },
    "language_info": {
      "codemirror_mode": {
        "name": "ipython",
        "version": 3
      },
      "file_extension": ".py",
      "mimetype": "text/x-python",
      "name": "python",
      "nbconvert_exporter": "python",
      "pygments_lexer": "ipython3",
      "version": "3.12.9"
    },
    "widgets": {
      "application/vnd.jupyter.widget-state+json": {
        "04e6d4c29b71441484634f8aa5549e6d": {
          "model_module": "@jupyter-widgets/base",
          "model_module_version": "1.2.0",
          "model_name": "LayoutModel",
          "state": {
            "_model_module": "@jupyter-widgets/base",
            "_model_module_version": "1.2.0",
            "_model_name": "LayoutModel",
            "_view_count": null,
            "_view_module": "@jupyter-widgets/base",
            "_view_module_version": "1.2.0",
            "_view_name": "LayoutView",
            "align_content": null,
            "align_items": null,
            "align_self": null,
            "border": null,
            "bottom": null,
            "display": null,
            "flex": null,
            "flex_flow": null,
            "grid_area": null,
            "grid_auto_columns": null,
            "grid_auto_flow": null,
            "grid_auto_rows": null,
            "grid_column": null,
            "grid_gap": null,
            "grid_row": null,
            "grid_template_areas": null,
            "grid_template_columns": null,
            "grid_template_rows": null,
            "height": null,
            "justify_content": null,
            "justify_items": null,
            "left": null,
            "margin": null,
            "max_height": null,
            "max_width": null,
            "min_height": null,
            "min_width": null,
            "object_fit": null,
            "object_position": null,
            "order": null,
            "overflow": null,
            "overflow_x": null,
            "overflow_y": null,
            "padding": null,
            "right": null,
            "top": null,
            "visibility": null,
            "width": null
          }
        },
        "23ef3c0ef4e34b4098e8b7a79131ca61": {
          "model_module": "@jupyter-widgets/base",
          "model_module_version": "1.2.0",
          "model_name": "LayoutModel",
          "state": {
            "_model_module": "@jupyter-widgets/base",
            "_model_module_version": "1.2.0",
            "_model_name": "LayoutModel",
            "_view_count": null,
            "_view_module": "@jupyter-widgets/base",
            "_view_module_version": "1.2.0",
            "_view_name": "LayoutView",
            "align_content": null,
            "align_items": null,
            "align_self": null,
            "border": null,
            "bottom": null,
            "display": null,
            "flex": null,
            "flex_flow": null,
            "grid_area": null,
            "grid_auto_columns": null,
            "grid_auto_flow": null,
            "grid_auto_rows": null,
            "grid_column": null,
            "grid_gap": null,
            "grid_row": null,
            "grid_template_areas": null,
            "grid_template_columns": null,
            "grid_template_rows": null,
            "height": null,
            "justify_content": null,
            "justify_items": null,
            "left": null,
            "margin": null,
            "max_height": null,
            "max_width": null,
            "min_height": null,
            "min_width": null,
            "object_fit": null,
            "object_position": null,
            "order": null,
            "overflow": null,
            "overflow_x": null,
            "overflow_y": null,
            "padding": null,
            "right": null,
            "top": null,
            "visibility": null,
            "width": null
          }
        },
        "31ad113568534b90911d4819f67ccf73": {
          "model_module": "@jupyter-widgets/controls",
          "model_module_version": "1.5.0",
          "model_name": "ProgressStyleModel",
          "state": {
            "_model_module": "@jupyter-widgets/controls",
            "_model_module_version": "1.5.0",
            "_model_name": "ProgressStyleModel",
            "_view_count": null,
            "_view_module": "@jupyter-widgets/base",
            "_view_module_version": "1.2.0",
            "_view_name": "StyleView",
            "bar_color": null,
            "description_width": ""
          }
        },
        "33a1066e82984b8a8dc0c950abd31f87": {
          "model_module": "@jupyter-widgets/base",
          "model_module_version": "1.2.0",
          "model_name": "LayoutModel",
          "state": {
            "_model_module": "@jupyter-widgets/base",
            "_model_module_version": "1.2.0",
            "_model_name": "LayoutModel",
            "_view_count": null,
            "_view_module": "@jupyter-widgets/base",
            "_view_module_version": "1.2.0",
            "_view_name": "LayoutView",
            "align_content": null,
            "align_items": null,
            "align_self": null,
            "border": null,
            "bottom": null,
            "display": null,
            "flex": null,
            "flex_flow": null,
            "grid_area": null,
            "grid_auto_columns": null,
            "grid_auto_flow": null,
            "grid_auto_rows": null,
            "grid_column": null,
            "grid_gap": null,
            "grid_row": null,
            "grid_template_areas": null,
            "grid_template_columns": null,
            "grid_template_rows": null,
            "height": null,
            "justify_content": null,
            "justify_items": null,
            "left": null,
            "margin": null,
            "max_height": null,
            "max_width": null,
            "min_height": null,
            "min_width": null,
            "object_fit": null,
            "object_position": null,
            "order": null,
            "overflow": null,
            "overflow_x": null,
            "overflow_y": null,
            "padding": null,
            "right": null,
            "top": null,
            "visibility": null,
            "width": null
          }
        },
        "37c4f8d0a41a4d34b1b531963d147fb5": {
          "model_module": "@jupyter-widgets/controls",
          "model_module_version": "1.5.0",
          "model_name": "FloatProgressModel",
          "state": {
            "_dom_classes": [],
            "_model_module": "@jupyter-widgets/controls",
            "_model_module_version": "1.5.0",
            "_model_name": "FloatProgressModel",
            "_view_count": null,
            "_view_module": "@jupyter-widgets/controls",
            "_view_module_version": "1.5.0",
            "_view_name": "ProgressView",
            "bar_style": "success",
            "description": "",
            "description_tooltip": null,
            "layout": "IPY_MODEL_23ef3c0ef4e34b4098e8b7a79131ca61",
            "max": 6831,
            "min": 0,
            "orientation": "horizontal",
            "style": "IPY_MODEL_4ca5fa039e0d4af3baa159432322a8c7",
            "value": 6831
          }
        },
        "39c6d15d85bf485c9eae9fe860621f4b": {
          "model_module": "@jupyter-widgets/controls",
          "model_module_version": "1.5.0",
          "model_name": "DescriptionStyleModel",
          "state": {
            "_model_module": "@jupyter-widgets/controls",
            "_model_module_version": "1.5.0",
            "_model_name": "DescriptionStyleModel",
            "_view_count": null,
            "_view_module": "@jupyter-widgets/base",
            "_view_module_version": "1.2.0",
            "_view_name": "StyleView",
            "description_width": ""
          }
        },
        "42a40ccc7ff94ccd80545d6a1c99b3dc": {
          "model_module": "@jupyter-widgets/controls",
          "model_module_version": "1.5.0",
          "model_name": "DescriptionStyleModel",
          "state": {
            "_model_module": "@jupyter-widgets/controls",
            "_model_module_version": "1.5.0",
            "_model_name": "DescriptionStyleModel",
            "_view_count": null,
            "_view_module": "@jupyter-widgets/base",
            "_view_module_version": "1.2.0",
            "_view_name": "StyleView",
            "description_width": ""
          }
        },
        "4a3000c866754643a593425a8ca8b087": {
          "model_module": "@jupyter-widgets/controls",
          "model_module_version": "1.5.0",
          "model_name": "HTMLModel",
          "state": {
            "_dom_classes": [],
            "_model_module": "@jupyter-widgets/controls",
            "_model_module_version": "1.5.0",
            "_model_name": "HTMLModel",
            "_view_count": null,
            "_view_module": "@jupyter-widgets/controls",
            "_view_module_version": "1.5.0",
            "_view_name": "HTMLView",
            "description": "",
            "description_tooltip": null,
            "layout": "IPY_MODEL_33a1066e82984b8a8dc0c950abd31f87",
            "placeholder": "​",
            "style": "IPY_MODEL_39c6d15d85bf485c9eae9fe860621f4b",
            "value": "Combining columns: 100%"
          }
        },
        "4ca5fa039e0d4af3baa159432322a8c7": {
          "model_module": "@jupyter-widgets/controls",
          "model_module_version": "1.5.0",
          "model_name": "ProgressStyleModel",
          "state": {
            "_model_module": "@jupyter-widgets/controls",
            "_model_module_version": "1.5.0",
            "_model_name": "ProgressStyleModel",
            "_view_count": null,
            "_view_module": "@jupyter-widgets/base",
            "_view_module_version": "1.2.0",
            "_view_name": "StyleView",
            "bar_color": null,
            "description_width": ""
          }
        },
        "53c4de7545e94a42a12fb4494d7406ab": {
          "model_module": "@jupyter-widgets/base",
          "model_module_version": "1.2.0",
          "model_name": "LayoutModel",
          "state": {
            "_model_module": "@jupyter-widgets/base",
            "_model_module_version": "1.2.0",
            "_model_name": "LayoutModel",
            "_view_count": null,
            "_view_module": "@jupyter-widgets/base",
            "_view_module_version": "1.2.0",
            "_view_name": "LayoutView",
            "align_content": null,
            "align_items": null,
            "align_self": null,
            "border": null,
            "bottom": null,
            "display": null,
            "flex": null,
            "flex_flow": null,
            "grid_area": null,
            "grid_auto_columns": null,
            "grid_auto_flow": null,
            "grid_auto_rows": null,
            "grid_column": null,
            "grid_gap": null,
            "grid_row": null,
            "grid_template_areas": null,
            "grid_template_columns": null,
            "grid_template_rows": null,
            "height": null,
            "justify_content": null,
            "justify_items": null,
            "left": null,
            "margin": null,
            "max_height": null,
            "max_width": null,
            "min_height": null,
            "min_width": null,
            "object_fit": null,
            "object_position": null,
            "order": null,
            "overflow": null,
            "overflow_x": null,
            "overflow_y": null,
            "padding": null,
            "right": null,
            "top": null,
            "visibility": null,
            "width": null
          }
        },
        "63951ac8722c40f490be997013db806c": {
          "model_module": "@jupyter-widgets/controls",
          "model_module_version": "1.5.0",
          "model_name": "HTMLModel",
          "state": {
            "_dom_classes": [],
            "_model_module": "@jupyter-widgets/controls",
            "_model_module_version": "1.5.0",
            "_model_name": "HTMLModel",
            "_view_count": null,
            "_view_module": "@jupyter-widgets/controls",
            "_view_module_version": "1.5.0",
            "_view_name": "HTMLView",
            "description": "",
            "description_tooltip": null,
            "layout": "IPY_MODEL_53c4de7545e94a42a12fb4494d7406ab",
            "placeholder": "​",
            "style": "IPY_MODEL_42a40ccc7ff94ccd80545d6a1c99b3dc",
            "value": " 6831/6831 [00:00&lt;00:00, 9583.06it/s]"
          }
        },
        "6f75bb0557f4497ba67fd922c524151e": {
          "model_module": "@jupyter-widgets/controls",
          "model_module_version": "1.5.0",
          "model_name": "HBoxModel",
          "state": {
            "_dom_classes": [],
            "_model_module": "@jupyter-widgets/controls",
            "_model_module_version": "1.5.0",
            "_model_name": "HBoxModel",
            "_view_count": null,
            "_view_module": "@jupyter-widgets/controls",
            "_view_module_version": "1.5.0",
            "_view_name": "HBoxView",
            "box_style": "",
            "children": [
              "IPY_MODEL_8bdddcfb266047e9a04b007b2afe27b3",
              "IPY_MODEL_37c4f8d0a41a4d34b1b531963d147fb5",
              "IPY_MODEL_63951ac8722c40f490be997013db806c"
            ],
            "layout": "IPY_MODEL_9bbc767921614809bd11c542cb91fa6e"
          }
        },
        "792cc9ec3bb747718c966a3639ddd7ca": {
          "model_module": "@jupyter-widgets/controls",
          "model_module_version": "1.5.0",
          "model_name": "HBoxModel",
          "state": {
            "_dom_classes": [],
            "_model_module": "@jupyter-widgets/controls",
            "_model_module_version": "1.5.0",
            "_model_name": "HBoxModel",
            "_view_count": null,
            "_view_module": "@jupyter-widgets/controls",
            "_view_module_version": "1.5.0",
            "_view_name": "HBoxView",
            "box_style": "",
            "children": [
              "IPY_MODEL_4a3000c866754643a593425a8ca8b087",
              "IPY_MODEL_cfc6af59b1fb4173831c1c19597c8630",
              "IPY_MODEL_b5c1ede718ee4091b022f90ed553b3fc"
            ],
            "layout": "IPY_MODEL_a8d24073b9df482096cb1643b4746b6c"
          }
        },
        "7a503203440d498da5c181fde34eb406": {
          "model_module": "@jupyter-widgets/controls",
          "model_module_version": "1.5.0",
          "model_name": "DescriptionStyleModel",
          "state": {
            "_model_module": "@jupyter-widgets/controls",
            "_model_module_version": "1.5.0",
            "_model_name": "DescriptionStyleModel",
            "_view_count": null,
            "_view_module": "@jupyter-widgets/base",
            "_view_module_version": "1.2.0",
            "_view_name": "StyleView",
            "description_width": ""
          }
        },
        "8bdddcfb266047e9a04b007b2afe27b3": {
          "model_module": "@jupyter-widgets/controls",
          "model_module_version": "1.5.0",
          "model_name": "HTMLModel",
          "state": {
            "_dom_classes": [],
            "_model_module": "@jupyter-widgets/controls",
            "_model_module_version": "1.5.0",
            "_model_name": "HTMLModel",
            "_view_count": null,
            "_view_module": "@jupyter-widgets/controls",
            "_view_module_version": "1.5.0",
            "_view_name": "HTMLView",
            "description": "",
            "description_tooltip": null,
            "layout": "IPY_MODEL_04e6d4c29b71441484634f8aa5549e6d",
            "placeholder": "​",
            "style": "IPY_MODEL_e56f8fab16cb4ef5afa5293efb080e3e",
            "value": "Combining columns: 100%"
          }
        },
        "921d3be8ca0041f6b164c125686c6eae": {
          "model_module": "@jupyter-widgets/base",
          "model_module_version": "1.2.0",
          "model_name": "LayoutModel",
          "state": {
            "_model_module": "@jupyter-widgets/base",
            "_model_module_version": "1.2.0",
            "_model_name": "LayoutModel",
            "_view_count": null,
            "_view_module": "@jupyter-widgets/base",
            "_view_module_version": "1.2.0",
            "_view_name": "LayoutView",
            "align_content": null,
            "align_items": null,
            "align_self": null,
            "border": null,
            "bottom": null,
            "display": null,
            "flex": null,
            "flex_flow": null,
            "grid_area": null,
            "grid_auto_columns": null,
            "grid_auto_flow": null,
            "grid_auto_rows": null,
            "grid_column": null,
            "grid_gap": null,
            "grid_row": null,
            "grid_template_areas": null,
            "grid_template_columns": null,
            "grid_template_rows": null,
            "height": null,
            "justify_content": null,
            "justify_items": null,
            "left": null,
            "margin": null,
            "max_height": null,
            "max_width": null,
            "min_height": null,
            "min_width": null,
            "object_fit": null,
            "object_position": null,
            "order": null,
            "overflow": null,
            "overflow_x": null,
            "overflow_y": null,
            "padding": null,
            "right": null,
            "top": null,
            "visibility": null,
            "width": null
          }
        },
        "9bbc767921614809bd11c542cb91fa6e": {
          "model_module": "@jupyter-widgets/base",
          "model_module_version": "1.2.0",
          "model_name": "LayoutModel",
          "state": {
            "_model_module": "@jupyter-widgets/base",
            "_model_module_version": "1.2.0",
            "_model_name": "LayoutModel",
            "_view_count": null,
            "_view_module": "@jupyter-widgets/base",
            "_view_module_version": "1.2.0",
            "_view_name": "LayoutView",
            "align_content": null,
            "align_items": null,
            "align_self": null,
            "border": null,
            "bottom": null,
            "display": null,
            "flex": null,
            "flex_flow": null,
            "grid_area": null,
            "grid_auto_columns": null,
            "grid_auto_flow": null,
            "grid_auto_rows": null,
            "grid_column": null,
            "grid_gap": null,
            "grid_row": null,
            "grid_template_areas": null,
            "grid_template_columns": null,
            "grid_template_rows": null,
            "height": null,
            "justify_content": null,
            "justify_items": null,
            "left": null,
            "margin": null,
            "max_height": null,
            "max_width": null,
            "min_height": null,
            "min_width": null,
            "object_fit": null,
            "object_position": null,
            "order": null,
            "overflow": null,
            "overflow_x": null,
            "overflow_y": null,
            "padding": null,
            "right": null,
            "top": null,
            "visibility": null,
            "width": null
          }
        },
        "a8d24073b9df482096cb1643b4746b6c": {
          "model_module": "@jupyter-widgets/base",
          "model_module_version": "1.2.0",
          "model_name": "LayoutModel",
          "state": {
            "_model_module": "@jupyter-widgets/base",
            "_model_module_version": "1.2.0",
            "_model_name": "LayoutModel",
            "_view_count": null,
            "_view_module": "@jupyter-widgets/base",
            "_view_module_version": "1.2.0",
            "_view_name": "LayoutView",
            "align_content": null,
            "align_items": null,
            "align_self": null,
            "border": null,
            "bottom": null,
            "display": null,
            "flex": null,
            "flex_flow": null,
            "grid_area": null,
            "grid_auto_columns": null,
            "grid_auto_flow": null,
            "grid_auto_rows": null,
            "grid_column": null,
            "grid_gap": null,
            "grid_row": null,
            "grid_template_areas": null,
            "grid_template_columns": null,
            "grid_template_rows": null,
            "height": null,
            "justify_content": null,
            "justify_items": null,
            "left": null,
            "margin": null,
            "max_height": null,
            "max_width": null,
            "min_height": null,
            "min_width": null,
            "object_fit": null,
            "object_position": null,
            "order": null,
            "overflow": null,
            "overflow_x": null,
            "overflow_y": null,
            "padding": null,
            "right": null,
            "top": null,
            "visibility": null,
            "width": null
          }
        },
        "b5c1ede718ee4091b022f90ed553b3fc": {
          "model_module": "@jupyter-widgets/controls",
          "model_module_version": "1.5.0",
          "model_name": "HTMLModel",
          "state": {
            "_dom_classes": [],
            "_model_module": "@jupyter-widgets/controls",
            "_model_module_version": "1.5.0",
            "_model_name": "HTMLModel",
            "_view_count": null,
            "_view_module": "@jupyter-widgets/controls",
            "_view_module_version": "1.5.0",
            "_view_name": "HTMLView",
            "description": "",
            "description_tooltip": null,
            "layout": "IPY_MODEL_e56855cf554942da9b3b56dfe99a3f7f",
            "placeholder": "​",
            "style": "IPY_MODEL_7a503203440d498da5c181fde34eb406",
            "value": " 16837/16837 [00:01&lt;00:00, 12207.48it/s]"
          }
        },
        "cfc6af59b1fb4173831c1c19597c8630": {
          "model_module": "@jupyter-widgets/controls",
          "model_module_version": "1.5.0",
          "model_name": "FloatProgressModel",
          "state": {
            "_dom_classes": [],
            "_model_module": "@jupyter-widgets/controls",
            "_model_module_version": "1.5.0",
            "_model_name": "FloatProgressModel",
            "_view_count": null,
            "_view_module": "@jupyter-widgets/controls",
            "_view_module_version": "1.5.0",
            "_view_name": "ProgressView",
            "bar_style": "success",
            "description": "",
            "description_tooltip": null,
            "layout": "IPY_MODEL_921d3be8ca0041f6b164c125686c6eae",
            "max": 16837,
            "min": 0,
            "orientation": "horizontal",
            "style": "IPY_MODEL_31ad113568534b90911d4819f67ccf73",
            "value": 16837
          }
        },
        "e56855cf554942da9b3b56dfe99a3f7f": {
          "model_module": "@jupyter-widgets/base",
          "model_module_version": "1.2.0",
          "model_name": "LayoutModel",
          "state": {
            "_model_module": "@jupyter-widgets/base",
            "_model_module_version": "1.2.0",
            "_model_name": "LayoutModel",
            "_view_count": null,
            "_view_module": "@jupyter-widgets/base",
            "_view_module_version": "1.2.0",
            "_view_name": "LayoutView",
            "align_content": null,
            "align_items": null,
            "align_self": null,
            "border": null,
            "bottom": null,
            "display": null,
            "flex": null,
            "flex_flow": null,
            "grid_area": null,
            "grid_auto_columns": null,
            "grid_auto_flow": null,
            "grid_auto_rows": null,
            "grid_column": null,
            "grid_gap": null,
            "grid_row": null,
            "grid_template_areas": null,
            "grid_template_columns": null,
            "grid_template_rows": null,
            "height": null,
            "justify_content": null,
            "justify_items": null,
            "left": null,
            "margin": null,
            "max_height": null,
            "max_width": null,
            "min_height": null,
            "min_width": null,
            "object_fit": null,
            "object_position": null,
            "order": null,
            "overflow": null,
            "overflow_x": null,
            "overflow_y": null,
            "padding": null,
            "right": null,
            "top": null,
            "visibility": null,
            "width": null
          }
        },
        "e56f8fab16cb4ef5afa5293efb080e3e": {
          "model_module": "@jupyter-widgets/controls",
          "model_module_version": "1.5.0",
          "model_name": "DescriptionStyleModel",
          "state": {
            "_model_module": "@jupyter-widgets/controls",
            "_model_module_version": "1.5.0",
            "_model_name": "DescriptionStyleModel",
            "_view_count": null,
            "_view_module": "@jupyter-widgets/base",
            "_view_module_version": "1.2.0",
            "_view_name": "StyleView",
            "description_width": ""
          }
        }
      }
    }
  },
  "nbformat": 4,
  "nbformat_minor": 5
}
